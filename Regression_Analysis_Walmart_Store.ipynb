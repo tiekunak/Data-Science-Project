{
 "cells": [
  {
   "cell_type": "markdown",
   "metadata": {},
   "source": [
    "# Description:\n",
    "- One of the leading retail stores in the US, Walmart, would like to predict the sales and demand accurately. There are certain events and holidays which impact sales on each day. There are sales data available for 45 stores of Walmart. The business is facing a challenge due to unforeseen demands and runs out of stock some times, due to the inappropriate machine learning algorithm. An ideal ML algorithm will predict demand accurately and ingest factors like economic conditions including CPI, Unemployment Index, etc.\n",
    "- Walmart runs several promotional markdown events throughout the year. These markdowns precede prominent holidays, the four largest of all, which are the Super Bowl, Labour Day, Thanksgiving, and Christmas. The weeks including these holidays are weighted five times higher in the evaluation than non-holiday weeks. Part of the challenge presented by this competition is modeling the effects of markdowns on these holiday weeks in the absence of complete/ideal historical data. Historical sales data for 45 Walmart stores located in different regions are available.\n",
    "# Acknowledgements\n",
    "- The dataset is taken from Kaggle.\n",
    "### Objective:\n",
    "-\tUnderstand the Dataset & cleanup (if required).\n",
    "-\tBuild Regression models to predict the sales w.r.t single & multiple features.\n",
    "-\tAlso evaluate the models & compare their respective scores like R2, RMSE, etc.\n"
   ]
  },
  {
   "cell_type": "markdown",
   "metadata": {},
   "source": [
    "# Understanding the dataset and stating our hypothesis\n",
    "- The main task is to be build a predictive model for the Walmart sales using the 8 variables or predictors given. Now the question is, which of the independent variables or predictors have a huge influence on the dependent variable weekly sales. It is obvious that holidays contributes to the sales that is, during holidays customers buy lot of items thereby increasing sales therefore stores must be stocked up in order not to run out.\n",
    "- Our first hypothesis is, does these independent variables or predictors have influence on sales that is the dependent or target variable which will enable us to make better decisions so to prevent running out of stock.\n",
    "- The second hypothesis states that the predictors or independent variables have a high chance of giving us a good predictive model in predicting sales. The independent variables are all economic indicators that affects sales. For instance, the location of a store plays a major role in sales."
   ]
  },
  {
   "cell_type": "code",
   "execution_count": 1,
   "metadata": {},
   "outputs": [
    {
     "name": "stderr",
     "output_type": "stream",
     "text": [
      "C:\\Users\\Nana Tieku\\AppData\\Roaming\\Python\\Python38\\site-packages\\outdated\\utils.py:14: OutdatedPackageWarning: The package pingouin is out of date. Your version is 0.3.8, the latest is 0.5.0.\n",
      "Set the environment variable OUTDATED_IGNORE=1 to disable these warnings.\n",
      "  return warn(\n",
      "C:\\Users\\Nana Tieku\\AppData\\Roaming\\Python\\Python38\\site-packages\\outdated\\utils.py:14: OutdatedPackageWarning: The package outdated is out of date. Your version is 0.2.0, the latest is 0.2.1.\n",
      "Set the environment variable OUTDATED_IGNORE=1 to disable these warnings.\n",
      "  return warn(\n"
     ]
    }
   ],
   "source": [
    "# We begin by importing all the necessary libraries needed\n",
    "import pandas as pd\n",
    "import numpy as np\n",
    "import seaborn as sns\n",
    "import pingouin as pg\n",
    "import matplotlib.pyplot as plt\n",
    "%matplotlib inline\n",
    "\n",
    "#regression packages\n",
    "import sklearn.linear_model as lm\n",
    "from sklearn.metrics import mean_squared_error\n",
    "from sklearn.metrics import explained_variance_score\n",
    "\n",
    "#lasso regression\n",
    "from sklearn import linear_model\n",
    "\n",
    "#f_regression (feature selection)\n",
    "from sklearn.feature_selection import f_regression\n",
    "from sklearn.feature_selection import SelectKBest\n",
    "\n",
    "# recursive feature selection (feature selection)\n",
    "from sklearn.feature_selection import RFE\n",
    "\n",
    "#import statsmodels.api as sm\n",
    "#from statsmodels.formula.api import ols\n",
    "\n",
    "#ignore warning\n",
    "import warnings\n",
    "warnings.filterwarnings(\"ignore\")"
   ]
  },
  {
   "cell_type": "markdown",
   "metadata": {},
   "source": [
    "# Loading Data"
   ]
  },
  {
   "cell_type": "code",
   "execution_count": 2,
   "metadata": {},
   "outputs": [
    {
     "data": {
      "text/html": [
       "<div>\n",
       "<style scoped>\n",
       "    .dataframe tbody tr th:only-of-type {\n",
       "        vertical-align: middle;\n",
       "    }\n",
       "\n",
       "    .dataframe tbody tr th {\n",
       "        vertical-align: top;\n",
       "    }\n",
       "\n",
       "    .dataframe thead th {\n",
       "        text-align: right;\n",
       "    }\n",
       "</style>\n",
       "<table border=\"1\" class=\"dataframe\">\n",
       "  <thead>\n",
       "    <tr style=\"text-align: right;\">\n",
       "      <th></th>\n",
       "      <th>Store</th>\n",
       "      <th>Date</th>\n",
       "      <th>Weekly_Sales</th>\n",
       "      <th>Holiday_Flag</th>\n",
       "      <th>Temperature</th>\n",
       "      <th>Fuel_Price</th>\n",
       "      <th>CPI</th>\n",
       "      <th>Unemployment</th>\n",
       "    </tr>\n",
       "  </thead>\n",
       "  <tbody>\n",
       "    <tr>\n",
       "      <th>0</th>\n",
       "      <td>1</td>\n",
       "      <td>05-02-2010</td>\n",
       "      <td>1643690.90</td>\n",
       "      <td>0</td>\n",
       "      <td>42.31</td>\n",
       "      <td>2.572</td>\n",
       "      <td>211.096358</td>\n",
       "      <td>8.106</td>\n",
       "    </tr>\n",
       "    <tr>\n",
       "      <th>1</th>\n",
       "      <td>1</td>\n",
       "      <td>12-02-2010</td>\n",
       "      <td>1641957.44</td>\n",
       "      <td>1</td>\n",
       "      <td>38.51</td>\n",
       "      <td>2.548</td>\n",
       "      <td>211.242170</td>\n",
       "      <td>8.106</td>\n",
       "    </tr>\n",
       "    <tr>\n",
       "      <th>2</th>\n",
       "      <td>1</td>\n",
       "      <td>19-02-2010</td>\n",
       "      <td>1611968.17</td>\n",
       "      <td>0</td>\n",
       "      <td>39.93</td>\n",
       "      <td>2.514</td>\n",
       "      <td>211.289143</td>\n",
       "      <td>8.106</td>\n",
       "    </tr>\n",
       "    <tr>\n",
       "      <th>3</th>\n",
       "      <td>1</td>\n",
       "      <td>26-02-2010</td>\n",
       "      <td>1409727.59</td>\n",
       "      <td>0</td>\n",
       "      <td>46.63</td>\n",
       "      <td>2.561</td>\n",
       "      <td>211.319643</td>\n",
       "      <td>8.106</td>\n",
       "    </tr>\n",
       "    <tr>\n",
       "      <th>4</th>\n",
       "      <td>1</td>\n",
       "      <td>05-03-2010</td>\n",
       "      <td>1554806.68</td>\n",
       "      <td>0</td>\n",
       "      <td>46.50</td>\n",
       "      <td>2.625</td>\n",
       "      <td>211.350143</td>\n",
       "      <td>8.106</td>\n",
       "    </tr>\n",
       "  </tbody>\n",
       "</table>\n",
       "</div>"
      ],
      "text/plain": [
       "   Store        Date  Weekly_Sales  Holiday_Flag  Temperature  Fuel_Price  \\\n",
       "0      1  05-02-2010    1643690.90             0        42.31       2.572   \n",
       "1      1  12-02-2010    1641957.44             1        38.51       2.548   \n",
       "2      1  19-02-2010    1611968.17             0        39.93       2.514   \n",
       "3      1  26-02-2010    1409727.59             0        46.63       2.561   \n",
       "4      1  05-03-2010    1554806.68             0        46.50       2.625   \n",
       "\n",
       "          CPI  Unemployment  \n",
       "0  211.096358         8.106  \n",
       "1  211.242170         8.106  \n",
       "2  211.289143         8.106  \n",
       "3  211.319643         8.106  \n",
       "4  211.350143         8.106  "
      ]
     },
     "execution_count": 2,
     "metadata": {},
     "output_type": "execute_result"
    }
   ],
   "source": [
    "df = pd.read_csv(\"data/walmart.csv\")\n",
    "df.head()"
   ]
  },
  {
   "cell_type": "code",
   "execution_count": 3,
   "metadata": {},
   "outputs": [
    {
     "name": "stdout",
     "output_type": "stream",
     "text": [
      "<class 'pandas.core.frame.DataFrame'>\n",
      "RangeIndex: 6435 entries, 0 to 6434\n",
      "Data columns (total 8 columns):\n",
      " #   Column        Non-Null Count  Dtype  \n",
      "---  ------        --------------  -----  \n",
      " 0   Store         6435 non-null   int64  \n",
      " 1   Date          6435 non-null   object \n",
      " 2   Weekly_Sales  6435 non-null   float64\n",
      " 3   Holiday_Flag  6435 non-null   int64  \n",
      " 4   Temperature   6435 non-null   float64\n",
      " 5   Fuel_Price    6435 non-null   float64\n",
      " 6   CPI           6435 non-null   float64\n",
      " 7   Unemployment  6435 non-null   float64\n",
      "dtypes: float64(5), int64(2), object(1)\n",
      "memory usage: 402.3+ KB\n"
     ]
    }
   ],
   "source": [
    "# Finding information about the dataset\n",
    "df.info()"
   ]
  },
  {
   "cell_type": "markdown",
   "metadata": {},
   "source": [
    "## We start our data cleaning from here"
   ]
  },
  {
   "cell_type": "code",
   "execution_count": 4,
   "metadata": {},
   "outputs": [
    {
     "data": {
      "text/html": [
       "<div>\n",
       "<style scoped>\n",
       "    .dataframe tbody tr th:only-of-type {\n",
       "        vertical-align: middle;\n",
       "    }\n",
       "\n",
       "    .dataframe tbody tr th {\n",
       "        vertical-align: top;\n",
       "    }\n",
       "\n",
       "    .dataframe thead th {\n",
       "        text-align: right;\n",
       "    }\n",
       "</style>\n",
       "<table border=\"1\" class=\"dataframe\">\n",
       "  <thead>\n",
       "    <tr style=\"text-align: right;\">\n",
       "      <th></th>\n",
       "      <th>Store</th>\n",
       "      <th>Date</th>\n",
       "      <th>Weekly_Sales</th>\n",
       "      <th>Holiday_Flag</th>\n",
       "      <th>Temperature</th>\n",
       "      <th>Fuel_Price</th>\n",
       "      <th>CPI</th>\n",
       "      <th>Unemployment</th>\n",
       "    </tr>\n",
       "  </thead>\n",
       "  <tbody>\n",
       "    <tr>\n",
       "      <th>0</th>\n",
       "      <td>1</td>\n",
       "      <td>2010-05-02</td>\n",
       "      <td>1643690.90</td>\n",
       "      <td>0</td>\n",
       "      <td>42.31</td>\n",
       "      <td>2.572</td>\n",
       "      <td>211.096358</td>\n",
       "      <td>8.106</td>\n",
       "    </tr>\n",
       "    <tr>\n",
       "      <th>1</th>\n",
       "      <td>1</td>\n",
       "      <td>2010-12-02</td>\n",
       "      <td>1641957.44</td>\n",
       "      <td>1</td>\n",
       "      <td>38.51</td>\n",
       "      <td>2.548</td>\n",
       "      <td>211.242170</td>\n",
       "      <td>8.106</td>\n",
       "    </tr>\n",
       "    <tr>\n",
       "      <th>2</th>\n",
       "      <td>1</td>\n",
       "      <td>2010-02-19</td>\n",
       "      <td>1611968.17</td>\n",
       "      <td>0</td>\n",
       "      <td>39.93</td>\n",
       "      <td>2.514</td>\n",
       "      <td>211.289143</td>\n",
       "      <td>8.106</td>\n",
       "    </tr>\n",
       "    <tr>\n",
       "      <th>3</th>\n",
       "      <td>1</td>\n",
       "      <td>2010-02-26</td>\n",
       "      <td>1409727.59</td>\n",
       "      <td>0</td>\n",
       "      <td>46.63</td>\n",
       "      <td>2.561</td>\n",
       "      <td>211.319643</td>\n",
       "      <td>8.106</td>\n",
       "    </tr>\n",
       "    <tr>\n",
       "      <th>4</th>\n",
       "      <td>1</td>\n",
       "      <td>2010-05-03</td>\n",
       "      <td>1554806.68</td>\n",
       "      <td>0</td>\n",
       "      <td>46.50</td>\n",
       "      <td>2.625</td>\n",
       "      <td>211.350143</td>\n",
       "      <td>8.106</td>\n",
       "    </tr>\n",
       "  </tbody>\n",
       "</table>\n",
       "</div>"
      ],
      "text/plain": [
       "   Store       Date  Weekly_Sales  Holiday_Flag  Temperature  Fuel_Price  \\\n",
       "0      1 2010-05-02    1643690.90             0        42.31       2.572   \n",
       "1      1 2010-12-02    1641957.44             1        38.51       2.548   \n",
       "2      1 2010-02-19    1611968.17             0        39.93       2.514   \n",
       "3      1 2010-02-26    1409727.59             0        46.63       2.561   \n",
       "4      1 2010-05-03    1554806.68             0        46.50       2.625   \n",
       "\n",
       "          CPI  Unemployment  \n",
       "0  211.096358         8.106  \n",
       "1  211.242170         8.106  \n",
       "2  211.289143         8.106  \n",
       "3  211.319643         8.106  \n",
       "4  211.350143         8.106  "
      ]
     },
     "execution_count": 4,
     "metadata": {},
     "output_type": "execute_result"
    }
   ],
   "source": [
    "# converting date object to datetime\n",
    "df['Date'] = pd.to_datetime(df.Date)\n",
    "df.head()"
   ]
  },
  {
   "cell_type": "code",
   "execution_count": 5,
   "metadata": {},
   "outputs": [
    {
     "data": {
      "text/html": [
       "<div>\n",
       "<style scoped>\n",
       "    .dataframe tbody tr th:only-of-type {\n",
       "        vertical-align: middle;\n",
       "    }\n",
       "\n",
       "    .dataframe tbody tr th {\n",
       "        vertical-align: top;\n",
       "    }\n",
       "\n",
       "    .dataframe thead th {\n",
       "        text-align: right;\n",
       "    }\n",
       "</style>\n",
       "<table border=\"1\" class=\"dataframe\">\n",
       "  <thead>\n",
       "    <tr style=\"text-align: right;\">\n",
       "      <th></th>\n",
       "      <th>Store</th>\n",
       "      <th>Weekly_Sales</th>\n",
       "      <th>Holiday_Flag</th>\n",
       "      <th>Temperature</th>\n",
       "      <th>Fuel_Price</th>\n",
       "      <th>CPI</th>\n",
       "      <th>Unemployment</th>\n",
       "      <th>weekday</th>\n",
       "      <th>month</th>\n",
       "      <th>year</th>\n",
       "    </tr>\n",
       "  </thead>\n",
       "  <tbody>\n",
       "    <tr>\n",
       "      <th>0</th>\n",
       "      <td>1</td>\n",
       "      <td>1643690.90</td>\n",
       "      <td>0</td>\n",
       "      <td>42.31</td>\n",
       "      <td>2.572</td>\n",
       "      <td>211.096358</td>\n",
       "      <td>8.106</td>\n",
       "      <td>6</td>\n",
       "      <td>5</td>\n",
       "      <td>2010</td>\n",
       "    </tr>\n",
       "    <tr>\n",
       "      <th>1</th>\n",
       "      <td>1</td>\n",
       "      <td>1641957.44</td>\n",
       "      <td>1</td>\n",
       "      <td>38.51</td>\n",
       "      <td>2.548</td>\n",
       "      <td>211.242170</td>\n",
       "      <td>8.106</td>\n",
       "      <td>3</td>\n",
       "      <td>12</td>\n",
       "      <td>2010</td>\n",
       "    </tr>\n",
       "    <tr>\n",
       "      <th>2</th>\n",
       "      <td>1</td>\n",
       "      <td>1611968.17</td>\n",
       "      <td>0</td>\n",
       "      <td>39.93</td>\n",
       "      <td>2.514</td>\n",
       "      <td>211.289143</td>\n",
       "      <td>8.106</td>\n",
       "      <td>4</td>\n",
       "      <td>2</td>\n",
       "      <td>2010</td>\n",
       "    </tr>\n",
       "    <tr>\n",
       "      <th>3</th>\n",
       "      <td>1</td>\n",
       "      <td>1409727.59</td>\n",
       "      <td>0</td>\n",
       "      <td>46.63</td>\n",
       "      <td>2.561</td>\n",
       "      <td>211.319643</td>\n",
       "      <td>8.106</td>\n",
       "      <td>4</td>\n",
       "      <td>2</td>\n",
       "      <td>2010</td>\n",
       "    </tr>\n",
       "    <tr>\n",
       "      <th>4</th>\n",
       "      <td>1</td>\n",
       "      <td>1554806.68</td>\n",
       "      <td>0</td>\n",
       "      <td>46.50</td>\n",
       "      <td>2.625</td>\n",
       "      <td>211.350143</td>\n",
       "      <td>8.106</td>\n",
       "      <td>0</td>\n",
       "      <td>5</td>\n",
       "      <td>2010</td>\n",
       "    </tr>\n",
       "  </tbody>\n",
       "</table>\n",
       "</div>"
      ],
      "text/plain": [
       "   Store  Weekly_Sales  Holiday_Flag  Temperature  Fuel_Price         CPI  \\\n",
       "0      1    1643690.90             0        42.31       2.572  211.096358   \n",
       "1      1    1641957.44             1        38.51       2.548  211.242170   \n",
       "2      1    1611968.17             0        39.93       2.514  211.289143   \n",
       "3      1    1409727.59             0        46.63       2.561  211.319643   \n",
       "4      1    1554806.68             0        46.50       2.625  211.350143   \n",
       "\n",
       "   Unemployment  weekday  month  year  \n",
       "0         8.106        6      5  2010  \n",
       "1         8.106        3     12  2010  \n",
       "2         8.106        4      2  2010  \n",
       "3         8.106        4      2  2010  \n",
       "4         8.106        0      5  2010  "
      ]
     },
     "execution_count": 5,
     "metadata": {},
     "output_type": "execute_result"
    }
   ],
   "source": [
    "# Reframing the columns by breaking the date into weeks, month and year for analysis\n",
    "\n",
    "df['weekday'] = df.Date.dt.weekday\n",
    "df['month'] = df.Date.dt.month\n",
    "df['year'] = df.Date.dt.year\n",
    "\n",
    "df.drop(['Date'], axis=1, inplace=True)#,'month'\n",
    "\n",
    "target = 'Weekly_Sales'\n",
    "features = [i for i in df.columns if i not in [target]]\n",
    "original_df = df.copy(deep=True)\n",
    "\n",
    "df.head()"
   ]
  },
  {
   "cell_type": "code",
   "execution_count": 6,
   "metadata": {},
   "outputs": [
    {
     "name": "stdout",
     "output_type": "stream",
     "text": [
      "<class 'pandas.core.frame.DataFrame'>\n",
      "RangeIndex: 6435 entries, 0 to 6434\n",
      "Data columns (total 10 columns):\n",
      " #   Column        Non-Null Count  Dtype  \n",
      "---  ------        --------------  -----  \n",
      " 0   Store         6435 non-null   int64  \n",
      " 1   Weekly_Sales  6435 non-null   float64\n",
      " 2   Holiday_Flag  6435 non-null   int64  \n",
      " 3   Temperature   6435 non-null   float64\n",
      " 4   Fuel_Price    6435 non-null   float64\n",
      " 5   CPI           6435 non-null   float64\n",
      " 6   Unemployment  6435 non-null   float64\n",
      " 7   weekday       6435 non-null   int64  \n",
      " 8   month         6435 non-null   int64  \n",
      " 9   year          6435 non-null   int64  \n",
      "dtypes: float64(5), int64(5)\n",
      "memory usage: 502.9 KB\n"
     ]
    }
   ],
   "source": [
    "# Checking for data types\n",
    "df.info()"
   ]
  },
  {
   "cell_type": "code",
   "execution_count": 7,
   "metadata": {},
   "outputs": [
    {
     "data": {
      "text/plain": [
       "Store             45\n",
       "Weekly_Sales    6435\n",
       "Holiday_Flag       2\n",
       "Temperature     3528\n",
       "Fuel_Price       892\n",
       "CPI             2145\n",
       "Unemployment     349\n",
       "weekday            7\n",
       "month             12\n",
       "year               3\n",
       "dtype: int64"
      ]
     },
     "execution_count": 7,
     "metadata": {},
     "output_type": "execute_result"
    }
   ],
   "source": [
    "# checking for unique values\n",
    "df.nunique()"
   ]
  },
  {
   "cell_type": "code",
   "execution_count": 8,
   "metadata": {},
   "outputs": [
    {
     "data": {
      "text/plain": [
       "Store           0\n",
       "Weekly_Sales    0\n",
       "Holiday_Flag    0\n",
       "Temperature     0\n",
       "Fuel_Price      0\n",
       "CPI             0\n",
       "Unemployment    0\n",
       "weekday         0\n",
       "month           0\n",
       "year            0\n",
       "dtype: int64"
      ]
     },
     "execution_count": 8,
     "metadata": {},
     "output_type": "execute_result"
    }
   ],
   "source": [
    "# Checking for missing values in each column\n",
    "df.isnull().sum()"
   ]
  },
  {
   "cell_type": "markdown",
   "metadata": {},
   "source": [
    "# Business Analytics and Visualization"
   ]
  },
  {
   "cell_type": "code",
   "execution_count": 9,
   "metadata": {},
   "outputs": [
    {
     "data": {
      "text/plain": [
       "6737218987.11"
      ]
     },
     "execution_count": 9,
     "metadata": {},
     "output_type": "execute_result"
    }
   ],
   "source": [
    "# Finding the total sales\n",
    "df.Weekly_Sales.sum()"
   ]
  },
  {
   "cell_type": "code",
   "execution_count": 10,
   "metadata": {},
   "outputs": [
    {
     "data": {
      "text/plain": [
       "Store\n",
       "20    3.013978e+08\n",
       "4     2.995440e+08\n",
       "14    2.889999e+08\n",
       "13    2.865177e+08\n",
       "2     2.753824e+08\n",
       "Name: Weekly_Sales, dtype: float64"
      ]
     },
     "execution_count": 10,
     "metadata": {},
     "output_type": "execute_result"
    }
   ],
   "source": [
    "# The stores with the highest weekly sales\n",
    "df.groupby(['Store'])['Weekly_Sales'].sum().sort_values(ascending=False).head(5)"
   ]
  },
  {
   "cell_type": "code",
   "execution_count": 11,
   "metadata": {},
   "outputs": [
    {
     "data": {
      "text/plain": [
       "<AxesSubplot:xlabel='Store'>"
      ]
     },
     "execution_count": 11,
     "metadata": {},
     "output_type": "execute_result"
    },
    {
     "data": {
      "image/png": "[encoded data removed]",
      "text/plain": [
       "<Figure size 432x288 with 1 Axes>"
      ]
     },
     "metadata": {
      "needs_background": "light"
     },
     "output_type": "display_data"
    }
   ],
   "source": [
    "# The stores with the highest weekly sales visualization\n",
    "df.groupby(['Store'])['Weekly_Sales'].sum().sort_values(ascending=False).head(5).plot(kind='bar')"
   ]
  },
  {
   "cell_type": "markdown",
   "metadata": {},
   "source": [
    "- Store number 20 had the highest sales"
   ]
  },
  {
   "cell_type": "code",
   "execution_count": 12,
   "metadata": {},
   "outputs": [
    {
     "data": {
      "text/plain": [
       "Store\n",
       "38    55159626.42\n",
       "36    53412214.97\n",
       "5     45475688.90\n",
       "44    43293087.84\n",
       "33    37160221.96\n",
       "Name: Weekly_Sales, dtype: float64"
      ]
     },
     "execution_count": 12,
     "metadata": {},
     "output_type": "execute_result"
    }
   ],
   "source": [
    "# The stores with the lowest weekly sales\n",
    "df.groupby(['Store'])['Weekly_Sales'].sum().sort_values(ascending=False).tail(5)"
   ]
  },
  {
   "cell_type": "code",
   "execution_count": 13,
   "metadata": {},
   "outputs": [
    {
     "data": {
      "text/plain": [
       "<AxesSubplot:xlabel='Store'>"
      ]
     },
     "execution_count": 13,
     "metadata": {},
     "output_type": "execute_result"
    },
    {
     "data": {
      "image/png": "[encoded data removed]",
      "text/plain": [
       "<Figure size 432x288 with 1 Axes>"
      ]
     },
     "metadata": {
      "needs_background": "light"
     },
     "output_type": "display_data"
    }
   ],
   "source": [
    "# The stores with the lowest sales\n",
    "df.groupby(['Store'])['Weekly_Sales'].sum().sort_values(ascending=False).tail(5).plot(kind='bar')"
   ]
  },
  {
   "cell_type": "markdown",
   "metadata": {},
   "source": [
    "- Store number 38 had the lowest sales"
   ]
  },
  {
   "cell_type": "code",
   "execution_count": 14,
   "metadata": {},
   "outputs": [
    {
     "data": {
      "text/plain": [
       "<AxesSubplot:xlabel='year'>"
      ]
     },
     "execution_count": 14,
     "metadata": {},
     "output_type": "execute_result"
    },
    {
     "data": {
      "image/png": "[encoded data removed]",
      "text/plain": [
       "<Figure size 432x288 with 1 Axes>"
      ]
     },
     "metadata": {
      "needs_background": "light"
     },
     "output_type": "display_data"
    }
   ],
   "source": [
    "# The week date with the highest sales\n",
    "df.groupby(['year'])['Weekly_Sales'].sum().sort_values(ascending=False).head(5).plot(kind='bar')"
   ]
  },
  {
   "cell_type": "code",
   "execution_count": 15,
   "metadata": {},
   "outputs": [
    {
     "data": {
      "text/plain": [
       "<AxesSubplot:xlabel='year'>"
      ]
     },
     "execution_count": 15,
     "metadata": {},
     "output_type": "execute_result"
    },
    {
     "data": {
      "image/png": "[encoded data removed]",
      "text/plain": [
       "<Figure size 432x288 with 1 Axes>"
      ]
     },
     "metadata": {
      "needs_background": "light"
     },
     "output_type": "display_data"
    }
   ],
   "source": [
    "# The week date with the highest sales\n",
    "df.groupby(['year'])['Weekly_Sales'].sum().sort_values(ascending=False).tail(5).plot(kind='bar')"
   ]
  },
  {
   "cell_type": "markdown",
   "metadata": {},
   "source": [
    "# Data Exploration and Visualization"
   ]
  },
  {
   "cell_type": "code",
   "execution_count": 16,
   "metadata": {},
   "outputs": [
    {
     "data": {
      "text/html": [
       "<div>\n",
       "<style scoped>\n",
       "    .dataframe tbody tr th:only-of-type {\n",
       "        vertical-align: middle;\n",
       "    }\n",
       "\n",
       "    .dataframe tbody tr th {\n",
       "        vertical-align: top;\n",
       "    }\n",
       "\n",
       "    .dataframe thead th {\n",
       "        text-align: right;\n",
       "    }\n",
       "</style>\n",
       "<table border=\"1\" class=\"dataframe\">\n",
       "  <thead>\n",
       "    <tr style=\"text-align: right;\">\n",
       "      <th></th>\n",
       "      <th>count</th>\n",
       "      <th>mean</th>\n",
       "      <th>std</th>\n",
       "      <th>min</th>\n",
       "      <th>25%</th>\n",
       "      <th>50%</th>\n",
       "      <th>75%</th>\n",
       "      <th>max</th>\n",
       "    </tr>\n",
       "  </thead>\n",
       "  <tbody>\n",
       "    <tr>\n",
       "      <th>Store</th>\n",
       "      <td>6435.0</td>\n",
       "      <td>2.300000e+01</td>\n",
       "      <td>12.988182</td>\n",
       "      <td>1.000</td>\n",
       "      <td>12.000</td>\n",
       "      <td>23.000000</td>\n",
       "      <td>3.400000e+01</td>\n",
       "      <td>4.500000e+01</td>\n",
       "    </tr>\n",
       "    <tr>\n",
       "      <th>Weekly_Sales</th>\n",
       "      <td>6435.0</td>\n",
       "      <td>1.046965e+06</td>\n",
       "      <td>564366.622054</td>\n",
       "      <td>209986.250</td>\n",
       "      <td>553350.105</td>\n",
       "      <td>960746.040000</td>\n",
       "      <td>1.420159e+06</td>\n",
       "      <td>3.818686e+06</td>\n",
       "    </tr>\n",
       "    <tr>\n",
       "      <th>Holiday_Flag</th>\n",
       "      <td>6435.0</td>\n",
       "      <td>6.993007e-02</td>\n",
       "      <td>0.255049</td>\n",
       "      <td>0.000</td>\n",
       "      <td>0.000</td>\n",
       "      <td>0.000000</td>\n",
       "      <td>0.000000e+00</td>\n",
       "      <td>1.000000e+00</td>\n",
       "    </tr>\n",
       "    <tr>\n",
       "      <th>Temperature</th>\n",
       "      <td>6435.0</td>\n",
       "      <td>6.066378e+01</td>\n",
       "      <td>18.444933</td>\n",
       "      <td>-2.060</td>\n",
       "      <td>47.460</td>\n",
       "      <td>62.670000</td>\n",
       "      <td>7.494000e+01</td>\n",
       "      <td>1.001400e+02</td>\n",
       "    </tr>\n",
       "    <tr>\n",
       "      <th>Fuel_Price</th>\n",
       "      <td>6435.0</td>\n",
       "      <td>3.358607e+00</td>\n",
       "      <td>0.459020</td>\n",
       "      <td>2.472</td>\n",
       "      <td>2.933</td>\n",
       "      <td>3.445000</td>\n",
       "      <td>3.735000e+00</td>\n",
       "      <td>4.468000e+00</td>\n",
       "    </tr>\n",
       "    <tr>\n",
       "      <th>CPI</th>\n",
       "      <td>6435.0</td>\n",
       "      <td>1.715784e+02</td>\n",
       "      <td>39.356712</td>\n",
       "      <td>126.064</td>\n",
       "      <td>131.735</td>\n",
       "      <td>182.616521</td>\n",
       "      <td>2.127433e+02</td>\n",
       "      <td>2.272328e+02</td>\n",
       "    </tr>\n",
       "    <tr>\n",
       "      <th>Unemployment</th>\n",
       "      <td>6435.0</td>\n",
       "      <td>7.999151e+00</td>\n",
       "      <td>1.875885</td>\n",
       "      <td>3.879</td>\n",
       "      <td>6.891</td>\n",
       "      <td>7.874000</td>\n",
       "      <td>8.622000e+00</td>\n",
       "      <td>1.431300e+01</td>\n",
       "    </tr>\n",
       "    <tr>\n",
       "      <th>weekday</th>\n",
       "      <td>6435.0</td>\n",
       "      <td>3.573427e+00</td>\n",
       "      <td>1.426581</td>\n",
       "      <td>0.000</td>\n",
       "      <td>4.000</td>\n",
       "      <td>4.000000</td>\n",
       "      <td>4.000000e+00</td>\n",
       "      <td>6.000000e+00</td>\n",
       "    </tr>\n",
       "    <tr>\n",
       "      <th>month</th>\n",
       "      <td>6435.0</td>\n",
       "      <td>6.475524e+00</td>\n",
       "      <td>3.321797</td>\n",
       "      <td>1.000</td>\n",
       "      <td>4.000</td>\n",
       "      <td>6.000000</td>\n",
       "      <td>9.000000e+00</td>\n",
       "      <td>1.200000e+01</td>\n",
       "    </tr>\n",
       "    <tr>\n",
       "      <th>year</th>\n",
       "      <td>6435.0</td>\n",
       "      <td>2.010965e+03</td>\n",
       "      <td>0.797019</td>\n",
       "      <td>2010.000</td>\n",
       "      <td>2010.000</td>\n",
       "      <td>2011.000000</td>\n",
       "      <td>2.012000e+03</td>\n",
       "      <td>2.012000e+03</td>\n",
       "    </tr>\n",
       "  </tbody>\n",
       "</table>\n",
       "</div>"
      ],
      "text/plain": [
       "               count          mean            std         min         25%  \\\n",
       "Store         6435.0  2.300000e+01      12.988182       1.000      12.000   \n",
       "Weekly_Sales  6435.0  1.046965e+06  564366.622054  209986.250  553350.105   \n",
       "Holiday_Flag  6435.0  6.993007e-02       0.255049       0.000       0.000   \n",
       "Temperature   6435.0  6.066378e+01      18.444933      -2.060      47.460   \n",
       "Fuel_Price    6435.0  3.358607e+00       0.459020       2.472       2.933   \n",
       "CPI           6435.0  1.715784e+02      39.356712     126.064     131.735   \n",
       "Unemployment  6435.0  7.999151e+00       1.875885       3.879       6.891   \n",
       "weekday       6435.0  3.573427e+00       1.426581       0.000       4.000   \n",
       "month         6435.0  6.475524e+00       3.321797       1.000       4.000   \n",
       "year          6435.0  2.010965e+03       0.797019    2010.000    2010.000   \n",
       "\n",
       "                        50%           75%           max  \n",
       "Store             23.000000  3.400000e+01  4.500000e+01  \n",
       "Weekly_Sales  960746.040000  1.420159e+06  3.818686e+06  \n",
       "Holiday_Flag       0.000000  0.000000e+00  1.000000e+00  \n",
       "Temperature       62.670000  7.494000e+01  1.001400e+02  \n",
       "Fuel_Price         3.445000  3.735000e+00  4.468000e+00  \n",
       "CPI              182.616521  2.127433e+02  2.272328e+02  \n",
       "Unemployment       7.874000  8.622000e+00  1.431300e+01  \n",
       "weekday            4.000000  4.000000e+00  6.000000e+00  \n",
       "month              6.000000  9.000000e+00  1.200000e+01  \n",
       "year            2011.000000  2.012000e+03  2.012000e+03  "
      ]
     },
     "execution_count": 16,
     "metadata": {},
     "output_type": "execute_result"
    }
   ],
   "source": [
    "# Summary Statistics\n",
    "df.describe().T"
   ]
  },
  {
   "cell_type": "code",
   "execution_count": 17,
   "metadata": {},
   "outputs": [
    {
     "data": {
      "image/png": "[encoded data removed]",
      "text/plain": [
       "<Figure size 1440x1080 with 12 Axes>"
      ]
     },
     "metadata": {
      "needs_background": "light"
     },
     "output_type": "display_data"
    }
   ],
   "source": [
    "# Histogram for all columns\n",
    "import matplotlib.pyplot as plt\n",
    "df.hist(bins=50, figsize=(20,15))\n",
    "plt.show()"
   ]
  },
  {
   "cell_type": "code",
   "execution_count": 18,
   "metadata": {},
   "outputs": [
    {
     "data": {
      "image/png": "[encoded data removed]",
      "text/plain": [
       "<Figure size 576x288 with 1 Axes>"
      ]
     },
     "metadata": {
      "needs_background": "light"
     },
     "output_type": "display_data"
    }
   ],
   "source": [
    "#Let us analyze the distribution of the target variable\n",
    "\n",
    "plt.figure(figsize=[8,4])\n",
    "sns.distplot(df[target], color='g',hist_kws=dict(edgecolor=\"black\", linewidth=2), bins=30)\n",
    "plt.title('Target Variable Distribution')\n",
    "plt.show()"
   ]
  },
  {
   "cell_type": "markdown",
   "metadata": {},
   "source": [
    "- We have a positive skewed distribution for sales since the tail is on the right side of the histogram. As we can see, most of the values are clustered to the left side of the x-axis"
   ]
  },
  {
   "cell_type": "code",
   "execution_count": 19,
   "metadata": {},
   "outputs": [
    {
     "data": {
      "text/html": [
       "<div>\n",
       "<style scoped>\n",
       "    .dataframe tbody tr th:only-of-type {\n",
       "        vertical-align: middle;\n",
       "    }\n",
       "\n",
       "    .dataframe tbody tr th {\n",
       "        vertical-align: top;\n",
       "    }\n",
       "\n",
       "    .dataframe thead th {\n",
       "        text-align: right;\n",
       "    }\n",
       "</style>\n",
       "<table border=\"1\" class=\"dataframe\">\n",
       "  <thead>\n",
       "    <tr style=\"text-align: right;\">\n",
       "      <th></th>\n",
       "      <th>Store</th>\n",
       "      <th>Weekly_Sales</th>\n",
       "      <th>Holiday_Flag</th>\n",
       "      <th>Temperature</th>\n",
       "      <th>Fuel_Price</th>\n",
       "      <th>CPI</th>\n",
       "      <th>Unemployment</th>\n",
       "      <th>weekday</th>\n",
       "      <th>month</th>\n",
       "      <th>year</th>\n",
       "    </tr>\n",
       "  </thead>\n",
       "  <tbody>\n",
       "    <tr>\n",
       "      <th>Store</th>\n",
       "      <td>1.000000e+00</td>\n",
       "      <td>-0.335332</td>\n",
       "      <td>-4.386841e-16</td>\n",
       "      <td>-0.022659</td>\n",
       "      <td>0.060023</td>\n",
       "      <td>-0.209492</td>\n",
       "      <td>0.223531</td>\n",
       "      <td>-2.243183e-15</td>\n",
       "      <td>6.289676e-16</td>\n",
       "      <td>3.474318e-12</td>\n",
       "    </tr>\n",
       "    <tr>\n",
       "      <th>Weekly_Sales</th>\n",
       "      <td>-3.353320e-01</td>\n",
       "      <td>1.000000</td>\n",
       "      <td>3.689097e-02</td>\n",
       "      <td>-0.063810</td>\n",
       "      <td>0.009464</td>\n",
       "      <td>-0.072634</td>\n",
       "      <td>-0.106176</td>\n",
       "      <td>-2.104085e-02</td>\n",
       "      <td>6.753523e-02</td>\n",
       "      <td>-1.837754e-02</td>\n",
       "    </tr>\n",
       "    <tr>\n",
       "      <th>Holiday_Flag</th>\n",
       "      <td>-4.386841e-16</td>\n",
       "      <td>0.036891</td>\n",
       "      <td>1.000000e+00</td>\n",
       "      <td>-0.155091</td>\n",
       "      <td>-0.078347</td>\n",
       "      <td>-0.002162</td>\n",
       "      <td>0.010960</td>\n",
       "      <td>-9.100474e-02</td>\n",
       "      <td>3.322341e-01</td>\n",
       "      <td>-5.678257e-02</td>\n",
       "    </tr>\n",
       "    <tr>\n",
       "      <th>Temperature</th>\n",
       "      <td>-2.265908e-02</td>\n",
       "      <td>-0.063810</td>\n",
       "      <td>-1.550913e-01</td>\n",
       "      <td>1.000000</td>\n",
       "      <td>0.144982</td>\n",
       "      <td>0.176888</td>\n",
       "      <td>0.101158</td>\n",
       "      <td>1.833136e-02</td>\n",
       "      <td>6.643970e-02</td>\n",
       "      <td>6.426923e-02</td>\n",
       "    </tr>\n",
       "    <tr>\n",
       "      <th>Fuel_Price</th>\n",
       "      <td>6.002295e-02</td>\n",
       "      <td>0.009464</td>\n",
       "      <td>-7.834652e-02</td>\n",
       "      <td>0.144982</td>\n",
       "      <td>1.000000</td>\n",
       "      <td>-0.170642</td>\n",
       "      <td>-0.034684</td>\n",
       "      <td>-2.651216e-02</td>\n",
       "      <td>-5.283174e-02</td>\n",
       "      <td>7.794703e-01</td>\n",
       "    </tr>\n",
       "    <tr>\n",
       "      <th>CPI</th>\n",
       "      <td>-2.094919e-01</td>\n",
       "      <td>-0.072634</td>\n",
       "      <td>-2.162091e-03</td>\n",
       "      <td>0.176888</td>\n",
       "      <td>-0.170642</td>\n",
       "      <td>1.000000</td>\n",
       "      <td>-0.302020</td>\n",
       "      <td>-9.595877e-03</td>\n",
       "      <td>1.478843e-03</td>\n",
       "      <td>7.479573e-02</td>\n",
       "    </tr>\n",
       "    <tr>\n",
       "      <th>Unemployment</th>\n",
       "      <td>2.235313e-01</td>\n",
       "      <td>-0.106176</td>\n",
       "      <td>1.096028e-02</td>\n",
       "      <td>0.101158</td>\n",
       "      <td>-0.034684</td>\n",
       "      <td>-0.302020</td>\n",
       "      <td>1.000000</td>\n",
       "      <td>3.777320e-02</td>\n",
       "      <td>-2.061552e-03</td>\n",
       "      <td>-2.418135e-01</td>\n",
       "    </tr>\n",
       "    <tr>\n",
       "      <th>weekday</th>\n",
       "      <td>-2.243183e-15</td>\n",
       "      <td>-0.021041</td>\n",
       "      <td>-9.100474e-02</td>\n",
       "      <td>0.018331</td>\n",
       "      <td>-0.026512</td>\n",
       "      <td>-0.009596</td>\n",
       "      <td>0.037773</td>\n",
       "      <td>1.000000e+00</td>\n",
       "      <td>-1.387259e-01</td>\n",
       "      <td>-9.923791e-02</td>\n",
       "    </tr>\n",
       "    <tr>\n",
       "      <th>month</th>\n",
       "      <td>6.289676e-16</td>\n",
       "      <td>0.067535</td>\n",
       "      <td>3.322341e-01</td>\n",
       "      <td>0.066440</td>\n",
       "      <td>-0.052832</td>\n",
       "      <td>0.001479</td>\n",
       "      <td>-0.002062</td>\n",
       "      <td>-1.387259e-01</td>\n",
       "      <td>1.000000e+00</td>\n",
       "      <td>-1.390145e-01</td>\n",
       "    </tr>\n",
       "    <tr>\n",
       "      <th>year</th>\n",
       "      <td>3.474318e-12</td>\n",
       "      <td>-0.018378</td>\n",
       "      <td>-5.678257e-02</td>\n",
       "      <td>0.064269</td>\n",
       "      <td>0.779470</td>\n",
       "      <td>0.074796</td>\n",
       "      <td>-0.241813</td>\n",
       "      <td>-9.923791e-02</td>\n",
       "      <td>-1.390145e-01</td>\n",
       "      <td>1.000000e+00</td>\n",
       "    </tr>\n",
       "  </tbody>\n",
       "</table>\n",
       "</div>"
      ],
      "text/plain": [
       "                     Store  Weekly_Sales  Holiday_Flag  Temperature  \\\n",
       "Store         1.000000e+00     -0.335332 -4.386841e-16    -0.022659   \n",
       "Weekly_Sales -3.353320e-01      1.000000  3.689097e-02    -0.063810   \n",
       "Holiday_Flag -4.386841e-16      0.036891  1.000000e+00    -0.155091   \n",
       "Temperature  -2.265908e-02     -0.063810 -1.550913e-01     1.000000   \n",
       "Fuel_Price    6.002295e-02      0.009464 -7.834652e-02     0.144982   \n",
       "CPI          -2.094919e-01     -0.072634 -2.162091e-03     0.176888   \n",
       "Unemployment  2.235313e-01     -0.106176  1.096028e-02     0.101158   \n",
       "weekday      -2.243183e-15     -0.021041 -9.100474e-02     0.018331   \n",
       "month         6.289676e-16      0.067535  3.322341e-01     0.066440   \n",
       "year          3.474318e-12     -0.018378 -5.678257e-02     0.064269   \n",
       "\n",
       "              Fuel_Price       CPI  Unemployment       weekday         month  \\\n",
       "Store           0.060023 -0.209492      0.223531 -2.243183e-15  6.289676e-16   \n",
       "Weekly_Sales    0.009464 -0.072634     -0.106176 -2.104085e-02  6.753523e-02   \n",
       "Holiday_Flag   -0.078347 -0.002162      0.010960 -9.100474e-02  3.322341e-01   \n",
       "Temperature     0.144982  0.176888      0.101158  1.833136e-02  6.643970e-02   \n",
       "Fuel_Price      1.000000 -0.170642     -0.034684 -2.651216e-02 -5.283174e-02   \n",
       "CPI            -0.170642  1.000000     -0.302020 -9.595877e-03  1.478843e-03   \n",
       "Unemployment   -0.034684 -0.302020      1.000000  3.777320e-02 -2.061552e-03   \n",
       "weekday        -0.026512 -0.009596      0.037773  1.000000e+00 -1.387259e-01   \n",
       "month          -0.052832  0.001479     -0.002062 -1.387259e-01  1.000000e+00   \n",
       "year            0.779470  0.074796     -0.241813 -9.923791e-02 -1.390145e-01   \n",
       "\n",
       "                      year  \n",
       "Store         3.474318e-12  \n",
       "Weekly_Sales -1.837754e-02  \n",
       "Holiday_Flag -5.678257e-02  \n",
       "Temperature   6.426923e-02  \n",
       "Fuel_Price    7.794703e-01  \n",
       "CPI           7.479573e-02  \n",
       "Unemployment -2.418135e-01  \n",
       "weekday      -9.923791e-02  \n",
       "month        -1.390145e-01  \n",
       "year          1.000000e+00  "
      ]
     },
     "execution_count": 19,
     "metadata": {},
     "output_type": "execute_result"
    }
   ],
   "source": [
    "# Correlation Analysis\n",
    "df.corr()"
   ]
  },
  {
   "cell_type": "markdown",
   "metadata": {},
   "source": [
    "### First of all we need to explain the positives and negatives associated with the numbers obtained.\n",
    "- The correlation coefficient ranges from –1 to 1. When it is close to 1, it means that there is a strong positive correlation; for example, the sales tends to go up when there the is a holiday. When the coefficient is close to –1, it means that there is a strong negative correlation; you can see a small positive correlation between the fuel price and sales(i.e., sales have a slight tendency to go up when fuel prices go up). Finally, coefficients close to 0 mean that there is no linear correlation.\n"
   ]
  },
  {
   "cell_type": "code",
   "execution_count": 20,
   "metadata": {},
   "outputs": [
    {
     "data": {
      "text/html": [
       "<div>\n",
       "<style scoped>\n",
       "    .dataframe tbody tr th:only-of-type {\n",
       "        vertical-align: middle;\n",
       "    }\n",
       "\n",
       "    .dataframe tbody tr th {\n",
       "        vertical-align: top;\n",
       "    }\n",
       "\n",
       "    .dataframe thead th {\n",
       "        text-align: right;\n",
       "    }\n",
       "</style>\n",
       "<table border=\"1\" class=\"dataframe\">\n",
       "  <thead>\n",
       "    <tr style=\"text-align: right;\">\n",
       "      <th></th>\n",
       "      <th>Weekly_Sales</th>\n",
       "    </tr>\n",
       "  </thead>\n",
       "  <tbody>\n",
       "    <tr>\n",
       "      <th>month</th>\n",
       "      <td>0.067535</td>\n",
       "    </tr>\n",
       "    <tr>\n",
       "      <th>Holiday_Flag</th>\n",
       "      <td>0.036891</td>\n",
       "    </tr>\n",
       "    <tr>\n",
       "      <th>Fuel_Price</th>\n",
       "      <td>0.009464</td>\n",
       "    </tr>\n",
       "    <tr>\n",
       "      <th>year</th>\n",
       "      <td>-0.018378</td>\n",
       "    </tr>\n",
       "    <tr>\n",
       "      <th>weekday</th>\n",
       "      <td>-0.021041</td>\n",
       "    </tr>\n",
       "    <tr>\n",
       "      <th>Temperature</th>\n",
       "      <td>-0.063810</td>\n",
       "    </tr>\n",
       "    <tr>\n",
       "      <th>CPI</th>\n",
       "      <td>-0.072634</td>\n",
       "    </tr>\n",
       "    <tr>\n",
       "      <th>Unemployment</th>\n",
       "      <td>-0.106176</td>\n",
       "    </tr>\n",
       "    <tr>\n",
       "      <th>Store</th>\n",
       "      <td>-0.335332</td>\n",
       "    </tr>\n",
       "  </tbody>\n",
       "</table>\n",
       "</div>"
      ],
      "text/plain": [
       "              Weekly_Sales\n",
       "month             0.067535\n",
       "Holiday_Flag      0.036891\n",
       "Fuel_Price        0.009464\n",
       "year             -0.018378\n",
       "weekday          -0.021041\n",
       "Temperature      -0.063810\n",
       "CPI              -0.072634\n",
       "Unemployment     -0.106176\n",
       "Store            -0.335332"
      ]
     },
     "execution_count": 20,
     "metadata": {},
     "output_type": "execute_result"
    }
   ],
   "source": [
    "# Finding the the predictor with the highest relatioship with sales\n",
    "corr = pd.DataFrame(df.corr()['Weekly_Sales'].drop('Weekly_Sales'))\n",
    "corr.sort_values(['Weekly_Sales'], ascending = False)"
   ]
  },
  {
   "cell_type": "code",
   "execution_count": 21,
   "metadata": {},
   "outputs": [
    {
     "data": {
      "text/plain": [
       "<AxesSubplot:>"
      ]
     },
     "execution_count": 21,
     "metadata": {},
     "output_type": "execute_result"
    },
    {
     "data": {
      "image/png": "[encoded data removed]",
      "text/plain": [
       "<Figure size 864x864 with 2 Axes>"
      ]
     },
     "metadata": {
      "needs_background": "light"
     },
     "output_type": "display_data"
    }
   ],
   "source": [
    "# correlation heatmap\n",
    "plt.figure(figsize=(12,12))\n",
    "sns.heatmap(df.corr(), annot=True)"
   ]
  },
  {
   "cell_type": "code",
   "execution_count": 22,
   "metadata": {},
   "outputs": [
    {
     "data": {
      "text/plain": [
       "<AxesSubplot:xlabel='Store', ylabel='Weekly_Sales'>"
      ]
     },
     "execution_count": 22,
     "metadata": {},
     "output_type": "execute_result"
    },
    {
     "data": {
      "image/png": "[encoded data removed]",
      "text/plain": [
       "<Figure size 432x288 with 1 Axes>"
      ]
     },
     "metadata": {
      "needs_background": "light"
     },
     "output_type": "display_data"
    }
   ],
   "source": [
    "# Regression Analysis between sales and store\n",
    "sns.regplot('Store', 'Weekly_Sales', df)"
   ]
  },
  {
   "cell_type": "markdown",
   "metadata": {},
   "source": [
    "- There is a negative relationship between the number of stores and sales. Thus, as the number of stores increases, sales decreases. "
   ]
  },
  {
   "cell_type": "code",
   "execution_count": 23,
   "metadata": {},
   "outputs": [
    {
     "data": {
      "text/plain": [
       "<AxesSubplot:xlabel='Fuel_Price', ylabel='Weekly_Sales'>"
      ]
     },
     "execution_count": 23,
     "metadata": {},
     "output_type": "execute_result"
    },
    {
     "data": {
      "image/png": "[encoded data removed]",
      "text/plain": [
       "<Figure size 432x288 with 1 Axes>"
      ]
     },
     "metadata": {
      "needs_background": "light"
     },
     "output_type": "display_data"
    }
   ],
   "source": [
    "# Regression Analysis between sales and fuel prices\n",
    "sns.regplot('Fuel_Price', 'Weekly_Sales', df)"
   ]
  },
  {
   "cell_type": "markdown",
   "metadata": {},
   "source": [
    "- The relationship between sales and fuel price is a positive one. The increase in fuel prices causes a marginal increase in sales. "
   ]
  },
  {
   "cell_type": "code",
   "execution_count": 24,
   "metadata": {},
   "outputs": [
    {
     "data": {
      "text/plain": [
       "<AxesSubplot:xlabel='Unemployment', ylabel='Weekly_Sales'>"
      ]
     },
     "execution_count": 24,
     "metadata": {},
     "output_type": "execute_result"
    },
    {
     "data": {
      "image/png": "[encoded data removed]",
      "text/plain": [
       "<Figure size 432x288 with 1 Axes>"
      ]
     },
     "metadata": {
      "needs_background": "light"
     },
     "output_type": "display_data"
    }
   ],
   "source": [
    "# Regression Analysis between sales and unemployment\n",
    "sns.regplot('Unemployment', 'Weekly_Sales', df)"
   ]
  },
  {
   "cell_type": "markdown",
   "metadata": {},
   "source": [
    "- There is a negative relationship between unemployment and sales. Here, as unemployment increases, sales in stores goes down. "
   ]
  },
  {
   "cell_type": "code",
   "execution_count": 25,
   "metadata": {},
   "outputs": [
    {
     "data": {
      "text/plain": [
       "<AxesSubplot:xlabel='Holiday_Flag', ylabel='Weekly_Sales'>"
      ]
     },
     "execution_count": 25,
     "metadata": {},
     "output_type": "execute_result"
    },
    {
     "data": {
      "image/png": "[encoded data removed]",
      "text/plain": [
       "<Figure size 432x288 with 1 Axes>"
      ]
     },
     "metadata": {
      "needs_background": "light"
     },
     "output_type": "display_data"
    }
   ],
   "source": [
    "# data visualisation for \n",
    "sns.violinplot(x=\"Holiday_Flag\", y=\"Weekly_Sales\", data=df)"
   ]
  },
  {
   "cell_type": "markdown",
   "metadata": {},
   "source": [
    "- From the visualization above, we can see that on holidays Walmart made lot of sales due to its promotional packages "
   ]
  },
  {
   "cell_type": "markdown",
   "metadata": {},
   "source": [
    "### Statistical Inference for variable or feature selection"
   ]
  },
  {
   "cell_type": "code",
   "execution_count": 26,
   "metadata": {},
   "outputs": [
    {
     "data": {
      "text/html": [
       "<div>\n",
       "<style scoped>\n",
       "    .dataframe tbody tr th:only-of-type {\n",
       "        vertical-align: middle;\n",
       "    }\n",
       "\n",
       "    .dataframe tbody tr th {\n",
       "        vertical-align: top;\n",
       "    }\n",
       "\n",
       "    .dataframe thead th {\n",
       "        text-align: right;\n",
       "    }\n",
       "</style>\n",
       "<table border=\"1\" class=\"dataframe\">\n",
       "  <thead>\n",
       "    <tr style=\"text-align: right;\">\n",
       "      <th></th>\n",
       "      <th>Weekly_Sales</th>\n",
       "      <th>Temperature</th>\n",
       "      <th>Fuel_Price</th>\n",
       "      <th>CPI</th>\n",
       "      <th>Unemployment</th>\n",
       "      <th>Store_2</th>\n",
       "      <th>Store_3</th>\n",
       "      <th>Store_4</th>\n",
       "      <th>Store_5</th>\n",
       "      <th>Store_6</th>\n",
       "      <th>...</th>\n",
       "      <th>month_5</th>\n",
       "      <th>month_6</th>\n",
       "      <th>month_7</th>\n",
       "      <th>month_8</th>\n",
       "      <th>month_9</th>\n",
       "      <th>month_10</th>\n",
       "      <th>month_11</th>\n",
       "      <th>month_12</th>\n",
       "      <th>year_2011</th>\n",
       "      <th>year_2012</th>\n",
       "    </tr>\n",
       "  </thead>\n",
       "  <tbody>\n",
       "    <tr>\n",
       "      <th>0</th>\n",
       "      <td>1643690.90</td>\n",
       "      <td>42.31</td>\n",
       "      <td>2.572</td>\n",
       "      <td>211.096358</td>\n",
       "      <td>8.106</td>\n",
       "      <td>0</td>\n",
       "      <td>0</td>\n",
       "      <td>0</td>\n",
       "      <td>0</td>\n",
       "      <td>0</td>\n",
       "      <td>...</td>\n",
       "      <td>1</td>\n",
       "      <td>0</td>\n",
       "      <td>0</td>\n",
       "      <td>0</td>\n",
       "      <td>0</td>\n",
       "      <td>0</td>\n",
       "      <td>0</td>\n",
       "      <td>0</td>\n",
       "      <td>0</td>\n",
       "      <td>0</td>\n",
       "    </tr>\n",
       "    <tr>\n",
       "      <th>1</th>\n",
       "      <td>1641957.44</td>\n",
       "      <td>38.51</td>\n",
       "      <td>2.548</td>\n",
       "      <td>211.242170</td>\n",
       "      <td>8.106</td>\n",
       "      <td>0</td>\n",
       "      <td>0</td>\n",
       "      <td>0</td>\n",
       "      <td>0</td>\n",
       "      <td>0</td>\n",
       "      <td>...</td>\n",
       "      <td>0</td>\n",
       "      <td>0</td>\n",
       "      <td>0</td>\n",
       "      <td>0</td>\n",
       "      <td>0</td>\n",
       "      <td>0</td>\n",
       "      <td>0</td>\n",
       "      <td>1</td>\n",
       "      <td>0</td>\n",
       "      <td>0</td>\n",
       "    </tr>\n",
       "  </tbody>\n",
       "</table>\n",
       "<p>2 rows × 69 columns</p>\n",
       "</div>"
      ],
      "text/plain": [
       "   Weekly_Sales  Temperature  Fuel_Price         CPI  Unemployment  Store_2  \\\n",
       "0    1643690.90        42.31       2.572  211.096358         8.106        0   \n",
       "1    1641957.44        38.51       2.548  211.242170         8.106        0   \n",
       "\n",
       "   Store_3  Store_4  Store_5  Store_6  ...  month_5  month_6  month_7  \\\n",
       "0        0        0        0        0  ...        1        0        0   \n",
       "1        0        0        0        0  ...        0        0        0   \n",
       "\n",
       "   month_8  month_9  month_10  month_11  month_12  year_2011  year_2012  \n",
       "0        0        0         0         0         0          0          0  \n",
       "1        0        0         0         0         1          0          0  \n",
       "\n",
       "[2 rows x 69 columns]"
      ]
     },
     "execution_count": 26,
     "metadata": {},
     "output_type": "execute_result"
    }
   ],
   "source": [
    "# Categorical to Dummy Variables\n",
    "df =  pd.get_dummies(df, columns=[\"Store\", \"Holiday_Flag\", \"weekday\", \"month\", \"year\"],\n",
    "                         prefix=[\"Store\", \"Holiday_Flag\", \"weekday\", \"month\", \"year\"],\n",
    "                         drop_first=True)\n",
    "df.head(2)"
   ]
  },
  {
   "cell_type": "code",
   "execution_count": 27,
   "metadata": {},
   "outputs": [
    {
     "data": {
      "text/plain": [
       "Weekly_Sales    0.000000e+00\n",
       "Temperature     3.007648e-07\n",
       "Fuel_Price      4.478287e-01\n",
       "CPI             5.438293e-09\n",
       "Unemployment    1.344837e-17\n",
       "                    ...     \n",
       "month_10        4.628691e-01\n",
       "month_11        1.384627e-03\n",
       "month_12        1.932251e-11\n",
       "year_2011       9.378679e-01\n",
       "year_2012       2.149766e-01\n",
       "Name: Weekly_Sales, Length: 69, dtype: float64"
      ]
     },
     "execution_count": 27,
     "metadata": {},
     "output_type": "execute_result"
    }
   ],
   "source": [
    "### c. checking for p-value (TESTING FOR STATISTICAL SIGNIFICANCE OF INDEPENDENT VARIABLES for variable selection)\n",
    "import scipy.stats as stats\n",
    "df_corr = pd.DataFrame() # Correlation matrix\n",
    "df_p = pd.DataFrame() # Matrix of p-values\n",
    "for x in df.columns:   # assuming df as your dataframe name\n",
    "   for y in df.columns:\n",
    "      corr = stats.pearsonr(df[x], df[y])\n",
    "      df_corr.loc[x,y] = corr[0]\n",
    "      df_p.loc[x,y] = corr[1]\n",
    "\n",
    "df_p['Weekly_Sales']"
   ]
  },
  {
   "cell_type": "markdown",
   "metadata": {},
   "source": [
    "- Null hypothesis(Ho) states that slopes of the independent variables are equal to zero.\n",
    "- Alternate hypothesis(H1) states that slopes of the independent variables are not equal to zero.\n",
    "- At the confidence level of 95%, we have some predictors not statistically significant and in appropriation, we are to drop these variables. But in reality or the real world, some predictors may not be statistically significant but a high influence on the predicted variable.\n",
    "- For instance, in the reality, fuel prices do have negative relationship with sales in general with an exception to necessities. But with our dataset, the two variables have a small positive relationship due to the fact that, Walmart as a store deal with groceries which are necessities. No matter how high fuel prices goes up, customers has to eat. Therefore, even though we have a p-value greater than the 0.05 which is statistically not significant, we will still add it to the variables to build our model."
   ]
  },
  {
   "cell_type": "markdown",
   "metadata": {},
   "source": [
    "# Model Building and Selection"
   ]
  },
  {
   "cell_type": "code",
   "execution_count": 28,
   "metadata": {},
   "outputs": [],
   "source": [
    "# Separating target variable and predictors\n",
    "y = df ['Weekly_Sales']\n",
    "x = df.drop(['Weekly_Sales'], axis =1)"
   ]
  },
  {
   "cell_type": "code",
   "execution_count": 29,
   "metadata": {},
   "outputs": [
    {
     "data": {
      "text/plain": [
       "array([[-0.99513556, -1.71379998,  1.00417522,  0.05696366, -0.15075567,\n",
       "        -0.15075567, -0.15075567, -0.15075567, -0.15075567, -0.15075567,\n",
       "        -0.15075567, -0.15075567, -0.15075567, -0.15075567, -0.15075567,\n",
       "        -0.15075567, -0.15075567, -0.15075567, -0.15075567, -0.15075567,\n",
       "        -0.15075567, -0.15075567, -0.15075567, -0.15075567, -0.15075567,\n",
       "        -0.15075567, -0.15075567, -0.15075567, -0.15075567, -0.15075567,\n",
       "        -0.15075567, -0.15075567, -0.15075567, -0.15075567, -0.15075567,\n",
       "        -0.15075567, -0.15075567, -0.15075567, -0.15075567, -0.15075567,\n",
       "        -0.15075567, -0.15075567, -0.15075567, -0.15075567, -0.15075567,\n",
       "        -0.15075567, -0.15075567, -0.15075567, -0.27420425, -0.25916053,\n",
       "        -0.11909827, -0.27420425, -1.4291792 , -0.20927403,  3.8586123 ,\n",
       "        -0.28867513, -0.30265996, -0.32943456,  3.16227766, -0.30265996,\n",
       "        -0.31622777, -0.30265996, -0.31622777, -0.31622777, -0.25916053,\n",
       "        -0.28867513, -0.75592895, -0.65574385]])"
      ]
     },
     "execution_count": 29,
     "metadata": {},
     "output_type": "execute_result"
    }
   ],
   "source": [
    "# Normalization data to bring all values to common scale\n",
    "from sklearn import preprocessing\n",
    "X = preprocessing.StandardScaler().fit(x).transform(x)\n",
    "X[0:1]"
   ]
  },
  {
   "cell_type": "code",
   "execution_count": 30,
   "metadata": {},
   "outputs": [],
   "source": [
    "# splitting data into training and test data at 80% and 20% respectively\n",
    "from sklearn.model_selection import train_test_split\n",
    "xm_train, xm_test, ym_train, ym_test = train_test_split(X, y, train_size = 0.8, random_state = 100)"
   ]
  },
  {
   "cell_type": "code",
   "execution_count": 31,
   "metadata": {},
   "outputs": [
    {
     "name": "stdout",
     "output_type": "stream",
     "text": [
      "(5148, 68)\n",
      "(1287, 68)\n",
      "(5148,)\n",
      "(1287,)\n"
     ]
    }
   ],
   "source": [
    "# Checking the size of the split datasets.\n",
    "print(xm_train.shape)\n",
    "print(xm_test.shape)\n",
    "print(ym_train.shape)\n",
    "print(ym_test.shape)"
   ]
  },
  {
   "cell_type": "markdown",
   "metadata": {},
   "source": [
    "### Building model with multiple linear regression"
   ]
  },
  {
   "cell_type": "code",
   "execution_count": 32,
   "metadata": {},
   "outputs": [
    {
     "name": "stdout",
     "output_type": "stream",
     "text": [
      "mean square error:  20428137697.857597\n",
      "variance or r-squared:  0.9369193227967636\n"
     ]
    }
   ],
   "source": [
    "lr = lm.LinearRegression()\n",
    "lr.fit(xm_train, ym_train)\n",
    "y_pred = lr.predict(xm_test)\n",
    "print(\"mean square error: \", mean_squared_error(ym_test, y_pred))\n",
    "print(\"variance or r-squared: \", explained_variance_score(ym_test, y_pred))"
   ]
  },
  {
   "cell_type": "markdown",
   "metadata": {},
   "source": [
    "### Building model with Random Forest Regressor"
   ]
  },
  {
   "cell_type": "code",
   "execution_count": 33,
   "metadata": {},
   "outputs": [
    {
     "name": "stdout",
     "output_type": "stream",
     "text": [
      "mean square error:  22106176158.002132\n",
      "variance or r-squared:  0.9316307733217779\n"
     ]
    }
   ],
   "source": [
    "from sklearn.ensemble import RandomForestRegressor\n",
    "from sklearn.datasets import make_regression\n",
    "\n",
    "regr = RandomForestRegressor(n_estimators=13, random_state=0)\n",
    "regr.fit(xm_train, ym_train)\n",
    "y_predicted = regr.predict(xm_test)\n",
    "print(\"mean square error: \", mean_squared_error(ym_test, y_predicted))\n",
    "print(\"variance or r-squared: \", explained_variance_score(ym_test, y_predicted))"
   ]
  },
  {
   "cell_type": "markdown",
   "metadata": {},
   "source": [
    "### Building model with Decision Tree Regressor"
   ]
  },
  {
   "cell_type": "code",
   "execution_count": 34,
   "metadata": {},
   "outputs": [
    {
     "name": "stdout",
     "output_type": "stream",
     "text": [
      "mean square error:  26243626326.852463\n",
      "variance or r-squared:  0.9188518761387013\n"
     ]
    }
   ],
   "source": [
    "from sklearn import tree\n",
    "clf = tree.DecisionTreeRegressor()\n",
    "clf = clf.fit(xm_train, ym_train)\n",
    "ntree = clf.predict(xm_test)\n",
    "print(\"mean square error: \", mean_squared_error(ym_test, ntree))\n",
    "print(\"variance or r-squared: \", explained_variance_score(ym_test, ntree))"
   ]
  },
  {
   "cell_type": "markdown",
   "metadata": {},
   "source": [
    "- The evaluation metrics for choosing the best model are the coefficient determination(r-square or R2) and the mean square error(MSE). The \n",
    "- From the three regression models that we built, Multiple Linear regression model comes on top with 0.94 R2 and the least MSE. Followed by Random Forest Regressor with 0.94"
   ]
  },
  {
   "cell_type": "markdown",
   "metadata": {},
   "source": [
    "## Model Evaluation and Deployment"
   ]
  },
  {
   "cell_type": "markdown",
   "metadata": {},
   "source": [
    "- Deploying the whole dataset without the target label which we defined as X before splitting.\n",
    "- Before deploying, the dataset needs to cleaned especially when we ar using a different dataset.\n",
    "- Multiple Linear Regression and Random Forest Regressor are our best model so we will do further testing before choosing the best model for deployment.\n"
   ]
  },
  {
   "cell_type": "code",
   "execution_count": 35,
   "metadata": {},
   "outputs": [
    {
     "name": "stdout",
     "output_type": "stream",
     "text": [
      "mean square error:  21674290012.80561\n",
      "variance or r-squared:  0.9319444373699328\n"
     ]
    }
   ],
   "source": [
    "# Linear Regression \n",
    "Dep_pred = lr.predict(X)\n",
    "# Evaluation\n",
    "print(\"mean square error: \", mean_squared_error(y, Dep_pred))\n",
    "print(\"variance or r-squared: \", explained_variance_score(y, Dep_pred))"
   ]
  },
  {
   "cell_type": "code",
   "execution_count": 36,
   "metadata": {},
   "outputs": [
    {
     "data": {
      "text/plain": [
       "Text(0, 0.5, 'medv')"
      ]
     },
     "execution_count": 36,
     "metadata": {},
     "output_type": "execute_result"
    },
    {
     "data": {
      "image/png": "[encoded data removed]",
      "text/plain": [
       "<Figure size 432x288 with 1 Axes>"
      ]
     },
     "metadata": {
      "needs_background": "light"
     },
     "output_type": "display_data"
    }
   ],
   "source": [
    "# Actual vs Predicted\n",
    "c = [i for i in range(1, 6436, 1)]\n",
    "fig = plt.figure()\n",
    "plt.plot(c, y, color = \"blue\", linewidth = 2.5, linestyle = \"-\" )\n",
    "plt.plot(c, Dep_pred, color = \"red\", linewidth = 2.5, linestyle = \"-\" )\n",
    "fig.suptitle('Actual and Predicted', fontsize = 20)\n",
    "plt.xlabel('Index', fontsize = 18)\n",
    "plt.ylabel('medv', fontsize = 16)"
   ]
  },
  {
   "cell_type": "code",
   "execution_count": 37,
   "metadata": {},
   "outputs": [
    {
     "name": "stdout",
     "output_type": "stream",
     "text": [
      "mean square error:  7405914803.582763\n",
      "variance or r-squared:  0.9767483111738385\n"
     ]
    }
   ],
   "source": [
    "# Random Forest Regressor\n",
    "Dep = regr.predict(X)\n",
    "print(\"mean square error: \", mean_squared_error(y, Dep))\n",
    "print(\"variance or r-squared: \", explained_variance_score(y, Dep))"
   ]
  },
  {
   "cell_type": "code",
   "execution_count": 38,
   "metadata": {},
   "outputs": [
    {
     "data": {
      "text/plain": [
       "Text(0, 0.5, 'medv')"
      ]
     },
     "execution_count": 38,
     "metadata": {},
     "output_type": "execute_result"
    },
    {
     "data": {
      "image/png": "[encoded data removed]",
      "text/plain": [
       "<Figure size 432x288 with 1 Axes>"
      ]
     },
     "metadata": {
      "needs_background": "light"
     },
     "output_type": "display_data"
    }
   ],
   "source": [
    "# Actual vs Predicted\n",
    "c = [i for i in range(1, 6436, 1)]\n",
    "fig = plt.figure()\n",
    "plt.plot(c, y, color = \"blue\", linewidth = 2.5, linestyle = \"-\" )\n",
    "plt.plot(c, Dep, color = \"red\", linewidth = 2.5, linestyle = \"-\" )\n",
    "fig.suptitle('Actual and Predicted', fontsize = 20)\n",
    "plt.xlabel('Index', fontsize = 18)\n",
    "plt.ylabel('medv', fontsize = 16)"
   ]
  },
  {
   "cell_type": "code",
   "execution_count": 39,
   "metadata": {},
   "outputs": [
    {
     "data": {
      "text/html": [
       "<div>\n",
       "<style scoped>\n",
       "    .dataframe tbody tr th:only-of-type {\n",
       "        vertical-align: middle;\n",
       "    }\n",
       "\n",
       "    .dataframe tbody tr th {\n",
       "        vertical-align: top;\n",
       "    }\n",
       "\n",
       "    .dataframe thead th {\n",
       "        text-align: right;\n",
       "    }\n",
       "</style>\n",
       "<table border=\"1\" class=\"dataframe\">\n",
       "  <thead>\n",
       "    <tr style=\"text-align: right;\">\n",
       "      <th></th>\n",
       "      <th>importance</th>\n",
       "    </tr>\n",
       "  </thead>\n",
       "  <tbody>\n",
       "    <tr>\n",
       "      <th>Store_20</th>\n",
       "      <td>0.083221</td>\n",
       "    </tr>\n",
       "    <tr>\n",
       "      <th>Store_4</th>\n",
       "      <td>0.079260</td>\n",
       "    </tr>\n",
       "    <tr>\n",
       "      <th>Store_14</th>\n",
       "      <td>0.077790</td>\n",
       "    </tr>\n",
       "    <tr>\n",
       "      <th>Store_13</th>\n",
       "      <td>0.072711</td>\n",
       "    </tr>\n",
       "    <tr>\n",
       "      <th>Store_2</th>\n",
       "      <td>0.069143</td>\n",
       "    </tr>\n",
       "  </tbody>\n",
       "</table>\n",
       "</div>"
      ],
      "text/plain": [
       "          importance\n",
       "Store_20    0.083221\n",
       "Store_4     0.079260\n",
       "Store_14    0.077790\n",
       "Store_13    0.072711\n",
       "Store_2     0.069143"
      ]
     },
     "execution_count": 39,
     "metadata": {},
     "output_type": "execute_result"
    }
   ],
   "source": [
    "# Top five most influencial variables\n",
    "feature_importances = pd.DataFrame(regr.feature_importances_, index = x.columns, columns=['importance']).sort_values('importance', ascending=False).head()\n",
    "\n",
    "feature_importances"
   ]
  },
  {
   "cell_type": "markdown",
   "metadata": {},
   "source": [
    "- Random Forest Regressor is chosen as the best model. When it comes to the most influential predictors in the predictive model, we have store number 20, leading the race. The top 5 are all coming from the stores which is consider it to be the location. This means that, location of stores is very important."
   ]
  },
  {
   "cell_type": "markdown",
   "metadata": {},
   "source": [
    "### Further evaluation using cross validation"
   ]
  },
  {
   "cell_type": "code",
   "execution_count": 40,
   "metadata": {},
   "outputs": [],
   "source": [
    "# Using cross validation to test the best model\n",
    "from sklearn.model_selection import cross_val_score\n",
    "scores = cross_val_score(regr, X, y,\n",
    "                         scoring=\"neg_mean_squared_error\", cv=10)\n",
    "tree_rmse_scores = np.sqrt(-scores)"
   ]
  },
  {
   "cell_type": "code",
   "execution_count": 41,
   "metadata": {},
   "outputs": [
    {
     "name": "stdout",
     "output_type": "stream",
     "text": [
      "Scores: [1035915.08587357  465025.7519643   627324.70555449  401929.36291955\n",
      "  683460.23504477  498576.59739329  546555.37945211  594183.77565415\n",
      "  534012.58553954  515520.49806791]\n",
      "Mean: 590250.3977463676\n",
      "Standard deviation: 167003.49624067484\n"
     ]
    }
   ],
   "source": [
    "def display_scores(scores):\n",
    "    print(\"Scores:\", scores)\n",
    "    print(\"Mean:\", scores.mean())\n",
    "    print(\"Standard deviation:\", scores.std())\n",
    "display_scores(tree_rmse_scores)"
   ]
  },
  {
   "cell_type": "markdown",
   "metadata": {},
   "source": [
    "### Tuning our model before deployment"
   ]
  },
  {
   "cell_type": "code",
   "execution_count": 42,
   "metadata": {},
   "outputs": [
    {
     "name": "stdout",
     "output_type": "stream",
     "text": [
      "GridSearchCV(cv=5, estimator=RandomForestRegressor(),\n",
      "             param_grid=[{'max_features': [2, 4, 6, 8],\n",
      "                          'n_estimators': [3, 10, 30]},\n",
      "                         {'bootstrap': [False], 'max_features': [2, 3, 4],\n",
      "                          'n_estimators': [3, 10]}],\n",
      "             return_train_score=True, scoring='neg_mean_squared_error')\n"
     ]
    }
   ],
   "source": [
    "# Tuning our model\n",
    "from sklearn.model_selection import GridSearchCV\n",
    "\n",
    "param_grid = [\n",
    "    {'n_estimators': [3, 10, 30], 'max_features': [2, 4, 6, 8]},\n",
    "    {'bootstrap': [False], 'n_estimators': [3, 10], 'max_features': [2, 3, 4]},\n",
    "  ]\n",
    "\n",
    "forest_reg = RandomForestRegressor()\n",
    "\n",
    "grid_search = GridSearchCV(forest_reg, param_grid, cv=5,\n",
    "                           scoring='neg_mean_squared_error',\n",
    "                           return_train_score=True)\n",
    "\n",
    "grid_search.fit(X, y)\n",
    "print(grid_search)"
   ]
  },
  {
   "cell_type": "code",
   "execution_count": 43,
   "metadata": {},
   "outputs": [
    {
     "data": {
      "text/plain": [
       "{'max_features': 4, 'n_estimators': 30}"
      ]
     },
     "execution_count": 43,
     "metadata": {},
     "output_type": "execute_result"
    }
   ],
   "source": [
    "# obtaining the best parameters\n",
    "grid_search.best_params_"
   ]
  },
  {
   "cell_type": "code",
   "execution_count": 44,
   "metadata": {},
   "outputs": [
    {
     "data": {
      "text/plain": [
       "RandomForestRegressor(max_features=4, n_estimators=30)"
      ]
     },
     "execution_count": 44,
     "metadata": {},
     "output_type": "execute_result"
    }
   ],
   "source": [
    "# obtaining the best estimators\n",
    "grid_search.best_estimator_"
   ]
  },
  {
   "cell_type": "code",
   "execution_count": 45,
   "metadata": {},
   "outputs": [
    {
     "name": "stdout",
     "output_type": "stream",
     "text": [
      "698135.5176118859 {'max_features': 2, 'n_estimators': 3}\n",
      "648874.2325747969 {'max_features': 2, 'n_estimators': 10}\n",
      "634334.6148986042 {'max_features': 2, 'n_estimators': 30}\n",
      "682274.4816216143 {'max_features': 4, 'n_estimators': 3}\n",
      "655812.4664750205 {'max_features': 4, 'n_estimators': 10}\n",
      "633693.4639700132 {'max_features': 4, 'n_estimators': 30}\n",
      "690624.1662125712 {'max_features': 6, 'n_estimators': 3}\n",
      "656328.8317090308 {'max_features': 6, 'n_estimators': 10}\n",
      "639931.4990446232 {'max_features': 6, 'n_estimators': 30}\n",
      "704921.8604420155 {'max_features': 8, 'n_estimators': 3}\n",
      "650819.3061335747 {'max_features': 8, 'n_estimators': 10}\n",
      "640124.5570712365 {'max_features': 8, 'n_estimators': 30}\n",
      "695728.4898343883 {'bootstrap': False, 'max_features': 2, 'n_estimators': 3}\n",
      "659626.9514099829 {'bootstrap': False, 'max_features': 2, 'n_estimators': 10}\n",
      "700454.8954195634 {'bootstrap': False, 'max_features': 3, 'n_estimators': 3}\n",
      "654712.2875816607 {'bootstrap': False, 'max_features': 3, 'n_estimators': 10}\n",
      "734293.5165992369 {'bootstrap': False, 'max_features': 4, 'n_estimators': 3}\n",
      "641026.8225058315 {'bootstrap': False, 'max_features': 4, 'n_estimators': 10}\n"
     ]
    }
   ],
   "source": [
    "# printing all MSE for each parameter combinations\n",
    "cvres = grid_search.cv_results_\n",
    "for mean_score, params in zip(cvres[\"mean_test_score\"], cvres[\"params\"]):\n",
    "     print(np.sqrt(-mean_score), params)"
   ]
  },
  {
   "cell_type": "markdown",
   "metadata": {},
   "source": [
    "- From the above figures, we have parameters 6 and n_estimator 30"
   ]
  },
  {
   "cell_type": "code",
   "execution_count": 46,
   "metadata": {},
   "outputs": [
    {
     "name": "stdout",
     "output_type": "stream",
     "text": [
      "mean square error:  6806293107.689146\n",
      "variance or r-squared:  0.9786275614529636\n"
     ]
    }
   ],
   "source": [
    "# final model with Random Forest Regressor\n",
    "regr = RandomForestRegressor(max_features=6, n_estimators=30, random_state=0)\n",
    "regr.fit(xm_train, ym_train)\n",
    "Deploy_pred = regr.predict(X)\n",
    "print(\"mean square error: \", mean_squared_error(y, Deploy_pred))\n",
    "print(\"variance or r-squared: \", explained_variance_score(y, Deploy_pred))"
   ]
  },
  {
   "cell_type": "markdown",
   "metadata": {},
   "source": [
    "- The new r-squared for the model is 0.98 iwhich is closer to 1 with MSE 6806293107.689146"
   ]
  },
  {
   "cell_type": "markdown",
   "metadata": {},
   "source": [
    "### You might want to have an idea of how precise this estimate is. For this, you can compute a 95% confidence interval for the generalization error using scipy.stats.t.interval():"
   ]
  },
  {
   "cell_type": "code",
   "execution_count": 47,
   "metadata": {},
   "outputs": [
    {
     "data": {
      "text/plain": [
       "array([77805.90260497, 93584.5667137 ])"
      ]
     },
     "execution_count": 47,
     "metadata": {},
     "output_type": "execute_result"
    }
   ],
   "source": [
    "from scipy import stats\n",
    "confidence = 0.95\n",
    "squared_errors = (Dep - y) ** 2\n",
    "np.sqrt(stats.t.interval(confidence, len(squared_errors) - 1,\n",
    "                          loc=squared_errors.mean(),\n",
    "                          scale=stats.sem(squared_errors)))"
   ]
  },
  {
   "cell_type": "markdown",
   "metadata": {},
   "source": [
    "# Findings and Recommendations"
   ]
  },
  {
   "cell_type": "markdown",
   "metadata": {},
   "source": [
    "- (i) Our first hypothesis is, does these independent variables or predictors have influence on sales that is the dependent or target variable which will enable us to make better decisions. From the regression analysis, our model built showed influence or relationship between the predictors and the response(sales). Let us first talk about store or location and sales. There exist a negative relationship between locations or stores and sales. Meaning, as the number of locations or stores increases, sales decreases and vice versa. In reality, we expect that the increase in the locations or stores should bring in more sales. But perhaps, these stores are not located at the right places. For instance, a store in the middle of a desert will not make sales more than a store in New York city. Other predictors with negative relationships with sales are Unemployment, consumer price index(CPI), Temperature etc. We can also talk about the relationship between fuel prices and sales. Our analysis showed a positive relationship between fuel price and sales. In general, an increase fuel price causes prices of items to go up. In view of this phenomenon, we would expect customers or consumers decrease purchases. But this is not the case, consumers are purchasing at a marginal rate. It is not surprising since Walmart is an groceries store which deals with necessities. We need groceries to survive, therefore an increase in fuel prices will not stop consumers from buy from Walmart. \n",
    "\n",
    "- The second hypothesis states that the predictors or independent variables have a high chance of giving us a good predictive model in predicting sales. Our predictive modeling results showed a higher coefficient determination(R2). Meaning, the predictors are good in predicting sales. The top five independent variables that are important in predicting sales are all from locations or stores. This tells us that, location is very important in predicting sales. \n",
    "\n",
    "### Recommendation\n",
    "- Our finding highlighted an increase in stores causing a decrease in sales. In view of this, many factors can account for this phenomenon. If stores are located in isolated areas, then these stores needs to be looked at. Mismanagement can also be a factor causing stores not to perform well. It was not surprising to see some stores at the bottom of the most influential predictors in predicting sales. Such stores include, 34, 26, 12 and 40.\n",
    "- Another findings is holidays promotions worked perfectly well and there is a positive relationship existing between sales and holidays. Therefore, on holidays stores must be stocked in order not to run out.\n",
    "- With unemployment, the negative relationship with sales should give a signal that anytime consumers or customers are employed, their purchasing power will go up thereby increasing the demand for items. Stores must stock up with items anytime unemployment index goes down.\n",
    "- The increase in fuel price should not scare store managers in stocking up since Walmart sells necessities. Increase in fuel prices does not affect groceries since consumer needs groceries to survive.\n",
    "\n",
    "### Future work on the dataset\n",
    "- We will be using deep learning in predicting sales."
   ]
  }
 ],
 "metadata": {
  "kernelspec": {
   "display_name": "Python 3",
   "language": "python",
   "name": "python3"
  },
  "language_info": {
   "codemirror_mode": {
    "name": "ipython",
    "version": 3
   },
   "file_extension": ".py",
   "mimetype": "text/x-python",
   "name": "python",
   "nbconvert_exporter": "python",
   "pygments_lexer": "ipython3",
   "version": "3.8.5"
  }
 },
 "nbformat": 4,
 "nbformat_minor": 4
}
