{
 "cells": [
  {
   "cell_type": "markdown",
   "metadata": {},
   "source": [
    "# Regression Analysis (Housing Project)"
   ]
  },
  {
   "cell_type": "markdown",
   "metadata": {},
   "source": [
    "## The main task is to be build a predictive model for the Boston Housing values (Median value of owner-occupied homes) using the 14 variables or pred given. Now the question is, which of the variables or predictors have a huge influence on the dependent variable (Median value of owner-occupied homes). It is obvious that the number of rooms in a house contributes to the value of the house but house true is this ascertion. Our first hypothesis is, when the number number of rooms is high, the value of the house is going to be high and vice versa.\n",
    "## The second hypothesis after a careful research, the higher concentration of nitric oxide can cause low blood pressure, Nausea and Stomach Cramps, Zinc Deficiencies and other. Due to these health concerns, the higher the concentration of nitric oxides in the atmosphere, the lower the median value and vice versa."
   ]
  },
  {
   "cell_type": "code",
   "execution_count": 1,
   "metadata": {},
   "outputs": [],
   "source": [
    "import pandas as pd\n",
    "import numpy as np\n",
    "import seaborn as sns\n",
    "import matplotlib.pyplot as plt\n",
    "%matplotlib inline\n",
    "\n",
    "#regression packages\n",
    "import sklearn.linear_model as lm\n",
    "from sklearn.metrics import mean_squared_error\n",
    "from sklearn.metrics import explained_variance_score\n",
    "\n",
    "#lasso regression\n",
    "from sklearn import linear_model\n",
    "\n",
    "#f_regression (feature selection)\n",
    "from sklearn.feature_selection import f_regression\n",
    "from sklearn.feature_selection import SelectKBest\n",
    "\n",
    "# recursive feature selection (feature selection)\n",
    "from sklearn.feature_selection import RFE\n",
    "\n",
    "#ignore warning\n",
    "import warnings\n",
    "warnings.filterwarnings(\"ignore\")"
   ]
  },
  {
   "cell_type": "markdown",
   "metadata": {},
   "source": [
    "# Loading Data"
   ]
  },
  {
   "cell_type": "code",
   "execution_count": 2,
   "metadata": {},
   "outputs": [
    {
     "data": {
      "text/html": [
       "<div>\n",
       "<style scoped>\n",
       "    .dataframe tbody tr th:only-of-type {\n",
       "        vertical-align: middle;\n",
       "    }\n",
       "\n",
       "    .dataframe tbody tr th {\n",
       "        vertical-align: top;\n",
       "    }\n",
       "\n",
       "    .dataframe thead th {\n",
       "        text-align: right;\n",
       "    }\n",
       "</style>\n",
       "<table border=\"1\" class=\"dataframe\">\n",
       "  <thead>\n",
       "    <tr style=\"text-align: right;\">\n",
       "      <th></th>\n",
       "      <th>crim</th>\n",
       "      <th>zn</th>\n",
       "      <th>indus</th>\n",
       "      <th>chas</th>\n",
       "      <th>nox</th>\n",
       "      <th>rm</th>\n",
       "      <th>age</th>\n",
       "      <th>dis</th>\n",
       "      <th>rad</th>\n",
       "      <th>tax</th>\n",
       "      <th>ptratio</th>\n",
       "      <th>black</th>\n",
       "      <th>lstat</th>\n",
       "      <th>medv</th>\n",
       "    </tr>\n",
       "  </thead>\n",
       "  <tbody>\n",
       "    <tr>\n",
       "      <th>0</th>\n",
       "      <td>0.00632</td>\n",
       "      <td>18.0</td>\n",
       "      <td>2.31</td>\n",
       "      <td>0</td>\n",
       "      <td>0.538</td>\n",
       "      <td>6.575</td>\n",
       "      <td>65.2</td>\n",
       "      <td>4.0900</td>\n",
       "      <td>1</td>\n",
       "      <td>296</td>\n",
       "      <td>15.3</td>\n",
       "      <td>396.90</td>\n",
       "      <td>4.98</td>\n",
       "      <td>24.0</td>\n",
       "    </tr>\n",
       "    <tr>\n",
       "      <th>1</th>\n",
       "      <td>0.02731</td>\n",
       "      <td>0.0</td>\n",
       "      <td>7.07</td>\n",
       "      <td>0</td>\n",
       "      <td>0.469</td>\n",
       "      <td>6.421</td>\n",
       "      <td>78.9</td>\n",
       "      <td>4.9671</td>\n",
       "      <td>2</td>\n",
       "      <td>242</td>\n",
       "      <td>17.8</td>\n",
       "      <td>396.90</td>\n",
       "      <td>9.14</td>\n",
       "      <td>21.6</td>\n",
       "    </tr>\n",
       "    <tr>\n",
       "      <th>2</th>\n",
       "      <td>0.02729</td>\n",
       "      <td>0.0</td>\n",
       "      <td>7.07</td>\n",
       "      <td>0</td>\n",
       "      <td>0.469</td>\n",
       "      <td>7.185</td>\n",
       "      <td>61.1</td>\n",
       "      <td>4.9671</td>\n",
       "      <td>2</td>\n",
       "      <td>242</td>\n",
       "      <td>17.8</td>\n",
       "      <td>392.83</td>\n",
       "      <td>4.03</td>\n",
       "      <td>34.7</td>\n",
       "    </tr>\n",
       "    <tr>\n",
       "      <th>3</th>\n",
       "      <td>0.03237</td>\n",
       "      <td>0.0</td>\n",
       "      <td>2.18</td>\n",
       "      <td>0</td>\n",
       "      <td>0.458</td>\n",
       "      <td>6.998</td>\n",
       "      <td>45.8</td>\n",
       "      <td>6.0622</td>\n",
       "      <td>3</td>\n",
       "      <td>222</td>\n",
       "      <td>18.7</td>\n",
       "      <td>394.63</td>\n",
       "      <td>2.94</td>\n",
       "      <td>33.4</td>\n",
       "    </tr>\n",
       "    <tr>\n",
       "      <th>4</th>\n",
       "      <td>0.06905</td>\n",
       "      <td>0.0</td>\n",
       "      <td>2.18</td>\n",
       "      <td>0</td>\n",
       "      <td>0.458</td>\n",
       "      <td>7.147</td>\n",
       "      <td>54.2</td>\n",
       "      <td>6.0622</td>\n",
       "      <td>3</td>\n",
       "      <td>222</td>\n",
       "      <td>18.7</td>\n",
       "      <td>396.90</td>\n",
       "      <td>5.33</td>\n",
       "      <td>36.2</td>\n",
       "    </tr>\n",
       "  </tbody>\n",
       "</table>\n",
       "</div>"
      ],
      "text/plain": [
       "      crim    zn  indus  chas    nox     rm   age     dis  rad  tax  ptratio  \\\n",
       "0  0.00632  18.0   2.31     0  0.538  6.575  65.2  4.0900    1  296     15.3   \n",
       "1  0.02731   0.0   7.07     0  0.469  6.421  78.9  4.9671    2  242     17.8   \n",
       "2  0.02729   0.0   7.07     0  0.469  7.185  61.1  4.9671    2  242     17.8   \n",
       "3  0.03237   0.0   2.18     0  0.458  6.998  45.8  6.0622    3  222     18.7   \n",
       "4  0.06905   0.0   2.18     0  0.458  7.147  54.2  6.0622    3  222     18.7   \n",
       "\n",
       "    black  lstat  medv  \n",
       "0  396.90   4.98  24.0  \n",
       "1  396.90   9.14  21.6  \n",
       "2  392.83   4.03  34.7  \n",
       "3  394.63   2.94  33.4  \n",
       "4  396.90   5.33  36.2  "
      ]
     },
     "execution_count": 2,
     "metadata": {},
     "output_type": "execute_result"
    }
   ],
   "source": [
    "df = pd.read_csv(\"data/b_housing.csv\")\n",
    "df.head()"
   ]
  },
  {
   "cell_type": "markdown",
   "metadata": {},
   "source": [
    "# Data Preparation"
   ]
  },
  {
   "cell_type": "code",
   "execution_count": 3,
   "metadata": {},
   "outputs": [
    {
     "name": "stdout",
     "output_type": "stream",
     "text": [
      "<class 'pandas.core.frame.DataFrame'>\n",
      "RangeIndex: 508 entries, 0 to 507\n",
      "Data columns (total 14 columns):\n",
      " #   Column   Non-Null Count  Dtype  \n",
      "---  ------   --------------  -----  \n",
      " 0   crim     508 non-null    float64\n",
      " 1   zn       508 non-null    float64\n",
      " 2   indus    508 non-null    float64\n",
      " 3   chas     508 non-null    int64  \n",
      " 4   nox      508 non-null    float64\n",
      " 5   rm       508 non-null    float64\n",
      " 6   age      508 non-null    float64\n",
      " 7   dis      508 non-null    float64\n",
      " 8   rad      508 non-null    int64  \n",
      " 9   tax      508 non-null    int64  \n",
      " 10  ptratio  508 non-null    float64\n",
      " 11  black    508 non-null    float64\n",
      " 12  lstat    508 non-null    float64\n",
      " 13  medv     508 non-null    float64\n",
      "dtypes: float64(11), int64(3)\n",
      "memory usage: 55.7 KB\n"
     ]
    }
   ],
   "source": [
    "# Identifying data types and the total number of entries\n",
    "df.info()"
   ]
  },
  {
   "cell_type": "code",
   "execution_count": 4,
   "metadata": {},
   "outputs": [
    {
     "data": {
      "text/plain": [
       "crim       0\n",
       "zn         0\n",
       "indus      0\n",
       "chas       0\n",
       "nox        0\n",
       "rm         0\n",
       "age        0\n",
       "dis        0\n",
       "rad        0\n",
       "tax        0\n",
       "ptratio    0\n",
       "black      0\n",
       "lstat      0\n",
       "medv       0\n",
       "dtype: int64"
      ]
     },
     "execution_count": 4,
     "metadata": {},
     "output_type": "execute_result"
    }
   ],
   "source": [
    "# Checking for missing values in each column or variable\n",
    "df.isnull().sum()"
   ]
  },
  {
   "cell_type": "markdown",
   "metadata": {},
   "source": [
    "### We have zero missing values"
   ]
  },
  {
   "cell_type": "markdown",
   "metadata": {},
   "source": [
    "# Data Exploration Analysis"
   ]
  },
  {
   "cell_type": "code",
   "execution_count": 5,
   "metadata": {},
   "outputs": [
    {
     "data": {
      "text/html": [
       "<div>\n",
       "<style scoped>\n",
       "    .dataframe tbody tr th:only-of-type {\n",
       "        vertical-align: middle;\n",
       "    }\n",
       "\n",
       "    .dataframe tbody tr th {\n",
       "        vertical-align: top;\n",
       "    }\n",
       "\n",
       "    .dataframe thead th {\n",
       "        text-align: right;\n",
       "    }\n",
       "</style>\n",
       "<table border=\"1\" class=\"dataframe\">\n",
       "  <thead>\n",
       "    <tr style=\"text-align: right;\">\n",
       "      <th></th>\n",
       "      <th>crim</th>\n",
       "      <th>zn</th>\n",
       "      <th>indus</th>\n",
       "      <th>chas</th>\n",
       "      <th>nox</th>\n",
       "      <th>rm</th>\n",
       "      <th>age</th>\n",
       "      <th>dis</th>\n",
       "      <th>rad</th>\n",
       "      <th>tax</th>\n",
       "      <th>ptratio</th>\n",
       "      <th>black</th>\n",
       "      <th>lstat</th>\n",
       "      <th>medv</th>\n",
       "    </tr>\n",
       "  </thead>\n",
       "  <tbody>\n",
       "    <tr>\n",
       "      <th>count</th>\n",
       "      <td>508.000000</td>\n",
       "      <td>508.000000</td>\n",
       "      <td>508.000000</td>\n",
       "      <td>508.000000</td>\n",
       "      <td>508.000000</td>\n",
       "      <td>508.000000</td>\n",
       "      <td>508.000000</td>\n",
       "      <td>508.000000</td>\n",
       "      <td>508.000000</td>\n",
       "      <td>508.000000</td>\n",
       "      <td>508.000000</td>\n",
       "      <td>508.000000</td>\n",
       "      <td>508.000000</td>\n",
       "      <td>508.000000</td>\n",
       "    </tr>\n",
       "    <tr>\n",
       "      <th>mean</th>\n",
       "      <td>3.599645</td>\n",
       "      <td>11.368110</td>\n",
       "      <td>11.123917</td>\n",
       "      <td>0.068898</td>\n",
       "      <td>0.554574</td>\n",
       "      <td>6.283561</td>\n",
       "      <td>88.055315</td>\n",
       "      <td>3.801993</td>\n",
       "      <td>9.531496</td>\n",
       "      <td>407.854331</td>\n",
       "      <td>18.442717</td>\n",
       "      <td>356.827283</td>\n",
       "      <td>12.652185</td>\n",
       "      <td>22.534252</td>\n",
       "    </tr>\n",
       "    <tr>\n",
       "      <th>std</th>\n",
       "      <td>8.587406</td>\n",
       "      <td>23.276516</td>\n",
       "      <td>6.849870</td>\n",
       "      <td>0.253530</td>\n",
       "      <td>0.115665</td>\n",
       "      <td>0.701438</td>\n",
       "      <td>441.531284</td>\n",
       "      <td>2.104464</td>\n",
       "      <td>8.694746</td>\n",
       "      <td>168.314766</td>\n",
       "      <td>2.170287</td>\n",
       "      <td>91.147283</td>\n",
       "      <td>7.126976</td>\n",
       "      <td>9.178975</td>\n",
       "    </tr>\n",
       "    <tr>\n",
       "      <th>min</th>\n",
       "      <td>0.006320</td>\n",
       "      <td>0.000000</td>\n",
       "      <td>0.460000</td>\n",
       "      <td>0.000000</td>\n",
       "      <td>0.385000</td>\n",
       "      <td>3.561000</td>\n",
       "      <td>2.900000</td>\n",
       "      <td>1.129600</td>\n",
       "      <td>1.000000</td>\n",
       "      <td>187.000000</td>\n",
       "      <td>12.600000</td>\n",
       "      <td>0.320000</td>\n",
       "      <td>1.730000</td>\n",
       "      <td>5.000000</td>\n",
       "    </tr>\n",
       "    <tr>\n",
       "      <th>25%</th>\n",
       "      <td>0.082155</td>\n",
       "      <td>0.000000</td>\n",
       "      <td>5.190000</td>\n",
       "      <td>0.000000</td>\n",
       "      <td>0.449000</td>\n",
       "      <td>5.886500</td>\n",
       "      <td>45.075000</td>\n",
       "      <td>2.100525</td>\n",
       "      <td>4.000000</td>\n",
       "      <td>279.000000</td>\n",
       "      <td>17.225000</td>\n",
       "      <td>375.472500</td>\n",
       "      <td>6.990000</td>\n",
       "      <td>17.075000</td>\n",
       "    </tr>\n",
       "    <tr>\n",
       "      <th>50%</th>\n",
       "      <td>0.253715</td>\n",
       "      <td>0.000000</td>\n",
       "      <td>9.690000</td>\n",
       "      <td>0.000000</td>\n",
       "      <td>0.538000</td>\n",
       "      <td>6.205000</td>\n",
       "      <td>77.150000</td>\n",
       "      <td>3.215700</td>\n",
       "      <td>5.000000</td>\n",
       "      <td>330.000000</td>\n",
       "      <td>19.000000</td>\n",
       "      <td>391.475000</td>\n",
       "      <td>11.395000</td>\n",
       "      <td>21.200000</td>\n",
       "    </tr>\n",
       "    <tr>\n",
       "      <th>75%</th>\n",
       "      <td>3.674808</td>\n",
       "      <td>12.500000</td>\n",
       "      <td>18.100000</td>\n",
       "      <td>0.000000</td>\n",
       "      <td>0.624000</td>\n",
       "      <td>6.620500</td>\n",
       "      <td>94.025000</td>\n",
       "      <td>5.214600</td>\n",
       "      <td>24.000000</td>\n",
       "      <td>666.000000</td>\n",
       "      <td>20.200000</td>\n",
       "      <td>396.215000</td>\n",
       "      <td>16.945000</td>\n",
       "      <td>25.000000</td>\n",
       "    </tr>\n",
       "    <tr>\n",
       "      <th>max</th>\n",
       "      <td>88.976200</td>\n",
       "      <td>100.000000</td>\n",
       "      <td>27.740000</td>\n",
       "      <td>1.000000</td>\n",
       "      <td>0.871000</td>\n",
       "      <td>8.780000</td>\n",
       "      <td>10000.000000</td>\n",
       "      <td>12.126500</td>\n",
       "      <td>24.000000</td>\n",
       "      <td>711.000000</td>\n",
       "      <td>22.000000</td>\n",
       "      <td>396.900000</td>\n",
       "      <td>37.970000</td>\n",
       "      <td>50.000000</td>\n",
       "    </tr>\n",
       "  </tbody>\n",
       "</table>\n",
       "</div>"
      ],
      "text/plain": [
       "             crim          zn       indus        chas         nox          rm  \\\n",
       "count  508.000000  508.000000  508.000000  508.000000  508.000000  508.000000   \n",
       "mean     3.599645   11.368110   11.123917    0.068898    0.554574    6.283561   \n",
       "std      8.587406   23.276516    6.849870    0.253530    0.115665    0.701438   \n",
       "min      0.006320    0.000000    0.460000    0.000000    0.385000    3.561000   \n",
       "25%      0.082155    0.000000    5.190000    0.000000    0.449000    5.886500   \n",
       "50%      0.253715    0.000000    9.690000    0.000000    0.538000    6.205000   \n",
       "75%      3.674808   12.500000   18.100000    0.000000    0.624000    6.620500   \n",
       "max     88.976200  100.000000   27.740000    1.000000    0.871000    8.780000   \n",
       "\n",
       "                age         dis         rad         tax     ptratio  \\\n",
       "count    508.000000  508.000000  508.000000  508.000000  508.000000   \n",
       "mean      88.055315    3.801993    9.531496  407.854331   18.442717   \n",
       "std      441.531284    2.104464    8.694746  168.314766    2.170287   \n",
       "min        2.900000    1.129600    1.000000  187.000000   12.600000   \n",
       "25%       45.075000    2.100525    4.000000  279.000000   17.225000   \n",
       "50%       77.150000    3.215700    5.000000  330.000000   19.000000   \n",
       "75%       94.025000    5.214600   24.000000  666.000000   20.200000   \n",
       "max    10000.000000   12.126500   24.000000  711.000000   22.000000   \n",
       "\n",
       "            black       lstat        medv  \n",
       "count  508.000000  508.000000  508.000000  \n",
       "mean   356.827283   12.652185   22.534252  \n",
       "std     91.147283    7.126976    9.178975  \n",
       "min      0.320000    1.730000    5.000000  \n",
       "25%    375.472500    6.990000   17.075000  \n",
       "50%    391.475000   11.395000   21.200000  \n",
       "75%    396.215000   16.945000   25.000000  \n",
       "max    396.900000   37.970000   50.000000  "
      ]
     },
     "execution_count": 5,
     "metadata": {},
     "output_type": "execute_result"
    }
   ],
   "source": [
    "# identifying outliers using mainly minimum and maximum\n",
    "df.describe()"
   ]
  },
  {
   "cell_type": "markdown",
   "metadata": {},
   "source": [
    "### We have an outlier in variable Age which is 1000. As we know, no one ages to a 1000. So we will fix it"
   ]
  },
  {
   "cell_type": "code",
   "execution_count": 6,
   "metadata": {},
   "outputs": [
    {
     "data": {
      "text/plain": [
       "88.05531496062996"
      ]
     },
     "execution_count": 6,
     "metadata": {},
     "output_type": "execute_result"
    }
   ],
   "source": [
    "# finding the mean\n",
    "df['age'].mean()"
   ]
  },
  {
   "cell_type": "code",
   "execution_count": 7,
   "metadata": {},
   "outputs": [
    {
     "data": {
      "text/html": [
       "<div>\n",
       "<style scoped>\n",
       "    .dataframe tbody tr th:only-of-type {\n",
       "        vertical-align: middle;\n",
       "    }\n",
       "\n",
       "    .dataframe tbody tr th {\n",
       "        vertical-align: top;\n",
       "    }\n",
       "\n",
       "    .dataframe thead th {\n",
       "        text-align: right;\n",
       "    }\n",
       "</style>\n",
       "<table border=\"1\" class=\"dataframe\">\n",
       "  <thead>\n",
       "    <tr style=\"text-align: right;\">\n",
       "      <th></th>\n",
       "      <th>crim</th>\n",
       "      <th>zn</th>\n",
       "      <th>indus</th>\n",
       "      <th>chas</th>\n",
       "      <th>nox</th>\n",
       "      <th>rm</th>\n",
       "      <th>age</th>\n",
       "      <th>dis</th>\n",
       "      <th>rad</th>\n",
       "      <th>tax</th>\n",
       "      <th>ptratio</th>\n",
       "      <th>black</th>\n",
       "      <th>lstat</th>\n",
       "      <th>medv</th>\n",
       "    </tr>\n",
       "  </thead>\n",
       "  <tbody>\n",
       "    <tr>\n",
       "      <th>count</th>\n",
       "      <td>508.000000</td>\n",
       "      <td>508.000000</td>\n",
       "      <td>508.000000</td>\n",
       "      <td>508.000000</td>\n",
       "      <td>508.000000</td>\n",
       "      <td>508.000000</td>\n",
       "      <td>508.000000</td>\n",
       "      <td>508.000000</td>\n",
       "      <td>508.000000</td>\n",
       "      <td>508.000000</td>\n",
       "      <td>508.000000</td>\n",
       "      <td>508.000000</td>\n",
       "      <td>508.000000</td>\n",
       "      <td>508.000000</td>\n",
       "    </tr>\n",
       "    <tr>\n",
       "      <th>mean</th>\n",
       "      <td>3.599645</td>\n",
       "      <td>11.368110</td>\n",
       "      <td>11.123917</td>\n",
       "      <td>0.068898</td>\n",
       "      <td>0.554574</td>\n",
       "      <td>6.283561</td>\n",
       "      <td>68.543504</td>\n",
       "      <td>3.801993</td>\n",
       "      <td>9.531496</td>\n",
       "      <td>407.854331</td>\n",
       "      <td>18.442717</td>\n",
       "      <td>356.827283</td>\n",
       "      <td>12.652185</td>\n",
       "      <td>22.534252</td>\n",
       "    </tr>\n",
       "    <tr>\n",
       "      <th>std</th>\n",
       "      <td>8.587406</td>\n",
       "      <td>23.276516</td>\n",
       "      <td>6.849870</td>\n",
       "      <td>0.253530</td>\n",
       "      <td>0.115665</td>\n",
       "      <td>0.701438</td>\n",
       "      <td>28.072114</td>\n",
       "      <td>2.104464</td>\n",
       "      <td>8.694746</td>\n",
       "      <td>168.314766</td>\n",
       "      <td>2.170287</td>\n",
       "      <td>91.147283</td>\n",
       "      <td>7.126976</td>\n",
       "      <td>9.178975</td>\n",
       "    </tr>\n",
       "    <tr>\n",
       "      <th>min</th>\n",
       "      <td>0.006320</td>\n",
       "      <td>0.000000</td>\n",
       "      <td>0.460000</td>\n",
       "      <td>0.000000</td>\n",
       "      <td>0.385000</td>\n",
       "      <td>3.561000</td>\n",
       "      <td>2.900000</td>\n",
       "      <td>1.129600</td>\n",
       "      <td>1.000000</td>\n",
       "      <td>187.000000</td>\n",
       "      <td>12.600000</td>\n",
       "      <td>0.320000</td>\n",
       "      <td>1.730000</td>\n",
       "      <td>5.000000</td>\n",
       "    </tr>\n",
       "    <tr>\n",
       "      <th>25%</th>\n",
       "      <td>0.082155</td>\n",
       "      <td>0.000000</td>\n",
       "      <td>5.190000</td>\n",
       "      <td>0.000000</td>\n",
       "      <td>0.449000</td>\n",
       "      <td>5.886500</td>\n",
       "      <td>45.075000</td>\n",
       "      <td>2.100525</td>\n",
       "      <td>4.000000</td>\n",
       "      <td>279.000000</td>\n",
       "      <td>17.225000</td>\n",
       "      <td>375.472500</td>\n",
       "      <td>6.990000</td>\n",
       "      <td>17.075000</td>\n",
       "    </tr>\n",
       "    <tr>\n",
       "      <th>50%</th>\n",
       "      <td>0.253715</td>\n",
       "      <td>0.000000</td>\n",
       "      <td>9.690000</td>\n",
       "      <td>0.000000</td>\n",
       "      <td>0.538000</td>\n",
       "      <td>6.205000</td>\n",
       "      <td>77.150000</td>\n",
       "      <td>3.215700</td>\n",
       "      <td>5.000000</td>\n",
       "      <td>330.000000</td>\n",
       "      <td>19.000000</td>\n",
       "      <td>391.475000</td>\n",
       "      <td>11.395000</td>\n",
       "      <td>21.200000</td>\n",
       "    </tr>\n",
       "    <tr>\n",
       "      <th>75%</th>\n",
       "      <td>3.674808</td>\n",
       "      <td>12.500000</td>\n",
       "      <td>18.100000</td>\n",
       "      <td>0.000000</td>\n",
       "      <td>0.624000</td>\n",
       "      <td>6.620500</td>\n",
       "      <td>93.925000</td>\n",
       "      <td>5.214600</td>\n",
       "      <td>24.000000</td>\n",
       "      <td>666.000000</td>\n",
       "      <td>20.200000</td>\n",
       "      <td>396.215000</td>\n",
       "      <td>16.945000</td>\n",
       "      <td>25.000000</td>\n",
       "    </tr>\n",
       "    <tr>\n",
       "      <th>max</th>\n",
       "      <td>88.976200</td>\n",
       "      <td>100.000000</td>\n",
       "      <td>27.740000</td>\n",
       "      <td>1.000000</td>\n",
       "      <td>0.871000</td>\n",
       "      <td>8.780000</td>\n",
       "      <td>100.000000</td>\n",
       "      <td>12.126500</td>\n",
       "      <td>24.000000</td>\n",
       "      <td>711.000000</td>\n",
       "      <td>22.000000</td>\n",
       "      <td>396.900000</td>\n",
       "      <td>37.970000</td>\n",
       "      <td>50.000000</td>\n",
       "    </tr>\n",
       "  </tbody>\n",
       "</table>\n",
       "</div>"
      ],
      "text/plain": [
       "             crim          zn       indus        chas         nox          rm  \\\n",
       "count  508.000000  508.000000  508.000000  508.000000  508.000000  508.000000   \n",
       "mean     3.599645   11.368110   11.123917    0.068898    0.554574    6.283561   \n",
       "std      8.587406   23.276516    6.849870    0.253530    0.115665    0.701438   \n",
       "min      0.006320    0.000000    0.460000    0.000000    0.385000    3.561000   \n",
       "25%      0.082155    0.000000    5.190000    0.000000    0.449000    5.886500   \n",
       "50%      0.253715    0.000000    9.690000    0.000000    0.538000    6.205000   \n",
       "75%      3.674808   12.500000   18.100000    0.000000    0.624000    6.620500   \n",
       "max     88.976200  100.000000   27.740000    1.000000    0.871000    8.780000   \n",
       "\n",
       "              age         dis         rad         tax     ptratio       black  \\\n",
       "count  508.000000  508.000000  508.000000  508.000000  508.000000  508.000000   \n",
       "mean    68.543504    3.801993    9.531496  407.854331   18.442717  356.827283   \n",
       "std     28.072114    2.104464    8.694746  168.314766    2.170287   91.147283   \n",
       "min      2.900000    1.129600    1.000000  187.000000   12.600000    0.320000   \n",
       "25%     45.075000    2.100525    4.000000  279.000000   17.225000  375.472500   \n",
       "50%     77.150000    3.215700    5.000000  330.000000   19.000000  391.475000   \n",
       "75%     93.925000    5.214600   24.000000  666.000000   20.200000  396.215000   \n",
       "max    100.000000   12.126500   24.000000  711.000000   22.000000  396.900000   \n",
       "\n",
       "            lstat        medv  \n",
       "count  508.000000  508.000000  \n",
       "mean    12.652185   22.534252  \n",
       "std      7.126976    9.178975  \n",
       "min      1.730000    5.000000  \n",
       "25%      6.990000   17.075000  \n",
       "50%     11.395000   21.200000  \n",
       "75%     16.945000   25.000000  \n",
       "max     37.970000   50.000000  "
      ]
     },
     "execution_count": 7,
     "metadata": {},
     "output_type": "execute_result"
    }
   ],
   "source": [
    "# fixing outliers by replacing the outlier with the mean\n",
    "df = df.replace({'age': 10000}, {'age': 88})\n",
    "df.describe()"
   ]
  },
  {
   "cell_type": "code",
   "execution_count": 8,
   "metadata": {},
   "outputs": [
    {
     "data": {
      "text/plain": [
       "<seaborn.axisgrid.FacetGrid at 0x1213237dee0>"
      ]
     },
     "execution_count": 8,
     "metadata": {},
     "output_type": "execute_result"
    },
    {
     "data": {
      "image/png": "[encoded data removed]",
      "text/plain": [
       "<Figure size 360x360 with 1 Axes>"
      ]
     },
     "metadata": {
      "needs_background": "light"
     },
     "output_type": "display_data"
    }
   ],
   "source": [
    "# finding the relationship between the response medv and Istat\n",
    "sns.lmplot('lstat', 'medv', df)"
   ]
  },
  {
   "cell_type": "markdown",
   "metadata": {},
   "source": [
    "### medv has a negative relationship with Istat. As Istat increases, medv will decrease and vice versa."
   ]
  },
  {
   "cell_type": "code",
   "execution_count": 9,
   "metadata": {},
   "outputs": [
    {
     "data": {
      "text/plain": [
       "<AxesSubplot:xlabel='rm', ylabel='medv'>"
      ]
     },
     "execution_count": 9,
     "metadata": {},
     "output_type": "execute_result"
    },
    {
     "data": {
      "image/png": "[encoded data removed]",
      "text/plain": [
       "<Figure size 432x288 with 1 Axes>"
      ]
     },
     "metadata": {
      "needs_background": "light"
     },
     "output_type": "display_data"
    }
   ],
   "source": [
    "# finding the relationship between the response medv and rm\n",
    "sns.regplot('rm', 'medv', df)"
   ]
  },
  {
   "cell_type": "markdown",
   "metadata": {},
   "source": [
    "### medv has a positive relationship with rm. As Istat increases, medv will increase and vice versa."
   ]
  },
  {
   "cell_type": "markdown",
   "metadata": {},
   "source": [
    "# Correlation Analysis"
   ]
  },
  {
   "cell_type": "code",
   "execution_count": 10,
   "metadata": {},
   "outputs": [
    {
     "data": {
      "text/html": [
       "<div>\n",
       "<style scoped>\n",
       "    .dataframe tbody tr th:only-of-type {\n",
       "        vertical-align: middle;\n",
       "    }\n",
       "\n",
       "    .dataframe tbody tr th {\n",
       "        vertical-align: top;\n",
       "    }\n",
       "\n",
       "    .dataframe thead th {\n",
       "        text-align: right;\n",
       "    }\n",
       "</style>\n",
       "<table border=\"1\" class=\"dataframe\">\n",
       "  <thead>\n",
       "    <tr style=\"text-align: right;\">\n",
       "      <th></th>\n",
       "      <th>crim</th>\n",
       "      <th>zn</th>\n",
       "      <th>indus</th>\n",
       "      <th>chas</th>\n",
       "      <th>nox</th>\n",
       "      <th>rm</th>\n",
       "      <th>age</th>\n",
       "      <th>dis</th>\n",
       "      <th>rad</th>\n",
       "      <th>tax</th>\n",
       "      <th>ptratio</th>\n",
       "      <th>black</th>\n",
       "      <th>lstat</th>\n",
       "      <th>medv</th>\n",
       "    </tr>\n",
       "  </thead>\n",
       "  <tbody>\n",
       "    <tr>\n",
       "      <th>crim</th>\n",
       "      <td>1.000000</td>\n",
       "      <td>-0.200481</td>\n",
       "      <td>0.407036</td>\n",
       "      <td>-0.055425</td>\n",
       "      <td>0.421202</td>\n",
       "      <td>-0.218482</td>\n",
       "      <td>0.353330</td>\n",
       "      <td>-0.380372</td>\n",
       "      <td>0.625806</td>\n",
       "      <td>0.583121</td>\n",
       "      <td>0.290985</td>\n",
       "      <td>-0.385487</td>\n",
       "      <td>0.455520</td>\n",
       "      <td>-0.388239</td>\n",
       "    </tr>\n",
       "    <tr>\n",
       "      <th>zn</th>\n",
       "      <td>-0.200481</td>\n",
       "      <td>1.000000</td>\n",
       "      <td>-0.533679</td>\n",
       "      <td>-0.042743</td>\n",
       "      <td>-0.516581</td>\n",
       "      <td>0.311822</td>\n",
       "      <td>-0.570019</td>\n",
       "      <td>0.663647</td>\n",
       "      <td>-0.311879</td>\n",
       "      <td>-0.314466</td>\n",
       "      <td>-0.390229</td>\n",
       "      <td>0.175539</td>\n",
       "      <td>-0.412998</td>\n",
       "      <td>0.360450</td>\n",
       "    </tr>\n",
       "    <tr>\n",
       "      <th>indus</th>\n",
       "      <td>0.407036</td>\n",
       "      <td>-0.533679</td>\n",
       "      <td>1.000000</td>\n",
       "      <td>0.063412</td>\n",
       "      <td>0.763702</td>\n",
       "      <td>-0.390656</td>\n",
       "      <td>0.645509</td>\n",
       "      <td>-0.708303</td>\n",
       "      <td>0.595524</td>\n",
       "      <td>0.721048</td>\n",
       "      <td>0.384190</td>\n",
       "      <td>-0.357489</td>\n",
       "      <td>0.603587</td>\n",
       "      <td>-0.483582</td>\n",
       "    </tr>\n",
       "    <tr>\n",
       "      <th>chas</th>\n",
       "      <td>-0.055425</td>\n",
       "      <td>-0.042743</td>\n",
       "      <td>0.063412</td>\n",
       "      <td>1.000000</td>\n",
       "      <td>0.091461</td>\n",
       "      <td>0.091627</td>\n",
       "      <td>0.086875</td>\n",
       "      <td>-0.099923</td>\n",
       "      <td>-0.006802</td>\n",
       "      <td>-0.034939</td>\n",
       "      <td>-0.119351</td>\n",
       "      <td>0.048306</td>\n",
       "      <td>-0.053888</td>\n",
       "      <td>0.175191</td>\n",
       "    </tr>\n",
       "    <tr>\n",
       "      <th>nox</th>\n",
       "      <td>0.421202</td>\n",
       "      <td>-0.516581</td>\n",
       "      <td>0.763702</td>\n",
       "      <td>0.091461</td>\n",
       "      <td>1.000000</td>\n",
       "      <td>-0.301651</td>\n",
       "      <td>0.732217</td>\n",
       "      <td>-0.768934</td>\n",
       "      <td>0.611573</td>\n",
       "      <td>0.668095</td>\n",
       "      <td>0.189634</td>\n",
       "      <td>-0.380307</td>\n",
       "      <td>0.590829</td>\n",
       "      <td>-0.427302</td>\n",
       "    </tr>\n",
       "    <tr>\n",
       "      <th>rm</th>\n",
       "      <td>-0.218482</td>\n",
       "      <td>0.311822</td>\n",
       "      <td>-0.390656</td>\n",
       "      <td>0.091627</td>\n",
       "      <td>-0.301651</td>\n",
       "      <td>1.000000</td>\n",
       "      <td>-0.239483</td>\n",
       "      <td>0.203620</td>\n",
       "      <td>-0.208872</td>\n",
       "      <td>-0.290887</td>\n",
       "      <td>-0.351530</td>\n",
       "      <td>0.127333</td>\n",
       "      <td>-0.613577</td>\n",
       "      <td>0.695090</td>\n",
       "    </tr>\n",
       "    <tr>\n",
       "      <th>age</th>\n",
       "      <td>0.353330</td>\n",
       "      <td>-0.570019</td>\n",
       "      <td>0.645509</td>\n",
       "      <td>0.086875</td>\n",
       "      <td>0.732217</td>\n",
       "      <td>-0.239483</td>\n",
       "      <td>1.000000</td>\n",
       "      <td>-0.748554</td>\n",
       "      <td>0.456705</td>\n",
       "      <td>0.507150</td>\n",
       "      <td>0.262227</td>\n",
       "      <td>-0.274036</td>\n",
       "      <td>0.600756</td>\n",
       "      <td>-0.376694</td>\n",
       "    </tr>\n",
       "    <tr>\n",
       "      <th>dis</th>\n",
       "      <td>-0.380372</td>\n",
       "      <td>0.663647</td>\n",
       "      <td>-0.708303</td>\n",
       "      <td>-0.099923</td>\n",
       "      <td>-0.768934</td>\n",
       "      <td>0.203620</td>\n",
       "      <td>-0.748554</td>\n",
       "      <td>1.000000</td>\n",
       "      <td>-0.495363</td>\n",
       "      <td>-0.535246</td>\n",
       "      <td>-0.236065</td>\n",
       "      <td>0.292412</td>\n",
       "      <td>-0.496410</td>\n",
       "      <td>0.249714</td>\n",
       "    </tr>\n",
       "    <tr>\n",
       "      <th>rad</th>\n",
       "      <td>0.625806</td>\n",
       "      <td>-0.311879</td>\n",
       "      <td>0.595524</td>\n",
       "      <td>-0.006802</td>\n",
       "      <td>0.611573</td>\n",
       "      <td>-0.208872</td>\n",
       "      <td>0.456705</td>\n",
       "      <td>-0.495363</td>\n",
       "      <td>1.000000</td>\n",
       "      <td>0.910330</td>\n",
       "      <td>0.465517</td>\n",
       "      <td>-0.444893</td>\n",
       "      <td>0.488477</td>\n",
       "      <td>-0.381502</td>\n",
       "    </tr>\n",
       "    <tr>\n",
       "      <th>tax</th>\n",
       "      <td>0.583121</td>\n",
       "      <td>-0.314466</td>\n",
       "      <td>0.721048</td>\n",
       "      <td>-0.034939</td>\n",
       "      <td>0.668095</td>\n",
       "      <td>-0.290887</td>\n",
       "      <td>0.507150</td>\n",
       "      <td>-0.535246</td>\n",
       "      <td>0.910330</td>\n",
       "      <td>1.000000</td>\n",
       "      <td>0.461915</td>\n",
       "      <td>-0.442329</td>\n",
       "      <td>0.543707</td>\n",
       "      <td>-0.468318</td>\n",
       "    </tr>\n",
       "    <tr>\n",
       "      <th>ptratio</th>\n",
       "      <td>0.290985</td>\n",
       "      <td>-0.390229</td>\n",
       "      <td>0.384190</td>\n",
       "      <td>-0.119351</td>\n",
       "      <td>0.189634</td>\n",
       "      <td>-0.351530</td>\n",
       "      <td>0.262227</td>\n",
       "      <td>-0.236065</td>\n",
       "      <td>0.465517</td>\n",
       "      <td>0.461915</td>\n",
       "      <td>1.000000</td>\n",
       "      <td>-0.179051</td>\n",
       "      <td>0.372571</td>\n",
       "      <td>-0.505771</td>\n",
       "    </tr>\n",
       "    <tr>\n",
       "      <th>black</th>\n",
       "      <td>-0.385487</td>\n",
       "      <td>0.175539</td>\n",
       "      <td>-0.357489</td>\n",
       "      <td>0.048306</td>\n",
       "      <td>-0.380307</td>\n",
       "      <td>0.127333</td>\n",
       "      <td>-0.274036</td>\n",
       "      <td>0.292412</td>\n",
       "      <td>-0.444893</td>\n",
       "      <td>-0.442329</td>\n",
       "      <td>-0.179051</td>\n",
       "      <td>1.000000</td>\n",
       "      <td>-0.366008</td>\n",
       "      <td>0.333407</td>\n",
       "    </tr>\n",
       "    <tr>\n",
       "      <th>lstat</th>\n",
       "      <td>0.455520</td>\n",
       "      <td>-0.412998</td>\n",
       "      <td>0.603587</td>\n",
       "      <td>-0.053888</td>\n",
       "      <td>0.590829</td>\n",
       "      <td>-0.613577</td>\n",
       "      <td>0.600756</td>\n",
       "      <td>-0.496410</td>\n",
       "      <td>0.488477</td>\n",
       "      <td>0.543707</td>\n",
       "      <td>0.372571</td>\n",
       "      <td>-0.366008</td>\n",
       "      <td>1.000000</td>\n",
       "      <td>-0.737664</td>\n",
       "    </tr>\n",
       "    <tr>\n",
       "      <th>medv</th>\n",
       "      <td>-0.388239</td>\n",
       "      <td>0.360450</td>\n",
       "      <td>-0.483582</td>\n",
       "      <td>0.175191</td>\n",
       "      <td>-0.427302</td>\n",
       "      <td>0.695090</td>\n",
       "      <td>-0.376694</td>\n",
       "      <td>0.249714</td>\n",
       "      <td>-0.381502</td>\n",
       "      <td>-0.468318</td>\n",
       "      <td>-0.505771</td>\n",
       "      <td>0.333407</td>\n",
       "      <td>-0.737664</td>\n",
       "      <td>1.000000</td>\n",
       "    </tr>\n",
       "  </tbody>\n",
       "</table>\n",
       "</div>"
      ],
      "text/plain": [
       "             crim        zn     indus      chas       nox        rm       age  \\\n",
       "crim     1.000000 -0.200481  0.407036 -0.055425  0.421202 -0.218482  0.353330   \n",
       "zn      -0.200481  1.000000 -0.533679 -0.042743 -0.516581  0.311822 -0.570019   \n",
       "indus    0.407036 -0.533679  1.000000  0.063412  0.763702 -0.390656  0.645509   \n",
       "chas    -0.055425 -0.042743  0.063412  1.000000  0.091461  0.091627  0.086875   \n",
       "nox      0.421202 -0.516581  0.763702  0.091461  1.000000 -0.301651  0.732217   \n",
       "rm      -0.218482  0.311822 -0.390656  0.091627 -0.301651  1.000000 -0.239483   \n",
       "age      0.353330 -0.570019  0.645509  0.086875  0.732217 -0.239483  1.000000   \n",
       "dis     -0.380372  0.663647 -0.708303 -0.099923 -0.768934  0.203620 -0.748554   \n",
       "rad      0.625806 -0.311879  0.595524 -0.006802  0.611573 -0.208872  0.456705   \n",
       "tax      0.583121 -0.314466  0.721048 -0.034939  0.668095 -0.290887  0.507150   \n",
       "ptratio  0.290985 -0.390229  0.384190 -0.119351  0.189634 -0.351530  0.262227   \n",
       "black   -0.385487  0.175539 -0.357489  0.048306 -0.380307  0.127333 -0.274036   \n",
       "lstat    0.455520 -0.412998  0.603587 -0.053888  0.590829 -0.613577  0.600756   \n",
       "medv    -0.388239  0.360450 -0.483582  0.175191 -0.427302  0.695090 -0.376694   \n",
       "\n",
       "              dis       rad       tax   ptratio     black     lstat      medv  \n",
       "crim    -0.380372  0.625806  0.583121  0.290985 -0.385487  0.455520 -0.388239  \n",
       "zn       0.663647 -0.311879 -0.314466 -0.390229  0.175539 -0.412998  0.360450  \n",
       "indus   -0.708303  0.595524  0.721048  0.384190 -0.357489  0.603587 -0.483582  \n",
       "chas    -0.099923 -0.006802 -0.034939 -0.119351  0.048306 -0.053888  0.175191  \n",
       "nox     -0.768934  0.611573  0.668095  0.189634 -0.380307  0.590829 -0.427302  \n",
       "rm       0.203620 -0.208872 -0.290887 -0.351530  0.127333 -0.613577  0.695090  \n",
       "age     -0.748554  0.456705  0.507150  0.262227 -0.274036  0.600756 -0.376694  \n",
       "dis      1.000000 -0.495363 -0.535246 -0.236065  0.292412 -0.496410  0.249714  \n",
       "rad     -0.495363  1.000000  0.910330  0.465517 -0.444893  0.488477 -0.381502  \n",
       "tax     -0.535246  0.910330  1.000000  0.461915 -0.442329  0.543707 -0.468318  \n",
       "ptratio -0.236065  0.465517  0.461915  1.000000 -0.179051  0.372571 -0.505771  \n",
       "black    0.292412 -0.444893 -0.442329 -0.179051  1.000000 -0.366008  0.333407  \n",
       "lstat   -0.496410  0.488477  0.543707  0.372571 -0.366008  1.000000 -0.737664  \n",
       "medv     0.249714 -0.381502 -0.468318 -0.505771  0.333407 -0.737664  1.000000  "
      ]
     },
     "execution_count": 10,
     "metadata": {},
     "output_type": "execute_result"
    }
   ],
   "source": [
    "# correlation\n",
    "df.corr()"
   ]
  },
  {
   "cell_type": "code",
   "execution_count": 11,
   "metadata": {},
   "outputs": [
    {
     "data": {
      "text/plain": [
       "<AxesSubplot:>"
      ]
     },
     "execution_count": 11,
     "metadata": {},
     "output_type": "execute_result"
    },
    {
     "data": {
      "image/png": "[encoded data removed]",
      "text/plain": [
       "<Figure size 864x864 with 2 Axes>"
      ]
     },
     "metadata": {
      "needs_background": "light"
     },
     "output_type": "display_data"
    }
   ],
   "source": [
    "# correlation heatmap\n",
    "plt.figure(figsize=(12,12))\n",
    "sns.heatmap(df.corr(), annot=True)"
   ]
  },
  {
   "cell_type": "markdown",
   "metadata": {},
   "source": [
    "### Variables that are highly correlated with the response variable are number of rooms (rm), % lower status of the population (lstat) and pupil-teacher ratio by town (ptratio).\n",
    "### % lower status of the population (lstat) is highly correlated with number of rooms (rm), age and proportion of non-retail business acres per town (indus). We have tax highly correlated with proportion of non-retail business acres per town (indus), index of accessibility to radial highways (rad) and nitric oxides concentration (nox). Weighted distances to five Boston employment centres (dis) is highly correlated with proportion of residential land zoned for lots over 25,000 sq.ft. (zn), proportion of non-retail business acres per town (indus) and nitric oxides concentration (nox)."
   ]
  },
  {
   "cell_type": "code",
   "execution_count": 14,
   "metadata": {},
   "outputs": [
    {
     "data": {
      "text/plain": [
       "crim       1.010349e-19\n",
       "zn         4.956579e-17\n",
       "indus      3.922262e-31\n",
       "chas       7.198700e-05\n",
       "nox        5.792642e-24\n",
       "rm         1.541078e-74\n",
       "age        1.425244e-18\n",
       "dis        1.163231e-08\n",
       "rad        4.795118e-19\n",
       "tax        4.694185e-29\n",
       "ptratio    2.399238e-34\n",
       "black      1.181398e-14\n",
       "lstat      2.309440e-88\n",
       "medv       0.000000e+00\n",
       "Name: medv, dtype: float64"
      ]
     },
     "execution_count": 14,
     "metadata": {},
     "output_type": "execute_result"
    }
   ],
   "source": [
    "### c. checking for p-value (TESTING FOR STATISTICAL SIGNIFICANCE OF INDEPENDENT VARIABLES)\n",
    "import scipy.stats as stats\n",
    "cl_corr = pd.DataFrame() # Correlation matrix\n",
    "cl_p = pd.DataFrame() # Matrix of p-values\n",
    "for x in df.columns:   # assuming cl as your dataframe name\n",
    "   for y in df.columns:\n",
    "      corr = stats.pearsonr(df[x], df[y])\n",
    "      cl_corr.loc[x,y] = corr[0]\n",
    "      cl_p.loc[x,y] = corr[1]\n",
    "\n",
    "cl_p['medv']"
   ]
  },
  {
   "cell_type": "markdown",
   "metadata": {},
   "source": [
    "### All variables are statistically significant with p-values less than 0.05."
   ]
  },
  {
   "cell_type": "markdown",
   "metadata": {},
   "source": [
    "# Model Building"
   ]
  },
  {
   "cell_type": "code",
   "execution_count": 15,
   "metadata": {},
   "outputs": [],
   "source": [
    "#assigning columns to X and Y variables\n",
    "y = df ['medv']\n",
    "X = df.drop(['medv'], axis =1)"
   ]
  },
  {
   "cell_type": "markdown",
   "metadata": {},
   "source": [
    "# Using train_test_split technique for predictive analysis."
   ]
  },
  {
   "cell_type": "code",
   "execution_count": 16,
   "metadata": {},
   "outputs": [],
   "source": [
    "from sklearn.model_selection import train_test_split\n",
    "X_train, X_test, y_train, y_test = train_test_split(X, y, train_size = 0.7, random_state = 100)\n"
   ]
  },
  {
   "cell_type": "markdown",
   "metadata": {},
   "source": [
    "# Building a multiple regression model for all predictors using scikit-learn"
   ]
  },
  {
   "cell_type": "code",
   "execution_count": 17,
   "metadata": {},
   "outputs": [
    {
     "name": "stdout",
     "output_type": "stream",
     "text": [
      "Coefficients:  [-1.08266368e-01  4.49464427e-02  4.62396750e-03  2.51877748e+00\n",
      " -1.34160225e+01  3.72405186e+00  8.81383620e-04 -1.39614814e+00\n",
      "  3.68325102e-01 -1.58705188e-02 -8.88315175e-01  1.07902864e-02\n",
      " -5.48224974e-01]\n",
      "y-intercept  33.96735729164372\n"
     ]
    }
   ],
   "source": [
    "# build a multiple regression model for all predictors using scikit-learn\n",
    "\n",
    "model1 = lm.LinearRegression()\n",
    "model1.fit(X_train, y_train)   \n",
    "model1_y = model1.predict(X_test)\n",
    "print('Coefficients: ', model1.coef_)\n",
    "print(\"y-intercept \", model1.intercept_)"
   ]
  },
  {
   "cell_type": "code",
   "execution_count": 19,
   "metadata": {},
   "outputs": [
    {
     "data": {
      "text/plain": [
       "[('crim', '-0.108'),\n",
       " ('zn', '0.045'),\n",
       " ('indus', '0.005'),\n",
       " ('chas', '2.519'),\n",
       " ('nox', '-13.416'),\n",
       " ('rm', '3.724'),\n",
       " ('age', '0.001'),\n",
       " ('dis', '-1.396'),\n",
       " ('rad', '0.368'),\n",
       " ('tax', '-0.016'),\n",
       " ('ptratio', '-0.888'),\n",
       " ('black', '0.011'),\n",
       " ('lstat', '-0.548')]"
      ]
     },
     "execution_count": 19,
     "metadata": {},
     "output_type": "execute_result"
    }
   ],
   "source": [
    "# Printing Coefficients\n",
    "coef = [\"%.3f\" % i for i in model1.coef_]\n",
    "Xcolumns = [ i for i in X.columns ]\n",
    "list(zip(Xcolumns, coef))"
   ]
  },
  {
   "cell_type": "markdown",
   "metadata": {},
   "source": [
    "### The coefficients of the variables represents the change in the mean of the media value of owner-occupied homes for each change in each variables, we a change in the median value by the coefficient value. For instance, a change in the median value for each increase in average number of rooms per dwelling, holding the other variables fixed, on average, we expect the median value to increase by 3.81. Also, a change in the median value for each increase in nitric oxides concentration, holding the other variables fixed, on average, we expect the median value to decrease by -17.765."
   ]
  },
  {
   "cell_type": "code",
   "execution_count": 20,
   "metadata": {},
   "outputs": [
    {
     "name": "stdout",
     "output_type": "stream",
     "text": [
      "mean square error:  19.3285995927794\n",
      "variance or r-squared:  0.7533258297637573\n"
     ]
    }
   ],
   "source": [
    "# obtaining model accuracy\n",
    "print(\"mean square error: \", mean_squared_error(y_test, model1_y))\n",
    "print(\"variance or r-squared: \", explained_variance_score(y_test, model1_y))"
   ]
  },
  {
   "cell_type": "markdown",
   "metadata": {},
   "source": [
    "### About 75% of the sample variation can be explained by using the multiple regression model. The closer it is to 100% the better the model."
   ]
  },
  {
   "cell_type": "code",
   "execution_count": 21,
   "metadata": {
    "scrolled": true
   },
   "outputs": [
    {
     "data": {
      "text/plain": [
       "array([19.23709721, 33.52686515, 31.84799127, 18.37477183, 32.92241283,\n",
       "       25.27619094, 29.54389339, 22.90861884,  0.95289317, 13.83383266,\n",
       "        6.7557614 , 10.30529305, 21.17312746, 14.69176723, 16.50913358,\n",
       "       22.76876554, 40.63145862, 26.13020814, 27.18488148, 15.85820122,\n",
       "       36.82397553, 20.35372934, 22.53474326, 12.61555412, 19.90361932,\n",
       "       22.98467425, 18.53914888, 16.195624  , 22.96262063, 23.04823745,\n",
       "       15.64871432,  6.15244677, 19.21583531, 32.59172254, 40.85862843,\n",
       "       29.08356334, 21.58020702, 12.80629569, 18.75427812, 23.45403028,\n",
       "       23.06814639, 31.76349542, 16.17452281, 25.48757269, 10.45579007,\n",
       "       23.52584832, 16.84207663, 21.49884132, 20.28226885, 18.72262526,\n",
       "       27.93333326, 20.21897209, 24.13111296, 17.66512687, 20.48435367,\n",
       "       26.24534384, 23.65571446, 34.27002182, 20.05712849, 20.73089908,\n",
       "       11.97386591, 30.86481176, 22.76745866, 28.38617702, 20.05877609,\n",
       "       18.19337194, 41.30769683, 28.71851853, 32.19759285, 20.60176869,\n",
       "       13.44331817, 17.07654725, 33.98919135, 16.02167471, 28.21387477,\n",
       "       33.84888218, 24.80411406, 35.57540275, 23.88773723, 27.09728268,\n",
       "       34.93237051, 39.54997223, 14.00362809, 22.68209595, 25.64901428,\n",
       "       12.66469275, 23.04610794, 24.69718142, 20.81895764, 27.68325725,\n",
       "       15.29831025, 31.87085852, 25.10771111, 24.57238594, 19.46936221,\n",
       "       14.86264384, 20.27681585, 34.7635296 , 22.99206982, 34.86520105,\n",
       "       22.08724574, 17.70280818, 23.75679844, 21.14465014, 33.90029908,\n",
       "       30.2934041 , 24.78400218, 23.56631749, 10.99167227, 28.49787704,\n",
       "       17.62626955, 20.69621153, 13.13780667, 31.47259685, 22.16053679,\n",
       "       15.63829415, 16.40644634, 16.3379387 , 18.90185662,  0.78989245,\n",
       "       23.78401781, 12.31095885, 20.75613937, 22.52990094, 16.51201095,\n",
       "       21.34015323, 19.45936272, 17.77867229, 27.43784295, 20.45592202,\n",
       "       21.35819034, 18.62061072, 18.77793852, 23.65717601, 19.87012228,\n",
       "       26.18539458, 31.86499245,  1.9100198 , 16.49775595, 27.1716891 ,\n",
       "       24.50879509, 14.44727784, 11.85541669, 13.84710244, 14.67994799,\n",
       "       30.35642528, 17.98574477, 20.71095385, 25.27676752, 20.69963189,\n",
       "       14.87171657, 20.75386167,  3.44072862])"
      ]
     },
     "execution_count": 21,
     "metadata": {},
     "output_type": "execute_result"
    }
   ],
   "source": [
    "# Printing predicted y\n",
    "model1_y"
   ]
  },
  {
   "cell_type": "code",
   "execution_count": 23,
   "metadata": {},
   "outputs": [
    {
     "data": {
      "text/plain": [
       "497    18.3\n",
       "231    31.7\n",
       "188    29.8\n",
       "31     14.5\n",
       "157    41.3\n",
       "Name: medv, dtype: float64"
      ]
     },
     "execution_count": 23,
     "metadata": {},
     "output_type": "execute_result"
    }
   ],
   "source": [
    "# printing the y test\n",
    "y_test.head(5)"
   ]
  },
  {
   "cell_type": "code",
   "execution_count": 24,
   "metadata": {},
   "outputs": [
    {
     "data": {
      "text/plain": [
       "Text(0, 0.5, 'medv')"
      ]
     },
     "execution_count": 24,
     "metadata": {},
     "output_type": "execute_result"
    },
    {
     "data": {
      "image/png": "[encoded data removed]",
      "text/plain": [
       "<Figure size 432x288 with 1 Axes>"
      ]
     },
     "metadata": {
      "needs_background": "light"
     },
     "output_type": "display_data"
    }
   ],
   "source": [
    "# Visualizing actual y and predicted y.\n",
    "c = [i for i in range(1, 154, 1)]\n",
    "fig = plt.figure()\n",
    "plt.plot(c, y_test, color = \"blue\", linewidth = 2.5, linestyle = \"-\" )\n",
    "plt.plot(c, model1_y, color = \"red\", linewidth = 2.5, linestyle = \"-\" )\n",
    "fig.suptitle('Actual and Predicted', fontsize = 20)\n",
    "plt.xlabel('Index', fontsize = 18)\n",
    "plt.ylabel('medv', fontsize = 16)"
   ]
  },
  {
   "cell_type": "markdown",
   "metadata": {},
   "source": [
    "### Red line is the predicted and the blue represent y test show how close the predicted result is to the actual results."
   ]
  },
  {
   "cell_type": "code",
   "execution_count": 25,
   "metadata": {},
   "outputs": [
    {
     "data": {
      "image/png": "[encoded data removed]",
      "text/plain": [
       "<Figure size 432x288 with 1 Axes>"
      ]
     },
     "metadata": {
      "needs_background": "light"
     },
     "output_type": "display_data"
    }
   ],
   "source": [
    "# showing the best fit for y test and predicted\n",
    "plt.subplots()\n",
    "plt.scatter(y_test, model1_y )\n",
    "plt.plot([y.min(), y.max()], [y.min(), y.max()], 'k--', lw=4)\n",
    "plt.xlabel('Actual')\n",
    "plt.ylabel('Predicted')\n",
    "plt.show()"
   ]
  },
  {
   "cell_type": "markdown",
   "metadata": {},
   "source": [
    "# Using Random Forest Regression"
   ]
  },
  {
   "cell_type": "code",
   "execution_count": 26,
   "metadata": {},
   "outputs": [],
   "source": [
    "from sklearn.ensemble import RandomForestRegressor\n",
    "from sklearn.datasets import make_regression\n",
    "\n",
    "regr = RandomForestRegressor(n_estimators=30, random_state=0)\n",
    "regr.fit(X_train, y_train)\n",
    "y_predicted = regr.predict(X_test)\n"
   ]
  },
  {
   "cell_type": "markdown",
   "metadata": {},
   "source": [
    "# Checking for Accuracy"
   ]
  },
  {
   "cell_type": "code",
   "execution_count": 27,
   "metadata": {},
   "outputs": [
    {
     "name": "stdout",
     "output_type": "stream",
     "text": [
      "mean square error:  9.851185185185182\n",
      "variance or r-squared:  0.8762847826894701\n"
     ]
    }
   ],
   "source": [
    "print(\"mean square error: \", mean_squared_error(y_test, y_predicted))\n",
    "print(\"variance or r-squared: \", explained_variance_score(y_test, y_predicted))"
   ]
  },
  {
   "cell_type": "markdown",
   "metadata": {},
   "source": [
    "# Identifying important features"
   ]
  },
  {
   "cell_type": "code",
   "execution_count": 28,
   "metadata": {},
   "outputs": [
    {
     "data": {
      "text/plain": [
       "[(0.00038912695993407976, 'chas'),\n",
       " (0.0009373196336505509, 'zn'),\n",
       " (0.005663772866987698, 'indus'),\n",
       " (0.006081233713437578, 'rad'),\n",
       " (0.008377437990193918, 'black'),\n",
       " (0.01314722102237543, 'age'),\n",
       " (0.015245044047144054, 'ptratio'),\n",
       " (0.018444597969965427, 'nox'),\n",
       " (0.019704351100021566, 'tax'),\n",
       " (0.045895170533928754, 'crim'),\n",
       " (0.07034956851666095, 'dis'),\n",
       " (0.373975537526024, 'lstat'),\n",
       " (0.42178961811967597, 'rm')]"
      ]
     },
     "execution_count": 28,
     "metadata": {},
     "output_type": "execute_result"
    }
   ],
   "source": [
    "\n",
    "sorted(zip(regr.feature_importances_, X_train.columns))"
   ]
  },
  {
   "cell_type": "markdown",
   "metadata": {},
   "source": [
    "# Identifying important features in a table"
   ]
  },
  {
   "cell_type": "code",
   "execution_count": 29,
   "metadata": {},
   "outputs": [
    {
     "data": {
      "text/html": [
       "<div>\n",
       "<style scoped>\n",
       "    .dataframe tbody tr th:only-of-type {\n",
       "        vertical-align: middle;\n",
       "    }\n",
       "\n",
       "    .dataframe tbody tr th {\n",
       "        vertical-align: top;\n",
       "    }\n",
       "\n",
       "    .dataframe thead th {\n",
       "        text-align: right;\n",
       "    }\n",
       "</style>\n",
       "<table border=\"1\" class=\"dataframe\">\n",
       "  <thead>\n",
       "    <tr style=\"text-align: right;\">\n",
       "      <th></th>\n",
       "      <th>importance</th>\n",
       "    </tr>\n",
       "  </thead>\n",
       "  <tbody>\n",
       "    <tr>\n",
       "      <th>rm</th>\n",
       "      <td>0.421790</td>\n",
       "    </tr>\n",
       "    <tr>\n",
       "      <th>lstat</th>\n",
       "      <td>0.373976</td>\n",
       "    </tr>\n",
       "    <tr>\n",
       "      <th>dis</th>\n",
       "      <td>0.070350</td>\n",
       "    </tr>\n",
       "    <tr>\n",
       "      <th>crim</th>\n",
       "      <td>0.045895</td>\n",
       "    </tr>\n",
       "    <tr>\n",
       "      <th>tax</th>\n",
       "      <td>0.019704</td>\n",
       "    </tr>\n",
       "    <tr>\n",
       "      <th>nox</th>\n",
       "      <td>0.018445</td>\n",
       "    </tr>\n",
       "    <tr>\n",
       "      <th>ptratio</th>\n",
       "      <td>0.015245</td>\n",
       "    </tr>\n",
       "    <tr>\n",
       "      <th>age</th>\n",
       "      <td>0.013147</td>\n",
       "    </tr>\n",
       "    <tr>\n",
       "      <th>black</th>\n",
       "      <td>0.008377</td>\n",
       "    </tr>\n",
       "    <tr>\n",
       "      <th>rad</th>\n",
       "      <td>0.006081</td>\n",
       "    </tr>\n",
       "    <tr>\n",
       "      <th>indus</th>\n",
       "      <td>0.005664</td>\n",
       "    </tr>\n",
       "    <tr>\n",
       "      <th>zn</th>\n",
       "      <td>0.000937</td>\n",
       "    </tr>\n",
       "    <tr>\n",
       "      <th>chas</th>\n",
       "      <td>0.000389</td>\n",
       "    </tr>\n",
       "  </tbody>\n",
       "</table>\n",
       "</div>"
      ],
      "text/plain": [
       "         importance\n",
       "rm         0.421790\n",
       "lstat      0.373976\n",
       "dis        0.070350\n",
       "crim       0.045895\n",
       "tax        0.019704\n",
       "nox        0.018445\n",
       "ptratio    0.015245\n",
       "age        0.013147\n",
       "black      0.008377\n",
       "rad        0.006081\n",
       "indus      0.005664\n",
       "zn         0.000937\n",
       "chas       0.000389"
      ]
     },
     "execution_count": 29,
     "metadata": {},
     "output_type": "execute_result"
    }
   ],
   "source": [
    "feature_importances = pd.DataFrame(regr.feature_importances_, index = X_train.columns, columns=['importance']).sort_values('importance', ascending=False)\n",
    "\n",
    "feature_importances"
   ]
  },
  {
   "cell_type": "code",
   "execution_count": 30,
   "metadata": {},
   "outputs": [
    {
     "data": {
      "image/png": "[encoded data removed]",
      "text/plain": [
       "<Figure size 432x288 with 1 Axes>"
      ]
     },
     "metadata": {
      "needs_background": "light"
     },
     "output_type": "display_data"
    }
   ],
   "source": [
    "plt.subplots()\n",
    "plt.scatter(y_test, y_predicted)\n",
    "plt.plot([y.min(), y.max()], [y.min(), y.max()], 'k--', lw=4)\n",
    "plt.xlabel('Actual')\n",
    "plt.ylabel('Predicted')\n",
    "plt.show()"
   ]
  },
  {
   "cell_type": "code",
   "execution_count": 31,
   "metadata": {},
   "outputs": [
    {
     "data": {
      "text/plain": [
       "Text(0, 0.5, 'medv')"
      ]
     },
     "execution_count": 31,
     "metadata": {},
     "output_type": "execute_result"
    },
    {
     "data": {
      "image/png": "[encoded data removed]",
      "text/plain": [
       "<Figure size 432x288 with 1 Axes>"
      ]
     },
     "metadata": {
      "needs_background": "light"
     },
     "output_type": "display_data"
    }
   ],
   "source": [
    "# Visualizing actual y and predicted y.\n",
    "c = [i for i in range(1, 154, 1)]\n",
    "fig = plt.figure()\n",
    "plt.plot(c, y_test, color = \"blue\", linewidth = 2.5, linestyle = \"-\" )\n",
    "plt.plot(c, y_predicted, color = \"red\", linewidth = 2.5, linestyle = \"-\" )\n",
    "fig.suptitle('Actual and Predicted', fontsize = 20)\n",
    "plt.xlabel('Index', fontsize = 18)\n",
    "plt.ylabel('medv', fontsize = 16)"
   ]
  },
  {
   "cell_type": "markdown",
   "metadata": {},
   "source": [
    "### Red line is the predicted and the blue represent y test show how close the predicted result is to the actual results."
   ]
  },
  {
   "cell_type": "markdown",
   "metadata": {},
   "source": [
    "# Model Deployment"
   ]
  },
  {
   "cell_type": "code",
   "execution_count": 36,
   "metadata": {},
   "outputs": [
    {
     "data": {
      "text/html": [
       "<div>\n",
       "<style scoped>\n",
       "    .dataframe tbody tr th:only-of-type {\n",
       "        vertical-align: middle;\n",
       "    }\n",
       "\n",
       "    .dataframe tbody tr th {\n",
       "        vertical-align: top;\n",
       "    }\n",
       "\n",
       "    .dataframe thead th {\n",
       "        text-align: right;\n",
       "    }\n",
       "</style>\n",
       "<table border=\"1\" class=\"dataframe\">\n",
       "  <thead>\n",
       "    <tr style=\"text-align: right;\">\n",
       "      <th></th>\n",
       "      <th>crim</th>\n",
       "      <th>zn</th>\n",
       "      <th>indus</th>\n",
       "      <th>chas</th>\n",
       "      <th>nox</th>\n",
       "      <th>rm</th>\n",
       "      <th>age</th>\n",
       "      <th>dis</th>\n",
       "      <th>rad</th>\n",
       "      <th>tax</th>\n",
       "      <th>ptratio</th>\n",
       "      <th>black</th>\n",
       "      <th>lstat</th>\n",
       "    </tr>\n",
       "  </thead>\n",
       "  <tbody>\n",
       "    <tr>\n",
       "      <th>0</th>\n",
       "      <td>0.00632</td>\n",
       "      <td>18.0</td>\n",
       "      <td>2.31</td>\n",
       "      <td>0</td>\n",
       "      <td>0.538</td>\n",
       "      <td>6.575</td>\n",
       "      <td>65.2</td>\n",
       "      <td>4.0900</td>\n",
       "      <td>1</td>\n",
       "      <td>296</td>\n",
       "      <td>15.3</td>\n",
       "      <td>396.90</td>\n",
       "      <td>4.98</td>\n",
       "    </tr>\n",
       "    <tr>\n",
       "      <th>1</th>\n",
       "      <td>0.02731</td>\n",
       "      <td>0.0</td>\n",
       "      <td>7.07</td>\n",
       "      <td>0</td>\n",
       "      <td>0.469</td>\n",
       "      <td>6.421</td>\n",
       "      <td>78.9</td>\n",
       "      <td>4.9671</td>\n",
       "      <td>2</td>\n",
       "      <td>242</td>\n",
       "      <td>17.8</td>\n",
       "      <td>396.90</td>\n",
       "      <td>9.14</td>\n",
       "    </tr>\n",
       "    <tr>\n",
       "      <th>2</th>\n",
       "      <td>0.02729</td>\n",
       "      <td>0.0</td>\n",
       "      <td>7.07</td>\n",
       "      <td>0</td>\n",
       "      <td>0.469</td>\n",
       "      <td>7.185</td>\n",
       "      <td>61.1</td>\n",
       "      <td>4.9671</td>\n",
       "      <td>2</td>\n",
       "      <td>242</td>\n",
       "      <td>17.8</td>\n",
       "      <td>392.83</td>\n",
       "      <td>4.03</td>\n",
       "    </tr>\n",
       "    <tr>\n",
       "      <th>3</th>\n",
       "      <td>0.03237</td>\n",
       "      <td>0.0</td>\n",
       "      <td>2.18</td>\n",
       "      <td>0</td>\n",
       "      <td>0.458</td>\n",
       "      <td>6.998</td>\n",
       "      <td>45.8</td>\n",
       "      <td>6.0622</td>\n",
       "      <td>3</td>\n",
       "      <td>222</td>\n",
       "      <td>18.7</td>\n",
       "      <td>394.63</td>\n",
       "      <td>2.94</td>\n",
       "    </tr>\n",
       "    <tr>\n",
       "      <th>4</th>\n",
       "      <td>0.06905</td>\n",
       "      <td>0.0</td>\n",
       "      <td>2.18</td>\n",
       "      <td>0</td>\n",
       "      <td>0.458</td>\n",
       "      <td>7.147</td>\n",
       "      <td>54.2</td>\n",
       "      <td>6.0622</td>\n",
       "      <td>3</td>\n",
       "      <td>222</td>\n",
       "      <td>18.7</td>\n",
       "      <td>396.90</td>\n",
       "      <td>5.33</td>\n",
       "    </tr>\n",
       "  </tbody>\n",
       "</table>\n",
       "</div>"
      ],
      "text/plain": [
       "      crim    zn  indus  chas    nox     rm   age     dis  rad  tax  ptratio  \\\n",
       "0  0.00632  18.0   2.31     0  0.538  6.575  65.2  4.0900    1  296     15.3   \n",
       "1  0.02731   0.0   7.07     0  0.469  6.421  78.9  4.9671    2  242     17.8   \n",
       "2  0.02729   0.0   7.07     0  0.469  7.185  61.1  4.9671    2  242     17.8   \n",
       "3  0.03237   0.0   2.18     0  0.458  6.998  45.8  6.0622    3  222     18.7   \n",
       "4  0.06905   0.0   2.18     0  0.458  7.147  54.2  6.0622    3  222     18.7   \n",
       "\n",
       "    black  lstat  \n",
       "0  396.90   4.98  \n",
       "1  396.90   9.14  \n",
       "2  392.83   4.03  \n",
       "3  394.63   2.94  \n",
       "4  396.90   5.33  "
      ]
     },
     "execution_count": 36,
     "metadata": {},
     "output_type": "execute_result"
    }
   ],
   "source": [
    "# Load Score data\n",
    "score_data = pd.read_csv(\"data/b_housing_scoringdataset.csv\")\n",
    "score_data.head()"
   ]
  },
  {
   "cell_type": "code",
   "execution_count": 37,
   "metadata": {},
   "outputs": [
    {
     "data": {
      "text/plain": [
       "crim       0\n",
       "zn         0\n",
       "indus      0\n",
       "chas       0\n",
       "nox        0\n",
       "rm         0\n",
       "age        0\n",
       "dis        0\n",
       "rad        0\n",
       "tax        0\n",
       "ptratio    0\n",
       "black      0\n",
       "lstat      0\n",
       "dtype: int64"
      ]
     },
     "execution_count": 37,
     "metadata": {},
     "output_type": "execute_result"
    }
   ],
   "source": [
    "# Checking for missing value\n",
    "score_data.isnull().sum()"
   ]
  },
  {
   "cell_type": "markdown",
   "metadata": {},
   "source": [
    "# Using Random Forest Regressor for model deployment"
   ]
  },
  {
   "cell_type": "code",
   "execution_count": 38,
   "metadata": {},
   "outputs": [],
   "source": [
    "#assigning columns to X and Y variables\n",
    "X = df.drop(['medv'], axis =1)"
   ]
  },
  {
   "cell_type": "code",
   "execution_count": 39,
   "metadata": {},
   "outputs": [],
   "source": [
    "# predicting Score_data\n",
    "score_predicted = regr.predict(X)"
   ]
  },
  {
   "cell_type": "code",
   "execution_count": 43,
   "metadata": {},
   "outputs": [
    {
     "data": {
      "text/html": [
       "<div>\n",
       "<style scoped>\n",
       "    .dataframe tbody tr th:only-of-type {\n",
       "        vertical-align: middle;\n",
       "    }\n",
       "\n",
       "    .dataframe tbody tr th {\n",
       "        vertical-align: top;\n",
       "    }\n",
       "\n",
       "    .dataframe thead th {\n",
       "        text-align: right;\n",
       "    }\n",
       "</style>\n",
       "<table border=\"1\" class=\"dataframe\">\n",
       "  <thead>\n",
       "    <tr style=\"text-align: right;\">\n",
       "      <th></th>\n",
       "      <th>predicted medv</th>\n",
       "    </tr>\n",
       "  </thead>\n",
       "  <tbody>\n",
       "    <tr>\n",
       "      <th>0</th>\n",
       "      <td>25.110000</td>\n",
       "    </tr>\n",
       "    <tr>\n",
       "      <th>1</th>\n",
       "      <td>21.870000</td>\n",
       "    </tr>\n",
       "    <tr>\n",
       "      <th>2</th>\n",
       "      <td>35.286667</td>\n",
       "    </tr>\n",
       "    <tr>\n",
       "      <th>3</th>\n",
       "      <td>33.033333</td>\n",
       "    </tr>\n",
       "    <tr>\n",
       "      <th>4</th>\n",
       "      <td>35.936667</td>\n",
       "    </tr>\n",
       "    <tr>\n",
       "      <th>...</th>\n",
       "      <td>...</td>\n",
       "    </tr>\n",
       "    <tr>\n",
       "      <th>503</th>\n",
       "      <td>25.090000</td>\n",
       "    </tr>\n",
       "    <tr>\n",
       "      <th>504</th>\n",
       "      <td>24.206667</td>\n",
       "    </tr>\n",
       "    <tr>\n",
       "      <th>505</th>\n",
       "      <td>16.496667</td>\n",
       "    </tr>\n",
       "    <tr>\n",
       "      <th>506</th>\n",
       "      <td>22.533333</td>\n",
       "    </tr>\n",
       "    <tr>\n",
       "      <th>507</th>\n",
       "      <td>22.533333</td>\n",
       "    </tr>\n",
       "  </tbody>\n",
       "</table>\n",
       "<p>508 rows × 1 columns</p>\n",
       "</div>"
      ],
      "text/plain": [
       "     predicted medv\n",
       "0         25.110000\n",
       "1         21.870000\n",
       "2         35.286667\n",
       "3         33.033333\n",
       "4         35.936667\n",
       "..              ...\n",
       "503       25.090000\n",
       "504       24.206667\n",
       "505       16.496667\n",
       "506       22.533333\n",
       "507       22.533333\n",
       "\n",
       "[508 rows x 1 columns]"
      ]
     },
     "execution_count": 43,
     "metadata": {},
     "output_type": "execute_result"
    }
   ],
   "source": [
    "# making a dataframe for score_predicted.\n",
    "score_predicted = pd.DataFrame(score_predicted, columns=['predicted medv'])\n",
    "score_predicted"
   ]
  },
  {
   "cell_type": "code",
   "execution_count": 45,
   "metadata": {},
   "outputs": [
    {
     "data": {
      "text/html": [
       "<div>\n",
       "<style scoped>\n",
       "    .dataframe tbody tr th:only-of-type {\n",
       "        vertical-align: middle;\n",
       "    }\n",
       "\n",
       "    .dataframe tbody tr th {\n",
       "        vertical-align: top;\n",
       "    }\n",
       "\n",
       "    .dataframe thead th {\n",
       "        text-align: right;\n",
       "    }\n",
       "</style>\n",
       "<table border=\"1\" class=\"dataframe\">\n",
       "  <thead>\n",
       "    <tr style=\"text-align: right;\">\n",
       "      <th></th>\n",
       "      <th>predicted medv</th>\n",
       "      <th>crim</th>\n",
       "      <th>zn</th>\n",
       "      <th>indus</th>\n",
       "      <th>chas</th>\n",
       "      <th>nox</th>\n",
       "      <th>rm</th>\n",
       "      <th>age</th>\n",
       "      <th>dis</th>\n",
       "      <th>rad</th>\n",
       "      <th>tax</th>\n",
       "      <th>ptratio</th>\n",
       "      <th>black</th>\n",
       "      <th>lstat</th>\n",
       "    </tr>\n",
       "  </thead>\n",
       "  <tbody>\n",
       "    <tr>\n",
       "      <th>0</th>\n",
       "      <td>25.110000</td>\n",
       "      <td>0.00632</td>\n",
       "      <td>18.0</td>\n",
       "      <td>2.31</td>\n",
       "      <td>0.0</td>\n",
       "      <td>0.538</td>\n",
       "      <td>6.575</td>\n",
       "      <td>65.2</td>\n",
       "      <td>4.0900</td>\n",
       "      <td>1.0</td>\n",
       "      <td>296.0</td>\n",
       "      <td>15.3</td>\n",
       "      <td>396.90</td>\n",
       "      <td>4.98</td>\n",
       "    </tr>\n",
       "    <tr>\n",
       "      <th>1</th>\n",
       "      <td>21.870000</td>\n",
       "      <td>0.02731</td>\n",
       "      <td>0.0</td>\n",
       "      <td>7.07</td>\n",
       "      <td>0.0</td>\n",
       "      <td>0.469</td>\n",
       "      <td>6.421</td>\n",
       "      <td>78.9</td>\n",
       "      <td>4.9671</td>\n",
       "      <td>2.0</td>\n",
       "      <td>242.0</td>\n",
       "      <td>17.8</td>\n",
       "      <td>396.90</td>\n",
       "      <td>9.14</td>\n",
       "    </tr>\n",
       "    <tr>\n",
       "      <th>2</th>\n",
       "      <td>35.286667</td>\n",
       "      <td>0.02729</td>\n",
       "      <td>0.0</td>\n",
       "      <td>7.07</td>\n",
       "      <td>0.0</td>\n",
       "      <td>0.469</td>\n",
       "      <td>7.185</td>\n",
       "      <td>61.1</td>\n",
       "      <td>4.9671</td>\n",
       "      <td>2.0</td>\n",
       "      <td>242.0</td>\n",
       "      <td>17.8</td>\n",
       "      <td>392.83</td>\n",
       "      <td>4.03</td>\n",
       "    </tr>\n",
       "    <tr>\n",
       "      <th>3</th>\n",
       "      <td>33.033333</td>\n",
       "      <td>0.03237</td>\n",
       "      <td>0.0</td>\n",
       "      <td>2.18</td>\n",
       "      <td>0.0</td>\n",
       "      <td>0.458</td>\n",
       "      <td>6.998</td>\n",
       "      <td>45.8</td>\n",
       "      <td>6.0622</td>\n",
       "      <td>3.0</td>\n",
       "      <td>222.0</td>\n",
       "      <td>18.7</td>\n",
       "      <td>394.63</td>\n",
       "      <td>2.94</td>\n",
       "    </tr>\n",
       "    <tr>\n",
       "      <th>4</th>\n",
       "      <td>35.936667</td>\n",
       "      <td>0.06905</td>\n",
       "      <td>0.0</td>\n",
       "      <td>2.18</td>\n",
       "      <td>0.0</td>\n",
       "      <td>0.458</td>\n",
       "      <td>7.147</td>\n",
       "      <td>54.2</td>\n",
       "      <td>6.0622</td>\n",
       "      <td>3.0</td>\n",
       "      <td>222.0</td>\n",
       "      <td>18.7</td>\n",
       "      <td>396.90</td>\n",
       "      <td>5.33</td>\n",
       "    </tr>\n",
       "  </tbody>\n",
       "</table>\n",
       "</div>"
      ],
      "text/plain": [
       "   predicted medv     crim    zn  indus  chas    nox     rm   age     dis  \\\n",
       "0       25.110000  0.00632  18.0   2.31   0.0  0.538  6.575  65.2  4.0900   \n",
       "1       21.870000  0.02731   0.0   7.07   0.0  0.469  6.421  78.9  4.9671   \n",
       "2       35.286667  0.02729   0.0   7.07   0.0  0.469  7.185  61.1  4.9671   \n",
       "3       33.033333  0.03237   0.0   2.18   0.0  0.458  6.998  45.8  6.0622   \n",
       "4       35.936667  0.06905   0.0   2.18   0.0  0.458  7.147  54.2  6.0622   \n",
       "\n",
       "   rad    tax  ptratio   black  lstat  \n",
       "0  1.0  296.0     15.3  396.90   4.98  \n",
       "1  2.0  242.0     17.8  396.90   9.14  \n",
       "2  2.0  242.0     17.8  392.83   4.03  \n",
       "3  3.0  222.0     18.7  394.63   2.94  \n",
       "4  3.0  222.0     18.7  396.90   5.33  "
      ]
     },
     "execution_count": 45,
     "metadata": {},
     "output_type": "execute_result"
    }
   ],
   "source": [
    "# Adding predicted medv to the score data\n",
    "predicted = score_predicted.join(score_data)\n",
    "predicted.head()"
   ]
  },
  {
   "cell_type": "markdown",
   "metadata": {},
   "source": [
    "# Confirming Hypothesis\n",
    "\n",
    "## Our first hypothesis is, when the number of rooms dwelling is high, the value of the house or the Median value is going to be high and vice versa. From the regression analysis, our model built showed a high influence or relationship between the predictor(number of rooms dwelling and the response median value. The hypothesis testing results begins with the correlation between number of room dwelling and the median value, which showed a positive relationship with 0.7. The coefficient of the predictor showed a positive slope indicating an increase in the number of rooms resulting to a high or increase in the median value. Testing the statistical significance of the predictor (number of rooms dwelling), the p-value(0.00) is less than the level of significance 0.05, making the predictor(number of rooms dwelling) statistically significant. Therefore, our first hypothesis still holds that, when the number of rooms is high or increases, the median value or the value Boston Housing increases or is high and the opposite is same.\n",
    "## The second hypothesis, the higher the concentration of nitric oxides in the atmosphere, the lower the median value and vice versa. Our testing results showed a negative but high correlation or relationship between nitric oxides as the predictor and the response median value of owner-occupied homes. The coefficient or the slope of the predictor, nitric oxides showed a negative slope. Thus as the concentration of nitric oxides increases, the median value of Boston Housing decreases which affirms our hypothesis. Now, we test for the statistical significance of nitric oxides concentration. The p-value(0.000) is less than the level of significance 0.05. That is nitric oxides concentration is statistically significant in determining predictions."
   ]
  },
  {
   "cell_type": "markdown",
   "metadata": {},
   "source": [
    "# Managerial Implication\n",
    "\n",
    "## The best model has R-Square 0.88 and which is higher than the other model built. The predicted variables all have p-values less than the level of significance 0.05 making  all variables statistically significant. This result affirms the overall model statistically significant. The most important X variables as it could be seen through the correlation analysis done are the number of rooms per dwelling, % lower status of the population, proportion of non-retail business acres per town, per capita crime rate by town and nitric oxides concentration (parts per 10 million). These five X variables are very important in predicting the Boston housing prices. These X variables are important because, customers for instance look out for towns or neighborhoods that have low crime rate (Safety and security is a must for home owners), no pollution in the atmosphere (every home owner wants to live healthy), houses with enough rooms (Big enough to accommodate the home owners' family), low population in the area (Less noisy area). All these X variables increases or decrease the willingness of a customer or client to pay high for a house. City planners must take keen interest in making sure these X variables are taken into consideration."
   ]
  }
 ],
 "metadata": {
  "kernelspec": {
   "display_name": "Python 3",
   "language": "python",
   "name": "python3"
  },
  "language_info": {
   "codemirror_mode": {
    "name": "ipython",
    "version": 3
   },
   "file_extension": ".py",
   "mimetype": "text/x-python",
   "name": "python",
   "nbconvert_exporter": "python",
   "pygments_lexer": "ipython3",
   "version": "3.8.5"
  }
 },
 "nbformat": 4,
 "nbformat_minor": 4
}
