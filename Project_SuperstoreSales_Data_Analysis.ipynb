{
 "cells": [
  {
   "cell_type": "markdown",
   "metadata": {},
   "source": [
    "# Data Analysis Project Work With Super Store Sales Data "
   ]
  },
  {
   "cell_type": "markdown",
   "metadata": {},
   "source": [
    "## Loading Data"
   ]
  },
  {
   "cell_type": "code",
   "execution_count": 2,
   "metadata": {},
   "outputs": [
    {
     "data": {
      "text/html": [
       "<div>\n",
       "<style scoped>\n",
       "    .dataframe tbody tr th:only-of-type {\n",
       "        vertical-align: middle;\n",
       "    }\n",
       "\n",
       "    .dataframe tbody tr th {\n",
       "        vertical-align: top;\n",
       "    }\n",
       "\n",
       "    .dataframe thead th {\n",
       "        text-align: right;\n",
       "    }\n",
       "</style>\n",
       "<table border=\"1\" class=\"dataframe\">\n",
       "  <thead>\n",
       "    <tr style=\"text-align: right;\">\n",
       "      <th></th>\n",
       "      <th>Order ID</th>\n",
       "      <th>Order Date</th>\n",
       "      <th>Order Priority</th>\n",
       "      <th>Order Quantity</th>\n",
       "      <th>Sales</th>\n",
       "      <th>Discount</th>\n",
       "      <th>Ship Mode</th>\n",
       "      <th>Profit</th>\n",
       "      <th>Unit Price</th>\n",
       "      <th>Shipping Cost</th>\n",
       "      <th>Customer Name</th>\n",
       "      <th>Customer State</th>\n",
       "      <th>Zip Code</th>\n",
       "      <th>Region</th>\n",
       "      <th>Customer Segment</th>\n",
       "      <th>Product Category</th>\n",
       "      <th>Product Sub-Category</th>\n",
       "      <th>Product Name</th>\n",
       "      <th>Product Container</th>\n",
       "      <th>Product Base Margin</th>\n",
       "      <th>Ship Date</th>\n",
       "    </tr>\n",
       "  </thead>\n",
       "  <tbody>\n",
       "    <tr>\n",
       "      <th>0</th>\n",
       "      <td>3</td>\n",
       "      <td>2010-08-26</td>\n",
       "      <td>Low</td>\n",
       "      <td>6</td>\n",
       "      <td>261.54</td>\n",
       "      <td>0.04</td>\n",
       "      <td>Regular Air</td>\n",
       "      <td>-213.25</td>\n",
       "      <td>38.94</td>\n",
       "      <td>35.00</td>\n",
       "      <td>Muhammed MacIntyre</td>\n",
       "      <td>New Jersey</td>\n",
       "      <td>7514</td>\n",
       "      <td>East</td>\n",
       "      <td>Small Business</td>\n",
       "      <td>Office Supplies</td>\n",
       "      <td>Storage &amp; Organization</td>\n",
       "      <td>Eldon Base for stackable storage shelf, platinum</td>\n",
       "      <td>Large Box</td>\n",
       "      <td>0.80</td>\n",
       "      <td>2010-09-02</td>\n",
       "    </tr>\n",
       "    <tr>\n",
       "      <th>1</th>\n",
       "      <td>6</td>\n",
       "      <td>2012-01-03</td>\n",
       "      <td>Not Specified</td>\n",
       "      <td>2</td>\n",
       "      <td>6.93</td>\n",
       "      <td>0.01</td>\n",
       "      <td>Regular Air</td>\n",
       "      <td>-4.64</td>\n",
       "      <td>2.08</td>\n",
       "      <td>2.56</td>\n",
       "      <td>Ruben Dartt</td>\n",
       "      <td>New York</td>\n",
       "      <td>10457</td>\n",
       "      <td>East</td>\n",
       "      <td>Corporate</td>\n",
       "      <td>Office Supplies</td>\n",
       "      <td>Scissors, Rulers and Trimmers</td>\n",
       "      <td>Kleencut® Forged Office Shears by Acme United ...</td>\n",
       "      <td>Small Pack</td>\n",
       "      <td>0.55</td>\n",
       "      <td>2012-01-04</td>\n",
       "    </tr>\n",
       "  </tbody>\n",
       "</table>\n",
       "</div>"
      ],
      "text/plain": [
       "   Order ID Order Date Order Priority  Order Quantity   Sales  Discount  \\\n",
       "0         3 2010-08-26            Low               6  261.54      0.04   \n",
       "1         6 2012-01-03  Not Specified               2    6.93      0.01   \n",
       "\n",
       "     Ship Mode  Profit  Unit Price  Shipping Cost       Customer Name  \\\n",
       "0  Regular Air -213.25       38.94          35.00  Muhammed MacIntyre   \n",
       "1  Regular Air   -4.64        2.08           2.56         Ruben Dartt   \n",
       "\n",
       "  Customer State  Zip Code Region Customer Segment Product Category  \\\n",
       "0     New Jersey      7514   East   Small Business  Office Supplies   \n",
       "1       New York     10457   East        Corporate  Office Supplies   \n",
       "\n",
       "            Product Sub-Category  \\\n",
       "0         Storage & Organization   \n",
       "1  Scissors, Rulers and Trimmers   \n",
       "\n",
       "                                        Product Name Product Container  \\\n",
       "0   Eldon Base for stackable storage shelf, platinum         Large Box   \n",
       "1  Kleencut® Forged Office Shears by Acme United ...        Small Pack   \n",
       "\n",
       "   Product Base Margin  Ship Date  \n",
       "0                 0.80 2010-09-02  \n",
       "1                 0.55 2012-01-04  "
      ]
     },
     "execution_count": 2,
     "metadata": {},
     "output_type": "execute_result"
    }
   ],
   "source": [
    "df = pd.read_excel(\"data/SuperstoreSales.xlsx\")\n",
    "df.head(2)"
   ]
  },
  {
   "cell_type": "code",
   "execution_count": 3,
   "metadata": {},
   "outputs": [
    {
     "name": "stdout",
     "output_type": "stream",
     "text": [
      "<class 'pandas.core.frame.DataFrame'>\n",
      "RangeIndex: 8399 entries, 0 to 8398\n",
      "Data columns (total 21 columns):\n",
      " #   Column                Non-Null Count  Dtype         \n",
      "---  ------                --------------  -----         \n",
      " 0   Order ID              8399 non-null   int64         \n",
      " 1   Order Date            8399 non-null   datetime64[ns]\n",
      " 2   Order Priority        8399 non-null   object        \n",
      " 3   Order Quantity        8399 non-null   int64         \n",
      " 4   Sales                 8399 non-null   float64       \n",
      " 5   Discount              8399 non-null   float64       \n",
      " 6   Ship Mode             8399 non-null   object        \n",
      " 7   Profit                8399 non-null   float64       \n",
      " 8   Unit Price            8399 non-null   float64       \n",
      " 9   Shipping Cost         8399 non-null   float64       \n",
      " 10  Customer Name         8399 non-null   object        \n",
      " 11  Customer State        8399 non-null   object        \n",
      " 12  Zip Code              8399 non-null   int64         \n",
      " 13  Region                8399 non-null   object        \n",
      " 14  Customer Segment      8399 non-null   object        \n",
      " 15  Product Category      8399 non-null   object        \n",
      " 16  Product Sub-Category  8399 non-null   object        \n",
      " 17  Product Name          8399 non-null   object        \n",
      " 18  Product Container     8399 non-null   object        \n",
      " 19  Product Base Margin   8399 non-null   float64       \n",
      " 20  Ship Date             8399 non-null   datetime64[ns]\n",
      "dtypes: datetime64[ns](2), float64(6), int64(3), object(10)\n",
      "memory usage: 1.0+ MB\n"
     ]
    }
   ],
   "source": [
    "# check column names, number of observations, data type\n",
    "df.info()"
   ]
  },
  {
   "cell_type": "markdown",
   "metadata": {},
   "source": [
    "## Rename column names\n",
    "\n",
    "- Remove extra spaces\n",
    "- Lowercase names"
   ]
  },
  {
   "cell_type": "code",
   "execution_count": 4,
   "metadata": {},
   "outputs": [
    {
     "data": {
      "text/html": [
       "<div>\n",
       "<style scoped>\n",
       "    .dataframe tbody tr th:only-of-type {\n",
       "        vertical-align: middle;\n",
       "    }\n",
       "\n",
       "    .dataframe tbody tr th {\n",
       "        vertical-align: top;\n",
       "    }\n",
       "\n",
       "    .dataframe thead th {\n",
       "        text-align: right;\n",
       "    }\n",
       "</style>\n",
       "<table border=\"1\" class=\"dataframe\">\n",
       "  <thead>\n",
       "    <tr style=\"text-align: right;\">\n",
       "      <th></th>\n",
       "      <th>orderid</th>\n",
       "      <th>orderdate</th>\n",
       "      <th>orderpriority</th>\n",
       "      <th>orderquantity</th>\n",
       "      <th>sales</th>\n",
       "      <th>discount</th>\n",
       "      <th>shipmode</th>\n",
       "      <th>profit</th>\n",
       "      <th>unitprice</th>\n",
       "      <th>shippingcost</th>\n",
       "      <th>customername</th>\n",
       "      <th>customerstate</th>\n",
       "      <th>zipcode</th>\n",
       "      <th>region</th>\n",
       "      <th>customersegment</th>\n",
       "      <th>productcategory</th>\n",
       "      <th>productsub-category</th>\n",
       "      <th>productname</th>\n",
       "      <th>productcontainer</th>\n",
       "      <th>productbasemargin</th>\n",
       "      <th>shipdate</th>\n",
       "    </tr>\n",
       "  </thead>\n",
       "  <tbody>\n",
       "    <tr>\n",
       "      <th>0</th>\n",
       "      <td>3</td>\n",
       "      <td>2010-08-26</td>\n",
       "      <td>Low</td>\n",
       "      <td>6</td>\n",
       "      <td>261.54</td>\n",
       "      <td>0.04</td>\n",
       "      <td>Regular Air</td>\n",
       "      <td>-213.25</td>\n",
       "      <td>38.94</td>\n",
       "      <td>35.00</td>\n",
       "      <td>Muhammed MacIntyre</td>\n",
       "      <td>New Jersey</td>\n",
       "      <td>7514</td>\n",
       "      <td>East</td>\n",
       "      <td>Small Business</td>\n",
       "      <td>Office Supplies</td>\n",
       "      <td>Storage &amp; Organization</td>\n",
       "      <td>Eldon Base for stackable storage shelf, platinum</td>\n",
       "      <td>Large Box</td>\n",
       "      <td>0.80</td>\n",
       "      <td>2010-09-02</td>\n",
       "    </tr>\n",
       "    <tr>\n",
       "      <th>1</th>\n",
       "      <td>6</td>\n",
       "      <td>2012-01-03</td>\n",
       "      <td>Not Specified</td>\n",
       "      <td>2</td>\n",
       "      <td>6.93</td>\n",
       "      <td>0.01</td>\n",
       "      <td>Regular Air</td>\n",
       "      <td>-4.64</td>\n",
       "      <td>2.08</td>\n",
       "      <td>2.56</td>\n",
       "      <td>Ruben Dartt</td>\n",
       "      <td>New York</td>\n",
       "      <td>10457</td>\n",
       "      <td>East</td>\n",
       "      <td>Corporate</td>\n",
       "      <td>Office Supplies</td>\n",
       "      <td>Scissors, Rulers and Trimmers</td>\n",
       "      <td>Kleencut® Forged Office Shears by Acme United ...</td>\n",
       "      <td>Small Pack</td>\n",
       "      <td>0.55</td>\n",
       "      <td>2012-01-04</td>\n",
       "    </tr>\n",
       "  </tbody>\n",
       "</table>\n",
       "</div>"
      ],
      "text/plain": [
       "   orderid  orderdate  orderpriority  orderquantity   sales  discount  \\\n",
       "0        3 2010-08-26            Low              6  261.54      0.04   \n",
       "1        6 2012-01-03  Not Specified              2    6.93      0.01   \n",
       "\n",
       "      shipmode  profit  unitprice  shippingcost        customername  \\\n",
       "0  Regular Air -213.25      38.94         35.00  Muhammed MacIntyre   \n",
       "1  Regular Air   -4.64       2.08          2.56         Ruben Dartt   \n",
       "\n",
       "  customerstate  zipcode region customersegment  productcategory  \\\n",
       "0    New Jersey     7514   East  Small Business  Office Supplies   \n",
       "1      New York    10457   East       Corporate  Office Supplies   \n",
       "\n",
       "             productsub-category  \\\n",
       "0         Storage & Organization   \n",
       "1  Scissors, Rulers and Trimmers   \n",
       "\n",
       "                                         productname productcontainer  \\\n",
       "0   Eldon Base for stackable storage shelf, platinum        Large Box   \n",
       "1  Kleencut® Forged Office Shears by Acme United ...       Small Pack   \n",
       "\n",
       "   productbasemargin   shipdate  \n",
       "0               0.80 2010-09-02  \n",
       "1               0.55 2012-01-04  "
      ]
     },
     "execution_count": 4,
     "metadata": {},
     "output_type": "execute_result"
    }
   ],
   "source": [
    "df.columns = df.columns.str.replace(' ', '')\n",
    "df.columns = df.columns.str.lower()\n",
    "df.head(2)"
   ]
  },
  {
   "cell_type": "code",
   "execution_count": 5,
   "metadata": {},
   "outputs": [
    {
     "data": {
      "text/plain": [
       "Index(['orderid', 'orderdate', 'orderpriority', 'orderquantity', 'sales',\n",
       "       'discount', 'shipmode', 'profit', 'unitprice', 'shippingcost',\n",
       "       'customername', 'customerstate', 'zipcode', 'region', 'customersegment',\n",
       "       'productcategory', 'productsub-category', 'productname',\n",
       "       'productcontainer', 'productbasemargin', 'shipdate'],\n",
       "      dtype='object')"
      ]
     },
     "execution_count": 5,
     "metadata": {},
     "output_type": "execute_result"
    }
   ],
   "source": [
    "df.columns"
   ]
  },
  {
   "cell_type": "code",
   "execution_count": 6,
   "metadata": {},
   "outputs": [
    {
     "data": {
      "text/html": [
       "<div>\n",
       "<style scoped>\n",
       "    .dataframe tbody tr th:only-of-type {\n",
       "        vertical-align: middle;\n",
       "    }\n",
       "\n",
       "    .dataframe tbody tr th {\n",
       "        vertical-align: top;\n",
       "    }\n",
       "\n",
       "    .dataframe thead th {\n",
       "        text-align: right;\n",
       "    }\n",
       "</style>\n",
       "<table border=\"1\" class=\"dataframe\">\n",
       "  <thead>\n",
       "    <tr style=\"text-align: right;\">\n",
       "      <th></th>\n",
       "      <th>orderid</th>\n",
       "      <th>orderdate</th>\n",
       "      <th>orderpriority</th>\n",
       "      <th>orderquantity</th>\n",
       "      <th>sales</th>\n",
       "      <th>discount</th>\n",
       "      <th>shipmode</th>\n",
       "      <th>profit</th>\n",
       "      <th>unitprice</th>\n",
       "      <th>shippingcost</th>\n",
       "      <th>customername</th>\n",
       "      <th>customerstate</th>\n",
       "      <th>zipcode</th>\n",
       "      <th>region</th>\n",
       "      <th>customersegment</th>\n",
       "      <th>productcategory</th>\n",
       "      <th>productsub-category</th>\n",
       "      <th>productname</th>\n",
       "      <th>productcontainer</th>\n",
       "      <th>productbasemargin</th>\n",
       "      <th>shipdate</th>\n",
       "    </tr>\n",
       "  </thead>\n",
       "  <tbody>\n",
       "    <tr>\n",
       "      <th>0</th>\n",
       "      <td>3</td>\n",
       "      <td>2010-08-26</td>\n",
       "      <td>Low</td>\n",
       "      <td>6</td>\n",
       "      <td>261.54</td>\n",
       "      <td>0.04</td>\n",
       "      <td>Regular Air</td>\n",
       "      <td>-213.25</td>\n",
       "      <td>38.94</td>\n",
       "      <td>35.00</td>\n",
       "      <td>Muhammed MacIntyre</td>\n",
       "      <td>New Jersey</td>\n",
       "      <td>7514</td>\n",
       "      <td>East</td>\n",
       "      <td>Small Business</td>\n",
       "      <td>Office Supplies</td>\n",
       "      <td>Storage &amp; Organization</td>\n",
       "      <td>Eldon Base for stackable storage shelf, platinum</td>\n",
       "      <td>Large Box</td>\n",
       "      <td>0.80</td>\n",
       "      <td>2010-09-02</td>\n",
       "    </tr>\n",
       "    <tr>\n",
       "      <th>1</th>\n",
       "      <td>6</td>\n",
       "      <td>2012-01-03</td>\n",
       "      <td>Not Specified</td>\n",
       "      <td>2</td>\n",
       "      <td>6.93</td>\n",
       "      <td>0.01</td>\n",
       "      <td>Regular Air</td>\n",
       "      <td>-4.64</td>\n",
       "      <td>2.08</td>\n",
       "      <td>2.56</td>\n",
       "      <td>Ruben Dartt</td>\n",
       "      <td>New York</td>\n",
       "      <td>10457</td>\n",
       "      <td>East</td>\n",
       "      <td>Corporate</td>\n",
       "      <td>Office Supplies</td>\n",
       "      <td>Scissors, Rulers and Trimmers</td>\n",
       "      <td>Kleencut® Forged Office Shears by Acme United ...</td>\n",
       "      <td>Small Pack</td>\n",
       "      <td>0.55</td>\n",
       "      <td>2012-01-04</td>\n",
       "    </tr>\n",
       "  </tbody>\n",
       "</table>\n",
       "</div>"
      ],
      "text/plain": [
       "   orderid  orderdate  orderpriority  orderquantity   sales  discount  \\\n",
       "0        3 2010-08-26            Low              6  261.54      0.04   \n",
       "1        6 2012-01-03  Not Specified              2    6.93      0.01   \n",
       "\n",
       "      shipmode  profit  unitprice  shippingcost        customername  \\\n",
       "0  Regular Air -213.25      38.94         35.00  Muhammed MacIntyre   \n",
       "1  Regular Air   -4.64       2.08          2.56         Ruben Dartt   \n",
       "\n",
       "  customerstate  zipcode region customersegment  productcategory  \\\n",
       "0    New Jersey     7514   East  Small Business  Office Supplies   \n",
       "1      New York    10457   East       Corporate  Office Supplies   \n",
       "\n",
       "             productsub-category  \\\n",
       "0         Storage & Organization   \n",
       "1  Scissors, Rulers and Trimmers   \n",
       "\n",
       "                                         productname productcontainer  \\\n",
       "0   Eldon Base for stackable storage shelf, platinum        Large Box   \n",
       "1  Kleencut® Forged Office Shears by Acme United ...       Small Pack   \n",
       "\n",
       "   productbasemargin   shipdate  \n",
       "0               0.80 2010-09-02  \n",
       "1               0.55 2012-01-04  "
      ]
     },
     "execution_count": 6,
     "metadata": {},
     "output_type": "execute_result"
    }
   ],
   "source": [
    "# this also works\n",
    "df = df.rename(columns={'Order ID' : 'orderid', 'Order Date' : 'orderdate', 'Order Priority' : 'orderpriority', 'Order Quantity' : 'orderquantity', 'Sales' : 'sales', 'Discount' : 'discount', 'Ship Mode' : 'shipmode', 'Profit' : 'profit', 'Unit Price' : 'unitprice', 'Shipping Cost' : 'shippingcost', 'Customer Name' : 'customername', 'Customer State' : 'customerstate', 'Zip Code' : 'zipcode', 'Region' : 'region', 'Customer Segment' : 'customersegment', 'Product Category' : 'productcategory', 'Product Sub-Category' : 'productsubcategory', 'Product Name' : 'productname', 'Product Container' : 'productcontainer', 'Product Base Margin' : 'productbasemargin', 'Ship Date' : 'shipdate'})\n",
    "df.head(2)"
   ]
  },
  {
   "cell_type": "markdown",
   "metadata": {},
   "source": [
    "## Inspecting data for missing values."
   ]
  },
  {
   "cell_type": "code",
   "execution_count": 7,
   "metadata": {},
   "outputs": [
    {
     "data": {
      "text/plain": [
       "orderid                0\n",
       "orderdate              0\n",
       "orderpriority          0\n",
       "orderquantity          0\n",
       "sales                  0\n",
       "discount               0\n",
       "shipmode               0\n",
       "profit                 0\n",
       "unitprice              0\n",
       "shippingcost           0\n",
       "customername           0\n",
       "customerstate          0\n",
       "zipcode                0\n",
       "region                 0\n",
       "customersegment        0\n",
       "productcategory        0\n",
       "productsub-category    0\n",
       "productname            0\n",
       "productcontainer       0\n",
       "productbasemargin      0\n",
       "shipdate               0\n",
       "dtype: int64"
      ]
     },
     "execution_count": 7,
     "metadata": {},
     "output_type": "execute_result"
    }
   ],
   "source": [
    "# check missing values\n",
    "df.isnull().sum()"
   ]
  },
  {
   "cell_type": "code",
   "execution_count": 8,
   "metadata": {},
   "outputs": [
    {
     "data": {
      "text/html": [
       "<div>\n",
       "<style scoped>\n",
       "    .dataframe tbody tr th:only-of-type {\n",
       "        vertical-align: middle;\n",
       "    }\n",
       "\n",
       "    .dataframe tbody tr th {\n",
       "        vertical-align: top;\n",
       "    }\n",
       "\n",
       "    .dataframe thead th {\n",
       "        text-align: right;\n",
       "    }\n",
       "</style>\n",
       "<table border=\"1\" class=\"dataframe\">\n",
       "  <thead>\n",
       "    <tr style=\"text-align: right;\">\n",
       "      <th></th>\n",
       "      <th>orderid</th>\n",
       "      <th>orderquantity</th>\n",
       "      <th>sales</th>\n",
       "      <th>discount</th>\n",
       "      <th>profit</th>\n",
       "      <th>unitprice</th>\n",
       "      <th>shippingcost</th>\n",
       "      <th>zipcode</th>\n",
       "      <th>productbasemargin</th>\n",
       "    </tr>\n",
       "  </thead>\n",
       "  <tbody>\n",
       "    <tr>\n",
       "      <th>count</th>\n",
       "      <td>8399.000000</td>\n",
       "      <td>8399.000000</td>\n",
       "      <td>8399.000000</td>\n",
       "      <td>8399.000000</td>\n",
       "      <td>8399.000000</td>\n",
       "      <td>8399.000000</td>\n",
       "      <td>8399.000000</td>\n",
       "      <td>8399.000000</td>\n",
       "      <td>8399.000000</td>\n",
       "    </tr>\n",
       "    <tr>\n",
       "      <th>mean</th>\n",
       "      <td>29965.179783</td>\n",
       "      <td>25.575426</td>\n",
       "      <td>1774.860490</td>\n",
       "      <td>0.049664</td>\n",
       "      <td>181.401194</td>\n",
       "      <td>89.310426</td>\n",
       "      <td>12.856427</td>\n",
       "      <td>48256.097631</td>\n",
       "      <td>0.512886</td>\n",
       "    </tr>\n",
       "    <tr>\n",
       "      <th>std</th>\n",
       "      <td>17260.883447</td>\n",
       "      <td>14.482837</td>\n",
       "      <td>3585.107345</td>\n",
       "      <td>0.031826</td>\n",
       "      <td>1224.670845</td>\n",
       "      <td>290.361311</td>\n",
       "      <td>17.318257</td>\n",
       "      <td>30689.098271</td>\n",
       "      <td>0.135991</td>\n",
       "    </tr>\n",
       "    <tr>\n",
       "      <th>min</th>\n",
       "      <td>3.000000</td>\n",
       "      <td>1.000000</td>\n",
       "      <td>2.240000</td>\n",
       "      <td>0.000000</td>\n",
       "      <td>-16253.680000</td>\n",
       "      <td>0.990000</td>\n",
       "      <td>0.490000</td>\n",
       "      <td>501.000000</td>\n",
       "      <td>0.350000</td>\n",
       "    </tr>\n",
       "    <tr>\n",
       "      <th>25%</th>\n",
       "      <td>15011.500000</td>\n",
       "      <td>13.000000</td>\n",
       "      <td>143.035000</td>\n",
       "      <td>0.020000</td>\n",
       "      <td>-82.764250</td>\n",
       "      <td>6.480000</td>\n",
       "      <td>3.300000</td>\n",
       "      <td>21794.000000</td>\n",
       "      <td>0.380000</td>\n",
       "    </tr>\n",
       "    <tr>\n",
       "      <th>50%</th>\n",
       "      <td>29857.000000</td>\n",
       "      <td>26.000000</td>\n",
       "      <td>449.420000</td>\n",
       "      <td>0.050000</td>\n",
       "      <td>-1.490000</td>\n",
       "      <td>20.990000</td>\n",
       "      <td>6.070000</td>\n",
       "      <td>43317.000000</td>\n",
       "      <td>0.520000</td>\n",
       "    </tr>\n",
       "    <tr>\n",
       "      <th>75%</th>\n",
       "      <td>44596.000000</td>\n",
       "      <td>38.000000</td>\n",
       "      <td>1706.285000</td>\n",
       "      <td>0.080000</td>\n",
       "      <td>166.712250</td>\n",
       "      <td>85.990000</td>\n",
       "      <td>13.990000</td>\n",
       "      <td>81221.000000</td>\n",
       "      <td>0.590000</td>\n",
       "    </tr>\n",
       "    <tr>\n",
       "      <th>max</th>\n",
       "      <td>59973.000000</td>\n",
       "      <td>50.000000</td>\n",
       "      <td>89061.050000</td>\n",
       "      <td>0.250000</td>\n",
       "      <td>27220.690000</td>\n",
       "      <td>6783.020000</td>\n",
       "      <td>164.730000</td>\n",
       "      <td>99403.000000</td>\n",
       "      <td>0.850000</td>\n",
       "    </tr>\n",
       "  </tbody>\n",
       "</table>\n",
       "</div>"
      ],
      "text/plain": [
       "            orderid  orderquantity         sales     discount        profit  \\\n",
       "count   8399.000000    8399.000000   8399.000000  8399.000000   8399.000000   \n",
       "mean   29965.179783      25.575426   1774.860490     0.049664    181.401194   \n",
       "std    17260.883447      14.482837   3585.107345     0.031826   1224.670845   \n",
       "min        3.000000       1.000000      2.240000     0.000000 -16253.680000   \n",
       "25%    15011.500000      13.000000    143.035000     0.020000    -82.764250   \n",
       "50%    29857.000000      26.000000    449.420000     0.050000     -1.490000   \n",
       "75%    44596.000000      38.000000   1706.285000     0.080000    166.712250   \n",
       "max    59973.000000      50.000000  89061.050000     0.250000  27220.690000   \n",
       "\n",
       "         unitprice  shippingcost       zipcode  productbasemargin  \n",
       "count  8399.000000   8399.000000   8399.000000        8399.000000  \n",
       "mean     89.310426     12.856427  48256.097631           0.512886  \n",
       "std     290.361311     17.318257  30689.098271           0.135991  \n",
       "min       0.990000      0.490000    501.000000           0.350000  \n",
       "25%       6.480000      3.300000  21794.000000           0.380000  \n",
       "50%      20.990000      6.070000  43317.000000           0.520000  \n",
       "75%      85.990000     13.990000  81221.000000           0.590000  \n",
       "max    6783.020000    164.730000  99403.000000           0.850000  "
      ]
     },
     "execution_count": 8,
     "metadata": {},
     "output_type": "execute_result"
    }
   ],
   "source": [
    "# summary statistics\n",
    "df.describe()"
   ]
  },
  {
   "cell_type": "markdown",
   "metadata": {},
   "source": [
    "## Indexing "
   ]
  },
  {
   "cell_type": "code",
   "execution_count": 9,
   "metadata": {},
   "outputs": [
    {
     "data": {
      "text/plain": [
       "RangeIndex(start=0, stop=8399, step=1)"
      ]
     },
     "execution_count": 9,
     "metadata": {},
     "output_type": "execute_result"
    }
   ],
   "source": [
    "# index is like primary key in database (unique number assigned to each observation)\n",
    "# check index column\n",
    "df.index"
   ]
  },
  {
   "cell_type": "code",
   "execution_count": 10,
   "metadata": {},
   "outputs": [
    {
     "data": {
      "text/html": [
       "<div>\n",
       "<style scoped>\n",
       "    .dataframe tbody tr th:only-of-type {\n",
       "        vertical-align: middle;\n",
       "    }\n",
       "\n",
       "    .dataframe tbody tr th {\n",
       "        vertical-align: top;\n",
       "    }\n",
       "\n",
       "    .dataframe thead th {\n",
       "        text-align: right;\n",
       "    }\n",
       "</style>\n",
       "<table border=\"1\" class=\"dataframe\">\n",
       "  <thead>\n",
       "    <tr style=\"text-align: right;\">\n",
       "      <th></th>\n",
       "      <th>orderid</th>\n",
       "      <th>orderpriority</th>\n",
       "      <th>orderquantity</th>\n",
       "      <th>sales</th>\n",
       "      <th>discount</th>\n",
       "      <th>shipmode</th>\n",
       "      <th>profit</th>\n",
       "      <th>unitprice</th>\n",
       "      <th>shippingcost</th>\n",
       "      <th>customername</th>\n",
       "      <th>customerstate</th>\n",
       "      <th>zipcode</th>\n",
       "      <th>region</th>\n",
       "      <th>customersegment</th>\n",
       "      <th>productcategory</th>\n",
       "      <th>productsub-category</th>\n",
       "      <th>productname</th>\n",
       "      <th>productcontainer</th>\n",
       "      <th>productbasemargin</th>\n",
       "      <th>shipdate</th>\n",
       "    </tr>\n",
       "    <tr>\n",
       "      <th>orderdate</th>\n",
       "      <th></th>\n",
       "      <th></th>\n",
       "      <th></th>\n",
       "      <th></th>\n",
       "      <th></th>\n",
       "      <th></th>\n",
       "      <th></th>\n",
       "      <th></th>\n",
       "      <th></th>\n",
       "      <th></th>\n",
       "      <th></th>\n",
       "      <th></th>\n",
       "      <th></th>\n",
       "      <th></th>\n",
       "      <th></th>\n",
       "      <th></th>\n",
       "      <th></th>\n",
       "      <th></th>\n",
       "      <th></th>\n",
       "      <th></th>\n",
       "    </tr>\n",
       "  </thead>\n",
       "  <tbody>\n",
       "    <tr>\n",
       "      <th>2010-08-26</th>\n",
       "      <td>3</td>\n",
       "      <td>Low</td>\n",
       "      <td>6</td>\n",
       "      <td>261.5400</td>\n",
       "      <td>0.04</td>\n",
       "      <td>Regular Air</td>\n",
       "      <td>-213.250</td>\n",
       "      <td>38.94</td>\n",
       "      <td>35.00</td>\n",
       "      <td>Muhammed MacIntyre</td>\n",
       "      <td>New Jersey</td>\n",
       "      <td>7514</td>\n",
       "      <td>East</td>\n",
       "      <td>Small Business</td>\n",
       "      <td>Office Supplies</td>\n",
       "      <td>Storage &amp; Organization</td>\n",
       "      <td>Eldon Base for stackable storage shelf, platinum</td>\n",
       "      <td>Large Box</td>\n",
       "      <td>0.80</td>\n",
       "      <td>2010-09-02</td>\n",
       "    </tr>\n",
       "    <tr>\n",
       "      <th>2012-01-03</th>\n",
       "      <td>6</td>\n",
       "      <td>Not Specified</td>\n",
       "      <td>2</td>\n",
       "      <td>6.9300</td>\n",
       "      <td>0.01</td>\n",
       "      <td>Regular Air</td>\n",
       "      <td>-4.640</td>\n",
       "      <td>2.08</td>\n",
       "      <td>2.56</td>\n",
       "      <td>Ruben Dartt</td>\n",
       "      <td>New York</td>\n",
       "      <td>10457</td>\n",
       "      <td>East</td>\n",
       "      <td>Corporate</td>\n",
       "      <td>Office Supplies</td>\n",
       "      <td>Scissors, Rulers and Trimmers</td>\n",
       "      <td>Kleencut® Forged Office Shears by Acme United ...</td>\n",
       "      <td>Small Pack</td>\n",
       "      <td>0.55</td>\n",
       "      <td>2012-01-04</td>\n",
       "    </tr>\n",
       "    <tr>\n",
       "      <th>2011-05-28</th>\n",
       "      <td>32</td>\n",
       "      <td>High</td>\n",
       "      <td>15</td>\n",
       "      <td>140.5600</td>\n",
       "      <td>0.04</td>\n",
       "      <td>Regular Air</td>\n",
       "      <td>-128.380</td>\n",
       "      <td>8.46</td>\n",
       "      <td>8.99</td>\n",
       "      <td>Liz Pelletier</td>\n",
       "      <td>Ohio</td>\n",
       "      <td>44197</td>\n",
       "      <td>Central</td>\n",
       "      <td>Corporate</td>\n",
       "      <td>Technology</td>\n",
       "      <td>Computer Peripherals</td>\n",
       "      <td>Imation 3.5 IBM Diskettes, 10/Box</td>\n",
       "      <td>Small Pack</td>\n",
       "      <td>0.79</td>\n",
       "      <td>2011-05-29</td>\n",
       "    </tr>\n",
       "    <tr>\n",
       "      <th>2011-05-28</th>\n",
       "      <td>32</td>\n",
       "      <td>High</td>\n",
       "      <td>24</td>\n",
       "      <td>1761.4000</td>\n",
       "      <td>0.09</td>\n",
       "      <td>Delivery Truck</td>\n",
       "      <td>-1748.560</td>\n",
       "      <td>70.89</td>\n",
       "      <td>89.30</td>\n",
       "      <td>Liz Pelletier</td>\n",
       "      <td>Ohio</td>\n",
       "      <td>44197</td>\n",
       "      <td>Central</td>\n",
       "      <td>Corporate</td>\n",
       "      <td>Furniture</td>\n",
       "      <td>Tables</td>\n",
       "      <td>KI Conference Tables</td>\n",
       "      <td>Jumbo Box</td>\n",
       "      <td>0.72</td>\n",
       "      <td>2011-05-29</td>\n",
       "    </tr>\n",
       "    <tr>\n",
       "      <th>2011-05-28</th>\n",
       "      <td>32</td>\n",
       "      <td>High</td>\n",
       "      <td>23</td>\n",
       "      <td>160.2335</td>\n",
       "      <td>0.04</td>\n",
       "      <td>Regular Air</td>\n",
       "      <td>-85.129</td>\n",
       "      <td>7.99</td>\n",
       "      <td>5.03</td>\n",
       "      <td>Liz Pelletier</td>\n",
       "      <td>Ohio</td>\n",
       "      <td>44197</td>\n",
       "      <td>Central</td>\n",
       "      <td>Corporate</td>\n",
       "      <td>Technology</td>\n",
       "      <td>Telephones and Communication</td>\n",
       "      <td>Bell Sonecor JB700 Caller ID</td>\n",
       "      <td>Medium Box</td>\n",
       "      <td>0.60</td>\n",
       "      <td>2011-05-30</td>\n",
       "    </tr>\n",
       "  </tbody>\n",
       "</table>\n",
       "</div>"
      ],
      "text/plain": [
       "            orderid  orderpriority  orderquantity      sales  discount  \\\n",
       "orderdate                                                                \n",
       "2010-08-26        3            Low              6   261.5400      0.04   \n",
       "2012-01-03        6  Not Specified              2     6.9300      0.01   \n",
       "2011-05-28       32           High             15   140.5600      0.04   \n",
       "2011-05-28       32           High             24  1761.4000      0.09   \n",
       "2011-05-28       32           High             23   160.2335      0.04   \n",
       "\n",
       "                  shipmode    profit  unitprice  shippingcost  \\\n",
       "orderdate                                                       \n",
       "2010-08-26     Regular Air  -213.250      38.94         35.00   \n",
       "2012-01-03     Regular Air    -4.640       2.08          2.56   \n",
       "2011-05-28     Regular Air  -128.380       8.46          8.99   \n",
       "2011-05-28  Delivery Truck -1748.560      70.89         89.30   \n",
       "2011-05-28     Regular Air   -85.129       7.99          5.03   \n",
       "\n",
       "                  customername customerstate  zipcode   region  \\\n",
       "orderdate                                                        \n",
       "2010-08-26  Muhammed MacIntyre    New Jersey     7514     East   \n",
       "2012-01-03         Ruben Dartt      New York    10457     East   \n",
       "2011-05-28       Liz Pelletier          Ohio    44197  Central   \n",
       "2011-05-28       Liz Pelletier          Ohio    44197  Central   \n",
       "2011-05-28       Liz Pelletier          Ohio    44197  Central   \n",
       "\n",
       "           customersegment  productcategory            productsub-category  \\\n",
       "orderdate                                                                    \n",
       "2010-08-26  Small Business  Office Supplies         Storage & Organization   \n",
       "2012-01-03       Corporate  Office Supplies  Scissors, Rulers and Trimmers   \n",
       "2011-05-28       Corporate       Technology           Computer Peripherals   \n",
       "2011-05-28       Corporate        Furniture                         Tables   \n",
       "2011-05-28       Corporate       Technology   Telephones and Communication   \n",
       "\n",
       "                                                  productname  \\\n",
       "orderdate                                                       \n",
       "2010-08-26   Eldon Base for stackable storage shelf, platinum   \n",
       "2012-01-03  Kleencut® Forged Office Shears by Acme United ...   \n",
       "2011-05-28                  Imation 3.5 IBM Diskettes, 10/Box   \n",
       "2011-05-28                               KI Conference Tables   \n",
       "2011-05-28                       Bell Sonecor JB700 Caller ID   \n",
       "\n",
       "           productcontainer  productbasemargin   shipdate  \n",
       "orderdate                                                  \n",
       "2010-08-26        Large Box               0.80 2010-09-02  \n",
       "2012-01-03       Small Pack               0.55 2012-01-04  \n",
       "2011-05-28       Small Pack               0.79 2011-05-29  \n",
       "2011-05-28        Jumbo Box               0.72 2011-05-29  \n",
       "2011-05-28       Medium Box               0.60 2011-05-30  "
      ]
     },
     "execution_count": 10,
     "metadata": {},
     "output_type": "execute_result"
    }
   ],
   "source": [
    "# then set datetime [date] column as index (primary key). This is for time series analysis below.\n",
    "df = df.set_index('orderdate')\n",
    "df.head()"
   ]
  },
  {
   "cell_type": "markdown",
   "metadata": {},
   "source": [
    "## Some Summary Questions to find out"
   ]
  },
  {
   "cell_type": "markdown",
   "metadata": {},
   "source": [
    "### What is the sales volume? "
   ]
  },
  {
   "cell_type": "code",
   "execution_count": 11,
   "metadata": {},
   "outputs": [
    {
     "data": {
      "text/plain": [
       "14907053.254"
      ]
     },
     "execution_count": 11,
     "metadata": {},
     "output_type": "execute_result"
    }
   ],
   "source": [
    "df.sales.sum()"
   ]
  },
  {
   "cell_type": "code",
   "execution_count": 12,
   "metadata": {},
   "outputs": [
    {
     "data": {
      "text/plain": [
       "214808"
      ]
     },
     "execution_count": 12,
     "metadata": {},
     "output_type": "execute_result"
    }
   ],
   "source": [
    "df.orderquantity.sum()"
   ]
  },
  {
   "cell_type": "markdown",
   "metadata": {},
   "source": [
    "### What is the total profit?"
   ]
  },
  {
   "cell_type": "code",
   "execution_count": 13,
   "metadata": {},
   "outputs": [
    {
     "data": {
      "text/plain": [
       "1523588.6295"
      ]
     },
     "execution_count": 13,
     "metadata": {},
     "output_type": "execute_result"
    }
   ],
   "source": [
    "df.profit.sum()"
   ]
  },
  {
   "cell_type": "markdown",
   "metadata": {},
   "source": [
    "## Time series (seasonality)"
   ]
  },
  {
   "cell_type": "markdown",
   "metadata": {},
   "source": [
    "### Do you observe any seasonality in the sales volume? "
   ]
  },
  {
   "cell_type": "code",
   "execution_count": 14,
   "metadata": {},
   "outputs": [
    {
     "data": {
      "text/plain": [
       "<matplotlib.axes._subplots.AxesSubplot at 0xf8a70d0>"
      ]
     },
     "execution_count": 14,
     "metadata": {},
     "output_type": "execute_result"
    },
    {
     "data": {
      "image/png": "[encoded data removed]",
      "text/plain": [
       "<Figure size 432x288 with 1 Axes>"
      ]
     },
     "metadata": {
      "needs_background": "light"
     },
     "output_type": "display_data"
    }
   ],
   "source": [
    "df.sales.resample('Q').sum().plot()"
   ]
  },
  {
   "cell_type": "code",
   "execution_count": 15,
   "metadata": {},
   "outputs": [
    {
     "data": {
      "text/plain": [
       "<matplotlib.axes._subplots.AxesSubplot at 0xfae39b0>"
      ]
     },
     "execution_count": 15,
     "metadata": {},
     "output_type": "execute_result"
    },
    {
     "data": {
      "image/png": "[encoded data removed]",
      "text/plain": [
       "<Figure size 432x288 with 1 Axes>"
      ]
     },
     "metadata": {
      "needs_background": "light"
     },
     "output_type": "display_data"
    }
   ],
   "source": [
    "df.sales.resample('Q').size().plot(kind='bar')"
   ]
  },
  {
   "cell_type": "code",
   "execution_count": 16,
   "metadata": {},
   "outputs": [
    {
     "data": {
      "text/plain": [
       "<matplotlib.axes._subplots.AxesSubplot at 0xfb419b0>"
      ]
     },
     "execution_count": 16,
     "metadata": {},
     "output_type": "execute_result"
    },
    {
     "data": {
      "image/png": "[encoded data removed]",
      "text/plain": [
       "<Figure size 432x288 with 1 Axes>"
      ]
     },
     "metadata": {
      "needs_background": "light"
     },
     "output_type": "display_data"
    }
   ],
   "source": [
    "df.sales.resample('Q').mean().plot(kind='area')"
   ]
  },
  {
   "cell_type": "code",
   "execution_count": null,
   "metadata": {},
   "outputs": [],
   "source": []
  },
  {
   "cell_type": "code",
   "execution_count": null,
   "metadata": {},
   "outputs": [],
   "source": []
  },
  {
   "cell_type": "markdown",
   "metadata": {},
   "source": [
    "### Do you observe any seasonality in the shipping cost? "
   ]
  },
  {
   "cell_type": "code",
   "execution_count": 17,
   "metadata": {},
   "outputs": [
    {
     "data": {
      "text/plain": [
       "<matplotlib.axes._subplots.AxesSubplot at 0xfcf2cd0>"
      ]
     },
     "execution_count": 17,
     "metadata": {},
     "output_type": "execute_result"
    },
    {
     "data": {
      "image/png": "[encoded data removed]",
      "text/plain": [
       "<Figure size 432x288 with 1 Axes>"
      ]
     },
     "metadata": {
      "needs_background": "light"
     },
     "output_type": "display_data"
    }
   ],
   "source": [
    "df.shippingcost.resample('Q').sum().plot()"
   ]
  },
  {
   "cell_type": "code",
   "execution_count": 18,
   "metadata": {},
   "outputs": [
    {
     "data": {
      "text/plain": [
       "<matplotlib.axes._subplots.AxesSubplot at 0xfc59cd0>"
      ]
     },
     "execution_count": 18,
     "metadata": {},
     "output_type": "execute_result"
    },
    {
     "data": {
      "image/png": "[encoded data removed]",
      "text/plain": [
       "<Figure size 432x288 with 1 Axes>"
      ]
     },
     "metadata": {
      "needs_background": "light"
     },
     "output_type": "display_data"
    }
   ],
   "source": [
    "df.shippingcost.resample('Q').size().plot(kind='area')"
   ]
  },
  {
   "cell_type": "code",
   "execution_count": 19,
   "metadata": {},
   "outputs": [
    {
     "data": {
      "text/plain": [
       "<matplotlib.axes._subplots.AxesSubplot at 0xfbcb830>"
      ]
     },
     "execution_count": 19,
     "metadata": {},
     "output_type": "execute_result"
    },
    {
     "data": {
      "image/png": "[encoded data removed]",
      "text/plain": [
       "<Figure size 432x288 with 1 Axes>"
      ]
     },
     "metadata": {
      "needs_background": "light"
     },
     "output_type": "display_data"
    }
   ],
   "source": [
    "df.shippingcost.resample('Q').mean().plot(kind='bar')"
   ]
  },
  {
   "cell_type": "markdown",
   "metadata": {},
   "source": [
    "## Detailed Questions"
   ]
  },
  {
   "cell_type": "markdown",
   "metadata": {},
   "source": [
    "### What is the sales volume in each product category? Which product category is doing well?"
   ]
  },
  {
   "cell_type": "code",
   "execution_count": 60,
   "metadata": {},
   "outputs": [
    {
     "data": {
      "text/plain": [
       "productcategory\n",
       "Furniture          5119254.482\n",
       "Office Supplies    3800227.370\n",
       "Technology         5987571.402\n",
       "Name: sales, dtype: float64"
      ]
     },
     "execution_count": 60,
     "metadata": {},
     "output_type": "execute_result"
    }
   ],
   "source": [
    "df.groupby('productcategory')['sales'].sum()"
   ]
  },
  {
   "cell_type": "code",
   "execution_count": 21,
   "metadata": {},
   "outputs": [
    {
     "data": {
      "text/plain": [
       "productcategory\n",
       "Technology    5987571.402\n",
       "Name: sales, dtype: float64"
      ]
     },
     "execution_count": 21,
     "metadata": {},
     "output_type": "execute_result"
    }
   ],
   "source": [
    "df.groupby('productcategory')['sales'].sum().sort_values(ascending=False).head(1)"
   ]
  },
  {
   "cell_type": "markdown",
   "metadata": {},
   "source": [
    "### What are top two categories in terms of profit? "
   ]
  },
  {
   "cell_type": "code",
   "execution_count": 22,
   "metadata": {},
   "outputs": [
    {
     "data": {
      "text/plain": [
       "productcategory\n",
       "Technology         855437.2250\n",
       "Office Supplies    515776.6045\n",
       "Name: profit, dtype: float64"
      ]
     },
     "execution_count": 22,
     "metadata": {},
     "output_type": "execute_result"
    }
   ],
   "source": [
    "df.groupby('productcategory')['profit'].sum().sort_values(ascending=False).head(2)"
   ]
  },
  {
   "cell_type": "markdown",
   "metadata": {},
   "source": [
    "### Which region is profitable compared to other regions? Any region experiencing financial losses? (Include productcategory in this analysis) "
   ]
  },
  {
   "cell_type": "code",
   "execution_count": 23,
   "metadata": {},
   "outputs": [
    {
     "data": {
      "text/plain": [
       "region  productcategory\n",
       "South   Technology         302117.59\n",
       "Name: profit, dtype: float64"
      ]
     },
     "execution_count": 23,
     "metadata": {},
     "output_type": "execute_result"
    }
   ],
   "source": [
    "df.groupby(['region', 'productcategory'])['profit'].sum().sort_values(ascending=False).head(1)"
   ]
  },
  {
   "cell_type": "code",
   "execution_count": 24,
   "metadata": {},
   "outputs": [
    {
     "data": {
      "text/plain": [
       "region  productcategory\n",
       "East    Furniture         -12721.46\n",
       "Name: profit, dtype: float64"
      ]
     },
     "execution_count": 24,
     "metadata": {},
     "output_type": "execute_result"
    }
   ],
   "source": [
    "df.groupby(['region', 'productcategory'])['profit'].sum().sort_values(ascending=False).tail(1)"
   ]
  },
  {
   "cell_type": "markdown",
   "metadata": {},
   "source": [
    "### Which state in the East is least profitable? Include Product Category in your analysis. "
   ]
  },
  {
   "cell_type": "code",
   "execution_count": 25,
   "metadata": {},
   "outputs": [
    {
     "data": {
      "text/plain": [
       "customerstate  region  productcategory\n",
       "New Jersey     East    Furniture         -18171.95\n",
       "Name: profit, dtype: float64"
      ]
     },
     "execution_count": 25,
     "metadata": {},
     "output_type": "execute_result"
    }
   ],
   "source": [
    "df.groupby(['customerstate', 'region', 'productcategory'])['profit'].sum().sort_values(ascending=False).tail(1)"
   ]
  },
  {
   "cell_type": "code",
   "execution_count": 26,
   "metadata": {},
   "outputs": [
    {
     "data": {
      "text/plain": [
       "Index(['orderid', 'orderpriority', 'orderquantity', 'sales', 'discount',\n",
       "       'shipmode', 'profit', 'unitprice', 'shippingcost', 'customername',\n",
       "       'customerstate', 'zipcode', 'region', 'customersegment',\n",
       "       'productcategory', 'productsub-category', 'productname',\n",
       "       'productcontainer', 'productbasemargin', 'shipdate'],\n",
       "      dtype='object')"
      ]
     },
     "execution_count": 26,
     "metadata": {},
     "output_type": "execute_result"
    }
   ],
   "source": [
    "df.columns"
   ]
  },
  {
   "cell_type": "markdown",
   "metadata": {},
   "source": [
    "### For the State of Nebraska, which year is least profitable? which product is least profitable?"
   ]
  },
  {
   "cell_type": "markdown",
   "metadata": {},
   "source": [
    "Now, let's focus on Nebraska."
   ]
  },
  {
   "cell_type": "code",
   "execution_count": 27,
   "metadata": {},
   "outputs": [
    {
     "data": {
      "text/plain": [
       "orderdate  customerstate   productname                                                                     \n",
       "2009       Utah            Lexmark 4227 Plus Dot Matrix Printer                                                -5350.27\n",
       "           Nebraska        Lexmark 4227 Plus Dot Matrix Printer                                                -5509.20\n",
       "2012       Nebraska        Lexmark 4227 Plus Dot Matrix Printer                                                -5577.62\n",
       "2011       Maryland        Polycom ViewStation™ Adapter H323 Videoconferencing Unit                            -5584.68\n",
       "2009       Washington      Epson DFX-8500 Dot Matrix Printer                                                   -5737.27\n",
       "2011       New Jersey      SAFCO PlanMaster Heigh-Adjustable Drafting Table Base, 43w x 30d x 30-37h, Black    -7194.06\n",
       "2009       California      Okidata Pacemark 4410N Wide Format Dot Matrix Printer                               -7958.16\n",
       "           Michigan        Epson DFX-8500 Dot Matrix Printer                                                   -8474.86\n",
       "2012       Virginia        Canon imageCLASS 2200 Advanced Copier                                               -9078.94\n",
       "           Utah            Okidata Pacemark 4410N Wide Format Dot Matrix Printer                               -9151.07\n",
       "           Florida         Riverside Palais Royal Lawyers Bookcase, Royale Cherry Finish                       -9611.91\n",
       "2011       Colorado        Okidata Pacemark 4410N Wide Format Dot Matrix Printer                               -9851.09\n",
       "2012       Delaware        Epson DFX-8500 Dot Matrix Printer                                                  -10401.44\n",
       "2009       Alabama         Canon imageCLASS 2200 Advanced Copier                                              -11769.17\n",
       "2010       Idaho           Polycom ViewStation™ ISDN Videoconferencing Unit                                   -11797.31\n",
       "           New Mexico      Canon imageCLASS 2200 Advanced Copier                                              -12253.38\n",
       "2011       South Carolina  Polycom ViewStation™ ISDN Videoconferencing Unit                                   -13775.17\n",
       "2009       California      Polycom ViewStation™ ISDN Videoconferencing Unit                                   -14434.48\n",
       "           New York        Polycom ViewStation™ ISDN Videoconferencing Unit                                   -16253.68\n",
       "           New Jersey      Okidata Pacemark 4410N Wide Format Dot Matrix Printer                              -18652.65\n",
       "Name: profit, dtype: float64"
      ]
     },
     "execution_count": 27,
     "metadata": {},
     "output_type": "execute_result"
    }
   ],
   "source": [
    "df.groupby([df.index.strftime('%Y'), 'customerstate', 'productname'])['profit'].sum().sort_values(ascending = False).tail(20)"
   ]
  },
  {
   "cell_type": "markdown",
   "metadata": {},
   "source": [
    "#### 2012 with product Lexmark 4227 Plus Dot Matrix Printer  and a profit of -5577.62"
   ]
  },
  {
   "cell_type": "markdown",
   "metadata": {},
   "source": [
    "### Drill down. Which part of Nebraska is profitable? "
   ]
  },
  {
   "cell_type": "code",
   "execution_count": 28,
   "metadata": {},
   "outputs": [
    {
     "data": {
      "text/plain": [
       "customerstate   region \n",
       "Maryland        South      114643.8955\n",
       "New York        East       112099.2555\n",
       "North Carolina  South       86088.3195\n",
       "Idaho           West        79430.2490\n",
       "Colorado        West        73575.0925\n",
       "South Carolina  South       70693.3375\n",
       "Mass            East        69617.1840\n",
       "Utah            West        66946.4110\n",
       "Ohio            Central     66357.5195\n",
       "California      West        65174.2255\n",
       "Alabama         South       64827.2220\n",
       "Florida         South       61424.5245\n",
       "Arizona         West        60461.3940\n",
       "Nebraska        Central     58266.1460\n",
       "Georgia         South       54692.7940\n",
       "Illinois        Central     54506.6820\n",
       "Virginia        South       53308.6585\n",
       "Texas           Central     52496.2385\n",
       "Connecticut     East        43751.6405\n",
       "Washington      West        41894.4475\n",
       "Name: profit, dtype: float64"
      ]
     },
     "execution_count": 28,
     "metadata": {},
     "output_type": "execute_result"
    }
   ],
   "source": [
    "df.groupby(['customerstate', 'region'])['profit'].sum().sort_values(ascending=False).head(20)"
   ]
  },
  {
   "cell_type": "markdown",
   "metadata": {},
   "source": [
    "#### Nebraska central was more profitable."
   ]
  },
  {
   "cell_type": "markdown",
   "metadata": {},
   "source": [
    "### What kinds of furniture are not profitable?"
   ]
  },
  {
   "cell_type": "code",
   "execution_count": 29,
   "metadata": {},
   "outputs": [
    {
     "data": {
      "text/plain": [
       "productsub-category  productcategory\n",
       "Tables               Furniture         -61271.15\n",
       "Name: profit, dtype: float64"
      ]
     },
     "execution_count": 29,
     "metadata": {},
     "output_type": "execute_result"
    }
   ],
   "source": [
    "df.groupby(['productsub-category', 'productcategory'])['profit'].sum().sort_values(ascending=False).tail(1)"
   ]
  },
  {
   "cell_type": "markdown",
   "metadata": {},
   "source": [
    "#### The furniture kind is table"
   ]
  },
  {
   "cell_type": "markdown",
   "metadata": {},
   "source": [
    "### What kinds of office supplies are most profitable? What kinds of office supplies need to be improved in terms of sales and profits?"
   ]
  },
  {
   "cell_type": "code",
   "execution_count": 30,
   "metadata": {},
   "outputs": [
    {
     "data": {
      "text/plain": [
       "productsub-category             productcategory\n",
       "Telephones and Communication    Technology         316951.6410\n",
       "Binders and Binder Accessories  Office Supplies    307174.1845\n",
       "Office Machines                 Technology         276590.3400\n",
       "Copiers and Fax                 Technology         167361.4640\n",
       "Chairs & Chairmats              Furniture          149938.2300\n",
       "Appliances                      Office Supplies     98023.0800\n",
       "Office Furnishings              Furniture           96878.4000\n",
       "Computer Peripherals            Technology          94533.7800\n",
       "Envelopes                       Office Supplies     48711.0800\n",
       "Paper                           Office Supplies     45987.2000\n",
       "Name: profit, dtype: float64"
      ]
     },
     "execution_count": 30,
     "metadata": {},
     "output_type": "execute_result"
    }
   ],
   "source": [
    "df.groupby(['productsub-category', 'productcategory'])['profit'].sum().sort_values(ascending=False).head(10)"
   ]
  },
  {
   "cell_type": "code",
   "execution_count": 31,
   "metadata": {},
   "outputs": [
    {
     "name": "stderr",
     "output_type": "stream",
     "text": [
      "C:\\Users\\Nana Tieku\\Saved Games\\anaconda\\lib\\site-packages\\ipykernel_launcher.py:1: FutureWarning: Indexing with multiple keys (implicitly converted to a tuple of keys) will be deprecated, use a list instead.\n",
      "  \"\"\"Entry point for launching an IPython kernel.\n"
     ]
    },
    {
     "data": {
      "text/html": [
       "<div>\n",
       "<style scoped>\n",
       "    .dataframe tbody tr th:only-of-type {\n",
       "        vertical-align: middle;\n",
       "    }\n",
       "\n",
       "    .dataframe tbody tr th {\n",
       "        vertical-align: top;\n",
       "    }\n",
       "\n",
       "    .dataframe thead th {\n",
       "        text-align: right;\n",
       "    }\n",
       "</style>\n",
       "<table border=\"1\" class=\"dataframe\">\n",
       "  <thead>\n",
       "    <tr style=\"text-align: right;\">\n",
       "      <th></th>\n",
       "      <th></th>\n",
       "      <th>profit</th>\n",
       "      <th>sales</th>\n",
       "    </tr>\n",
       "    <tr>\n",
       "      <th>productsub-category</th>\n",
       "      <th>productcategory</th>\n",
       "      <th></th>\n",
       "      <th></th>\n",
       "    </tr>\n",
       "  </thead>\n",
       "  <tbody>\n",
       "    <tr>\n",
       "      <th>Telephones and Communication</th>\n",
       "      <th>Technology</th>\n",
       "      <td>316951.6410</td>\n",
       "      <td>1889313.802</td>\n",
       "    </tr>\n",
       "    <tr>\n",
       "      <th>Binders and Binder Accessories</th>\n",
       "      <th>Office Supplies</th>\n",
       "      <td>307174.1845</td>\n",
       "      <td>1024521.850</td>\n",
       "    </tr>\n",
       "    <tr>\n",
       "      <th>Office Machines</th>\n",
       "      <th>Technology</th>\n",
       "      <td>276590.3400</td>\n",
       "      <td>2171342.760</td>\n",
       "    </tr>\n",
       "    <tr>\n",
       "      <th>Copiers and Fax</th>\n",
       "      <th>Technology</th>\n",
       "      <td>167361.4640</td>\n",
       "      <td>1130361.300</td>\n",
       "    </tr>\n",
       "    <tr>\n",
       "      <th>Chairs &amp; Chairmats</th>\n",
       "      <th>Furniture</th>\n",
       "      <td>149938.2300</td>\n",
       "      <td>1744144.730</td>\n",
       "    </tr>\n",
       "    <tr>\n",
       "      <th>Appliances</th>\n",
       "      <th>Office Supplies</th>\n",
       "      <td>98023.0800</td>\n",
       "      <td>747333.010</td>\n",
       "    </tr>\n",
       "    <tr>\n",
       "      <th>Office Furnishings</th>\n",
       "      <th>Furniture</th>\n",
       "      <td>96878.4000</td>\n",
       "      <td>665912.350</td>\n",
       "    </tr>\n",
       "    <tr>\n",
       "      <th>Computer Peripherals</th>\n",
       "      <th>Technology</th>\n",
       "      <td>94533.7800</td>\n",
       "      <td>796553.540</td>\n",
       "    </tr>\n",
       "    <tr>\n",
       "      <th>Envelopes</th>\n",
       "      <th>Office Supplies</th>\n",
       "      <td>48711.0800</td>\n",
       "      <td>176298.060</td>\n",
       "    </tr>\n",
       "    <tr>\n",
       "      <th>Paper</th>\n",
       "      <th>Office Supplies</th>\n",
       "      <td>45987.2000</td>\n",
       "      <td>449496.470</td>\n",
       "    </tr>\n",
       "    <tr>\n",
       "      <th>Labels</th>\n",
       "      <th>Office Supplies</th>\n",
       "      <td>13689.1500</td>\n",
       "      <td>39042.350</td>\n",
       "    </tr>\n",
       "    <tr>\n",
       "      <th>Pens &amp; Art Supplies</th>\n",
       "      <th>Office Supplies</th>\n",
       "      <td>7551.8100</td>\n",
       "      <td>167525.030</td>\n",
       "    </tr>\n",
       "    <tr>\n",
       "      <th>Storage &amp; Organization</th>\n",
       "      <th>Office Supplies</th>\n",
       "      <td>2516.9400</td>\n",
       "      <td>1099774.360</td>\n",
       "    </tr>\n",
       "    <tr>\n",
       "      <th>Rubber Bands</th>\n",
       "      <th>Office Supplies</th>\n",
       "      <td>-77.5900</td>\n",
       "      <td>15239.930</td>\n",
       "    </tr>\n",
       "    <tr>\n",
       "      <th>Scissors, Rulers and Trimmers</th>\n",
       "      <th>Office Supplies</th>\n",
       "      <td>-7799.2500</td>\n",
       "      <td>80996.310</td>\n",
       "    </tr>\n",
       "    <tr>\n",
       "      <th>Bookcases</th>\n",
       "      <th>Furniture</th>\n",
       "      <td>-33170.6800</td>\n",
       "      <td>821982.470</td>\n",
       "    </tr>\n",
       "    <tr>\n",
       "      <th>Tables</th>\n",
       "      <th>Furniture</th>\n",
       "      <td>-61271.1500</td>\n",
       "      <td>1887214.932</td>\n",
       "    </tr>\n",
       "  </tbody>\n",
       "</table>\n",
       "</div>"
      ],
      "text/plain": [
       "                                                     profit        sales\n",
       "productsub-category            productcategory                          \n",
       "Telephones and Communication   Technology       316951.6410  1889313.802\n",
       "Binders and Binder Accessories Office Supplies  307174.1845  1024521.850\n",
       "Office Machines                Technology       276590.3400  2171342.760\n",
       "Copiers and Fax                Technology       167361.4640  1130361.300\n",
       "Chairs & Chairmats             Furniture        149938.2300  1744144.730\n",
       "Appliances                     Office Supplies   98023.0800   747333.010\n",
       "Office Furnishings             Furniture         96878.4000   665912.350\n",
       "Computer Peripherals           Technology        94533.7800   796553.540\n",
       "Envelopes                      Office Supplies   48711.0800   176298.060\n",
       "Paper                          Office Supplies   45987.2000   449496.470\n",
       "Labels                         Office Supplies   13689.1500    39042.350\n",
       "Pens & Art Supplies            Office Supplies    7551.8100   167525.030\n",
       "Storage & Organization         Office Supplies    2516.9400  1099774.360\n",
       "Rubber Bands                   Office Supplies     -77.5900    15239.930\n",
       "Scissors, Rulers and Trimmers  Office Supplies   -7799.2500    80996.310\n",
       "Bookcases                      Furniture        -33170.6800   821982.470\n",
       "Tables                         Furniture        -61271.1500  1887214.932"
      ]
     },
     "execution_count": 31,
     "metadata": {},
     "output_type": "execute_result"
    }
   ],
   "source": [
    "df.groupby(['productsub-category', 'productcategory'])['profit', 'sales'].sum().sort_values(by=['profit', 'sales'], ascending=False)"
   ]
  },
  {
   "cell_type": "markdown",
   "metadata": {},
   "source": [
    "#### Scissors, Rulers and Trimmers\tOffice Supplies\t-7799.2500\t80996.310"
   ]
  },
  {
   "cell_type": "markdown",
   "metadata": {},
   "source": [
    "### What kinds of technology are profitable?"
   ]
  },
  {
   "cell_type": "code",
   "execution_count": 32,
   "metadata": {},
   "outputs": [
    {
     "data": {
      "text/plain": [
       "productsub-category             productcategory\n",
       "Telephones and Communication    Technology         316951.6410\n",
       "Binders and Binder Accessories  Office Supplies    307174.1845\n",
       "Office Machines                 Technology         276590.3400\n",
       "Copiers and Fax                 Technology         167361.4640\n",
       "Chairs & Chairmats              Furniture          149938.2300\n",
       "Name: profit, dtype: float64"
      ]
     },
     "execution_count": 32,
     "metadata": {},
     "output_type": "execute_result"
    }
   ],
   "source": [
    "df.groupby(['productsub-category', 'productcategory'])['profit'].sum().sort_values(ascending=False).head()"
   ]
  },
  {
   "cell_type": "markdown",
   "metadata": {},
   "source": [
    "#### Telephones and Communication    Technology         316951.6410"
   ]
  },
  {
   "cell_type": "markdown",
   "metadata": {},
   "source": [
    "### Is there any relationship (or correlation) between “profits” and “sales”? Show a trend line"
   ]
  },
  {
   "cell_type": "code",
   "execution_count": 33,
   "metadata": {},
   "outputs": [
    {
     "data": {
      "text/html": [
       "<div>\n",
       "<style scoped>\n",
       "    .dataframe tbody tr th:only-of-type {\n",
       "        vertical-align: middle;\n",
       "    }\n",
       "\n",
       "    .dataframe tbody tr th {\n",
       "        vertical-align: top;\n",
       "    }\n",
       "\n",
       "    .dataframe thead th {\n",
       "        text-align: right;\n",
       "    }\n",
       "</style>\n",
       "<table border=\"1\" class=\"dataframe\">\n",
       "  <thead>\n",
       "    <tr style=\"text-align: right;\">\n",
       "      <th></th>\n",
       "      <th>orderid</th>\n",
       "      <th>orderquantity</th>\n",
       "      <th>sales</th>\n",
       "      <th>discount</th>\n",
       "      <th>profit</th>\n",
       "      <th>unitprice</th>\n",
       "      <th>shippingcost</th>\n",
       "      <th>zipcode</th>\n",
       "      <th>productbasemargin</th>\n",
       "    </tr>\n",
       "  </thead>\n",
       "  <tbody>\n",
       "    <tr>\n",
       "      <th>orderid</th>\n",
       "      <td>1.000000</td>\n",
       "      <td>0.011461</td>\n",
       "      <td>-0.006822</td>\n",
       "      <td>-0.003568</td>\n",
       "      <td>-0.005849</td>\n",
       "      <td>-0.003867</td>\n",
       "      <td>-0.003857</td>\n",
       "      <td>-0.011369</td>\n",
       "      <td>-0.024529</td>\n",
       "    </tr>\n",
       "    <tr>\n",
       "      <th>orderquantity</th>\n",
       "      <td>0.011461</td>\n",
       "      <td>1.000000</td>\n",
       "      <td>0.220413</td>\n",
       "      <td>-0.010160</td>\n",
       "      <td>0.196062</td>\n",
       "      <td>-0.104341</td>\n",
       "      <td>-0.012162</td>\n",
       "      <td>0.017114</td>\n",
       "      <td>0.006781</td>\n",
       "    </tr>\n",
       "    <tr>\n",
       "      <th>sales</th>\n",
       "      <td>-0.006822</td>\n",
       "      <td>0.220413</td>\n",
       "      <td>1.000000</td>\n",
       "      <td>-0.018951</td>\n",
       "      <td>0.577657</td>\n",
       "      <td>0.602518</td>\n",
       "      <td>0.434261</td>\n",
       "      <td>-0.011301</td>\n",
       "      <td>0.157456</td>\n",
       "    </tr>\n",
       "    <tr>\n",
       "      <th>discount</th>\n",
       "      <td>-0.003568</td>\n",
       "      <td>-0.010160</td>\n",
       "      <td>-0.018951</td>\n",
       "      <td>1.000000</td>\n",
       "      <td>-0.038563</td>\n",
       "      <td>0.001760</td>\n",
       "      <td>-0.000269</td>\n",
       "      <td>0.002057</td>\n",
       "      <td>0.005559</td>\n",
       "    </tr>\n",
       "    <tr>\n",
       "      <th>profit</th>\n",
       "      <td>-0.005849</td>\n",
       "      <td>0.196062</td>\n",
       "      <td>0.577657</td>\n",
       "      <td>-0.038563</td>\n",
       "      <td>1.000000</td>\n",
       "      <td>-0.035542</td>\n",
       "      <td>-0.018124</td>\n",
       "      <td>-0.004923</td>\n",
       "      <td>-0.106292</td>\n",
       "    </tr>\n",
       "    <tr>\n",
       "      <th>unitprice</th>\n",
       "      <td>-0.003867</td>\n",
       "      <td>-0.104341</td>\n",
       "      <td>0.602518</td>\n",
       "      <td>0.001760</td>\n",
       "      <td>-0.035542</td>\n",
       "      <td>1.000000</td>\n",
       "      <td>0.239953</td>\n",
       "      <td>-0.007564</td>\n",
       "      <td>0.058523</td>\n",
       "    </tr>\n",
       "    <tr>\n",
       "      <th>shippingcost</th>\n",
       "      <td>-0.003857</td>\n",
       "      <td>-0.012162</td>\n",
       "      <td>0.434261</td>\n",
       "      <td>-0.000269</td>\n",
       "      <td>-0.018124</td>\n",
       "      <td>0.239953</td>\n",
       "      <td>1.000000</td>\n",
       "      <td>-0.018904</td>\n",
       "      <td>0.374660</td>\n",
       "    </tr>\n",
       "    <tr>\n",
       "      <th>zipcode</th>\n",
       "      <td>-0.011369</td>\n",
       "      <td>0.017114</td>\n",
       "      <td>-0.011301</td>\n",
       "      <td>0.002057</td>\n",
       "      <td>-0.004923</td>\n",
       "      <td>-0.007564</td>\n",
       "      <td>-0.018904</td>\n",
       "      <td>1.000000</td>\n",
       "      <td>0.006904</td>\n",
       "    </tr>\n",
       "    <tr>\n",
       "      <th>productbasemargin</th>\n",
       "      <td>-0.024529</td>\n",
       "      <td>0.006781</td>\n",
       "      <td>0.157456</td>\n",
       "      <td>0.005559</td>\n",
       "      <td>-0.106292</td>\n",
       "      <td>0.058523</td>\n",
       "      <td>0.374660</td>\n",
       "      <td>0.006904</td>\n",
       "      <td>1.000000</td>\n",
       "    </tr>\n",
       "  </tbody>\n",
       "</table>\n",
       "</div>"
      ],
      "text/plain": [
       "                    orderid  orderquantity     sales  discount    profit  \\\n",
       "orderid            1.000000       0.011461 -0.006822 -0.003568 -0.005849   \n",
       "orderquantity      0.011461       1.000000  0.220413 -0.010160  0.196062   \n",
       "sales             -0.006822       0.220413  1.000000 -0.018951  0.577657   \n",
       "discount          -0.003568      -0.010160 -0.018951  1.000000 -0.038563   \n",
       "profit            -0.005849       0.196062  0.577657 -0.038563  1.000000   \n",
       "unitprice         -0.003867      -0.104341  0.602518  0.001760 -0.035542   \n",
       "shippingcost      -0.003857      -0.012162  0.434261 -0.000269 -0.018124   \n",
       "zipcode           -0.011369       0.017114 -0.011301  0.002057 -0.004923   \n",
       "productbasemargin -0.024529       0.006781  0.157456  0.005559 -0.106292   \n",
       "\n",
       "                   unitprice  shippingcost   zipcode  productbasemargin  \n",
       "orderid            -0.003867     -0.003857 -0.011369          -0.024529  \n",
       "orderquantity      -0.104341     -0.012162  0.017114           0.006781  \n",
       "sales               0.602518      0.434261 -0.011301           0.157456  \n",
       "discount            0.001760     -0.000269  0.002057           0.005559  \n",
       "profit             -0.035542     -0.018124 -0.004923          -0.106292  \n",
       "unitprice           1.000000      0.239953 -0.007564           0.058523  \n",
       "shippingcost        0.239953      1.000000 -0.018904           0.374660  \n",
       "zipcode            -0.007564     -0.018904  1.000000           0.006904  \n",
       "productbasemargin   0.058523      0.374660  0.006904           1.000000  "
      ]
     },
     "execution_count": 33,
     "metadata": {},
     "output_type": "execute_result"
    }
   ],
   "source": [
    "df.corr()"
   ]
  },
  {
   "cell_type": "code",
   "execution_count": 34,
   "metadata": {},
   "outputs": [
    {
     "data": {
      "text/plain": [
       "<matplotlib.axes._subplots.AxesSubplot at 0xfde6ab0>"
      ]
     },
     "execution_count": 34,
     "metadata": {},
     "output_type": "execute_result"
    },
    {
     "data": {
      "image/png": "[encoded data removed]",
      "text/plain": [
       "<Figure size 432x288 with 1 Axes>"
      ]
     },
     "metadata": {
      "needs_background": "light"
     },
     "output_type": "display_data"
    }
   ],
   "source": [
    "df.plot.scatter(x='profit', y='sales')"
   ]
  },
  {
   "cell_type": "code",
   "execution_count": 35,
   "metadata": {},
   "outputs": [
    {
     "name": "stderr",
     "output_type": "stream",
     "text": [
      "C:\\Users\\Nana Tieku\\AppData\\Roaming\\Python\\Python37\\site-packages\\seaborn\\_decorators.py:43: FutureWarning: Pass the following variables as keyword args: x, y, data. From version 0.12, the only valid positional argument will be `data`, and passing other arguments without an explicit keyword will result in an error or misinterpretation.\n",
      "  FutureWarning\n"
     ]
    },
    {
     "data": {
      "text/plain": [
       "<matplotlib.axes._subplots.AxesSubplot at 0xfb50e10>"
      ]
     },
     "execution_count": 35,
     "metadata": {},
     "output_type": "execute_result"
    },
    {
     "data": {
      "image/png": "[encoded data removed]",
      "text/plain": [
       "<Figure size 432x288 with 1 Axes>"
      ]
     },
     "metadata": {
      "needs_background": "light"
     },
     "output_type": "display_data"
    }
   ],
   "source": [
    "sns.regplot('profit', 'sales', df)"
   ]
  },
  {
   "cell_type": "markdown",
   "metadata": {},
   "source": [
    "#### Positive correlation and a positive regresion line. That is as sales increases, profit increases too."
   ]
  },
  {
   "cell_type": "markdown",
   "metadata": {},
   "source": [
    "### Overall, which year is least profitable? \n",
    "\n",
    "- we ignore year 2008 since it has only two months in the data"
   ]
  },
  {
   "cell_type": "code",
   "execution_count": 36,
   "metadata": {},
   "outputs": [
    {
     "data": {
      "text/plain": [
       "orderdate\n",
       "2011    419755.3845\n",
       "2009    406718.5260\n",
       "2010    337239.4165\n",
       "2012    291141.9190\n",
       "2008     68733.3835\n",
       "Name: profit, dtype: float64"
      ]
     },
     "execution_count": 36,
     "metadata": {},
     "output_type": "execute_result"
    }
   ],
   "source": [
    "df.groupby(df.index.strftime('%Y'))['profit'].sum().sort_values(ascending = False)"
   ]
  },
  {
   "cell_type": "markdown",
   "metadata": {},
   "source": [
    "#### 2012  with  291141.9190 profit"
   ]
  },
  {
   "cell_type": "markdown",
   "metadata": {},
   "source": [
    "# Drilling Down: What happend in 2009 & January 2009?"
   ]
  },
  {
   "cell_type": "markdown",
   "metadata": {},
   "source": [
    "## Let's focus on Year 2009 and answer some questions below "
   ]
  },
  {
   "cell_type": "markdown",
   "metadata": {},
   "source": [
    "### Which region performed so poorly?"
   ]
  },
  {
   "cell_type": "code",
   "execution_count": 37,
   "metadata": {},
   "outputs": [
    {
     "data": {
      "text/html": [
       "<div>\n",
       "<style scoped>\n",
       "    .dataframe tbody tr th:only-of-type {\n",
       "        vertical-align: middle;\n",
       "    }\n",
       "\n",
       "    .dataframe tbody tr th {\n",
       "        vertical-align: top;\n",
       "    }\n",
       "\n",
       "    .dataframe thead th {\n",
       "        text-align: right;\n",
       "    }\n",
       "</style>\n",
       "<table border=\"1\" class=\"dataframe\">\n",
       "  <thead>\n",
       "    <tr style=\"text-align: right;\">\n",
       "      <th></th>\n",
       "      <th>orderid</th>\n",
       "      <th>orderpriority</th>\n",
       "      <th>orderquantity</th>\n",
       "      <th>sales</th>\n",
       "      <th>discount</th>\n",
       "      <th>shipmode</th>\n",
       "      <th>profit</th>\n",
       "      <th>unitprice</th>\n",
       "      <th>shippingcost</th>\n",
       "      <th>customername</th>\n",
       "      <th>customerstate</th>\n",
       "      <th>zipcode</th>\n",
       "      <th>region</th>\n",
       "      <th>customersegment</th>\n",
       "      <th>productcategory</th>\n",
       "      <th>productsub-category</th>\n",
       "      <th>productname</th>\n",
       "      <th>productcontainer</th>\n",
       "      <th>productbasemargin</th>\n",
       "      <th>shipdate</th>\n",
       "    </tr>\n",
       "    <tr>\n",
       "      <th>orderdate</th>\n",
       "      <th></th>\n",
       "      <th></th>\n",
       "      <th></th>\n",
       "      <th></th>\n",
       "      <th></th>\n",
       "      <th></th>\n",
       "      <th></th>\n",
       "      <th></th>\n",
       "      <th></th>\n",
       "      <th></th>\n",
       "      <th></th>\n",
       "      <th></th>\n",
       "      <th></th>\n",
       "      <th></th>\n",
       "      <th></th>\n",
       "      <th></th>\n",
       "      <th></th>\n",
       "      <th></th>\n",
       "      <th></th>\n",
       "      <th></th>\n",
       "    </tr>\n",
       "  </thead>\n",
       "  <tbody>\n",
       "    <tr>\n",
       "      <th>2009-04-16</th>\n",
       "      <td>69</td>\n",
       "      <td>Not Specified</td>\n",
       "      <td>42</td>\n",
       "      <td>1186.06</td>\n",
       "      <td>0.09</td>\n",
       "      <td>Regular Air</td>\n",
       "      <td>511.69</td>\n",
       "      <td>30.93</td>\n",
       "      <td>3.92</td>\n",
       "      <td>Jonathan Doherty</td>\n",
       "      <td>Ohio</td>\n",
       "      <td>43567</td>\n",
       "      <td>Central</td>\n",
       "      <td>Corporate</td>\n",
       "      <td>Furniture</td>\n",
       "      <td>Office Furnishings</td>\n",
       "      <td>Advantus Employee of the Month Certificate Fra...</td>\n",
       "      <td>Small Pack</td>\n",
       "      <td>0.44</td>\n",
       "      <td>2009-04-18</td>\n",
       "    </tr>\n",
       "    <tr>\n",
       "      <th>2009-04-16</th>\n",
       "      <td>69</td>\n",
       "      <td>Not Specified</td>\n",
       "      <td>28</td>\n",
       "      <td>51.53</td>\n",
       "      <td>0.03</td>\n",
       "      <td>Express Air</td>\n",
       "      <td>0.35</td>\n",
       "      <td>1.68</td>\n",
       "      <td>0.70</td>\n",
       "      <td>Jonathan Doherty</td>\n",
       "      <td>Ohio</td>\n",
       "      <td>43567</td>\n",
       "      <td>Central</td>\n",
       "      <td>Corporate</td>\n",
       "      <td>Office Supplies</td>\n",
       "      <td>Pens &amp; Art Supplies</td>\n",
       "      <td>Newell 308</td>\n",
       "      <td>Wrap Bag</td>\n",
       "      <td>0.60</td>\n",
       "      <td>2009-04-18</td>\n",
       "    </tr>\n",
       "  </tbody>\n",
       "</table>\n",
       "</div>"
      ],
      "text/plain": [
       "            orderid  orderpriority  orderquantity    sales  discount  \\\n",
       "orderdate                                                              \n",
       "2009-04-16       69  Not Specified             42  1186.06      0.09   \n",
       "2009-04-16       69  Not Specified             28    51.53      0.03   \n",
       "\n",
       "               shipmode  profit  unitprice  shippingcost      customername  \\\n",
       "orderdate                                                                    \n",
       "2009-04-16  Regular Air  511.69      30.93          3.92  Jonathan Doherty   \n",
       "2009-04-16  Express Air    0.35       1.68          0.70  Jonathan Doherty   \n",
       "\n",
       "           customerstate  zipcode   region customersegment  productcategory  \\\n",
       "orderdate                                                                     \n",
       "2009-04-16          Ohio    43567  Central       Corporate        Furniture   \n",
       "2009-04-16          Ohio    43567  Central       Corporate  Office Supplies   \n",
       "\n",
       "            productsub-category  \\\n",
       "orderdate                         \n",
       "2009-04-16   Office Furnishings   \n",
       "2009-04-16  Pens & Art Supplies   \n",
       "\n",
       "                                                  productname  \\\n",
       "orderdate                                                       \n",
       "2009-04-16  Advantus Employee of the Month Certificate Fra...   \n",
       "2009-04-16                                         Newell 308   \n",
       "\n",
       "           productcontainer  productbasemargin   shipdate  \n",
       "orderdate                                                  \n",
       "2009-04-16       Small Pack               0.44 2009-04-18  \n",
       "2009-04-16         Wrap Bag               0.60 2009-04-18  "
      ]
     },
     "execution_count": 37,
     "metadata": {},
     "output_type": "execute_result"
    }
   ],
   "source": [
    "d2009 = df['2009']\n",
    "d2009.head(2)"
   ]
  },
  {
   "cell_type": "code",
   "execution_count": 38,
   "metadata": {},
   "outputs": [
    {
     "data": {
      "text/plain": [
       "region\n",
       "East    46657.2375\n",
       "Name: profit, dtype: float64"
      ]
     },
     "execution_count": 38,
     "metadata": {},
     "output_type": "execute_result"
    }
   ],
   "source": [
    "d2009.groupby('region')['profit'].sum().sort_values(ascending = False).tail(1)"
   ]
  },
  {
   "cell_type": "markdown",
   "metadata": {},
   "source": [
    "### Which zipcode areas performed so poorly?"
   ]
  },
  {
   "cell_type": "code",
   "execution_count": 39,
   "metadata": {},
   "outputs": [
    {
     "data": {
      "text/plain": [
       "zipcode\n",
       "10501   -16557.085\n",
       "Name: profit, dtype: float64"
      ]
     },
     "execution_count": 39,
     "metadata": {},
     "output_type": "execute_result"
    }
   ],
   "source": [
    "d2009.groupby('zipcode')['profit'].sum().sort_values(ascending = False).tail(1)"
   ]
  },
  {
   "cell_type": "markdown",
   "metadata": {},
   "source": [
    "### Which product category performed so poorly?"
   ]
  },
  {
   "cell_type": "code",
   "execution_count": 40,
   "metadata": {},
   "outputs": [
    {
     "data": {
      "text/plain": [
       "productcategory\n",
       "Furniture    71904.9\n",
       "Name: profit, dtype: float64"
      ]
     },
     "execution_count": 40,
     "metadata": {},
     "output_type": "execute_result"
    }
   ],
   "source": [
    "d2009.groupby('productcategory')['profit'].sum().sort_values(ascending = False).tail(1)"
   ]
  },
  {
   "cell_type": "code",
   "execution_count": 41,
   "metadata": {},
   "outputs": [
    {
     "name": "stderr",
     "output_type": "stream",
     "text": [
      "C:\\Users\\Nana Tieku\\Saved Games\\anaconda\\lib\\site-packages\\ipykernel_launcher.py:1: FutureWarning: Indexing with multiple keys (implicitly converted to a tuple of keys) will be deprecated, use a list instead.\n",
      "  \"\"\"Entry point for launching an IPython kernel.\n"
     ]
    },
    {
     "data": {
      "text/html": [
       "<div>\n",
       "<style scoped>\n",
       "    .dataframe tbody tr th:only-of-type {\n",
       "        vertical-align: middle;\n",
       "    }\n",
       "\n",
       "    .dataframe tbody tr th {\n",
       "        vertical-align: top;\n",
       "    }\n",
       "\n",
       "    .dataframe thead th {\n",
       "        text-align: right;\n",
       "    }\n",
       "</style>\n",
       "<table border=\"1\" class=\"dataframe\">\n",
       "  <thead>\n",
       "    <tr style=\"text-align: right;\">\n",
       "      <th></th>\n",
       "      <th>profit</th>\n",
       "      <th>sales</th>\n",
       "    </tr>\n",
       "    <tr>\n",
       "      <th>productcategory</th>\n",
       "      <th></th>\n",
       "      <th></th>\n",
       "    </tr>\n",
       "  </thead>\n",
       "  <tbody>\n",
       "    <tr>\n",
       "      <th>Furniture</th>\n",
       "      <td>71904.9</td>\n",
       "      <td>1341005.366</td>\n",
       "    </tr>\n",
       "  </tbody>\n",
       "</table>\n",
       "</div>"
      ],
      "text/plain": [
       "                  profit        sales\n",
       "productcategory                      \n",
       "Furniture        71904.9  1341005.366"
      ]
     },
     "execution_count": 41,
     "metadata": {},
     "output_type": "execute_result"
    }
   ],
   "source": [
    "d2009.groupby('productcategory')['profit', 'sales'].sum().sort_values(by=['profit', 'sales'], ascending = False).tail(1)"
   ]
  },
  {
   "cell_type": "markdown",
   "metadata": {},
   "source": [
    "### Which productsub-category performed so poorly?"
   ]
  },
  {
   "cell_type": "code",
   "execution_count": 42,
   "metadata": {},
   "outputs": [
    {
     "data": {
      "text/plain": [
       "productsub-category\n",
       "Tables   -10621.34\n",
       "Name: profit, dtype: float64"
      ]
     },
     "execution_count": 42,
     "metadata": {},
     "output_type": "execute_result"
    }
   ],
   "source": [
    "d2009.groupby('productsub-category')['profit'].sum().sort_values(ascending = False).tail(1)"
   ]
  },
  {
   "cell_type": "markdown",
   "metadata": {},
   "source": [
    "### Which product performed so poorly?"
   ]
  },
  {
   "cell_type": "code",
   "execution_count": 43,
   "metadata": {},
   "outputs": [
    {
     "data": {
      "text/plain": [
       "productname\n",
       "Okidata Pacemark 4410N Wide Format Dot Matrix Printer   -26610.81\n",
       "Name: profit, dtype: float64"
      ]
     },
     "execution_count": 43,
     "metadata": {},
     "output_type": "execute_result"
    }
   ],
   "source": [
    "d2009.groupby('productname')['profit'].sum().sort_values(ascending = False).tail(1)"
   ]
  },
  {
   "cell_type": "markdown",
   "metadata": {},
   "source": [
    "## Let's focus on January 2009 and answer some questions below"
   ]
  },
  {
   "cell_type": "markdown",
   "metadata": {},
   "source": [
    "### Which region performed so poorly?"
   ]
  },
  {
   "cell_type": "code",
   "execution_count": 44,
   "metadata": {
    "scrolled": true
   },
   "outputs": [
    {
     "data": {
      "text/html": [
       "<div>\n",
       "<style scoped>\n",
       "    .dataframe tbody tr th:only-of-type {\n",
       "        vertical-align: middle;\n",
       "    }\n",
       "\n",
       "    .dataframe tbody tr th {\n",
       "        vertical-align: top;\n",
       "    }\n",
       "\n",
       "    .dataframe thead th {\n",
       "        text-align: right;\n",
       "    }\n",
       "</style>\n",
       "<table border=\"1\" class=\"dataframe\">\n",
       "  <thead>\n",
       "    <tr style=\"text-align: right;\">\n",
       "      <th></th>\n",
       "      <th>orderid</th>\n",
       "      <th>orderpriority</th>\n",
       "      <th>orderquantity</th>\n",
       "      <th>sales</th>\n",
       "      <th>discount</th>\n",
       "      <th>shipmode</th>\n",
       "      <th>profit</th>\n",
       "      <th>unitprice</th>\n",
       "      <th>shippingcost</th>\n",
       "      <th>customername</th>\n",
       "      <th>customerstate</th>\n",
       "      <th>zipcode</th>\n",
       "      <th>region</th>\n",
       "      <th>customersegment</th>\n",
       "      <th>productcategory</th>\n",
       "      <th>productsub-category</th>\n",
       "      <th>productname</th>\n",
       "      <th>productcontainer</th>\n",
       "      <th>productbasemargin</th>\n",
       "      <th>shipdate</th>\n",
       "    </tr>\n",
       "    <tr>\n",
       "      <th>orderdate</th>\n",
       "      <th></th>\n",
       "      <th></th>\n",
       "      <th></th>\n",
       "      <th></th>\n",
       "      <th></th>\n",
       "      <th></th>\n",
       "      <th></th>\n",
       "      <th></th>\n",
       "      <th></th>\n",
       "      <th></th>\n",
       "      <th></th>\n",
       "      <th></th>\n",
       "      <th></th>\n",
       "      <th></th>\n",
       "      <th></th>\n",
       "      <th></th>\n",
       "      <th></th>\n",
       "      <th></th>\n",
       "      <th></th>\n",
       "      <th></th>\n",
       "    </tr>\n",
       "  </thead>\n",
       "  <tbody>\n",
       "    <tr>\n",
       "      <th>2009-01-09</th>\n",
       "      <td>1059</td>\n",
       "      <td>Critical</td>\n",
       "      <td>24</td>\n",
       "      <td>990.10</td>\n",
       "      <td>0.03</td>\n",
       "      <td>Regular Air</td>\n",
       "      <td>310.2160</td>\n",
       "      <td>40.98</td>\n",
       "      <td>7.47</td>\n",
       "      <td>Sean O'Donnell</td>\n",
       "      <td>Maryland</td>\n",
       "      <td>21794</td>\n",
       "      <td>South</td>\n",
       "      <td>Corporate</td>\n",
       "      <td>Office Supplies</td>\n",
       "      <td>Binders and Binder Accessories</td>\n",
       "      <td>Wilson Jones Ledger-Size, Piano-Hinge Binder, ...</td>\n",
       "      <td>Small Box</td>\n",
       "      <td>0.37</td>\n",
       "      <td>2009-01-10</td>\n",
       "    </tr>\n",
       "    <tr>\n",
       "      <th>2009-01-09</th>\n",
       "      <td>1059</td>\n",
       "      <td>Critical</td>\n",
       "      <td>22</td>\n",
       "      <td>127.33</td>\n",
       "      <td>0.02</td>\n",
       "      <td>Regular Air</td>\n",
       "      <td>5.2955</td>\n",
       "      <td>5.34</td>\n",
       "      <td>2.99</td>\n",
       "      <td>Sean O'Donnell</td>\n",
       "      <td>Maryland</td>\n",
       "      <td>21794</td>\n",
       "      <td>South</td>\n",
       "      <td>Corporate</td>\n",
       "      <td>Office Supplies</td>\n",
       "      <td>Binders and Binder Accessories</td>\n",
       "      <td>Wilson Jones 14 Line Acrylic Coated Pressboard...</td>\n",
       "      <td>Small Box</td>\n",
       "      <td>0.38</td>\n",
       "      <td>2009-01-11</td>\n",
       "    </tr>\n",
       "  </tbody>\n",
       "</table>\n",
       "</div>"
      ],
      "text/plain": [
       "            orderid orderpriority  orderquantity   sales  discount  \\\n",
       "orderdate                                                            \n",
       "2009-01-09     1059      Critical             24  990.10      0.03   \n",
       "2009-01-09     1059      Critical             22  127.33      0.02   \n",
       "\n",
       "               shipmode    profit  unitprice  shippingcost    customername  \\\n",
       "orderdate                                                                    \n",
       "2009-01-09  Regular Air  310.2160      40.98          7.47  Sean O'Donnell   \n",
       "2009-01-09  Regular Air    5.2955       5.34          2.99  Sean O'Donnell   \n",
       "\n",
       "           customerstate  zipcode region customersegment  productcategory  \\\n",
       "orderdate                                                                   \n",
       "2009-01-09      Maryland    21794  South       Corporate  Office Supplies   \n",
       "2009-01-09      Maryland    21794  South       Corporate  Office Supplies   \n",
       "\n",
       "                       productsub-category  \\\n",
       "orderdate                                    \n",
       "2009-01-09  Binders and Binder Accessories   \n",
       "2009-01-09  Binders and Binder Accessories   \n",
       "\n",
       "                                                  productname  \\\n",
       "orderdate                                                       \n",
       "2009-01-09  Wilson Jones Ledger-Size, Piano-Hinge Binder, ...   \n",
       "2009-01-09  Wilson Jones 14 Line Acrylic Coated Pressboard...   \n",
       "\n",
       "           productcontainer  productbasemargin   shipdate  \n",
       "orderdate                                                  \n",
       "2009-01-09        Small Box               0.37 2009-01-10  \n",
       "2009-01-09        Small Box               0.38 2009-01-11  "
      ]
     },
     "execution_count": 44,
     "metadata": {},
     "output_type": "execute_result"
    }
   ],
   "source": [
    "jan = df['01/01/2009' : '01/31/2009']\n",
    "jan.head(2)"
   ]
  },
  {
   "cell_type": "code",
   "execution_count": 45,
   "metadata": {},
   "outputs": [
    {
     "data": {
      "text/plain": [
       "region\n",
       "East   -12084.332\n",
       "Name: profit, dtype: float64"
      ]
     },
     "execution_count": 45,
     "metadata": {},
     "output_type": "execute_result"
    }
   ],
   "source": [
    "jan.groupby('region')['profit'].sum().sort_values(ascending = False).tail(1)"
   ]
  },
  {
   "cell_type": "markdown",
   "metadata": {},
   "source": [
    "### Which zipcode areas performed so poorly?"
   ]
  },
  {
   "cell_type": "code",
   "execution_count": 46,
   "metadata": {},
   "outputs": [
    {
     "data": {
      "text/plain": [
       "zipcode\n",
       "10501   -16253.68\n",
       "Name: profit, dtype: float64"
      ]
     },
     "execution_count": 46,
     "metadata": {},
     "output_type": "execute_result"
    }
   ],
   "source": [
    "jan.groupby('zipcode')['profit'].sum().sort_values(ascending = False).tail(1)"
   ]
  },
  {
   "cell_type": "markdown",
   "metadata": {},
   "source": [
    "### Which product category performed so poorly?"
   ]
  },
  {
   "cell_type": "code",
   "execution_count": 47,
   "metadata": {},
   "outputs": [
    {
     "data": {
      "text/plain": [
       "productcategory\n",
       "Technology   -10547.701\n",
       "Name: profit, dtype: float64"
      ]
     },
     "execution_count": 47,
     "metadata": {},
     "output_type": "execute_result"
    }
   ],
   "source": [
    "jan.groupby('productcategory')['profit'].sum().sort_values(ascending = False).tail(1)"
   ]
  },
  {
   "cell_type": "markdown",
   "metadata": {},
   "source": [
    "### Which productsub-category performed so poorly?"
   ]
  },
  {
   "cell_type": "code",
   "execution_count": 48,
   "metadata": {},
   "outputs": [
    {
     "data": {
      "text/plain": [
       "productsub-category\n",
       "Copiers and Fax   -8496.27\n",
       "Name: profit, dtype: float64"
      ]
     },
     "execution_count": 48,
     "metadata": {},
     "output_type": "execute_result"
    }
   ],
   "source": [
    "jan.groupby('productsub-category')['profit'].sum().sort_values(ascending = False).tail(1)"
   ]
  },
  {
   "cell_type": "markdown",
   "metadata": {},
   "source": [
    "### Which product performed so poorly?"
   ]
  },
  {
   "cell_type": "code",
   "execution_count": 49,
   "metadata": {},
   "outputs": [
    {
     "data": {
      "text/plain": [
       "productname\n",
       "Polycom ViewStation™ ISDN Videoconferencing Unit   -16253.68\n",
       "Name: profit, dtype: float64"
      ]
     },
     "execution_count": 49,
     "metadata": {},
     "output_type": "execute_result"
    }
   ],
   "source": [
    "jan.groupby('productname')['profit'].sum().sort_values(ascending = False).tail(1)"
   ]
  },
  {
   "cell_type": "markdown",
   "metadata": {},
   "source": [
    "### Which state made had more sales?"
   ]
  },
  {
   "cell_type": "code",
   "execution_count": 51,
   "metadata": {},
   "outputs": [
    {
     "data": {
      "text/plain": [
       "customerstate  region\n",
       "Mass           East      835734.6605\n",
       "Name: sales, dtype: float64"
      ]
     },
     "execution_count": 51,
     "metadata": {},
     "output_type": "execute_result"
    }
   ],
   "source": [
    "df.groupby(['customerstate', 'region'])['sales'].sum().sort_values(ascending=False).head(1)"
   ]
  },
  {
   "cell_type": "markdown",
   "metadata": {},
   "source": [
    "### Which state and region ordered the highest quantity of products"
   ]
  },
  {
   "cell_type": "code",
   "execution_count": 53,
   "metadata": {},
   "outputs": [
    {
     "data": {
      "text/plain": [
       "customerstate  region \n",
       "Texas          Central    11178\n",
       "Name: orderquantity, dtype: int64"
      ]
     },
     "execution_count": 53,
     "metadata": {},
     "output_type": "execute_result"
    }
   ],
   "source": [
    "df.groupby(['customerstate', 'region'])['orderquantity'].sum().sort_values(ascending=False).head(1)"
   ]
  },
  {
   "cell_type": "markdown",
   "metadata": {},
   "source": [
    "### who paid the highest amount for a product and what product and quantity."
   ]
  },
  {
   "cell_type": "code",
   "execution_count": 55,
   "metadata": {},
   "outputs": [
    {
     "name": "stderr",
     "output_type": "stream",
     "text": [
      "C:\\Users\\Nana Tieku\\Saved Games\\anaconda\\lib\\site-packages\\ipykernel_launcher.py:1: FutureWarning: Indexing with multiple keys (implicitly converted to a tuple of keys) will be deprecated, use a list instead.\n",
      "  \"\"\"Entry point for launching an IPython kernel.\n"
     ]
    },
    {
     "data": {
      "text/html": [
       "<div>\n",
       "<style scoped>\n",
       "    .dataframe tbody tr th:only-of-type {\n",
       "        vertical-align: middle;\n",
       "    }\n",
       "\n",
       "    .dataframe tbody tr th {\n",
       "        vertical-align: top;\n",
       "    }\n",
       "\n",
       "    .dataframe thead th {\n",
       "        text-align: right;\n",
       "    }\n",
       "</style>\n",
       "<table border=\"1\" class=\"dataframe\">\n",
       "  <thead>\n",
       "    <tr style=\"text-align: right;\">\n",
       "      <th></th>\n",
       "      <th></th>\n",
       "      <th>sales</th>\n",
       "      <th>orderquantity</th>\n",
       "    </tr>\n",
       "    <tr>\n",
       "      <th>customername</th>\n",
       "      <th>productname</th>\n",
       "      <th></th>\n",
       "      <th></th>\n",
       "    </tr>\n",
       "  </thead>\n",
       "  <tbody>\n",
       "    <tr>\n",
       "      <th>Emily Phan</th>\n",
       "      <th>Polycom ViewStation™ ISDN Videoconferencing Unit</th>\n",
       "      <td>89061.05</td>\n",
       "      <td>13</td>\n",
       "    </tr>\n",
       "  </tbody>\n",
       "</table>\n",
       "</div>"
      ],
      "text/plain": [
       "                                                                  sales  \\\n",
       "customername productname                                                  \n",
       "Emily Phan   Polycom ViewStation™ ISDN Videoconferencing Unit  89061.05   \n",
       "\n",
       "                                                               orderquantity  \n",
       "customername productname                                                      \n",
       "Emily Phan   Polycom ViewStation™ ISDN Videoconferencing Unit             13  "
      ]
     },
     "execution_count": 55,
     "metadata": {},
     "output_type": "execute_result"
    }
   ],
   "source": [
    "df.groupby(['customername', 'productname'])['sales', 'orderquantity'].sum().sort_values(by=['sales', 'orderquantity'], ascending=False).head(1)"
   ]
  },
  {
   "cell_type": "markdown",
   "metadata": {},
   "source": [
    "### What is the total shipping cost and which shihpping mode cost the highest?"
   ]
  },
  {
   "cell_type": "code",
   "execution_count": 57,
   "metadata": {},
   "outputs": [
    {
     "data": {
      "text/plain": [
       "107981.13"
      ]
     },
     "execution_count": 57,
     "metadata": {},
     "output_type": "execute_result"
    }
   ],
   "source": [
    "df.shippingcost.sum()"
   ]
  },
  {
   "cell_type": "code",
   "execution_count": 58,
   "metadata": {},
   "outputs": [
    {
     "data": {
      "text/plain": [
       "shipmode\n",
       "Delivery Truck    52121.79\n",
       "Name: shippingcost, dtype: float64"
      ]
     },
     "execution_count": 58,
     "metadata": {},
     "output_type": "execute_result"
    }
   ],
   "source": [
    "df.groupby('shipmode')['shippingcost'].sum().sort_values(ascending=False).head(1)"
   ]
  },
  {
   "cell_type": "markdown",
   "metadata": {},
   "source": [
    "# Findings"
   ]
  },
  {
   "cell_type": "markdown",
   "metadata": {},
   "source": [
    "## Within 2008 and 2012, the activitis of Superstore across the United States came in the limelight to assess the performance base on a number of variables. These variable includes, sales, profit, quantity ordered, the type of product, the product category, the product sub-category, the individual States, Regions, shipping cost, shipping mode etc. Our analysis gave us the following insight.\n",
    "### 1. Our total sales and profit came up to be 14,907,053.254 and 1,523,588.6295 respectively.\n",
    "### 2. There exist a seasonal trend which begins December 2008 to December 2012 with highest quarter for sales is March 2009, the mean sales records December 2012 as seen on our data visialization. The seasonal trend for profit showed the highest quarter for profit to be December 2010 with mean for each quarter seen through the visualisation.\n",
    "### 3. Looking at the sales volume in each product category, we found out that Tchnology is the product category doing well. A critical look at the top two product category in terms of profit were Tchnology and office supplies.\n",
    "### 4. Our findings delved into the knowing the region with the product cayegory that performed well and poorly. our results showed South with Technology as the prodyct category made the most profit and East with Furniture giving the least profit. The State in the East with the least profit in terms of product category was New Jersey with Furniture as the product category.\n",
    "### 5. In the year 2012, the State of Nebraska had the least profit with  Lexmark 4227 Plus Dot Matrix Printer as the product. Overall, Nebraska Central is the most profitable.\n",
    "### 6. In our day to day life, most of us know that to ascertain profit, we must make more sales to exceed out cost incurred. Therefore, the more you make sales, the more you make profit. Our findings showed a positive correlation between sales and profit. The best fit line that is the regression line also showed a positive slope. Thus, as sales increases, profit increases.\n",
    "### 7. In the year 2009, our analysis gave us some variables performing poorly in relation to profit. The East region, zip code 10501, furniture as product category, table as product sub-category and Okidata Pacemark 4410N Wide Format Dot Matrix Printer as a product performed poorly.\n",
    "### 8. During the month January 2009, East as a region, 10501 as the zip code, Technology as the product category, copiers and fax as the product sub-category and Polycom ViewStation™ ISDN Videoconferencing Unit as the product performed poorly in relation to profit.\n",
    "### 9. Other findings were the State with the highest sales which was Mass, Emily Phan being the person who purchased more items and Texas being the State with the hight purchase in quantity of products from Superstore.\n",
    "### In conclusion, our analysis provided as with an insight to know which product sells over the years, the State that performed well and poorly in terms of sales and profit, the region that performed well and poorly in relation to sales and profit and so forth.\n",
    "\n",
    "\n",
    "\n",
    "\n"
   ]
  },
  {
   "cell_type": "code",
   "execution_count": null,
   "metadata": {},
   "outputs": [],
   "source": []
  }
 ],
 "metadata": {
  "hide_input": false,
  "kernelspec": {
   "display_name": "Python 3",
   "language": "python",
   "name": "python3"
  },
  "language_info": {
   "codemirror_mode": {
    "name": "ipython",
    "version": 3
   },
   "file_extension": ".py",
   "mimetype": "text/x-python",
   "name": "python",
   "nbconvert_exporter": "python",
   "pygments_lexer": "ipython3",
   "version": "3.8.5"
  },
  "toc": {
   "base_numbering": 1,
   "nav_menu": {},
   "number_sections": true,
   "sideBar": true,
   "skip_h1_title": false,
   "title_cell": "Table of Contents",
   "title_sidebar": "Contents",
   "toc_cell": false,
   "toc_position": {},
   "toc_section_display": true,
   "toc_window_display": false
  },
  "varInspector": {
   "cols": {
    "lenName": 16,
    "lenType": 16,
    "lenVar": 40
   },
   "kernels_config": {
    "python": {
     "delete_cmd_postfix": "",
     "delete_cmd_prefix": "del ",
     "library": "var_list.py",
     "varRefreshCmd": "print(var_dic_list())"
    },
    "r": {
     "delete_cmd_postfix": ") ",
     "delete_cmd_prefix": "rm(",
     "library": "var_list.r",
     "varRefreshCmd": "cat(var_dic_list()) "
    }
   },
   "types_to_exclude": [
    "module",
    "function",
    "builtin_function_or_method",
    "instance",
    "_Feature"
   ],
   "window_display": false
  }
 },
 "nbformat": 4,
 "nbformat_minor": 2
}
