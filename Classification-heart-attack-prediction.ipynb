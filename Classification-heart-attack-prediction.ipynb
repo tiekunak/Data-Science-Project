{
 "cells": [
  {
   "cell_type": "code",
   "execution_count": 167,
   "metadata": {
    "_cell_guid": "b1076dfc-b9ad-4769-8c92-a6c4dae69d19",
    "_uuid": "8f2839f25d086af736a60e9eeb907d3b93b6e0e5",
    "execution": {
     "iopub.execute_input": "2021-05-31T03:58:20.399375Z",
     "iopub.status.busy": "2021-05-31T03:58:20.398893Z",
     "iopub.status.idle": "2021-05-31T03:58:20.411301Z",
     "shell.execute_reply": "2021-05-31T03:58:20.410233Z",
     "shell.execute_reply.started": "2021-05-31T03:58:20.399335Z"
    }
   },
   "outputs": [
    {
     "name": "stdout",
     "output_type": "stream",
     "text": [
      "/kaggle/input/heart-attack-analysis-prediction-dataset/o2Saturation.csv\n",
      "/kaggle/input/heart-attack-analysis-prediction-dataset/heart.csv\n"
     ]
    }
   ],
   "source": [
    "# This Python 3 environment comes with many helpful analytics libraries installed\n",
    "# It is defined by the kaggle/python Docker image: https://github.com/kaggle/docker-python\n",
    "# For example, here's several helpful packages to load\n",
    "\n",
    "import numpy as np # linear algebra\n",
    "import pandas as pd # data processing, CSV file I/O (e.g. pd.read_csv)\n",
    "\n",
    "# Input data files are available in the read-only \"../input/\" directory\n",
    "# For example, running this (by clicking run or pressing Shift+Enter) will list all files under the input directory\n",
    "\n",
    "import os\n",
    "for dirname, _, filenames in os.walk('/kaggle/input'):\n",
    "    for filename in filenames:\n",
    "        print(os.path.join(dirname, filename))\n",
    "\n",
    "# You can write up to 20GB to the current directory (/kaggle/working/) that gets preserved as output when you create a version using \"Save & Run All\" \n",
    "# You can also write temporary files to /kaggle/temp/, but they won't be saved outside of the current session"
   ]
  },
  {
   "cell_type": "code",
   "execution_count": 168,
   "metadata": {
    "execution": {
     "iopub.execute_input": "2021-05-31T03:58:20.425974Z",
     "iopub.status.busy": "2021-05-31T03:58:20.425553Z",
     "iopub.status.idle": "2021-05-31T03:58:20.441141Z",
     "shell.execute_reply": "2021-05-31T03:58:20.440070Z",
     "shell.execute_reply.started": "2021-05-31T03:58:20.425942Z"
    }
   },
   "outputs": [],
   "source": [
    "import numpy as np\n",
    "import pandas as pd\n",
    "import matplotlib.pyplot as plt\n",
    "import seaborn as sns\n",
    "%matplotlib inline\n",
    "\n",
    "# Classifiers\n",
    "#import decisiontreeclassifier\n",
    "from sklearn import tree\n",
    "from sklearn.tree import export_text\n",
    "from sklearn.tree import DecisionTreeClassifier\n",
    "#import logisticregression classifier\n",
    "from sklearn.linear_model import LogisticRegression\n",
    "\n",
    "#import knn classifier\n",
    "from sklearn.neighbors import KNeighborsClassifier\n",
    "\n",
    "#for validating your classification model\n",
    "from sklearn.model_selection import train_test_split\n",
    "from sklearn.model_selection import cross_val_score\n",
    "from sklearn import metrics\n",
    "from sklearn.metrics import roc_curve, auc\n",
    "from sklearn.metrics import roc_auc_score\n",
    "\n",
    "# feature selection\n",
    "from sklearn.feature_selection import RFE\n",
    "from sklearn.ensemble import ExtraTreesClassifier\n",
    "from sklearn.feature_selection import SelectKBest\n",
    "from sklearn.feature_selection import chi2\n",
    "\n",
    "from sklearn.ensemble import RandomForestClassifier\n",
    "\n",
    "# grid search\n",
    "from sklearn.model_selection import GridSearchCV\n",
    "\n",
    "# advanced algorthms\n",
    "from sklearn.neural_network import MLPClassifier\n",
    "from sklearn.ensemble import GradientBoostingClassifier\n",
    "from sklearn.svm import SVC\n",
    "\n",
    "#ignore warning\n",
    "import warnings\n",
    "warnings.filterwarnings(\"ignore\")"
   ]
  },
  {
   "cell_type": "code",
   "execution_count": 169,
   "metadata": {
    "execution": {
     "iopub.execute_input": "2021-05-31T03:58:20.454420Z",
     "iopub.status.busy": "2021-05-31T03:58:20.453790Z",
     "iopub.status.idle": "2021-05-31T03:58:20.478561Z",
     "shell.execute_reply": "2021-05-31T03:58:20.477534Z",
     "shell.execute_reply.started": "2021-05-31T03:58:20.454382Z"
    }
   },
   "outputs": [
    {
     "data": {
      "text/html": [
       "<div>\n",
       "<style scoped>\n",
       "    .dataframe tbody tr th:only-of-type {\n",
       "        vertical-align: middle;\n",
       "    }\n",
       "\n",
       "    .dataframe tbody tr th {\n",
       "        vertical-align: top;\n",
       "    }\n",
       "\n",
       "    .dataframe thead th {\n",
       "        text-align: right;\n",
       "    }\n",
       "</style>\n",
       "<table border=\"1\" class=\"dataframe\">\n",
       "  <thead>\n",
       "    <tr style=\"text-align: right;\">\n",
       "      <th></th>\n",
       "      <th>age</th>\n",
       "      <th>sex</th>\n",
       "      <th>cp</th>\n",
       "      <th>trtbps</th>\n",
       "      <th>chol</th>\n",
       "      <th>fbs</th>\n",
       "      <th>restecg</th>\n",
       "      <th>thalachh</th>\n",
       "      <th>exng</th>\n",
       "      <th>oldpeak</th>\n",
       "      <th>slp</th>\n",
       "      <th>caa</th>\n",
       "      <th>thall</th>\n",
       "      <th>output</th>\n",
       "    </tr>\n",
       "  </thead>\n",
       "  <tbody>\n",
       "    <tr>\n",
       "      <th>0</th>\n",
       "      <td>63</td>\n",
       "      <td>1</td>\n",
       "      <td>3</td>\n",
       "      <td>145</td>\n",
       "      <td>233</td>\n",
       "      <td>1</td>\n",
       "      <td>0</td>\n",
       "      <td>150</td>\n",
       "      <td>0</td>\n",
       "      <td>2.3</td>\n",
       "      <td>0</td>\n",
       "      <td>0</td>\n",
       "      <td>1</td>\n",
       "      <td>1</td>\n",
       "    </tr>\n",
       "    <tr>\n",
       "      <th>1</th>\n",
       "      <td>37</td>\n",
       "      <td>1</td>\n",
       "      <td>2</td>\n",
       "      <td>130</td>\n",
       "      <td>250</td>\n",
       "      <td>0</td>\n",
       "      <td>1</td>\n",
       "      <td>187</td>\n",
       "      <td>0</td>\n",
       "      <td>3.5</td>\n",
       "      <td>0</td>\n",
       "      <td>0</td>\n",
       "      <td>2</td>\n",
       "      <td>1</td>\n",
       "    </tr>\n",
       "    <tr>\n",
       "      <th>2</th>\n",
       "      <td>41</td>\n",
       "      <td>0</td>\n",
       "      <td>1</td>\n",
       "      <td>130</td>\n",
       "      <td>204</td>\n",
       "      <td>0</td>\n",
       "      <td>0</td>\n",
       "      <td>172</td>\n",
       "      <td>0</td>\n",
       "      <td>1.4</td>\n",
       "      <td>2</td>\n",
       "      <td>0</td>\n",
       "      <td>2</td>\n",
       "      <td>1</td>\n",
       "    </tr>\n",
       "    <tr>\n",
       "      <th>3</th>\n",
       "      <td>56</td>\n",
       "      <td>1</td>\n",
       "      <td>1</td>\n",
       "      <td>120</td>\n",
       "      <td>236</td>\n",
       "      <td>0</td>\n",
       "      <td>1</td>\n",
       "      <td>178</td>\n",
       "      <td>0</td>\n",
       "      <td>0.8</td>\n",
       "      <td>2</td>\n",
       "      <td>0</td>\n",
       "      <td>2</td>\n",
       "      <td>1</td>\n",
       "    </tr>\n",
       "    <tr>\n",
       "      <th>4</th>\n",
       "      <td>57</td>\n",
       "      <td>0</td>\n",
       "      <td>0</td>\n",
       "      <td>120</td>\n",
       "      <td>354</td>\n",
       "      <td>0</td>\n",
       "      <td>1</td>\n",
       "      <td>163</td>\n",
       "      <td>1</td>\n",
       "      <td>0.6</td>\n",
       "      <td>2</td>\n",
       "      <td>0</td>\n",
       "      <td>2</td>\n",
       "      <td>1</td>\n",
       "    </tr>\n",
       "  </tbody>\n",
       "</table>\n",
       "</div>"
      ],
      "text/plain": [
       "   age  sex  cp  trtbps  chol  fbs  restecg  thalachh  exng  oldpeak  slp  \\\n",
       "0   63    1   3     145   233    1        0       150     0      2.3    0   \n",
       "1   37    1   2     130   250    0        1       187     0      3.5    0   \n",
       "2   41    0   1     130   204    0        0       172     0      1.4    2   \n",
       "3   56    1   1     120   236    0        1       178     0      0.8    2   \n",
       "4   57    0   0     120   354    0        1       163     1      0.6    2   \n",
       "\n",
       "   caa  thall  output  \n",
       "0    0      1       1  \n",
       "1    0      2       1  \n",
       "2    0      2       1  \n",
       "3    0      2       1  \n",
       "4    0      2       1  "
      ]
     },
     "execution_count": 169,
     "metadata": {},
     "output_type": "execute_result"
    }
   ],
   "source": [
    "# load data\n",
    "cl = pd.read_csv('/kaggle/input/heart-attack-analysis-prediction-dataset/heart.csv')\n",
    "cl.head()"
   ]
  },
  {
   "cell_type": "code",
   "execution_count": 170,
   "metadata": {
    "execution": {
     "iopub.execute_input": "2021-05-31T03:58:20.480445Z",
     "iopub.status.busy": "2021-05-31T03:58:20.480065Z",
     "iopub.status.idle": "2021-05-31T03:58:20.498397Z",
     "shell.execute_reply": "2021-05-31T03:58:20.497371Z",
     "shell.execute_reply.started": "2021-05-31T03:58:20.480408Z"
    }
   },
   "outputs": [
    {
     "name": "stdout",
     "output_type": "stream",
     "text": [
      "<class 'pandas.core.frame.DataFrame'>\n",
      "RangeIndex: 303 entries, 0 to 302\n",
      "Data columns (total 14 columns):\n",
      " #   Column    Non-Null Count  Dtype  \n",
      "---  ------    --------------  -----  \n",
      " 0   age       303 non-null    int64  \n",
      " 1   sex       303 non-null    int64  \n",
      " 2   cp        303 non-null    int64  \n",
      " 3   trtbps    303 non-null    int64  \n",
      " 4   chol      303 non-null    int64  \n",
      " 5   fbs       303 non-null    int64  \n",
      " 6   restecg   303 non-null    int64  \n",
      " 7   thalachh  303 non-null    int64  \n",
      " 8   exng      303 non-null    int64  \n",
      " 9   oldpeak   303 non-null    float64\n",
      " 10  slp       303 non-null    int64  \n",
      " 11  caa       303 non-null    int64  \n",
      " 12  thall     303 non-null    int64  \n",
      " 13  output    303 non-null    int64  \n",
      "dtypes: float64(1), int64(13)\n",
      "memory usage: 33.3 KB\n"
     ]
    }
   ],
   "source": [
    "# Looking for data type\n",
    "cl.info()"
   ]
  },
  {
   "cell_type": "code",
   "execution_count": 171,
   "metadata": {
    "execution": {
     "iopub.execute_input": "2021-05-31T03:58:20.503633Z",
     "iopub.status.busy": "2021-05-31T03:58:20.503079Z",
     "iopub.status.idle": "2021-05-31T03:58:20.516987Z",
     "shell.execute_reply": "2021-05-31T03:58:20.516053Z",
     "shell.execute_reply.started": "2021-05-31T03:58:20.503596Z"
    }
   },
   "outputs": [
    {
     "data": {
      "text/plain": [
       "age         0\n",
       "sex         0\n",
       "cp          0\n",
       "trtbps      0\n",
       "chol        0\n",
       "fbs         0\n",
       "restecg     0\n",
       "thalachh    0\n",
       "exng        0\n",
       "oldpeak     0\n",
       "slp         0\n",
       "caa         0\n",
       "thall       0\n",
       "output      0\n",
       "dtype: int64"
      ]
     },
     "execution_count": 171,
     "metadata": {},
     "output_type": "execute_result"
    }
   ],
   "source": [
    "# looking for null values in the dataset\n",
    "cl.isnull().sum()"
   ]
  },
  {
   "cell_type": "markdown",
   "metadata": {},
   "source": [
    "# Decriptive Analysis and Data Visualization"
   ]
  },
  {
   "cell_type": "code",
   "execution_count": 172,
   "metadata": {
    "execution": {
     "iopub.execute_input": "2021-05-31T03:58:20.522485Z",
     "iopub.status.busy": "2021-05-31T03:58:20.522106Z",
     "iopub.status.idle": "2021-05-31T03:58:20.580308Z",
     "shell.execute_reply": "2021-05-31T03:58:20.579110Z",
     "shell.execute_reply.started": "2021-05-31T03:58:20.522454Z"
    }
   },
   "outputs": [
    {
     "data": {
      "text/html": [
       "<div>\n",
       "<style scoped>\n",
       "    .dataframe tbody tr th:only-of-type {\n",
       "        vertical-align: middle;\n",
       "    }\n",
       "\n",
       "    .dataframe tbody tr th {\n",
       "        vertical-align: top;\n",
       "    }\n",
       "\n",
       "    .dataframe thead th {\n",
       "        text-align: right;\n",
       "    }\n",
       "</style>\n",
       "<table border=\"1\" class=\"dataframe\">\n",
       "  <thead>\n",
       "    <tr style=\"text-align: right;\">\n",
       "      <th></th>\n",
       "      <th>age</th>\n",
       "      <th>sex</th>\n",
       "      <th>cp</th>\n",
       "      <th>trtbps</th>\n",
       "      <th>chol</th>\n",
       "      <th>fbs</th>\n",
       "      <th>restecg</th>\n",
       "      <th>thalachh</th>\n",
       "      <th>exng</th>\n",
       "      <th>oldpeak</th>\n",
       "      <th>slp</th>\n",
       "      <th>caa</th>\n",
       "      <th>thall</th>\n",
       "      <th>output</th>\n",
       "    </tr>\n",
       "  </thead>\n",
       "  <tbody>\n",
       "    <tr>\n",
       "      <th>count</th>\n",
       "      <td>303.000000</td>\n",
       "      <td>303.000000</td>\n",
       "      <td>303.000000</td>\n",
       "      <td>303.000000</td>\n",
       "      <td>303.000000</td>\n",
       "      <td>303.000000</td>\n",
       "      <td>303.000000</td>\n",
       "      <td>303.000000</td>\n",
       "      <td>303.000000</td>\n",
       "      <td>303.000000</td>\n",
       "      <td>303.000000</td>\n",
       "      <td>303.000000</td>\n",
       "      <td>303.000000</td>\n",
       "      <td>303.000000</td>\n",
       "    </tr>\n",
       "    <tr>\n",
       "      <th>mean</th>\n",
       "      <td>54.366337</td>\n",
       "      <td>0.683168</td>\n",
       "      <td>0.966997</td>\n",
       "      <td>131.623762</td>\n",
       "      <td>246.264026</td>\n",
       "      <td>0.148515</td>\n",
       "      <td>0.528053</td>\n",
       "      <td>149.646865</td>\n",
       "      <td>0.326733</td>\n",
       "      <td>1.039604</td>\n",
       "      <td>1.399340</td>\n",
       "      <td>0.729373</td>\n",
       "      <td>2.313531</td>\n",
       "      <td>0.544554</td>\n",
       "    </tr>\n",
       "    <tr>\n",
       "      <th>std</th>\n",
       "      <td>9.082101</td>\n",
       "      <td>0.466011</td>\n",
       "      <td>1.032052</td>\n",
       "      <td>17.538143</td>\n",
       "      <td>51.830751</td>\n",
       "      <td>0.356198</td>\n",
       "      <td>0.525860</td>\n",
       "      <td>22.905161</td>\n",
       "      <td>0.469794</td>\n",
       "      <td>1.161075</td>\n",
       "      <td>0.616226</td>\n",
       "      <td>1.022606</td>\n",
       "      <td>0.612277</td>\n",
       "      <td>0.498835</td>\n",
       "    </tr>\n",
       "    <tr>\n",
       "      <th>min</th>\n",
       "      <td>29.000000</td>\n",
       "      <td>0.000000</td>\n",
       "      <td>0.000000</td>\n",
       "      <td>94.000000</td>\n",
       "      <td>126.000000</td>\n",
       "      <td>0.000000</td>\n",
       "      <td>0.000000</td>\n",
       "      <td>71.000000</td>\n",
       "      <td>0.000000</td>\n",
       "      <td>0.000000</td>\n",
       "      <td>0.000000</td>\n",
       "      <td>0.000000</td>\n",
       "      <td>0.000000</td>\n",
       "      <td>0.000000</td>\n",
       "    </tr>\n",
       "    <tr>\n",
       "      <th>25%</th>\n",
       "      <td>47.500000</td>\n",
       "      <td>0.000000</td>\n",
       "      <td>0.000000</td>\n",
       "      <td>120.000000</td>\n",
       "      <td>211.000000</td>\n",
       "      <td>0.000000</td>\n",
       "      <td>0.000000</td>\n",
       "      <td>133.500000</td>\n",
       "      <td>0.000000</td>\n",
       "      <td>0.000000</td>\n",
       "      <td>1.000000</td>\n",
       "      <td>0.000000</td>\n",
       "      <td>2.000000</td>\n",
       "      <td>0.000000</td>\n",
       "    </tr>\n",
       "    <tr>\n",
       "      <th>50%</th>\n",
       "      <td>55.000000</td>\n",
       "      <td>1.000000</td>\n",
       "      <td>1.000000</td>\n",
       "      <td>130.000000</td>\n",
       "      <td>240.000000</td>\n",
       "      <td>0.000000</td>\n",
       "      <td>1.000000</td>\n",
       "      <td>153.000000</td>\n",
       "      <td>0.000000</td>\n",
       "      <td>0.800000</td>\n",
       "      <td>1.000000</td>\n",
       "      <td>0.000000</td>\n",
       "      <td>2.000000</td>\n",
       "      <td>1.000000</td>\n",
       "    </tr>\n",
       "    <tr>\n",
       "      <th>75%</th>\n",
       "      <td>61.000000</td>\n",
       "      <td>1.000000</td>\n",
       "      <td>2.000000</td>\n",
       "      <td>140.000000</td>\n",
       "      <td>274.500000</td>\n",
       "      <td>0.000000</td>\n",
       "      <td>1.000000</td>\n",
       "      <td>166.000000</td>\n",
       "      <td>1.000000</td>\n",
       "      <td>1.600000</td>\n",
       "      <td>2.000000</td>\n",
       "      <td>1.000000</td>\n",
       "      <td>3.000000</td>\n",
       "      <td>1.000000</td>\n",
       "    </tr>\n",
       "    <tr>\n",
       "      <th>max</th>\n",
       "      <td>77.000000</td>\n",
       "      <td>1.000000</td>\n",
       "      <td>3.000000</td>\n",
       "      <td>200.000000</td>\n",
       "      <td>564.000000</td>\n",
       "      <td>1.000000</td>\n",
       "      <td>2.000000</td>\n",
       "      <td>202.000000</td>\n",
       "      <td>1.000000</td>\n",
       "      <td>6.200000</td>\n",
       "      <td>2.000000</td>\n",
       "      <td>4.000000</td>\n",
       "      <td>3.000000</td>\n",
       "      <td>1.000000</td>\n",
       "    </tr>\n",
       "  </tbody>\n",
       "</table>\n",
       "</div>"
      ],
      "text/plain": [
       "              age         sex          cp      trtbps        chol         fbs  \\\n",
       "count  303.000000  303.000000  303.000000  303.000000  303.000000  303.000000   \n",
       "mean    54.366337    0.683168    0.966997  131.623762  246.264026    0.148515   \n",
       "std      9.082101    0.466011    1.032052   17.538143   51.830751    0.356198   \n",
       "min     29.000000    0.000000    0.000000   94.000000  126.000000    0.000000   \n",
       "25%     47.500000    0.000000    0.000000  120.000000  211.000000    0.000000   \n",
       "50%     55.000000    1.000000    1.000000  130.000000  240.000000    0.000000   \n",
       "75%     61.000000    1.000000    2.000000  140.000000  274.500000    0.000000   \n",
       "max     77.000000    1.000000    3.000000  200.000000  564.000000    1.000000   \n",
       "\n",
       "          restecg    thalachh        exng     oldpeak         slp         caa  \\\n",
       "count  303.000000  303.000000  303.000000  303.000000  303.000000  303.000000   \n",
       "mean     0.528053  149.646865    0.326733    1.039604    1.399340    0.729373   \n",
       "std      0.525860   22.905161    0.469794    1.161075    0.616226    1.022606   \n",
       "min      0.000000   71.000000    0.000000    0.000000    0.000000    0.000000   \n",
       "25%      0.000000  133.500000    0.000000    0.000000    1.000000    0.000000   \n",
       "50%      1.000000  153.000000    0.000000    0.800000    1.000000    0.000000   \n",
       "75%      1.000000  166.000000    1.000000    1.600000    2.000000    1.000000   \n",
       "max      2.000000  202.000000    1.000000    6.200000    2.000000    4.000000   \n",
       "\n",
       "            thall      output  \n",
       "count  303.000000  303.000000  \n",
       "mean     2.313531    0.544554  \n",
       "std      0.612277    0.498835  \n",
       "min      0.000000    0.000000  \n",
       "25%      2.000000    0.000000  \n",
       "50%      2.000000    1.000000  \n",
       "75%      3.000000    1.000000  \n",
       "max      3.000000    1.000000  "
      ]
     },
     "execution_count": 172,
     "metadata": {},
     "output_type": "execute_result"
    }
   ],
   "source": [
    "# to check outliers\n",
    "cl.describe()"
   ]
  },
  {
   "cell_type": "code",
   "execution_count": 173,
   "metadata": {
    "execution": {
     "iopub.execute_input": "2021-05-31T03:58:20.582389Z",
     "iopub.status.busy": "2021-05-31T03:58:20.582073Z",
     "iopub.status.idle": "2021-05-31T03:58:20.590277Z",
     "shell.execute_reply": "2021-05-31T03:58:20.589354Z",
     "shell.execute_reply.started": "2021-05-31T03:58:20.582362Z"
    }
   },
   "outputs": [
    {
     "data": {
      "text/plain": [
       "output\n",
       "0    138\n",
       "1    165\n",
       "dtype: int64"
      ]
     },
     "execution_count": 173,
     "metadata": {},
     "output_type": "execute_result"
    }
   ],
   "source": [
    "# Pivot talbe for output thus those less chance of heart attack and more chance of heart attack.\n",
    "cl.groupby(['output']).size()"
   ]
  },
  {
   "cell_type": "code",
   "execution_count": 174,
   "metadata": {
    "execution": {
     "iopub.execute_input": "2021-05-31T03:58:20.592131Z",
     "iopub.status.busy": "2021-05-31T03:58:20.591857Z",
     "iopub.status.idle": "2021-05-31T03:58:20.735396Z",
     "shell.execute_reply": "2021-05-31T03:58:20.734216Z",
     "shell.execute_reply.started": "2021-05-31T03:58:20.592105Z"
    }
   },
   "outputs": [
    {
     "data": {
      "text/plain": [
       "<AxesSubplot:xlabel='output'>"
      ]
     },
     "execution_count": 174,
     "metadata": {},
     "output_type": "execute_result"
    },
    {
     "data": {
      "image/png": "[encoded data removed]",
      "text/plain": [
       "<Figure size 432x288 with 1 Axes>"
      ]
     },
     "metadata": {
      "needs_background": "light"
     },
     "output_type": "display_data"
    }
   ],
   "source": [
    "# plot for output\n",
    "cl.groupby(['output']).size().plot(kind='bar')"
   ]
  },
  {
   "cell_type": "code",
   "execution_count": 175,
   "metadata": {
    "execution": {
     "iopub.execute_input": "2021-05-31T03:58:20.739428Z",
     "iopub.status.busy": "2021-05-31T03:58:20.738892Z",
     "iopub.status.idle": "2021-05-31T03:58:20.751229Z",
     "shell.execute_reply": "2021-05-31T03:58:20.749977Z",
     "shell.execute_reply.started": "2021-05-31T03:58:20.739376Z"
    }
   },
   "outputs": [
    {
     "data": {
      "text/plain": [
       "output  sex\n",
       "0       0       24\n",
       "        1      114\n",
       "1       0       72\n",
       "        1       93\n",
       "dtype: int64"
      ]
     },
     "execution_count": 175,
     "metadata": {},
     "output_type": "execute_result"
    }
   ],
   "source": [
    "cl.groupby(['output', 'sex']).size()"
   ]
  },
  {
   "cell_type": "code",
   "execution_count": 176,
   "metadata": {
    "execution": {
     "iopub.execute_input": "2021-05-31T03:58:20.754757Z",
     "iopub.status.busy": "2021-05-31T03:58:20.754360Z",
     "iopub.status.idle": "2021-05-31T03:58:20.768911Z",
     "shell.execute_reply": "2021-05-31T03:58:20.767424Z",
     "shell.execute_reply.started": "2021-05-31T03:58:20.754724Z"
    }
   },
   "outputs": [
    {
     "data": {
      "text/plain": [
       "output  fbs\n",
       "0       0      116\n",
       "        1       22\n",
       "1       0      142\n",
       "        1       23\n",
       "dtype: int64"
      ]
     },
     "execution_count": 176,
     "metadata": {},
     "output_type": "execute_result"
    }
   ],
   "source": [
    "cl.groupby(['output', 'fbs']).size()"
   ]
  },
  {
   "cell_type": "code",
   "execution_count": 177,
   "metadata": {
    "execution": {
     "iopub.execute_input": "2021-05-31T03:58:20.770854Z",
     "iopub.status.busy": "2021-05-31T03:58:20.770485Z",
     "iopub.status.idle": "2021-05-31T03:58:20.786481Z",
     "shell.execute_reply": "2021-05-31T03:58:20.785126Z",
     "shell.execute_reply.started": "2021-05-31T03:58:20.770823Z"
    }
   },
   "outputs": [
    {
     "data": {
      "text/plain": [
       "output  slp\n",
       "0       0       12\n",
       "        1       91\n",
       "        2       35\n",
       "1       0        9\n",
       "        1       49\n",
       "        2      107\n",
       "dtype: int64"
      ]
     },
     "execution_count": 177,
     "metadata": {},
     "output_type": "execute_result"
    }
   ],
   "source": [
    "cl.groupby(['output', 'slp']).size()"
   ]
  },
  {
   "cell_type": "code",
   "execution_count": 178,
   "metadata": {
    "execution": {
     "iopub.execute_input": "2021-05-31T03:58:20.788202Z",
     "iopub.status.busy": "2021-05-31T03:58:20.787856Z",
     "iopub.status.idle": "2021-05-31T03:58:21.148274Z",
     "shell.execute_reply": "2021-05-31T03:58:21.147144Z",
     "shell.execute_reply.started": "2021-05-31T03:58:20.788172Z"
    }
   },
   "outputs": [
    {
     "data": {
      "text/plain": [
       "<AxesSubplot:xlabel='sex', ylabel='output'>"
      ]
     },
     "execution_count": 178,
     "metadata": {},
     "output_type": "execute_result"
    },
    {
     "data": {
      "image/png": "[encoded data removed]",
      "text/plain": [
       "<Figure size 432x288 with 1 Axes>"
      ]
     },
     "metadata": {
      "needs_background": "light"
     },
     "output_type": "display_data"
    }
   ],
   "source": [
    "# data visualisation for output and age\n",
    "sns.violinplot(x=\"sex\", y=\"output\", data=cl)"
   ]
  },
  {
   "cell_type": "code",
   "execution_count": 179,
   "metadata": {
    "execution": {
     "iopub.execute_input": "2021-05-31T03:58:21.151947Z",
     "iopub.status.busy": "2021-05-31T03:58:21.151646Z",
     "iopub.status.idle": "2021-05-31T03:58:21.430511Z",
     "shell.execute_reply": "2021-05-31T03:58:21.429749Z",
     "shell.execute_reply.started": "2021-05-31T03:58:21.151917Z"
    }
   },
   "outputs": [
    {
     "data": {
      "text/plain": [
       "<seaborn.axisgrid.FacetGrid at 0x7f1d2ddaa290>"
      ]
     },
     "execution_count": 179,
     "metadata": {},
     "output_type": "execute_result"
    },
    {
     "data": {
      "image/png": "[encoded data removed]",
      "text/plain": [
       "<Figure size 360x360 with 1 Axes>"
      ]
     },
     "metadata": {
      "needs_background": "light"
     },
     "output_type": "display_data"
    }
   ],
   "source": [
    "# data visualisation for output and chol\n",
    "sns.catplot(\"output\", \"chol\", data=cl, kind='bar')"
   ]
  },
  {
   "cell_type": "markdown",
   "metadata": {},
   "source": [
    "# Exploratory Analysis"
   ]
  },
  {
   "cell_type": "code",
   "execution_count": 180,
   "metadata": {
    "execution": {
     "iopub.execute_input": "2021-05-31T03:58:21.431987Z",
     "iopub.status.busy": "2021-05-31T03:58:21.431565Z",
     "iopub.status.idle": "2021-05-31T03:58:21.461292Z",
     "shell.execute_reply": "2021-05-31T03:58:21.459846Z",
     "shell.execute_reply.started": "2021-05-31T03:58:21.431940Z"
    }
   },
   "outputs": [
    {
     "data": {
      "text/html": [
       "<div>\n",
       "<style scoped>\n",
       "    .dataframe tbody tr th:only-of-type {\n",
       "        vertical-align: middle;\n",
       "    }\n",
       "\n",
       "    .dataframe tbody tr th {\n",
       "        vertical-align: top;\n",
       "    }\n",
       "\n",
       "    .dataframe thead th {\n",
       "        text-align: right;\n",
       "    }\n",
       "</style>\n",
       "<table border=\"1\" class=\"dataframe\">\n",
       "  <thead>\n",
       "    <tr style=\"text-align: right;\">\n",
       "      <th></th>\n",
       "      <th>age</th>\n",
       "      <th>sex</th>\n",
       "      <th>cp</th>\n",
       "      <th>trtbps</th>\n",
       "      <th>chol</th>\n",
       "      <th>fbs</th>\n",
       "      <th>restecg</th>\n",
       "      <th>thalachh</th>\n",
       "      <th>exng</th>\n",
       "      <th>oldpeak</th>\n",
       "      <th>slp</th>\n",
       "      <th>caa</th>\n",
       "      <th>thall</th>\n",
       "      <th>output</th>\n",
       "    </tr>\n",
       "  </thead>\n",
       "  <tbody>\n",
       "    <tr>\n",
       "      <th>age</th>\n",
       "      <td>1.000000</td>\n",
       "      <td>-0.098447</td>\n",
       "      <td>-0.068653</td>\n",
       "      <td>0.279351</td>\n",
       "      <td>0.213678</td>\n",
       "      <td>0.121308</td>\n",
       "      <td>-0.116211</td>\n",
       "      <td>-0.398522</td>\n",
       "      <td>0.096801</td>\n",
       "      <td>0.210013</td>\n",
       "      <td>-0.168814</td>\n",
       "      <td>0.276326</td>\n",
       "      <td>0.068001</td>\n",
       "      <td>-0.225439</td>\n",
       "    </tr>\n",
       "    <tr>\n",
       "      <th>sex</th>\n",
       "      <td>-0.098447</td>\n",
       "      <td>1.000000</td>\n",
       "      <td>-0.049353</td>\n",
       "      <td>-0.056769</td>\n",
       "      <td>-0.197912</td>\n",
       "      <td>0.045032</td>\n",
       "      <td>-0.058196</td>\n",
       "      <td>-0.044020</td>\n",
       "      <td>0.141664</td>\n",
       "      <td>0.096093</td>\n",
       "      <td>-0.030711</td>\n",
       "      <td>0.118261</td>\n",
       "      <td>0.210041</td>\n",
       "      <td>-0.280937</td>\n",
       "    </tr>\n",
       "    <tr>\n",
       "      <th>cp</th>\n",
       "      <td>-0.068653</td>\n",
       "      <td>-0.049353</td>\n",
       "      <td>1.000000</td>\n",
       "      <td>0.047608</td>\n",
       "      <td>-0.076904</td>\n",
       "      <td>0.094444</td>\n",
       "      <td>0.044421</td>\n",
       "      <td>0.295762</td>\n",
       "      <td>-0.394280</td>\n",
       "      <td>-0.149230</td>\n",
       "      <td>0.119717</td>\n",
       "      <td>-0.181053</td>\n",
       "      <td>-0.161736</td>\n",
       "      <td>0.433798</td>\n",
       "    </tr>\n",
       "    <tr>\n",
       "      <th>trtbps</th>\n",
       "      <td>0.279351</td>\n",
       "      <td>-0.056769</td>\n",
       "      <td>0.047608</td>\n",
       "      <td>1.000000</td>\n",
       "      <td>0.123174</td>\n",
       "      <td>0.177531</td>\n",
       "      <td>-0.114103</td>\n",
       "      <td>-0.046698</td>\n",
       "      <td>0.067616</td>\n",
       "      <td>0.193216</td>\n",
       "      <td>-0.121475</td>\n",
       "      <td>0.101389</td>\n",
       "      <td>0.062210</td>\n",
       "      <td>-0.144931</td>\n",
       "    </tr>\n",
       "    <tr>\n",
       "      <th>chol</th>\n",
       "      <td>0.213678</td>\n",
       "      <td>-0.197912</td>\n",
       "      <td>-0.076904</td>\n",
       "      <td>0.123174</td>\n",
       "      <td>1.000000</td>\n",
       "      <td>0.013294</td>\n",
       "      <td>-0.151040</td>\n",
       "      <td>-0.009940</td>\n",
       "      <td>0.067023</td>\n",
       "      <td>0.053952</td>\n",
       "      <td>-0.004038</td>\n",
       "      <td>0.070511</td>\n",
       "      <td>0.098803</td>\n",
       "      <td>-0.085239</td>\n",
       "    </tr>\n",
       "    <tr>\n",
       "      <th>fbs</th>\n",
       "      <td>0.121308</td>\n",
       "      <td>0.045032</td>\n",
       "      <td>0.094444</td>\n",
       "      <td>0.177531</td>\n",
       "      <td>0.013294</td>\n",
       "      <td>1.000000</td>\n",
       "      <td>-0.084189</td>\n",
       "      <td>-0.008567</td>\n",
       "      <td>0.025665</td>\n",
       "      <td>0.005747</td>\n",
       "      <td>-0.059894</td>\n",
       "      <td>0.137979</td>\n",
       "      <td>-0.032019</td>\n",
       "      <td>-0.028046</td>\n",
       "    </tr>\n",
       "    <tr>\n",
       "      <th>restecg</th>\n",
       "      <td>-0.116211</td>\n",
       "      <td>-0.058196</td>\n",
       "      <td>0.044421</td>\n",
       "      <td>-0.114103</td>\n",
       "      <td>-0.151040</td>\n",
       "      <td>-0.084189</td>\n",
       "      <td>1.000000</td>\n",
       "      <td>0.044123</td>\n",
       "      <td>-0.070733</td>\n",
       "      <td>-0.058770</td>\n",
       "      <td>0.093045</td>\n",
       "      <td>-0.072042</td>\n",
       "      <td>-0.011981</td>\n",
       "      <td>0.137230</td>\n",
       "    </tr>\n",
       "    <tr>\n",
       "      <th>thalachh</th>\n",
       "      <td>-0.398522</td>\n",
       "      <td>-0.044020</td>\n",
       "      <td>0.295762</td>\n",
       "      <td>-0.046698</td>\n",
       "      <td>-0.009940</td>\n",
       "      <td>-0.008567</td>\n",
       "      <td>0.044123</td>\n",
       "      <td>1.000000</td>\n",
       "      <td>-0.378812</td>\n",
       "      <td>-0.344187</td>\n",
       "      <td>0.386784</td>\n",
       "      <td>-0.213177</td>\n",
       "      <td>-0.096439</td>\n",
       "      <td>0.421741</td>\n",
       "    </tr>\n",
       "    <tr>\n",
       "      <th>exng</th>\n",
       "      <td>0.096801</td>\n",
       "      <td>0.141664</td>\n",
       "      <td>-0.394280</td>\n",
       "      <td>0.067616</td>\n",
       "      <td>0.067023</td>\n",
       "      <td>0.025665</td>\n",
       "      <td>-0.070733</td>\n",
       "      <td>-0.378812</td>\n",
       "      <td>1.000000</td>\n",
       "      <td>0.288223</td>\n",
       "      <td>-0.257748</td>\n",
       "      <td>0.115739</td>\n",
       "      <td>0.206754</td>\n",
       "      <td>-0.436757</td>\n",
       "    </tr>\n",
       "    <tr>\n",
       "      <th>oldpeak</th>\n",
       "      <td>0.210013</td>\n",
       "      <td>0.096093</td>\n",
       "      <td>-0.149230</td>\n",
       "      <td>0.193216</td>\n",
       "      <td>0.053952</td>\n",
       "      <td>0.005747</td>\n",
       "      <td>-0.058770</td>\n",
       "      <td>-0.344187</td>\n",
       "      <td>0.288223</td>\n",
       "      <td>1.000000</td>\n",
       "      <td>-0.577537</td>\n",
       "      <td>0.222682</td>\n",
       "      <td>0.210244</td>\n",
       "      <td>-0.430696</td>\n",
       "    </tr>\n",
       "    <tr>\n",
       "      <th>slp</th>\n",
       "      <td>-0.168814</td>\n",
       "      <td>-0.030711</td>\n",
       "      <td>0.119717</td>\n",
       "      <td>-0.121475</td>\n",
       "      <td>-0.004038</td>\n",
       "      <td>-0.059894</td>\n",
       "      <td>0.093045</td>\n",
       "      <td>0.386784</td>\n",
       "      <td>-0.257748</td>\n",
       "      <td>-0.577537</td>\n",
       "      <td>1.000000</td>\n",
       "      <td>-0.080155</td>\n",
       "      <td>-0.104764</td>\n",
       "      <td>0.345877</td>\n",
       "    </tr>\n",
       "    <tr>\n",
       "      <th>caa</th>\n",
       "      <td>0.276326</td>\n",
       "      <td>0.118261</td>\n",
       "      <td>-0.181053</td>\n",
       "      <td>0.101389</td>\n",
       "      <td>0.070511</td>\n",
       "      <td>0.137979</td>\n",
       "      <td>-0.072042</td>\n",
       "      <td>-0.213177</td>\n",
       "      <td>0.115739</td>\n",
       "      <td>0.222682</td>\n",
       "      <td>-0.080155</td>\n",
       "      <td>1.000000</td>\n",
       "      <td>0.151832</td>\n",
       "      <td>-0.391724</td>\n",
       "    </tr>\n",
       "    <tr>\n",
       "      <th>thall</th>\n",
       "      <td>0.068001</td>\n",
       "      <td>0.210041</td>\n",
       "      <td>-0.161736</td>\n",
       "      <td>0.062210</td>\n",
       "      <td>0.098803</td>\n",
       "      <td>-0.032019</td>\n",
       "      <td>-0.011981</td>\n",
       "      <td>-0.096439</td>\n",
       "      <td>0.206754</td>\n",
       "      <td>0.210244</td>\n",
       "      <td>-0.104764</td>\n",
       "      <td>0.151832</td>\n",
       "      <td>1.000000</td>\n",
       "      <td>-0.344029</td>\n",
       "    </tr>\n",
       "    <tr>\n",
       "      <th>output</th>\n",
       "      <td>-0.225439</td>\n",
       "      <td>-0.280937</td>\n",
       "      <td>0.433798</td>\n",
       "      <td>-0.144931</td>\n",
       "      <td>-0.085239</td>\n",
       "      <td>-0.028046</td>\n",
       "      <td>0.137230</td>\n",
       "      <td>0.421741</td>\n",
       "      <td>-0.436757</td>\n",
       "      <td>-0.430696</td>\n",
       "      <td>0.345877</td>\n",
       "      <td>-0.391724</td>\n",
       "      <td>-0.344029</td>\n",
       "      <td>1.000000</td>\n",
       "    </tr>\n",
       "  </tbody>\n",
       "</table>\n",
       "</div>"
      ],
      "text/plain": [
       "               age       sex        cp    trtbps      chol       fbs  \\\n",
       "age       1.000000 -0.098447 -0.068653  0.279351  0.213678  0.121308   \n",
       "sex      -0.098447  1.000000 -0.049353 -0.056769 -0.197912  0.045032   \n",
       "cp       -0.068653 -0.049353  1.000000  0.047608 -0.076904  0.094444   \n",
       "trtbps    0.279351 -0.056769  0.047608  1.000000  0.123174  0.177531   \n",
       "chol      0.213678 -0.197912 -0.076904  0.123174  1.000000  0.013294   \n",
       "fbs       0.121308  0.045032  0.094444  0.177531  0.013294  1.000000   \n",
       "restecg  -0.116211 -0.058196  0.044421 -0.114103 -0.151040 -0.084189   \n",
       "thalachh -0.398522 -0.044020  0.295762 -0.046698 -0.009940 -0.008567   \n",
       "exng      0.096801  0.141664 -0.394280  0.067616  0.067023  0.025665   \n",
       "oldpeak   0.210013  0.096093 -0.149230  0.193216  0.053952  0.005747   \n",
       "slp      -0.168814 -0.030711  0.119717 -0.121475 -0.004038 -0.059894   \n",
       "caa       0.276326  0.118261 -0.181053  0.101389  0.070511  0.137979   \n",
       "thall     0.068001  0.210041 -0.161736  0.062210  0.098803 -0.032019   \n",
       "output   -0.225439 -0.280937  0.433798 -0.144931 -0.085239 -0.028046   \n",
       "\n",
       "           restecg  thalachh      exng   oldpeak       slp       caa  \\\n",
       "age      -0.116211 -0.398522  0.096801  0.210013 -0.168814  0.276326   \n",
       "sex      -0.058196 -0.044020  0.141664  0.096093 -0.030711  0.118261   \n",
       "cp        0.044421  0.295762 -0.394280 -0.149230  0.119717 -0.181053   \n",
       "trtbps   -0.114103 -0.046698  0.067616  0.193216 -0.121475  0.101389   \n",
       "chol     -0.151040 -0.009940  0.067023  0.053952 -0.004038  0.070511   \n",
       "fbs      -0.084189 -0.008567  0.025665  0.005747 -0.059894  0.137979   \n",
       "restecg   1.000000  0.044123 -0.070733 -0.058770  0.093045 -0.072042   \n",
       "thalachh  0.044123  1.000000 -0.378812 -0.344187  0.386784 -0.213177   \n",
       "exng     -0.070733 -0.378812  1.000000  0.288223 -0.257748  0.115739   \n",
       "oldpeak  -0.058770 -0.344187  0.288223  1.000000 -0.577537  0.222682   \n",
       "slp       0.093045  0.386784 -0.257748 -0.577537  1.000000 -0.080155   \n",
       "caa      -0.072042 -0.213177  0.115739  0.222682 -0.080155  1.000000   \n",
       "thall    -0.011981 -0.096439  0.206754  0.210244 -0.104764  0.151832   \n",
       "output    0.137230  0.421741 -0.436757 -0.430696  0.345877 -0.391724   \n",
       "\n",
       "             thall    output  \n",
       "age       0.068001 -0.225439  \n",
       "sex       0.210041 -0.280937  \n",
       "cp       -0.161736  0.433798  \n",
       "trtbps    0.062210 -0.144931  \n",
       "chol      0.098803 -0.085239  \n",
       "fbs      -0.032019 -0.028046  \n",
       "restecg  -0.011981  0.137230  \n",
       "thalachh -0.096439  0.421741  \n",
       "exng      0.206754 -0.436757  \n",
       "oldpeak   0.210244 -0.430696  \n",
       "slp      -0.104764  0.345877  \n",
       "caa       0.151832 -0.391724  \n",
       "thall     1.000000 -0.344029  \n",
       "output   -0.344029  1.000000  "
      ]
     },
     "execution_count": 180,
     "metadata": {},
     "output_type": "execute_result"
    }
   ],
   "source": [
    "# Correlation Analysis without Dummies\n",
    "cl.corr()"
   ]
  },
  {
   "cell_type": "markdown",
   "metadata": {},
   "source": [
    "# Correlation Analysis with dummies"
   ]
  },
  {
   "cell_type": "code",
   "execution_count": 181,
   "metadata": {
    "execution": {
     "iopub.execute_input": "2021-05-31T03:58:21.462901Z",
     "iopub.status.busy": "2021-05-31T03:58:21.462630Z",
     "iopub.status.idle": "2021-05-31T03:58:21.476638Z",
     "shell.execute_reply": "2021-05-31T03:58:21.475358Z",
     "shell.execute_reply.started": "2021-05-31T03:58:21.462875Z"
    }
   },
   "outputs": [
    {
     "data": {
      "text/plain": [
       "age          41\n",
       "sex           2\n",
       "cp            4\n",
       "trtbps       49\n",
       "chol        152\n",
       "fbs           2\n",
       "restecg       3\n",
       "thalachh     91\n",
       "exng          2\n",
       "oldpeak      40\n",
       "slp           3\n",
       "caa           5\n",
       "thall         4\n",
       "output        2\n",
       "dtype: int64"
      ]
     },
     "execution_count": 181,
     "metadata": {},
     "output_type": "execute_result"
    }
   ],
   "source": [
    "cl.nunique()"
   ]
  },
  {
   "cell_type": "code",
   "execution_count": 182,
   "metadata": {
    "execution": {
     "iopub.execute_input": "2021-05-31T03:58:21.479770Z",
     "iopub.status.busy": "2021-05-31T03:58:21.479352Z",
     "iopub.status.idle": "2021-05-31T03:58:21.514539Z",
     "shell.execute_reply": "2021-05-31T03:58:21.513207Z",
     "shell.execute_reply.started": "2021-05-31T03:58:21.479728Z"
    }
   },
   "outputs": [
    {
     "data": {
      "text/html": [
       "<div>\n",
       "<style scoped>\n",
       "    .dataframe tbody tr th:only-of-type {\n",
       "        vertical-align: middle;\n",
       "    }\n",
       "\n",
       "    .dataframe tbody tr th {\n",
       "        vertical-align: top;\n",
       "    }\n",
       "\n",
       "    .dataframe thead th {\n",
       "        text-align: right;\n",
       "    }\n",
       "</style>\n",
       "<table border=\"1\" class=\"dataframe\">\n",
       "  <thead>\n",
       "    <tr style=\"text-align: right;\">\n",
       "      <th></th>\n",
       "      <th>age</th>\n",
       "      <th>trtbps</th>\n",
       "      <th>chol</th>\n",
       "      <th>fbs</th>\n",
       "      <th>thalachh</th>\n",
       "      <th>exng</th>\n",
       "      <th>oldpeak</th>\n",
       "      <th>slp</th>\n",
       "      <th>caa</th>\n",
       "      <th>thall</th>\n",
       "      <th>...</th>\n",
       "      <th>output_1</th>\n",
       "      <th>cp_0</th>\n",
       "      <th>cp_1</th>\n",
       "      <th>cp_2</th>\n",
       "      <th>cp_3</th>\n",
       "      <th>restecg_0</th>\n",
       "      <th>restecg_1</th>\n",
       "      <th>restecg_2</th>\n",
       "      <th>sex_0</th>\n",
       "      <th>sex_1</th>\n",
       "    </tr>\n",
       "  </thead>\n",
       "  <tbody>\n",
       "    <tr>\n",
       "      <th>0</th>\n",
       "      <td>63</td>\n",
       "      <td>145</td>\n",
       "      <td>233</td>\n",
       "      <td>1</td>\n",
       "      <td>150</td>\n",
       "      <td>0</td>\n",
       "      <td>2.3</td>\n",
       "      <td>0</td>\n",
       "      <td>0</td>\n",
       "      <td>1</td>\n",
       "      <td>...</td>\n",
       "      <td>1</td>\n",
       "      <td>0</td>\n",
       "      <td>0</td>\n",
       "      <td>0</td>\n",
       "      <td>1</td>\n",
       "      <td>1</td>\n",
       "      <td>0</td>\n",
       "      <td>0</td>\n",
       "      <td>0</td>\n",
       "      <td>1</td>\n",
       "    </tr>\n",
       "    <tr>\n",
       "      <th>1</th>\n",
       "      <td>37</td>\n",
       "      <td>130</td>\n",
       "      <td>250</td>\n",
       "      <td>0</td>\n",
       "      <td>187</td>\n",
       "      <td>0</td>\n",
       "      <td>3.5</td>\n",
       "      <td>0</td>\n",
       "      <td>0</td>\n",
       "      <td>2</td>\n",
       "      <td>...</td>\n",
       "      <td>1</td>\n",
       "      <td>0</td>\n",
       "      <td>0</td>\n",
       "      <td>1</td>\n",
       "      <td>0</td>\n",
       "      <td>0</td>\n",
       "      <td>1</td>\n",
       "      <td>0</td>\n",
       "      <td>0</td>\n",
       "      <td>1</td>\n",
       "    </tr>\n",
       "    <tr>\n",
       "      <th>2</th>\n",
       "      <td>41</td>\n",
       "      <td>130</td>\n",
       "      <td>204</td>\n",
       "      <td>0</td>\n",
       "      <td>172</td>\n",
       "      <td>0</td>\n",
       "      <td>1.4</td>\n",
       "      <td>2</td>\n",
       "      <td>0</td>\n",
       "      <td>2</td>\n",
       "      <td>...</td>\n",
       "      <td>1</td>\n",
       "      <td>0</td>\n",
       "      <td>1</td>\n",
       "      <td>0</td>\n",
       "      <td>0</td>\n",
       "      <td>1</td>\n",
       "      <td>0</td>\n",
       "      <td>0</td>\n",
       "      <td>1</td>\n",
       "      <td>0</td>\n",
       "    </tr>\n",
       "    <tr>\n",
       "      <th>3</th>\n",
       "      <td>56</td>\n",
       "      <td>120</td>\n",
       "      <td>236</td>\n",
       "      <td>0</td>\n",
       "      <td>178</td>\n",
       "      <td>0</td>\n",
       "      <td>0.8</td>\n",
       "      <td>2</td>\n",
       "      <td>0</td>\n",
       "      <td>2</td>\n",
       "      <td>...</td>\n",
       "      <td>1</td>\n",
       "      <td>0</td>\n",
       "      <td>1</td>\n",
       "      <td>0</td>\n",
       "      <td>0</td>\n",
       "      <td>0</td>\n",
       "      <td>1</td>\n",
       "      <td>0</td>\n",
       "      <td>0</td>\n",
       "      <td>1</td>\n",
       "    </tr>\n",
       "    <tr>\n",
       "      <th>4</th>\n",
       "      <td>57</td>\n",
       "      <td>120</td>\n",
       "      <td>354</td>\n",
       "      <td>0</td>\n",
       "      <td>163</td>\n",
       "      <td>1</td>\n",
       "      <td>0.6</td>\n",
       "      <td>2</td>\n",
       "      <td>0</td>\n",
       "      <td>2</td>\n",
       "      <td>...</td>\n",
       "      <td>1</td>\n",
       "      <td>1</td>\n",
       "      <td>0</td>\n",
       "      <td>0</td>\n",
       "      <td>0</td>\n",
       "      <td>0</td>\n",
       "      <td>1</td>\n",
       "      <td>0</td>\n",
       "      <td>1</td>\n",
       "      <td>0</td>\n",
       "    </tr>\n",
       "  </tbody>\n",
       "</table>\n",
       "<p>5 rows × 21 columns</p>\n",
       "</div>"
      ],
      "text/plain": [
       "   age  trtbps  chol  fbs  thalachh  exng  oldpeak  slp  caa  thall  ...  \\\n",
       "0   63     145   233    1       150     0      2.3    0    0      1  ...   \n",
       "1   37     130   250    0       187     0      3.5    0    0      2  ...   \n",
       "2   41     130   204    0       172     0      1.4    2    0      2  ...   \n",
       "3   56     120   236    0       178     0      0.8    2    0      2  ...   \n",
       "4   57     120   354    0       163     1      0.6    2    0      2  ...   \n",
       "\n",
       "   output_1  cp_0  cp_1  cp_2  cp_3  restecg_0  restecg_1  restecg_2  sex_0  \\\n",
       "0         1     0     0     0     1          1          0          0      0   \n",
       "1         1     0     0     1     0          0          1          0      0   \n",
       "2         1     0     1     0     0          1          0          0      1   \n",
       "3         1     0     1     0     0          0          1          0      0   \n",
       "4         1     1     0     0     0          0          1          0      1   \n",
       "\n",
       "   sex_1  \n",
       "0      1  \n",
       "1      1  \n",
       "2      0  \n",
       "3      1  \n",
       "4      0  \n",
       "\n",
       "[5 rows x 21 columns]"
      ]
     },
     "execution_count": 182,
     "metadata": {},
     "output_type": "execute_result"
    }
   ],
   "source": [
    "cl_1 = pd.get_dummies(cl, columns=['output', 'cp', 'restecg', 'sex'])\n",
    "cl_1.head()"
   ]
  },
  {
   "cell_type": "code",
   "execution_count": 183,
   "metadata": {
    "execution": {
     "iopub.execute_input": "2021-05-31T03:58:21.516859Z",
     "iopub.status.busy": "2021-05-31T03:58:21.516439Z",
     "iopub.status.idle": "2021-05-31T03:58:21.564264Z",
     "shell.execute_reply": "2021-05-31T03:58:21.562944Z",
     "shell.execute_reply.started": "2021-05-31T03:58:21.516815Z"
    }
   },
   "outputs": [
    {
     "data": {
      "text/html": [
       "<div>\n",
       "<style scoped>\n",
       "    .dataframe tbody tr th:only-of-type {\n",
       "        vertical-align: middle;\n",
       "    }\n",
       "\n",
       "    .dataframe tbody tr th {\n",
       "        vertical-align: top;\n",
       "    }\n",
       "\n",
       "    .dataframe thead th {\n",
       "        text-align: right;\n",
       "    }\n",
       "</style>\n",
       "<table border=\"1\" class=\"dataframe\">\n",
       "  <thead>\n",
       "    <tr style=\"text-align: right;\">\n",
       "      <th></th>\n",
       "      <th>age</th>\n",
       "      <th>trtbps</th>\n",
       "      <th>chol</th>\n",
       "      <th>fbs</th>\n",
       "      <th>thalachh</th>\n",
       "      <th>exng</th>\n",
       "      <th>oldpeak</th>\n",
       "      <th>slp</th>\n",
       "      <th>caa</th>\n",
       "      <th>thall</th>\n",
       "      <th>...</th>\n",
       "      <th>output_1</th>\n",
       "      <th>cp_0</th>\n",
       "      <th>cp_1</th>\n",
       "      <th>cp_2</th>\n",
       "      <th>cp_3</th>\n",
       "      <th>restecg_0</th>\n",
       "      <th>restecg_1</th>\n",
       "      <th>restecg_2</th>\n",
       "      <th>sex_0</th>\n",
       "      <th>sex_1</th>\n",
       "    </tr>\n",
       "  </thead>\n",
       "  <tbody>\n",
       "    <tr>\n",
       "      <th>age</th>\n",
       "      <td>1.000000</td>\n",
       "      <td>0.279351</td>\n",
       "      <td>0.213678</td>\n",
       "      <td>0.121308</td>\n",
       "      <td>-0.398522</td>\n",
       "      <td>0.096801</td>\n",
       "      <td>0.210013</td>\n",
       "      <td>-0.168814</td>\n",
       "      <td>0.276326</td>\n",
       "      <td>0.068001</td>\n",
       "      <td>...</td>\n",
       "      <td>-0.225439</td>\n",
       "      <td>0.138253</td>\n",
       "      <td>-0.147399</td>\n",
       "      <td>-0.059432</td>\n",
       "      <td>0.047516</td>\n",
       "      <td>0.141398</td>\n",
       "      <td>-0.160654</td>\n",
       "      <td>0.084621</td>\n",
       "      <td>0.098447</td>\n",
       "      <td>-0.098447</td>\n",
       "    </tr>\n",
       "    <tr>\n",
       "      <th>trtbps</th>\n",
       "      <td>0.279351</td>\n",
       "      <td>1.000000</td>\n",
       "      <td>0.123174</td>\n",
       "      <td>0.177531</td>\n",
       "      <td>-0.046698</td>\n",
       "      <td>0.067616</td>\n",
       "      <td>0.193216</td>\n",
       "      <td>-0.121475</td>\n",
       "      <td>0.101389</td>\n",
       "      <td>0.062210</td>\n",
       "      <td>...</td>\n",
       "      <td>-0.144931</td>\n",
       "      <td>0.021447</td>\n",
       "      <td>-0.081851</td>\n",
       "      <td>-0.045107</td>\n",
       "      <td>0.151343</td>\n",
       "      <td>0.133249</td>\n",
       "      <td>-0.146576</td>\n",
       "      <td>0.058635</td>\n",
       "      <td>0.056769</td>\n",
       "      <td>-0.056769</td>\n",
       "    </tr>\n",
       "    <tr>\n",
       "      <th>chol</th>\n",
       "      <td>0.213678</td>\n",
       "      <td>0.123174</td>\n",
       "      <td>1.000000</td>\n",
       "      <td>0.013294</td>\n",
       "      <td>-0.009940</td>\n",
       "      <td>0.067023</td>\n",
       "      <td>0.053952</td>\n",
       "      <td>-0.004038</td>\n",
       "      <td>0.070511</td>\n",
       "      <td>0.098803</td>\n",
       "      <td>...</td>\n",
       "      <td>-0.085239</td>\n",
       "      <td>0.070684</td>\n",
       "      <td>-0.012750</td>\n",
       "      <td>-0.037918</td>\n",
       "      <td>-0.050589</td>\n",
       "      <td>0.166565</td>\n",
       "      <td>-0.174394</td>\n",
       "      <td>0.034615</td>\n",
       "      <td>0.197912</td>\n",
       "      <td>-0.197912</td>\n",
       "    </tr>\n",
       "    <tr>\n",
       "      <th>fbs</th>\n",
       "      <td>0.121308</td>\n",
       "      <td>0.177531</td>\n",
       "      <td>0.013294</td>\n",
       "      <td>1.000000</td>\n",
       "      <td>-0.008567</td>\n",
       "      <td>0.025665</td>\n",
       "      <td>0.005747</td>\n",
       "      <td>-0.059894</td>\n",
       "      <td>0.137979</td>\n",
       "      <td>-0.032019</td>\n",
       "      <td>...</td>\n",
       "      <td>-0.028046</td>\n",
       "      <td>-0.060190</td>\n",
       "      <td>-0.060649</td>\n",
       "      <td>0.083679</td>\n",
       "      <td>0.055511</td>\n",
       "      <td>0.077405</td>\n",
       "      <td>-0.066344</td>\n",
       "      <td>-0.048305</td>\n",
       "      <td>-0.045032</td>\n",
       "      <td>0.045032</td>\n",
       "    </tr>\n",
       "    <tr>\n",
       "      <th>thalachh</th>\n",
       "      <td>-0.398522</td>\n",
       "      <td>-0.046698</td>\n",
       "      <td>-0.009940</td>\n",
       "      <td>-0.008567</td>\n",
       "      <td>1.000000</td>\n",
       "      <td>-0.378812</td>\n",
       "      <td>-0.344187</td>\n",
       "      <td>0.386784</td>\n",
       "      <td>-0.213177</td>\n",
       "      <td>-0.096439</td>\n",
       "      <td>...</td>\n",
       "      <td>0.421741</td>\n",
       "      <td>-0.376561</td>\n",
       "      <td>0.248317</td>\n",
       "      <td>0.165475</td>\n",
       "      <td>0.079082</td>\n",
       "      <td>-0.073953</td>\n",
       "      <td>0.101512</td>\n",
       "      <td>-0.120870</td>\n",
       "      <td>0.044020</td>\n",
       "      <td>-0.044020</td>\n",
       "    </tr>\n",
       "    <tr>\n",
       "      <th>exng</th>\n",
       "      <td>0.096801</td>\n",
       "      <td>0.067616</td>\n",
       "      <td>0.067023</td>\n",
       "      <td>0.025665</td>\n",
       "      <td>-0.378812</td>\n",
       "      <td>1.000000</td>\n",
       "      <td>0.288223</td>\n",
       "      <td>-0.257748</td>\n",
       "      <td>0.115739</td>\n",
       "      <td>0.206754</td>\n",
       "      <td>...</td>\n",
       "      <td>-0.436757</td>\n",
       "      <td>0.469061</td>\n",
       "      <td>-0.233863</td>\n",
       "      <td>-0.271028</td>\n",
       "      <td>-0.093384</td>\n",
       "      <td>0.084059</td>\n",
       "      <td>-0.093776</td>\n",
       "      <td>0.042729</td>\n",
       "      <td>-0.141664</td>\n",
       "      <td>0.141664</td>\n",
       "    </tr>\n",
       "    <tr>\n",
       "      <th>oldpeak</th>\n",
       "      <td>0.210013</td>\n",
       "      <td>0.193216</td>\n",
       "      <td>0.053952</td>\n",
       "      <td>0.005747</td>\n",
       "      <td>-0.344187</td>\n",
       "      <td>0.288223</td>\n",
       "      <td>1.000000</td>\n",
       "      <td>-0.577537</td>\n",
       "      <td>0.222682</td>\n",
       "      <td>0.210244</td>\n",
       "      <td>...</td>\n",
       "      <td>-0.430696</td>\n",
       "      <td>0.280243</td>\n",
       "      <td>-0.277513</td>\n",
       "      <td>-0.132444</td>\n",
       "      <td>0.086959</td>\n",
       "      <td>0.100141</td>\n",
       "      <td>-0.138486</td>\n",
       "      <td>0.168172</td>\n",
       "      <td>-0.096093</td>\n",
       "      <td>0.096093</td>\n",
       "    </tr>\n",
       "    <tr>\n",
       "      <th>slp</th>\n",
       "      <td>-0.168814</td>\n",
       "      <td>-0.121475</td>\n",
       "      <td>-0.004038</td>\n",
       "      <td>-0.059894</td>\n",
       "      <td>0.386784</td>\n",
       "      <td>-0.257748</td>\n",
       "      <td>-0.577537</td>\n",
       "      <td>1.000000</td>\n",
       "      <td>-0.080155</td>\n",
       "      <td>-0.104764</td>\n",
       "      <td>...</td>\n",
       "      <td>0.345877</td>\n",
       "      <td>-0.216056</td>\n",
       "      <td>0.202807</td>\n",
       "      <td>0.109769</td>\n",
       "      <td>-0.064509</td>\n",
       "      <td>-0.125618</td>\n",
       "      <td>0.153431</td>\n",
       "      <td>-0.122080</td>\n",
       "      <td>0.030711</td>\n",
       "      <td>-0.030711</td>\n",
       "    </tr>\n",
       "    <tr>\n",
       "      <th>caa</th>\n",
       "      <td>0.276326</td>\n",
       "      <td>0.101389</td>\n",
       "      <td>0.070511</td>\n",
       "      <td>0.137979</td>\n",
       "      <td>-0.213177</td>\n",
       "      <td>0.115739</td>\n",
       "      <td>0.222682</td>\n",
       "      <td>-0.080155</td>\n",
       "      <td>1.000000</td>\n",
       "      <td>0.151832</td>\n",
       "      <td>...</td>\n",
       "      <td>-0.391724</td>\n",
       "      <td>0.218226</td>\n",
       "      <td>-0.134715</td>\n",
       "      <td>-0.088998</td>\n",
       "      <td>-0.070496</td>\n",
       "      <td>0.082679</td>\n",
       "      <td>-0.089642</td>\n",
       "      <td>0.030660</td>\n",
       "      <td>-0.118261</td>\n",
       "      <td>0.118261</td>\n",
       "    </tr>\n",
       "    <tr>\n",
       "      <th>thall</th>\n",
       "      <td>0.068001</td>\n",
       "      <td>0.062210</td>\n",
       "      <td>0.098803</td>\n",
       "      <td>-0.032019</td>\n",
       "      <td>-0.096439</td>\n",
       "      <td>0.206754</td>\n",
       "      <td>0.210244</td>\n",
       "      <td>-0.104764</td>\n",
       "      <td>0.151832</td>\n",
       "      <td>1.000000</td>\n",
       "      <td>...</td>\n",
       "      <td>-0.344029</td>\n",
       "      <td>0.207277</td>\n",
       "      <td>-0.126204</td>\n",
       "      <td>-0.110714</td>\n",
       "      <td>-0.024692</td>\n",
       "      <td>-0.000963</td>\n",
       "      <td>0.014505</td>\n",
       "      <td>-0.059326</td>\n",
       "      <td>-0.210041</td>\n",
       "      <td>0.210041</td>\n",
       "    </tr>\n",
       "    <tr>\n",
       "      <th>output_0</th>\n",
       "      <td>0.225439</td>\n",
       "      <td>0.144931</td>\n",
       "      <td>0.085239</td>\n",
       "      <td>0.028046</td>\n",
       "      <td>-0.421741</td>\n",
       "      <td>0.436757</td>\n",
       "      <td>0.430696</td>\n",
       "      <td>-0.345877</td>\n",
       "      <td>0.391724</td>\n",
       "      <td>0.344029</td>\n",
       "      <td>...</td>\n",
       "      <td>-1.000000</td>\n",
       "      <td>0.516015</td>\n",
       "      <td>-0.245879</td>\n",
       "      <td>-0.316742</td>\n",
       "      <td>-0.086957</td>\n",
       "      <td>0.159775</td>\n",
       "      <td>-0.175322</td>\n",
       "      <td>0.068410</td>\n",
       "      <td>-0.280937</td>\n",
       "      <td>0.280937</td>\n",
       "    </tr>\n",
       "    <tr>\n",
       "      <th>output_1</th>\n",
       "      <td>-0.225439</td>\n",
       "      <td>-0.144931</td>\n",
       "      <td>-0.085239</td>\n",
       "      <td>-0.028046</td>\n",
       "      <td>0.421741</td>\n",
       "      <td>-0.436757</td>\n",
       "      <td>-0.430696</td>\n",
       "      <td>0.345877</td>\n",
       "      <td>-0.391724</td>\n",
       "      <td>-0.344029</td>\n",
       "      <td>...</td>\n",
       "      <td>1.000000</td>\n",
       "      <td>-0.516015</td>\n",
       "      <td>0.245879</td>\n",
       "      <td>0.316742</td>\n",
       "      <td>0.086957</td>\n",
       "      <td>-0.159775</td>\n",
       "      <td>0.175322</td>\n",
       "      <td>-0.068410</td>\n",
       "      <td>0.280937</td>\n",
       "      <td>-0.280937</td>\n",
       "    </tr>\n",
       "    <tr>\n",
       "      <th>cp_0</th>\n",
       "      <td>0.138253</td>\n",
       "      <td>0.021447</td>\n",
       "      <td>0.070684</td>\n",
       "      <td>-0.060190</td>\n",
       "      <td>-0.376561</td>\n",
       "      <td>0.469061</td>\n",
       "      <td>0.280243</td>\n",
       "      <td>-0.216056</td>\n",
       "      <td>0.218226</td>\n",
       "      <td>0.207277</td>\n",
       "      <td>...</td>\n",
       "      <td>-0.516015</td>\n",
       "      <td>1.000000</td>\n",
       "      <td>-0.420274</td>\n",
       "      <td>-0.599986</td>\n",
       "      <td>-0.270952</td>\n",
       "      <td>0.114075</td>\n",
       "      <td>-0.128731</td>\n",
       "      <td>0.064422</td>\n",
       "      <td>-0.089621</td>\n",
       "      <td>0.089621</td>\n",
       "    </tr>\n",
       "    <tr>\n",
       "      <th>cp_1</th>\n",
       "      <td>-0.147399</td>\n",
       "      <td>-0.081851</td>\n",
       "      <td>-0.012750</td>\n",
       "      <td>-0.060649</td>\n",
       "      <td>0.248317</td>\n",
       "      <td>-0.233863</td>\n",
       "      <td>-0.277513</td>\n",
       "      <td>0.202807</td>\n",
       "      <td>-0.134715</td>\n",
       "      <td>-0.126204</td>\n",
       "      <td>...</td>\n",
       "      <td>0.245879</td>\n",
       "      <td>-0.420274</td>\n",
       "      <td>1.000000</td>\n",
       "      <td>-0.282135</td>\n",
       "      <td>-0.127412</td>\n",
       "      <td>-0.093530</td>\n",
       "      <td>0.105226</td>\n",
       "      <td>-0.051418</td>\n",
       "      <td>0.041249</td>\n",
       "      <td>-0.041249</td>\n",
       "    </tr>\n",
       "    <tr>\n",
       "      <th>cp_2</th>\n",
       "      <td>-0.059432</td>\n",
       "      <td>-0.045107</td>\n",
       "      <td>-0.037918</td>\n",
       "      <td>0.083679</td>\n",
       "      <td>0.165475</td>\n",
       "      <td>-0.271028</td>\n",
       "      <td>-0.132444</td>\n",
       "      <td>0.109769</td>\n",
       "      <td>-0.088998</td>\n",
       "      <td>-0.110714</td>\n",
       "      <td>...</td>\n",
       "      <td>0.316742</td>\n",
       "      <td>-0.599986</td>\n",
       "      <td>-0.282135</td>\n",
       "      <td>1.000000</td>\n",
       "      <td>-0.181894</td>\n",
       "      <td>-0.090611</td>\n",
       "      <td>0.092738</td>\n",
       "      <td>-0.009492</td>\n",
       "      <td>0.116588</td>\n",
       "      <td>-0.116588</td>\n",
       "    </tr>\n",
       "    <tr>\n",
       "      <th>cp_3</th>\n",
       "      <td>0.047516</td>\n",
       "      <td>0.151343</td>\n",
       "      <td>-0.050589</td>\n",
       "      <td>0.055511</td>\n",
       "      <td>0.079082</td>\n",
       "      <td>-0.093384</td>\n",
       "      <td>0.086959</td>\n",
       "      <td>-0.064509</td>\n",
       "      <td>-0.070496</td>\n",
       "      <td>-0.024692</td>\n",
       "      <td>...</td>\n",
       "      <td>0.086957</td>\n",
       "      <td>-0.270952</td>\n",
       "      <td>-0.127412</td>\n",
       "      <td>-0.181894</td>\n",
       "      <td>1.000000</td>\n",
       "      <td>0.070850</td>\n",
       "      <td>-0.063252</td>\n",
       "      <td>-0.033150</td>\n",
       "      <td>-0.088043</td>\n",
       "      <td>0.088043</td>\n",
       "    </tr>\n",
       "    <tr>\n",
       "      <th>restecg_0</th>\n",
       "      <td>0.141398</td>\n",
       "      <td>0.133249</td>\n",
       "      <td>0.166565</td>\n",
       "      <td>0.077405</td>\n",
       "      <td>-0.073953</td>\n",
       "      <td>0.084059</td>\n",
       "      <td>0.100141</td>\n",
       "      <td>-0.125618</td>\n",
       "      <td>0.082679</td>\n",
       "      <td>-0.000963</td>\n",
       "      <td>...</td>\n",
       "      <td>-0.159775</td>\n",
       "      <td>0.114075</td>\n",
       "      <td>-0.093530</td>\n",
       "      <td>-0.090611</td>\n",
       "      <td>0.070850</td>\n",
       "      <td>1.000000</td>\n",
       "      <td>-0.973934</td>\n",
       "      <td>-0.112277</td>\n",
       "      <td>-0.036539</td>\n",
       "      <td>0.036539</td>\n",
       "    </tr>\n",
       "    <tr>\n",
       "      <th>restecg_1</th>\n",
       "      <td>-0.160654</td>\n",
       "      <td>-0.146576</td>\n",
       "      <td>-0.174394</td>\n",
       "      <td>-0.066344</td>\n",
       "      <td>0.101512</td>\n",
       "      <td>-0.093776</td>\n",
       "      <td>-0.138486</td>\n",
       "      <td>0.153431</td>\n",
       "      <td>-0.089642</td>\n",
       "      <td>0.014505</td>\n",
       "      <td>...</td>\n",
       "      <td>0.175322</td>\n",
       "      <td>-0.128731</td>\n",
       "      <td>0.105226</td>\n",
       "      <td>0.092738</td>\n",
       "      <td>-0.063252</td>\n",
       "      <td>-0.973934</td>\n",
       "      <td>1.000000</td>\n",
       "      <td>-0.116045</td>\n",
       "      <td>0.011940</td>\n",
       "      <td>-0.011940</td>\n",
       "    </tr>\n",
       "    <tr>\n",
       "      <th>restecg_2</th>\n",
       "      <td>0.084621</td>\n",
       "      <td>0.058635</td>\n",
       "      <td>0.034615</td>\n",
       "      <td>-0.048305</td>\n",
       "      <td>-0.120870</td>\n",
       "      <td>0.042729</td>\n",
       "      <td>0.168172</td>\n",
       "      <td>-0.122080</td>\n",
       "      <td>0.030660</td>\n",
       "      <td>-0.059326</td>\n",
       "      <td>...</td>\n",
       "      <td>-0.068410</td>\n",
       "      <td>0.064422</td>\n",
       "      <td>-0.051418</td>\n",
       "      <td>-0.009492</td>\n",
       "      <td>-0.033150</td>\n",
       "      <td>-0.112277</td>\n",
       "      <td>-0.116045</td>\n",
       "      <td>1.000000</td>\n",
       "      <td>0.107689</td>\n",
       "      <td>-0.107689</td>\n",
       "    </tr>\n",
       "    <tr>\n",
       "      <th>sex_0</th>\n",
       "      <td>0.098447</td>\n",
       "      <td>0.056769</td>\n",
       "      <td>0.197912</td>\n",
       "      <td>-0.045032</td>\n",
       "      <td>0.044020</td>\n",
       "      <td>-0.141664</td>\n",
       "      <td>-0.096093</td>\n",
       "      <td>0.030711</td>\n",
       "      <td>-0.118261</td>\n",
       "      <td>-0.210041</td>\n",
       "      <td>...</td>\n",
       "      <td>0.280937</td>\n",
       "      <td>-0.089621</td>\n",
       "      <td>0.041249</td>\n",
       "      <td>0.116588</td>\n",
       "      <td>-0.088043</td>\n",
       "      <td>-0.036539</td>\n",
       "      <td>0.011940</td>\n",
       "      <td>0.107689</td>\n",
       "      <td>1.000000</td>\n",
       "      <td>-1.000000</td>\n",
       "    </tr>\n",
       "    <tr>\n",
       "      <th>sex_1</th>\n",
       "      <td>-0.098447</td>\n",
       "      <td>-0.056769</td>\n",
       "      <td>-0.197912</td>\n",
       "      <td>0.045032</td>\n",
       "      <td>-0.044020</td>\n",
       "      <td>0.141664</td>\n",
       "      <td>0.096093</td>\n",
       "      <td>-0.030711</td>\n",
       "      <td>0.118261</td>\n",
       "      <td>0.210041</td>\n",
       "      <td>...</td>\n",
       "      <td>-0.280937</td>\n",
       "      <td>0.089621</td>\n",
       "      <td>-0.041249</td>\n",
       "      <td>-0.116588</td>\n",
       "      <td>0.088043</td>\n",
       "      <td>0.036539</td>\n",
       "      <td>-0.011940</td>\n",
       "      <td>-0.107689</td>\n",
       "      <td>-1.000000</td>\n",
       "      <td>1.000000</td>\n",
       "    </tr>\n",
       "  </tbody>\n",
       "</table>\n",
       "<p>21 rows × 21 columns</p>\n",
       "</div>"
      ],
      "text/plain": [
       "                age    trtbps      chol       fbs  thalachh      exng  \\\n",
       "age        1.000000  0.279351  0.213678  0.121308 -0.398522  0.096801   \n",
       "trtbps     0.279351  1.000000  0.123174  0.177531 -0.046698  0.067616   \n",
       "chol       0.213678  0.123174  1.000000  0.013294 -0.009940  0.067023   \n",
       "fbs        0.121308  0.177531  0.013294  1.000000 -0.008567  0.025665   \n",
       "thalachh  -0.398522 -0.046698 -0.009940 -0.008567  1.000000 -0.378812   \n",
       "exng       0.096801  0.067616  0.067023  0.025665 -0.378812  1.000000   \n",
       "oldpeak    0.210013  0.193216  0.053952  0.005747 -0.344187  0.288223   \n",
       "slp       -0.168814 -0.121475 -0.004038 -0.059894  0.386784 -0.257748   \n",
       "caa        0.276326  0.101389  0.070511  0.137979 -0.213177  0.115739   \n",
       "thall      0.068001  0.062210  0.098803 -0.032019 -0.096439  0.206754   \n",
       "output_0   0.225439  0.144931  0.085239  0.028046 -0.421741  0.436757   \n",
       "output_1  -0.225439 -0.144931 -0.085239 -0.028046  0.421741 -0.436757   \n",
       "cp_0       0.138253  0.021447  0.070684 -0.060190 -0.376561  0.469061   \n",
       "cp_1      -0.147399 -0.081851 -0.012750 -0.060649  0.248317 -0.233863   \n",
       "cp_2      -0.059432 -0.045107 -0.037918  0.083679  0.165475 -0.271028   \n",
       "cp_3       0.047516  0.151343 -0.050589  0.055511  0.079082 -0.093384   \n",
       "restecg_0  0.141398  0.133249  0.166565  0.077405 -0.073953  0.084059   \n",
       "restecg_1 -0.160654 -0.146576 -0.174394 -0.066344  0.101512 -0.093776   \n",
       "restecg_2  0.084621  0.058635  0.034615 -0.048305 -0.120870  0.042729   \n",
       "sex_0      0.098447  0.056769  0.197912 -0.045032  0.044020 -0.141664   \n",
       "sex_1     -0.098447 -0.056769 -0.197912  0.045032 -0.044020  0.141664   \n",
       "\n",
       "            oldpeak       slp       caa     thall  ...  output_1      cp_0  \\\n",
       "age        0.210013 -0.168814  0.276326  0.068001  ... -0.225439  0.138253   \n",
       "trtbps     0.193216 -0.121475  0.101389  0.062210  ... -0.144931  0.021447   \n",
       "chol       0.053952 -0.004038  0.070511  0.098803  ... -0.085239  0.070684   \n",
       "fbs        0.005747 -0.059894  0.137979 -0.032019  ... -0.028046 -0.060190   \n",
       "thalachh  -0.344187  0.386784 -0.213177 -0.096439  ...  0.421741 -0.376561   \n",
       "exng       0.288223 -0.257748  0.115739  0.206754  ... -0.436757  0.469061   \n",
       "oldpeak    1.000000 -0.577537  0.222682  0.210244  ... -0.430696  0.280243   \n",
       "slp       -0.577537  1.000000 -0.080155 -0.104764  ...  0.345877 -0.216056   \n",
       "caa        0.222682 -0.080155  1.000000  0.151832  ... -0.391724  0.218226   \n",
       "thall      0.210244 -0.104764  0.151832  1.000000  ... -0.344029  0.207277   \n",
       "output_0   0.430696 -0.345877  0.391724  0.344029  ... -1.000000  0.516015   \n",
       "output_1  -0.430696  0.345877 -0.391724 -0.344029  ...  1.000000 -0.516015   \n",
       "cp_0       0.280243 -0.216056  0.218226  0.207277  ... -0.516015  1.000000   \n",
       "cp_1      -0.277513  0.202807 -0.134715 -0.126204  ...  0.245879 -0.420274   \n",
       "cp_2      -0.132444  0.109769 -0.088998 -0.110714  ...  0.316742 -0.599986   \n",
       "cp_3       0.086959 -0.064509 -0.070496 -0.024692  ...  0.086957 -0.270952   \n",
       "restecg_0  0.100141 -0.125618  0.082679 -0.000963  ... -0.159775  0.114075   \n",
       "restecg_1 -0.138486  0.153431 -0.089642  0.014505  ...  0.175322 -0.128731   \n",
       "restecg_2  0.168172 -0.122080  0.030660 -0.059326  ... -0.068410  0.064422   \n",
       "sex_0     -0.096093  0.030711 -0.118261 -0.210041  ...  0.280937 -0.089621   \n",
       "sex_1      0.096093 -0.030711  0.118261  0.210041  ... -0.280937  0.089621   \n",
       "\n",
       "               cp_1      cp_2      cp_3  restecg_0  restecg_1  restecg_2  \\\n",
       "age       -0.147399 -0.059432  0.047516   0.141398  -0.160654   0.084621   \n",
       "trtbps    -0.081851 -0.045107  0.151343   0.133249  -0.146576   0.058635   \n",
       "chol      -0.012750 -0.037918 -0.050589   0.166565  -0.174394   0.034615   \n",
       "fbs       -0.060649  0.083679  0.055511   0.077405  -0.066344  -0.048305   \n",
       "thalachh   0.248317  0.165475  0.079082  -0.073953   0.101512  -0.120870   \n",
       "exng      -0.233863 -0.271028 -0.093384   0.084059  -0.093776   0.042729   \n",
       "oldpeak   -0.277513 -0.132444  0.086959   0.100141  -0.138486   0.168172   \n",
       "slp        0.202807  0.109769 -0.064509  -0.125618   0.153431  -0.122080   \n",
       "caa       -0.134715 -0.088998 -0.070496   0.082679  -0.089642   0.030660   \n",
       "thall     -0.126204 -0.110714 -0.024692  -0.000963   0.014505  -0.059326   \n",
       "output_0  -0.245879 -0.316742 -0.086957   0.159775  -0.175322   0.068410   \n",
       "output_1   0.245879  0.316742  0.086957  -0.159775   0.175322  -0.068410   \n",
       "cp_0      -0.420274 -0.599986 -0.270952   0.114075  -0.128731   0.064422   \n",
       "cp_1       1.000000 -0.282135 -0.127412  -0.093530   0.105226  -0.051418   \n",
       "cp_2      -0.282135  1.000000 -0.181894  -0.090611   0.092738  -0.009492   \n",
       "cp_3      -0.127412 -0.181894  1.000000   0.070850  -0.063252  -0.033150   \n",
       "restecg_0 -0.093530 -0.090611  0.070850   1.000000  -0.973934  -0.112277   \n",
       "restecg_1  0.105226  0.092738 -0.063252  -0.973934   1.000000  -0.116045   \n",
       "restecg_2 -0.051418 -0.009492 -0.033150  -0.112277  -0.116045   1.000000   \n",
       "sex_0      0.041249  0.116588 -0.088043  -0.036539   0.011940   0.107689   \n",
       "sex_1     -0.041249 -0.116588  0.088043   0.036539  -0.011940  -0.107689   \n",
       "\n",
       "              sex_0     sex_1  \n",
       "age        0.098447 -0.098447  \n",
       "trtbps     0.056769 -0.056769  \n",
       "chol       0.197912 -0.197912  \n",
       "fbs       -0.045032  0.045032  \n",
       "thalachh   0.044020 -0.044020  \n",
       "exng      -0.141664  0.141664  \n",
       "oldpeak   -0.096093  0.096093  \n",
       "slp        0.030711 -0.030711  \n",
       "caa       -0.118261  0.118261  \n",
       "thall     -0.210041  0.210041  \n",
       "output_0  -0.280937  0.280937  \n",
       "output_1   0.280937 -0.280937  \n",
       "cp_0      -0.089621  0.089621  \n",
       "cp_1       0.041249 -0.041249  \n",
       "cp_2       0.116588 -0.116588  \n",
       "cp_3      -0.088043  0.088043  \n",
       "restecg_0 -0.036539  0.036539  \n",
       "restecg_1  0.011940 -0.011940  \n",
       "restecg_2  0.107689 -0.107689  \n",
       "sex_0      1.000000 -1.000000  \n",
       "sex_1     -1.000000  1.000000  \n",
       "\n",
       "[21 rows x 21 columns]"
      ]
     },
     "execution_count": 183,
     "metadata": {},
     "output_type": "execute_result"
    }
   ],
   "source": [
    "cl_1=cl_1.corr()\n",
    "cl_1"
   ]
  },
  {
   "cell_type": "code",
   "execution_count": 184,
   "metadata": {
    "execution": {
     "iopub.execute_input": "2021-05-31T03:58:21.566323Z",
     "iopub.status.busy": "2021-05-31T03:58:21.565872Z",
     "iopub.status.idle": "2021-05-31T03:58:23.830869Z",
     "shell.execute_reply": "2021-05-31T03:58:23.829341Z",
     "shell.execute_reply.started": "2021-05-31T03:58:21.566280Z"
    }
   },
   "outputs": [
    {
     "data": {
      "text/plain": [
       "<AxesSubplot:>"
      ]
     },
     "execution_count": 184,
     "metadata": {},
     "output_type": "execute_result"
    },
    {
     "data": {
      "image/png": "[encoded data removed]",
      "text/plain": [
       "<Figure size 2160x1080 with 2 Axes>"
      ]
     },
     "metadata": {
      "needs_background": "light"
     },
     "output_type": "display_data"
    }
   ],
   "source": [
    "# Heat Map\n",
    "fig = plt.figure(figsize = (30,15))\n",
    "sns.heatmap(cl_1, annot = True)"
   ]
  },
  {
   "cell_type": "markdown",
   "metadata": {},
   "source": [
    "## First of all we need to explain the positives and negatives associated with the numbers obtained.\n",
    "- Positive Correlation; A positive correlation is a relationship between 2 variables which the increase of one variable causes an increase for another variable.\n",
    "- Negative Correlation; The Negative correlation is the opposite, it’s a relationship between 2 variables which the increase of one variable causes a decrease for another variable. This applies otherwise.\n",
    "- From our correlation analysis, we can see age has AGE has a positive weak correlation with output_0 (less chance of heart attack). This means that as age increase the more likely there is a chance of heart attack and vice versa.\n",
    "- We can also see that AGE has a negative weak correlation with output_1 (more chance of heart attack). This means that the lower the age the patient will not have more chance of a heat attack and vice versa."
   ]
  },
  {
   "cell_type": "markdown",
   "metadata": {},
   "source": [
    "# Statistical inference\n"
   ]
  },
  {
   "cell_type": "code",
   "execution_count": 185,
   "metadata": {
    "execution": {
     "iopub.execute_input": "2021-05-31T03:58:23.836701Z",
     "iopub.status.busy": "2021-05-31T03:58:23.836277Z",
     "iopub.status.idle": "2021-05-31T03:58:23.849529Z",
     "shell.execute_reply": "2021-05-31T03:58:23.848172Z",
     "shell.execute_reply.started": "2021-05-31T03:58:23.836668Z"
    }
   },
   "outputs": [
    {
     "data": {
      "text/plain": [
       "Ttest_indResult(statistic=4.014560975148874, pvalue=7.524801303442373e-05)"
      ]
     },
     "execution_count": 185,
     "metadata": {},
     "output_type": "execute_result"
    }
   ],
   "source": [
    "import scipy.stats as stats\n",
    "# T-test for clients who is less likely or more likely in relation to age if their mean values are the same\n",
    "no = cl[cl['output'] == 0]['age']\n",
    "yes = cl[cl['output'] == 1]['age']\n",
    "\n",
    "stats.ttest_ind(no, yes)"
   ]
  },
  {
   "cell_type": "markdown",
   "metadata": {},
   "source": [
    "- Null hypothesis says two means are almost same.\n",
    "- p-value is a probability if the null hypothesis is true. A high p-value (> 0.05) means we can't reject the null hypothesis\n",
    "- Since we have a low p-value, we reject the null hypothesis that output and age are the same in terms of painthreshold (No difference)"
   ]
  },
  {
   "cell_type": "code",
   "execution_count": 186,
   "metadata": {
    "execution": {
     "iopub.execute_input": "2021-05-31T03:58:23.852585Z",
     "iopub.status.busy": "2021-05-31T03:58:23.852179Z",
     "iopub.status.idle": "2021-05-31T03:58:23.877177Z",
     "shell.execute_reply": "2021-05-31T03:58:23.876042Z",
     "shell.execute_reply.started": "2021-05-31T03:58:23.852549Z"
    }
   },
   "outputs": [
    {
     "data": {
      "text/plain": [
       "Ttest_indResult(statistic=-8.352979797236767, pvalue=2.4697121089225667e-15)"
      ]
     },
     "execution_count": 186,
     "metadata": {},
     "output_type": "execute_result"
    }
   ],
   "source": [
    "# T-test for clients who is less likely or more likely in relation to cp if their mean values are the same\n",
    "no = cl[cl['output'] == 0]['cp']\n",
    "yes = cl[cl['output'] == 1]['cp']\n",
    "\n",
    "stats.ttest_ind(no, yes)"
   ]
  },
  {
   "cell_type": "markdown",
   "metadata": {},
   "source": [
    "- Null hypothesis says two means are almost same.\n",
    "- p-value is a probability if the null hypothesis is true. A high p-value (> 0.05) means we can't reject the null hypothesis\n",
    "- Since we have a low p-value, we reject the null hypothesis that output and cp are the same in terms of painthreshold (No difference)"
   ]
  },
  {
   "cell_type": "code",
   "execution_count": 187,
   "metadata": {
    "execution": {
     "iopub.execute_input": "2021-05-31T03:58:23.880451Z",
     "iopub.status.busy": "2021-05-31T03:58:23.879379Z",
     "iopub.status.idle": "2021-05-31T03:58:23.902367Z",
     "shell.execute_reply": "2021-05-31T03:58:23.900071Z",
     "shell.execute_reply.started": "2021-05-31T03:58:23.880384Z"
    }
   },
   "outputs": [
    {
     "data": {
      "text/plain": [
       "Ttest_indResult(statistic=-8.069702869452568, pvalue=1.697337638656049e-14)"
      ]
     },
     "execution_count": 187,
     "metadata": {},
     "output_type": "execute_result"
    }
   ],
   "source": [
    "# T-test for clients who is less likely or more likely in relation to thalachh if their mean values are the same\n",
    "no = cl[cl['output'] == 0]['thalachh']\n",
    "yes = cl[cl['output'] == 1]['thalachh']\n",
    "\n",
    "stats.ttest_ind(no, yes)"
   ]
  },
  {
   "cell_type": "markdown",
   "metadata": {},
   "source": [
    "- Null hypothesis says two means are almost same.\n",
    "- p-value is a probability if the null hypothesis is true. A high p-value (> 0.05) means we can't reject the null hypothesis\n",
    "- Since we have a low p-value, we reject the null hypothesis that output and thalachh are the same in terms of painthreshold (No difference)"
   ]
  },
  {
   "cell_type": "code",
   "execution_count": 188,
   "metadata": {
    "execution": {
     "iopub.execute_input": "2021-05-31T03:58:23.905545Z",
     "iopub.status.busy": "2021-05-31T03:58:23.904805Z",
     "iopub.status.idle": "2021-05-31T03:58:23.920914Z",
     "shell.execute_reply": "2021-05-31T03:58:23.919875Z",
     "shell.execute_reply.started": "2021-05-31T03:58:23.905488Z"
    }
   },
   "outputs": [
    {
     "data": {
      "text/plain": [
       "Ttest_indResult(statistic=8.423327027748353, pvalue=1.5208138383313965e-15)"
      ]
     },
     "execution_count": 188,
     "metadata": {},
     "output_type": "execute_result"
    }
   ],
   "source": [
    "# T-test for clients who is less likely or more likely in relation to exng if their mean values are the same\n",
    "no = cl[cl['output'] == 0]['exng']\n",
    "yes = cl[cl['output'] == 1]['exng']\n",
    "\n",
    "stats.ttest_ind(no, yes)"
   ]
  },
  {
   "cell_type": "markdown",
   "metadata": {},
   "source": [
    "- Null hypothesis says two means are almost same.\n",
    "- p-value is a probability if the null hypothesis is true. A high p-value (> 0.05) means we can't reject the null hypothesis\n",
    "- Since we have a low p-value, we reject the null hypothesis that output and exng are the same in terms of painthreshold (No difference)"
   ]
  },
  {
   "cell_type": "markdown",
   "metadata": {},
   "source": [
    "# Model Building"
   ]
  },
  {
   "cell_type": "code",
   "execution_count": 189,
   "metadata": {
    "execution": {
     "iopub.execute_input": "2021-05-31T03:58:23.922872Z",
     "iopub.status.busy": "2021-05-31T03:58:23.922273Z",
     "iopub.status.idle": "2021-05-31T03:58:23.941960Z",
     "shell.execute_reply": "2021-05-31T03:58:23.940968Z",
     "shell.execute_reply.started": "2021-05-31T03:58:23.922826Z"
    }
   },
   "outputs": [
    {
     "data": {
      "text/plain": [
       "age          41\n",
       "sex           2\n",
       "cp            4\n",
       "trtbps       49\n",
       "chol        152\n",
       "fbs           2\n",
       "restecg       3\n",
       "thalachh     91\n",
       "exng          2\n",
       "oldpeak      40\n",
       "slp           3\n",
       "caa           5\n",
       "thall         4\n",
       "output        2\n",
       "dtype: int64"
      ]
     },
     "execution_count": 189,
     "metadata": {},
     "output_type": "execute_result"
    }
   ],
   "source": [
    "# looking for unique variables\n",
    "cl.nunique()"
   ]
  },
  {
   "cell_type": "code",
   "execution_count": 190,
   "metadata": {
    "execution": {
     "iopub.execute_input": "2021-05-31T03:58:23.943802Z",
     "iopub.status.busy": "2021-05-31T03:58:23.943156Z",
     "iopub.status.idle": "2021-05-31T03:58:23.976207Z",
     "shell.execute_reply": "2021-05-31T03:58:23.974550Z",
     "shell.execute_reply.started": "2021-05-31T03:58:23.943761Z"
    }
   },
   "outputs": [
    {
     "data": {
      "text/html": [
       "<div>\n",
       "<style scoped>\n",
       "    .dataframe tbody tr th:only-of-type {\n",
       "        vertical-align: middle;\n",
       "    }\n",
       "\n",
       "    .dataframe tbody tr th {\n",
       "        vertical-align: top;\n",
       "    }\n",
       "\n",
       "    .dataframe thead th {\n",
       "        text-align: right;\n",
       "    }\n",
       "</style>\n",
       "<table border=\"1\" class=\"dataframe\">\n",
       "  <thead>\n",
       "    <tr style=\"text-align: right;\">\n",
       "      <th></th>\n",
       "      <th>age</th>\n",
       "      <th>trtbps</th>\n",
       "      <th>chol</th>\n",
       "      <th>thalachh</th>\n",
       "      <th>oldpeak</th>\n",
       "      <th>output</th>\n",
       "      <th>sex_1</th>\n",
       "      <th>cp_1</th>\n",
       "      <th>cp_2</th>\n",
       "      <th>cp_3</th>\n",
       "      <th>...</th>\n",
       "      <th>exng_1</th>\n",
       "      <th>slp_1</th>\n",
       "      <th>slp_2</th>\n",
       "      <th>caa_1</th>\n",
       "      <th>caa_2</th>\n",
       "      <th>caa_3</th>\n",
       "      <th>caa_4</th>\n",
       "      <th>thall_1</th>\n",
       "      <th>thall_2</th>\n",
       "      <th>thall_3</th>\n",
       "    </tr>\n",
       "  </thead>\n",
       "  <tbody>\n",
       "    <tr>\n",
       "      <th>0</th>\n",
       "      <td>63</td>\n",
       "      <td>145</td>\n",
       "      <td>233</td>\n",
       "      <td>150</td>\n",
       "      <td>2.3</td>\n",
       "      <td>1</td>\n",
       "      <td>1</td>\n",
       "      <td>0</td>\n",
       "      <td>0</td>\n",
       "      <td>1</td>\n",
       "      <td>...</td>\n",
       "      <td>0</td>\n",
       "      <td>0</td>\n",
       "      <td>0</td>\n",
       "      <td>0</td>\n",
       "      <td>0</td>\n",
       "      <td>0</td>\n",
       "      <td>0</td>\n",
       "      <td>1</td>\n",
       "      <td>0</td>\n",
       "      <td>0</td>\n",
       "    </tr>\n",
       "    <tr>\n",
       "      <th>1</th>\n",
       "      <td>37</td>\n",
       "      <td>130</td>\n",
       "      <td>250</td>\n",
       "      <td>187</td>\n",
       "      <td>3.5</td>\n",
       "      <td>1</td>\n",
       "      <td>1</td>\n",
       "      <td>0</td>\n",
       "      <td>1</td>\n",
       "      <td>0</td>\n",
       "      <td>...</td>\n",
       "      <td>0</td>\n",
       "      <td>0</td>\n",
       "      <td>0</td>\n",
       "      <td>0</td>\n",
       "      <td>0</td>\n",
       "      <td>0</td>\n",
       "      <td>0</td>\n",
       "      <td>0</td>\n",
       "      <td>1</td>\n",
       "      <td>0</td>\n",
       "    </tr>\n",
       "  </tbody>\n",
       "</table>\n",
       "<p>2 rows × 23 columns</p>\n",
       "</div>"
      ],
      "text/plain": [
       "   age  trtbps  chol  thalachh  oldpeak  output  sex_1  cp_1  cp_2  cp_3  ...  \\\n",
       "0   63     145   233       150      2.3       1      1     0     0     1  ...   \n",
       "1   37     130   250       187      3.5       1      1     0     1     0  ...   \n",
       "\n",
       "   exng_1  slp_1  slp_2  caa_1  caa_2  caa_3  caa_4  thall_1  thall_2  thall_3  \n",
       "0       0      0      0      0      0      0      0        1        0        0  \n",
       "1       0      0      0      0      0      0      0        0        1        0  \n",
       "\n",
       "[2 rows x 23 columns]"
      ]
     },
     "execution_count": 190,
     "metadata": {},
     "output_type": "execute_result"
    }
   ],
   "source": [
    "## Categorical to Dummy Variables\n",
    "cl =  pd.get_dummies(cl, columns=[\"sex\", \"cp\", \"fbs\", \"restecg\", \"exng\", \"slp\", \"caa\", \"thall\"],\n",
    "                         prefix=[\"sex\", \"cp\", \"fbs\", \"restecg\", \"exng\", \"slp\", \"caa\", \"thall\"],\n",
    "                         drop_first=True)\n",
    "cl.head(2)"
   ]
  },
  {
   "cell_type": "code",
   "execution_count": 191,
   "metadata": {
    "execution": {
     "iopub.execute_input": "2021-05-31T03:58:23.978120Z",
     "iopub.status.busy": "2021-05-31T03:58:23.977702Z",
     "iopub.status.idle": "2021-05-31T03:58:24.270438Z",
     "shell.execute_reply": "2021-05-31T03:58:24.269014Z",
     "shell.execute_reply.started": "2021-05-31T03:58:23.978080Z"
    }
   },
   "outputs": [
    {
     "data": {
      "text/plain": [
       "age          7.524801e-05\n",
       "trtbps       1.154606e-02\n",
       "chol         1.387903e-01\n",
       "thalachh     1.697338e-14\n",
       "oldpeak      4.085346e-15\n",
       "output       0.000000e+00\n",
       "sex_1        6.678692e-07\n",
       "cp_1         1.498284e-05\n",
       "cp_2         1.735460e-08\n",
       "cp_3         1.309784e-01\n",
       "fbs_1        6.267775e-01\n",
       "restecg_1    2.191648e-03\n",
       "restecg_2    2.351175e-01\n",
       "exng_1       1.520814e-15\n",
       "slp_1        8.142433e-11\n",
       "slp_2        1.068761e-12\n",
       "caa_1        4.409069e-05\n",
       "caa_2        1.280668e-06\n",
       "caa_3        2.220536e-04\n",
       "caa_4        2.488996e-01\n",
       "thall_1      6.388288e-02\n",
       "thall_2      4.356225e-23\n",
       "thall_3      2.241269e-19\n",
       "Name: output, dtype: float64"
      ]
     },
     "execution_count": 191,
     "metadata": {},
     "output_type": "execute_result"
    }
   ],
   "source": [
    "### c. checking for p-value (TESTING FOR STATISTICAL SIGNIFICANCE OF INDEPENDENT VARIABLES)\n",
    "import scipy.stats as stats\n",
    "cl_corr = pd.DataFrame() # Correlation matrix\n",
    "cl_p = pd.DataFrame() # Matrix of p-values\n",
    "for x in cl.columns:   # assuming cl as your dataframe name\n",
    "   for y in cl.columns:\n",
    "      corr = stats.pearsonr(cl[x], cl[y])\n",
    "      cl_corr.loc[x,y] = corr[0]\n",
    "      cl_p.loc[x,y] = corr[1]\n",
    "\n",
    "cl_p['output']"
   ]
  },
  {
   "cell_type": "markdown",
   "metadata": {},
   "source": [
    "### At 0.05 level of significance to test the statistical significance of the X variables, chol, caa_4, thall_1, cp_3 and others are not statistically significant whiles the rest of X variables are statistically significant using the p-value. This is to test our three hypothesis.\n",
    "### Our null hypthesis is X variables (independent) are not statistically significant in predicting output (dependent variable). We will fail to reject the null hypothesis if the p-value for our x variables are greater than significant level 0.05.\n",
    "### The p-values of some X variables such as age, thalachh, thall_3 and others are all less than the 0.05 significant level therefore we reject the null hypothesis and that they are all statistically significant in predicting the dependent variable output."
   ]
  },
  {
   "cell_type": "markdown",
   "metadata": {},
   "source": [
    "# Using variables that are statistically significant for model selection"
   ]
  },
  {
   "cell_type": "code",
   "execution_count": 192,
   "metadata": {
    "execution": {
     "iopub.execute_input": "2021-05-31T03:58:24.272173Z",
     "iopub.status.busy": "2021-05-31T03:58:24.271892Z",
     "iopub.status.idle": "2021-05-31T03:58:24.279591Z",
     "shell.execute_reply": "2021-05-31T03:58:24.278126Z",
     "shell.execute_reply.started": "2021-05-31T03:58:24.272146Z"
    }
   },
   "outputs": [],
   "source": [
    "# Assigning dataset into dependent (y_1) and independent (X_1)\n",
    "y_1 = cl['output']\n",
    "X_1 = cl.drop(['output', 'chol', 'cp_3', 'fbs_1', 'restecg_2', 'caa_4', 'thall_1'], axis=1)"
   ]
  },
  {
   "cell_type": "code",
   "execution_count": 193,
   "metadata": {
    "execution": {
     "iopub.execute_input": "2021-05-31T03:58:24.281178Z",
     "iopub.status.busy": "2021-05-31T03:58:24.280901Z",
     "iopub.status.idle": "2021-05-31T03:58:24.310582Z",
     "shell.execute_reply": "2021-05-31T03:58:24.309103Z",
     "shell.execute_reply.started": "2021-05-31T03:58:24.281152Z"
    }
   },
   "outputs": [
    {
     "data": {
      "text/plain": [
       "array([[ 0.9521966 ,  0.76395577,  0.01544279,  1.08733806,  0.68100522,\n",
       "        -0.44455422, -0.63464776, -1.00330579, -0.69663055, -0.92676626,\n",
       "        -0.93914194, -0.52259855, -0.37867694, -0.26584089, -1.10076284,\n",
       "        -0.79311554],\n",
       "       [-1.91531289, -0.09273778,  1.63347147,  2.12257273,  0.68100522,\n",
       "        -0.44455422,  1.57567719,  0.9967051 , -0.69663055, -0.92676626,\n",
       "        -0.93914194, -0.52259855, -0.37867694, -0.26584089,  0.9084609 ,\n",
       "        -0.79311554],\n",
       "       [-1.47415758, -0.09273778,  0.97751389,  0.31091206, -1.46841752,\n",
       "         2.24944438, -0.63464776, -1.00330579, -0.69663055, -0.92676626,\n",
       "         1.06480177, -0.52259855, -0.37867694, -0.26584089,  0.9084609 ,\n",
       "        -0.79311554],\n",
       "       [ 0.18017482, -0.66386682,  1.23989692, -0.20670527,  0.68100522,\n",
       "         2.24944438, -0.63464776,  0.9967051 , -0.69663055, -0.92676626,\n",
       "         1.06480177, -0.52259855, -0.37867694, -0.26584089,  0.9084609 ,\n",
       "        -0.79311554],\n",
       "       [ 0.29046364, -0.66386682,  0.58393935, -0.37924438, -1.46841752,\n",
       "        -0.44455422, -0.63464776,  0.9967051 ,  1.43548113, -0.92676626,\n",
       "         1.06480177, -0.52259855, -0.37867694, -0.26584089,  0.9084609 ,\n",
       "        -0.79311554]])"
      ]
     },
     "execution_count": 193,
     "metadata": {},
     "output_type": "execute_result"
    }
   ],
   "source": [
    "# Normalizing all features\n",
    "from sklearn import preprocessing\n",
    "X_1 = preprocessing.StandardScaler().fit(X_1).transform(X_1)\n",
    "X_1[0:5]"
   ]
  },
  {
   "cell_type": "code",
   "execution_count": 194,
   "metadata": {
    "execution": {
     "iopub.execute_input": "2021-05-31T03:58:24.312219Z",
     "iopub.status.busy": "2021-05-31T03:58:24.311897Z",
     "iopub.status.idle": "2021-05-31T03:58:24.324625Z",
     "shell.execute_reply": "2021-05-31T03:58:24.323458Z",
     "shell.execute_reply.started": "2021-05-31T03:58:24.312190Z"
    }
   },
   "outputs": [],
   "source": [
    "# Splitting data into 70/30. 70% trained dataset and 30% test dataset\n",
    "X_1_train, X_1_test, y_1_train, y_1_test = train_test_split(X_1, y_1, train_size = 0.7, random_state =100)"
   ]
  },
  {
   "cell_type": "code",
   "execution_count": 195,
   "metadata": {
    "execution": {
     "iopub.execute_input": "2021-05-31T03:58:24.326380Z",
     "iopub.status.busy": "2021-05-31T03:58:24.325916Z",
     "iopub.status.idle": "2021-05-31T03:58:24.804152Z",
     "shell.execute_reply": "2021-05-31T03:58:24.802697Z",
     "shell.execute_reply.started": "2021-05-31T03:58:24.326329Z"
    }
   },
   "outputs": [
    {
     "data": {
      "image/png": "[encoded data removed]",
      "text/plain": [
       "<Figure size 432x288 with 1 Axes>"
      ]
     },
     "metadata": {
      "needs_background": "light"
     },
     "output_type": "display_data"
    }
   ],
   "source": [
    "## Best model selection\n",
    "plt.figure()\n",
    "\n",
    "# Add the models to the list that you want to view on the ROC plot\n",
    "models = [\n",
    "{\n",
    "    'label': 'Decision Tree',\n",
    "    'model': DecisionTreeClassifier(),\n",
    "},\n",
    "{\n",
    "    'label': 'K-nearest neighbors',\n",
    "    'model': KNeighborsClassifier(),\n",
    "},\n",
    "{\n",
    "    'label': 'Logistic Regression',\n",
    "    'model': LogisticRegression(solver='lbfgs', max_iter=20000),\n",
    "},\n",
    "{\n",
    "    'label': 'Random Forest',\n",
    "    'model': RandomForestClassifier(n_estimators=100),\n",
    "}\n",
    "]\n",
    "\n",
    "# Below for loop iterates through your models list\n",
    "for m in models:\n",
    "    model = m['model'] # select the model\n",
    "    model.fit(X_1_train, y_1_train) # train the model\n",
    "    #y_pred=model.predict(X_1_test) # predict the test data\n",
    "    \n",
    "    # Compute False postive rate, and True positive rate\n",
    "    fpr, tpr, thresholds = metrics.roc_curve(y_1_test, model.predict_proba(X_1_test)[:,1])\n",
    "\n",
    "    # Calculate Area under the curve to display on the plot\n",
    "    auc = metrics.roc_auc_score(y_1_test,model.predict(X_1_test))\n",
    "\n",
    "    # Now, plot the computed values\n",
    "    plt.plot(fpr, tpr, label='%s ROC (area = %0.2f)' % (m['label'], auc))\n",
    "\n",
    "# Custom settings for the plot \n",
    "plt.plot([0, 1], [0, 1],'r--')\n",
    "plt.xlim([0.0, 1.0])\n",
    "plt.ylim([0.0, 1.05])\n",
    "plt.xlabel('1-Specificity(False Positive Rate)')\n",
    "plt.ylabel('Sensitivity(True Positive Rate)')\n",
    "plt.title('Receiver Operating Characteristic')\n",
    "plt.legend(loc=\"lower right\")\n",
    "plt.show()   # Display"
   ]
  },
  {
   "cell_type": "markdown",
   "metadata": {},
   "source": [
    "# From our analysis, logistic regression came out on top with 86% using ROC."
   ]
  },
  {
   "cell_type": "code",
   "execution_count": 196,
   "metadata": {
    "execution": {
     "iopub.execute_input": "2021-05-31T03:58:24.806785Z",
     "iopub.status.busy": "2021-05-31T03:58:24.806390Z",
     "iopub.status.idle": "2021-05-31T03:58:24.813837Z",
     "shell.execute_reply": "2021-05-31T03:58:24.812347Z",
     "shell.execute_reply.started": "2021-05-31T03:58:24.806753Z"
    }
   },
   "outputs": [],
   "source": [
    "# Assigning dataset into dependent (y) and independent (x)\n",
    "y = cl['output']\n",
    "X = cl.drop(['output'], axis=1)"
   ]
  },
  {
   "cell_type": "code",
   "execution_count": 197,
   "metadata": {
    "execution": {
     "iopub.execute_input": "2021-05-31T03:58:24.816112Z",
     "iopub.status.busy": "2021-05-31T03:58:24.815768Z",
     "iopub.status.idle": "2021-05-31T03:58:24.840475Z",
     "shell.execute_reply": "2021-05-31T03:58:24.839163Z",
     "shell.execute_reply.started": "2021-05-31T03:58:24.816081Z"
    }
   },
   "outputs": [
    {
     "data": {
      "text/plain": [
       "array([[ 0.9521966 ,  0.76395577, -0.25633371,  0.01544279,  1.08733806,\n",
       "         0.68100522, -0.44455422, -0.63464776,  3.4891135 ,  2.394438  ,\n",
       "        -1.00330579, -0.11566299, -0.69663055, -0.92676626, -0.93914194,\n",
       "        -0.52259855, -0.37867694, -0.26584089, -0.12953194,  3.97911213,\n",
       "        -1.10076284, -0.79311554],\n",
       "       [-1.91531289, -0.09273778,  0.07219949,  1.63347147,  2.12257273,\n",
       "         0.68100522, -0.44455422,  1.57567719, -0.28660575, -0.41763453,\n",
       "         0.9967051 , -0.11566299, -0.69663055, -0.92676626, -0.93914194,\n",
       "        -0.52259855, -0.37867694, -0.26584089, -0.12953194, -0.25131234,\n",
       "         0.9084609 , -0.79311554],\n",
       "       [-1.47415758, -0.09273778, -0.81677269,  0.97751389,  0.31091206,\n",
       "        -1.46841752,  2.24944438, -0.63464776, -0.28660575, -0.41763453,\n",
       "        -1.00330579, -0.11566299, -0.69663055, -0.92676626,  1.06480177,\n",
       "        -0.52259855, -0.37867694, -0.26584089, -0.12953194, -0.25131234,\n",
       "         0.9084609 , -0.79311554],\n",
       "       [ 0.18017482, -0.66386682, -0.19835726,  1.23989692, -0.20670527,\n",
       "         0.68100522,  2.24944438, -0.63464776, -0.28660575, -0.41763453,\n",
       "         0.9967051 , -0.11566299, -0.69663055, -0.92676626,  1.06480177,\n",
       "        -0.52259855, -0.37867694, -0.26584089, -0.12953194, -0.25131234,\n",
       "         0.9084609 , -0.79311554],\n",
       "       [ 0.29046364, -0.66386682,  2.08204965,  0.58393935, -0.37924438,\n",
       "        -1.46841752, -0.44455422, -0.63464776, -0.28660575, -0.41763453,\n",
       "         0.9967051 , -0.11566299,  1.43548113, -0.92676626,  1.06480177,\n",
       "        -0.52259855, -0.37867694, -0.26584089, -0.12953194, -0.25131234,\n",
       "         0.9084609 , -0.79311554]])"
      ]
     },
     "execution_count": 197,
     "metadata": {},
     "output_type": "execute_result"
    }
   ],
   "source": [
    "# Normalizing all features\n",
    "from sklearn import preprocessing\n",
    "X_2 = preprocessing.StandardScaler().fit(X).transform(X)\n",
    "X_2[0:5]"
   ]
  },
  {
   "cell_type": "code",
   "execution_count": 198,
   "metadata": {
    "execution": {
     "iopub.execute_input": "2021-05-31T03:58:24.843050Z",
     "iopub.status.busy": "2021-05-31T03:58:24.842665Z",
     "iopub.status.idle": "2021-05-31T03:58:24.854473Z",
     "shell.execute_reply": "2021-05-31T03:58:24.852991Z",
     "shell.execute_reply.started": "2021-05-31T03:58:24.843018Z"
    }
   },
   "outputs": [],
   "source": [
    "# Splitting data into 70/30. 70% trained dataset and 30% test dataset\n",
    "X_train, X_test, y_train, y_test = train_test_split(X_2, y, train_size = 0.7, random_state =100)"
   ]
  },
  {
   "cell_type": "code",
   "execution_count": 199,
   "metadata": {
    "execution": {
     "iopub.execute_input": "2021-05-31T03:58:24.856817Z",
     "iopub.status.busy": "2021-05-31T03:58:24.856411Z",
     "iopub.status.idle": "2021-05-31T03:58:25.353634Z",
     "shell.execute_reply": "2021-05-31T03:58:25.352755Z",
     "shell.execute_reply.started": "2021-05-31T03:58:24.856785Z"
    }
   },
   "outputs": [
    {
     "data": {
      "image/png": "[encoded data removed]",
      "text/plain": [
       "<Figure size 432x288 with 1 Axes>"
      ]
     },
     "metadata": {
      "needs_background": "light"
     },
     "output_type": "display_data"
    }
   ],
   "source": [
    "# Model Selection\n",
    "plt.figure()\n",
    "\n",
    "# Add the models to the list that you want to view on the ROC plot\n",
    "models = [\n",
    "{\n",
    "    'label': 'Decision Tree',\n",
    "    'model': DecisionTreeClassifier(),\n",
    "},\n",
    "{\n",
    "    'label': 'K-nearest neighbors',\n",
    "    'model': KNeighborsClassifier(),\n",
    "},\n",
    "{\n",
    "    'label': 'Logistic Regression',\n",
    "    'model': LogisticRegression(solver='lbfgs', max_iter=20000),\n",
    "},\n",
    "{\n",
    "    'label': 'Random Forest',\n",
    "    'model': RandomForestClassifier(n_estimators=100),\n",
    "}\n",
    "]\n",
    "\n",
    "# Below for loop iterates through your models list\n",
    "for m in models:\n",
    "    model = m['model'] # select the model\n",
    "    model.fit(X_train, y_train) # train the model\n",
    "    #y_pred=model.predict(X_test) # predict the test data\n",
    "    \n",
    "    # Compute False postive rate, and True positive rate\n",
    "    fpr, tpr, thresholds = metrics.roc_curve(y_test, model.predict_proba(X_test)[:,1])\n",
    "\n",
    "    # Calculate Area under the curve to display on the plot\n",
    "    auc = metrics.roc_auc_score(y_test,model.predict(X_test))\n",
    "\n",
    "    # Now, plot the computed values\n",
    "    plt.plot(fpr, tpr, label='%s ROC (area = %0.2f)' % (m['label'], auc))\n",
    "\n",
    "# Custom settings for the plot \n",
    "plt.plot([0, 1], [0, 1],'r--')\n",
    "plt.xlim([0.0, 1.0])\n",
    "plt.ylim([0.0, 1.05])\n",
    "plt.xlabel('1-Specificity(False Positive Rate)')\n",
    "plt.ylabel('Sensitivity(True Positive Rate)')\n",
    "plt.title('Receiver Operating Characteristic')\n",
    "plt.legend(loc=\"lower right\")\n",
    "plt.show()   # Display"
   ]
  },
  {
   "cell_type": "markdown",
   "metadata": {},
   "source": [
    "# From our analysis, logistic regression came out on top with 87% using ROC."
   ]
  },
  {
   "cell_type": "code",
   "execution_count": 200,
   "metadata": {
    "execution": {
     "iopub.execute_input": "2021-05-31T03:58:25.355517Z",
     "iopub.status.busy": "2021-05-31T03:58:25.355037Z",
     "iopub.status.idle": "2021-05-31T03:58:25.742554Z",
     "shell.execute_reply": "2021-05-31T03:58:25.741409Z",
     "shell.execute_reply.started": "2021-05-31T03:58:25.355481Z"
    }
   },
   "outputs": [
    {
     "data": {
      "image/png": "[encoded data removed]",
      "text/plain": [
       "<Figure size 432x288 with 1 Axes>"
      ]
     },
     "metadata": {
      "needs_background": "light"
     },
     "output_type": "display_data"
    }
   ],
   "source": [
    "# Model Selection for advance classification algorithms\n",
    "plt.figure()\n",
    "\n",
    "# Add the models to the list that you want to view on the ROC plot\n",
    "models = [\n",
    "{\n",
    "    'label': 'Support Vector Machine',\n",
    "    'model': SVC(gamma='auto', probability=True),\n",
    "},\n",
    "{\n",
    "    'label': 'Gradient Boosting',\n",
    "    'model': GradientBoostingClassifier(),\n",
    "},\n",
    "{\n",
    "    'label': 'Neural Network',\n",
    "    'model': MLPClassifier(solver='lbfgs', max_iter=15000),\n",
    "}\n",
    "]\n",
    "\n",
    "# Below for loop iterates through your models list\n",
    "for m in models:\n",
    "    model = m['model'] # select the model\n",
    "    model.fit(X_train, y_train) # train the model\n",
    "    #y_pred=model.predict(X_test) # predict the test data\n",
    "    \n",
    "    # Compute False postive rate, and True positive rate\n",
    "    fpr, tpr, thresholds = metrics.roc_curve(y_test, model.predict_proba(X_test)[:,1])\n",
    "\n",
    "    # Calculate Area under the curve to display on the plot\n",
    "    auc = metrics.roc_auc_score(y_test,model.predict(X_test))\n",
    "\n",
    "    # Now, plot the computed values\n",
    "    plt.plot(fpr, tpr, label='%s ROC (area = %0.2f)' % (m['label'], auc))\n",
    "\n",
    "# Custom settings for the plot \n",
    "plt.plot([0, 1], [0, 1],'r--')\n",
    "plt.xlim([0.0, 1.0])\n",
    "plt.ylim([0.0, 1.05])\n",
    "plt.xlabel('1-Specificity(False Positive Rate)')\n",
    "plt.ylabel('Sensitivity(True Positive Rate)')\n",
    "plt.title('Receiver Operating Characteristic')\n",
    "plt.legend(loc=\"lower right\")\n",
    "plt.show()   # Display"
   ]
  },
  {
   "cell_type": "markdown",
   "metadata": {},
   "source": [
    "# From our analysis, Support Vector Machine came out on top with 85% using ROC."
   ]
  },
  {
   "cell_type": "code",
   "execution_count": 201,
   "metadata": {
    "execution": {
     "iopub.execute_input": "2021-05-31T03:58:25.744230Z",
     "iopub.status.busy": "2021-05-31T03:58:25.743940Z",
     "iopub.status.idle": "2021-05-31T03:58:25.773099Z",
     "shell.execute_reply": "2021-05-31T03:58:25.771844Z",
     "shell.execute_reply.started": "2021-05-31T03:58:25.744203Z"
    }
   },
   "outputs": [
    {
     "data": {
      "text/html": [
       "<div>\n",
       "<style scoped>\n",
       "    .dataframe tbody tr th:only-of-type {\n",
       "        vertical-align: middle;\n",
       "    }\n",
       "\n",
       "    .dataframe tbody tr th {\n",
       "        vertical-align: top;\n",
       "    }\n",
       "\n",
       "    .dataframe thead th {\n",
       "        text-align: right;\n",
       "    }\n",
       "</style>\n",
       "<table border=\"1\" class=\"dataframe\">\n",
       "  <thead>\n",
       "    <tr style=\"text-align: right;\">\n",
       "      <th></th>\n",
       "      <th>X variables</th>\n",
       "      <th>coef</th>\n",
       "    </tr>\n",
       "  </thead>\n",
       "  <tbody>\n",
       "    <tr>\n",
       "      <th>7</th>\n",
       "      <td>cp_2</td>\n",
       "      <td>0.949515</td>\n",
       "    </tr>\n",
       "    <tr>\n",
       "      <th>8</th>\n",
       "      <td>cp_3</td>\n",
       "      <td>0.450728</td>\n",
       "    </tr>\n",
       "    <tr>\n",
       "      <th>20</th>\n",
       "      <td>thall_2</td>\n",
       "      <td>0.383048</td>\n",
       "    </tr>\n",
       "    <tr>\n",
       "      <th>14</th>\n",
       "      <td>slp_2</td>\n",
       "      <td>0.374143</td>\n",
       "    </tr>\n",
       "    <tr>\n",
       "      <th>3</th>\n",
       "      <td>thalachh</td>\n",
       "      <td>0.357761</td>\n",
       "    </tr>\n",
       "    <tr>\n",
       "      <th>0</th>\n",
       "      <td>age</td>\n",
       "      <td>0.328431</td>\n",
       "    </tr>\n",
       "    <tr>\n",
       "      <th>6</th>\n",
       "      <td>cp_1</td>\n",
       "      <td>0.194003</td>\n",
       "    </tr>\n",
       "    <tr>\n",
       "      <th>10</th>\n",
       "      <td>restecg_1</td>\n",
       "      <td>0.133013</td>\n",
       "    </tr>\n",
       "    <tr>\n",
       "      <th>19</th>\n",
       "      <td>thall_1</td>\n",
       "      <td>0.128819</td>\n",
       "    </tr>\n",
       "    <tr>\n",
       "      <th>18</th>\n",
       "      <td>caa_4</td>\n",
       "      <td>0.127353</td>\n",
       "    </tr>\n",
       "    <tr>\n",
       "      <th>11</th>\n",
       "      <td>restecg_2</td>\n",
       "      <td>0.072938</td>\n",
       "    </tr>\n",
       "    <tr>\n",
       "      <th>9</th>\n",
       "      <td>fbs_1</td>\n",
       "      <td>-0.032149</td>\n",
       "    </tr>\n",
       "    <tr>\n",
       "      <th>12</th>\n",
       "      <td>exng_1</td>\n",
       "      <td>-0.094508</td>\n",
       "    </tr>\n",
       "    <tr>\n",
       "      <th>1</th>\n",
       "      <td>trtbps</td>\n",
       "      <td>-0.146202</td>\n",
       "    </tr>\n",
       "    <tr>\n",
       "      <th>13</th>\n",
       "      <td>slp_1</td>\n",
       "      <td>-0.202520</td>\n",
       "    </tr>\n",
       "    <tr>\n",
       "      <th>2</th>\n",
       "      <td>chol</td>\n",
       "      <td>-0.311927</td>\n",
       "    </tr>\n",
       "    <tr>\n",
       "      <th>4</th>\n",
       "      <td>oldpeak</td>\n",
       "      <td>-0.481539</td>\n",
       "    </tr>\n",
       "    <tr>\n",
       "      <th>21</th>\n",
       "      <td>thall_3</td>\n",
       "      <td>-0.486092</td>\n",
       "    </tr>\n",
       "    <tr>\n",
       "      <th>5</th>\n",
       "      <td>sex_1</td>\n",
       "      <td>-0.593666</td>\n",
       "    </tr>\n",
       "    <tr>\n",
       "      <th>17</th>\n",
       "      <td>caa_3</td>\n",
       "      <td>-0.820358</td>\n",
       "    </tr>\n",
       "    <tr>\n",
       "      <th>16</th>\n",
       "      <td>caa_2</td>\n",
       "      <td>-0.989335</td>\n",
       "    </tr>\n",
       "    <tr>\n",
       "      <th>15</th>\n",
       "      <td>caa_1</td>\n",
       "      <td>-1.005039</td>\n",
       "    </tr>\n",
       "  </tbody>\n",
       "</table>\n",
       "</div>"
      ],
      "text/plain": [
       "   X variables      coef\n",
       "7         cp_2  0.949515\n",
       "8         cp_3  0.450728\n",
       "20     thall_2  0.383048\n",
       "14       slp_2  0.374143\n",
       "3     thalachh  0.357761\n",
       "0          age  0.328431\n",
       "6         cp_1  0.194003\n",
       "10   restecg_1  0.133013\n",
       "19     thall_1  0.128819\n",
       "18       caa_4  0.127353\n",
       "11   restecg_2  0.072938\n",
       "9        fbs_1 -0.032149\n",
       "12      exng_1 -0.094508\n",
       "1       trtbps -0.146202\n",
       "13       slp_1 -0.202520\n",
       "2         chol -0.311927\n",
       "4      oldpeak -0.481539\n",
       "21     thall_3 -0.486092\n",
       "5        sex_1 -0.593666\n",
       "17       caa_3 -0.820358\n",
       "16       caa_2 -0.989335\n",
       "15       caa_1 -1.005039"
      ]
     },
     "execution_count": 201,
     "metadata": {},
     "output_type": "execute_result"
    }
   ],
   "source": [
    "# using Logistic Regression\n",
    "lr = LogisticRegression(solver='lbfgs', max_iter=20000)\n",
    "lr.fit(X_train, y_train)\n",
    "y_pred = lr.predict(X_test)\n",
    "# print coefficients\n",
    "coef = pd.DataFrame(list(zip(X.columns, np.transpose(lr.coef_))), \n",
    "             columns=['X variables', 'coef']).sort_values('coef', ascending=False)\n",
    "\n",
    "coef['coef'] = coef['coef'].str[0]\n",
    "coef"
   ]
  },
  {
   "cell_type": "code",
   "execution_count": 202,
   "metadata": {
    "execution": {
     "iopub.execute_input": "2021-05-31T03:58:25.774859Z",
     "iopub.status.busy": "2021-05-31T03:58:25.774581Z",
     "iopub.status.idle": "2021-05-31T03:58:25.783651Z",
     "shell.execute_reply": "2021-05-31T03:58:25.782707Z",
     "shell.execute_reply.started": "2021-05-31T03:58:25.774832Z"
    }
   },
   "outputs": [],
   "source": [
    "### As we can see, the highest positive coefficient or weight is cp_2 and the highest negative coefficient is caa_1."
   ]
  },
  {
   "cell_type": "code",
   "execution_count": 203,
   "metadata": {
    "execution": {
     "iopub.execute_input": "2021-05-31T03:58:25.784934Z",
     "iopub.status.busy": "2021-05-31T03:58:25.784638Z",
     "iopub.status.idle": "2021-05-31T03:58:25.814086Z",
     "shell.execute_reply": "2021-05-31T03:58:25.812242Z",
     "shell.execute_reply.started": "2021-05-31T03:58:25.784903Z"
    }
   },
   "outputs": [
    {
     "name": "stdout",
     "output_type": "stream",
     "text": [
      "0.8681318681318682\n",
      "[[36 10]\n",
      " [ 2 43]]\n",
      "              precision    recall  f1-score   support\n",
      "\n",
      "           0       0.95      0.78      0.86        46\n",
      "           1       0.81      0.96      0.88        45\n",
      "\n",
      "    accuracy                           0.87        91\n",
      "   macro avg       0.88      0.87      0.87        91\n",
      "weighted avg       0.88      0.87      0.87        91\n",
      "\n",
      "0.8690821256038649\n"
     ]
    }
   ],
   "source": [
    "print(metrics.accuracy_score(y_test, lr.predict(X_test)))\n",
    "print(metrics.confusion_matrix(y_test, lr.predict(X_test)))\n",
    "print(metrics.classification_report(y_test, lr.predict(X_test)))\n",
    "print(metrics.roc_auc_score(y_test, lr.predict(X_test)))"
   ]
  },
  {
   "cell_type": "code",
   "execution_count": 204,
   "metadata": {
    "execution": {
     "iopub.execute_input": "2021-05-31T03:58:25.816006Z",
     "iopub.status.busy": "2021-05-31T03:58:25.815673Z",
     "iopub.status.idle": "2021-05-31T03:58:25.901090Z",
     "shell.execute_reply": "2021-05-31T03:58:25.900099Z",
     "shell.execute_reply.started": "2021-05-31T03:58:25.815977Z"
    }
   },
   "outputs": [
    {
     "name": "stdout",
     "output_type": "stream",
     "text": [
      "[0.9        1.         1.         0.77777778 1.         0.88888889\n",
      " 1.         0.88888889 0.66666667 0.88888889]\n",
      "0.9011111111111111\n"
     ]
    }
   ],
   "source": [
    "# 10 fold cross validation evaluation\n",
    "scores = cross_val_score(LogisticRegression(solver='lbfgs', max_iter=20000), X_test, y_test, scoring='accuracy', cv=10)\n",
    "print(scores)\n",
    "print(scores.mean())"
   ]
  },
  {
   "cell_type": "code",
   "execution_count": 205,
   "metadata": {
    "execution": {
     "iopub.execute_input": "2021-05-31T03:58:25.904869Z",
     "iopub.status.busy": "2021-05-31T03:58:25.904488Z",
     "iopub.status.idle": "2021-05-31T03:58:25.914676Z",
     "shell.execute_reply": "2021-05-31T03:58:25.913372Z",
     "shell.execute_reply.started": "2021-05-31T03:58:25.904838Z"
    }
   },
   "outputs": [
    {
     "data": {
      "text/plain": [
       "array([[0.01463362, 0.98536638],\n",
       "       [0.99078682, 0.00921318],\n",
       "       [0.99576986, 0.00423014],\n",
       "       [0.03323862, 0.96676138],\n",
       "       [0.28893101, 0.71106899],\n",
       "       [0.97972525, 0.02027475],\n",
       "       [0.94754619, 0.05245381],\n",
       "       [0.9583974 , 0.0416026 ],\n",
       "       [0.21394839, 0.78605161],\n",
       "       [0.41772147, 0.58227853],\n",
       "       [0.93093735, 0.06906265],\n",
       "       [0.2251599 , 0.7748401 ],\n",
       "       [0.92282198, 0.07717802],\n",
       "       [0.15460648, 0.84539352],\n",
       "       [0.92288136, 0.07711864],\n",
       "       [0.4011616 , 0.5988384 ],\n",
       "       [0.93488754, 0.06511246],\n",
       "       [0.9636012 , 0.0363988 ],\n",
       "       [0.94302677, 0.05697323],\n",
       "       [0.37940499, 0.62059501]])"
      ]
     },
     "execution_count": 205,
     "metadata": {},
     "output_type": "execute_result"
    }
   ],
   "source": [
    "# probability of heart attack\n",
    "probs = lr.predict_proba(X_test)\n",
    "probs[0:20]\n",
    "#1st column: probability of less chance of heart attack\n",
    "#2nd column: probabiility of more chance of heart attack"
   ]
  },
  {
   "cell_type": "code",
   "execution_count": 206,
   "metadata": {
    "execution": {
     "iopub.execute_input": "2021-05-31T03:58:25.917213Z",
     "iopub.status.busy": "2021-05-31T03:58:25.916814Z",
     "iopub.status.idle": "2021-05-31T03:58:26.164349Z",
     "shell.execute_reply": "2021-05-31T03:58:26.163129Z",
     "shell.execute_reply.started": "2021-05-31T03:58:25.917179Z"
    }
   },
   "outputs": [
    {
     "data": {
      "text/plain": [
       "0.8571428571428571"
      ]
     },
     "execution_count": 206,
     "metadata": {},
     "output_type": "execute_result"
    }
   ],
   "source": [
    "# RandomForestClassifier\n",
    "from sklearn.ensemble import RandomForestClassifier\n",
    "\n",
    "clf = RandomForestClassifier(n_estimators=100)    #building 100 decision trees\n",
    "clf=clf.fit(X_train, y_train)\n",
    "clf.score(X_test, y_test)"
   ]
  },
  {
   "cell_type": "code",
   "execution_count": 207,
   "metadata": {
    "execution": {
     "iopub.execute_input": "2021-05-31T03:58:26.166456Z",
     "iopub.status.busy": "2021-05-31T03:58:26.166086Z",
     "iopub.status.idle": "2021-05-31T03:58:26.221850Z",
     "shell.execute_reply": "2021-05-31T03:58:26.220338Z",
     "shell.execute_reply.started": "2021-05-31T03:58:26.166424Z"
    }
   },
   "outputs": [
    {
     "name": "stdout",
     "output_type": "stream",
     "text": [
      "0.8571428571428571\n",
      "[[36 10]\n",
      " [ 3 42]]\n",
      "              precision    recall  f1-score   support\n",
      "\n",
      "           0       0.92      0.78      0.85        46\n",
      "           1       0.81      0.93      0.87        45\n",
      "\n",
      "    accuracy                           0.86        91\n",
      "   macro avg       0.87      0.86      0.86        91\n",
      "weighted avg       0.87      0.86      0.86        91\n",
      "\n"
     ]
    }
   ],
   "source": [
    "# Evaluation metrics\n",
    "print(metrics.accuracy_score(y_test, clf.predict(X_test))) #overall accuracy\n",
    "print(metrics.confusion_matrix(y_test, clf.predict(X_test)))\n",
    "print(metrics.classification_report(y_test, clf.predict(X_test)))"
   ]
  },
  {
   "cell_type": "code",
   "execution_count": 208,
   "metadata": {
    "execution": {
     "iopub.execute_input": "2021-05-31T03:58:26.223901Z",
     "iopub.status.busy": "2021-05-31T03:58:26.223561Z",
     "iopub.status.idle": "2021-05-31T03:58:28.064761Z",
     "shell.execute_reply": "2021-05-31T03:58:28.063565Z",
     "shell.execute_reply.started": "2021-05-31T03:58:26.223869Z"
    }
   },
   "outputs": [
    {
     "name": "stdout",
     "output_type": "stream",
     "text": [
      "[0.9        1.         0.77777778 0.77777778 0.88888889 0.88888889\n",
      " 1.         0.88888889 0.66666667 0.88888889]\n",
      "0.8677777777777778\n"
     ]
    }
   ],
   "source": [
    "# 10 fold cross validation evaluation\n",
    "scores = cross_val_score(RandomForestClassifier(), X_test, y_test, scoring='accuracy', cv=10)\n",
    "print(scores)\n",
    "print(scores.mean())"
   ]
  },
  {
   "cell_type": "code",
   "execution_count": 209,
   "metadata": {
    "execution": {
     "iopub.execute_input": "2021-05-31T03:58:28.066496Z",
     "iopub.status.busy": "2021-05-31T03:58:28.066139Z",
     "iopub.status.idle": "2021-05-31T03:58:28.095120Z",
     "shell.execute_reply": "2021-05-31T03:58:28.094180Z",
     "shell.execute_reply.started": "2021-05-31T03:58:28.066444Z"
    }
   },
   "outputs": [
    {
     "data": {
      "text/html": [
       "<div>\n",
       "<style scoped>\n",
       "    .dataframe tbody tr th:only-of-type {\n",
       "        vertical-align: middle;\n",
       "    }\n",
       "\n",
       "    .dataframe tbody tr th {\n",
       "        vertical-align: top;\n",
       "    }\n",
       "\n",
       "    .dataframe thead th {\n",
       "        text-align: right;\n",
       "    }\n",
       "</style>\n",
       "<table border=\"1\" class=\"dataframe\">\n",
       "  <thead>\n",
       "    <tr style=\"text-align: right;\">\n",
       "      <th></th>\n",
       "      <th>importance</th>\n",
       "    </tr>\n",
       "  </thead>\n",
       "  <tbody>\n",
       "    <tr>\n",
       "      <th>oldpeak</th>\n",
       "      <td>0.115392</td>\n",
       "    </tr>\n",
       "    <tr>\n",
       "      <th>thalachh</th>\n",
       "      <td>0.110786</td>\n",
       "    </tr>\n",
       "    <tr>\n",
       "      <th>thall_3</th>\n",
       "      <td>0.102242</td>\n",
       "    </tr>\n",
       "    <tr>\n",
       "      <th>age</th>\n",
       "      <td>0.090819</td>\n",
       "    </tr>\n",
       "    <tr>\n",
       "      <th>thall_2</th>\n",
       "      <td>0.086406</td>\n",
       "    </tr>\n",
       "    <tr>\n",
       "      <th>chol</th>\n",
       "      <td>0.085776</td>\n",
       "    </tr>\n",
       "    <tr>\n",
       "      <th>trtbps</th>\n",
       "      <td>0.083577</td>\n",
       "    </tr>\n",
       "    <tr>\n",
       "      <th>caa_1</th>\n",
       "      <td>0.043764</td>\n",
       "    </tr>\n",
       "    <tr>\n",
       "      <th>exng_1</th>\n",
       "      <td>0.043017</td>\n",
       "    </tr>\n",
       "    <tr>\n",
       "      <th>sex_1</th>\n",
       "      <td>0.037142</td>\n",
       "    </tr>\n",
       "    <tr>\n",
       "      <th>slp_2</th>\n",
       "      <td>0.031162</td>\n",
       "    </tr>\n",
       "    <tr>\n",
       "      <th>cp_2</th>\n",
       "      <td>0.030737</td>\n",
       "    </tr>\n",
       "    <tr>\n",
       "      <th>caa_2</th>\n",
       "      <td>0.025521</td>\n",
       "    </tr>\n",
       "    <tr>\n",
       "      <th>cp_3</th>\n",
       "      <td>0.023809</td>\n",
       "    </tr>\n",
       "    <tr>\n",
       "      <th>slp_1</th>\n",
       "      <td>0.023280</td>\n",
       "    </tr>\n",
       "    <tr>\n",
       "      <th>restecg_1</th>\n",
       "      <td>0.019189</td>\n",
       "    </tr>\n",
       "    <tr>\n",
       "      <th>cp_1</th>\n",
       "      <td>0.015319</td>\n",
       "    </tr>\n",
       "    <tr>\n",
       "      <th>fbs_1</th>\n",
       "      <td>0.012300</td>\n",
       "    </tr>\n",
       "    <tr>\n",
       "      <th>caa_3</th>\n",
       "      <td>0.009673</td>\n",
       "    </tr>\n",
       "    <tr>\n",
       "      <th>thall_1</th>\n",
       "      <td>0.007520</td>\n",
       "    </tr>\n",
       "    <tr>\n",
       "      <th>caa_4</th>\n",
       "      <td>0.001692</td>\n",
       "    </tr>\n",
       "    <tr>\n",
       "      <th>restecg_2</th>\n",
       "      <td>0.000875</td>\n",
       "    </tr>\n",
       "  </tbody>\n",
       "</table>\n",
       "</div>"
      ],
      "text/plain": [
       "           importance\n",
       "oldpeak      0.115392\n",
       "thalachh     0.110786\n",
       "thall_3      0.102242\n",
       "age          0.090819\n",
       "thall_2      0.086406\n",
       "chol         0.085776\n",
       "trtbps       0.083577\n",
       "caa_1        0.043764\n",
       "exng_1       0.043017\n",
       "sex_1        0.037142\n",
       "slp_2        0.031162\n",
       "cp_2         0.030737\n",
       "caa_2        0.025521\n",
       "cp_3         0.023809\n",
       "slp_1        0.023280\n",
       "restecg_1    0.019189\n",
       "cp_1         0.015319\n",
       "fbs_1        0.012300\n",
       "caa_3        0.009673\n",
       "thall_1      0.007520\n",
       "caa_4        0.001692\n",
       "restecg_2    0.000875"
      ]
     },
     "execution_count": 209,
     "metadata": {},
     "output_type": "execute_result"
    }
   ],
   "source": [
    "# another method\n",
    "pd.DataFrame(clf.feature_importances_, index = X.columns,\n",
    "                                    columns=['importance']).sort_values('importance', ascending=False)"
   ]
  },
  {
   "cell_type": "markdown",
   "metadata": {},
   "source": [
    "- The 5 most important features are oldpeak, thalachh, thall_3, chol and trtbps."
   ]
  },
  {
   "cell_type": "code",
   "execution_count": 210,
   "metadata": {
    "execution": {
     "iopub.execute_input": "2021-05-31T03:58:28.097226Z",
     "iopub.status.busy": "2021-05-31T03:58:28.096910Z",
     "iopub.status.idle": "2021-05-31T03:58:28.385678Z",
     "shell.execute_reply": "2021-05-31T03:58:28.384673Z",
     "shell.execute_reply.started": "2021-05-31T03:58:28.097197Z"
    }
   },
   "outputs": [
    {
     "data": {
      "image/png": "[encoded data removed]",
      "text/plain": [
       "<Figure size 432x288 with 1 Axes>"
      ]
     },
     "metadata": {
      "needs_background": "light"
     },
     "output_type": "display_data"
    }
   ],
   "source": [
    "# Visualization for the most important features.\n",
    "pd.DataFrame(clf.feature_importances_, index = X.columns,\n",
    "                                    columns=['importance']).sort_values('importance', ascending=True).plot(kind='barh', \n",
    "                                                                                                            legend=None);"
   ]
  },
  {
   "cell_type": "code",
   "execution_count": 211,
   "metadata": {
    "execution": {
     "iopub.execute_input": "2021-05-31T03:58:28.387303Z",
     "iopub.status.busy": "2021-05-31T03:58:28.386989Z",
     "iopub.status.idle": "2021-05-31T03:58:28.408414Z",
     "shell.execute_reply": "2021-05-31T03:58:28.407474Z",
     "shell.execute_reply.started": "2021-05-31T03:58:28.387266Z"
    }
   },
   "outputs": [
    {
     "data": {
      "text/plain": [
       "SVC(gamma='auto', probability=True)"
      ]
     },
     "execution_count": 211,
     "metadata": {},
     "output_type": "execute_result"
    }
   ],
   "source": [
    "#Support Vector Machine (SVM)\n",
    "svm = SVC(gamma='auto', probability=True)\n",
    "svm.fit(X_train, y_train)"
   ]
  },
  {
   "cell_type": "code",
   "execution_count": 212,
   "metadata": {
    "execution": {
     "iopub.execute_input": "2021-05-31T03:58:28.410278Z",
     "iopub.status.busy": "2021-05-31T03:58:28.409946Z",
     "iopub.status.idle": "2021-05-31T03:58:28.431960Z",
     "shell.execute_reply": "2021-05-31T03:58:28.430756Z",
     "shell.execute_reply.started": "2021-05-31T03:58:28.410224Z"
    }
   },
   "outputs": [
    {
     "name": "stdout",
     "output_type": "stream",
     "text": [
      "0.8461538461538461\n",
      "--------------------------------------------------------\n",
      "[[34 12]\n",
      " [ 2 43]]\n",
      "--------------------------------------------------------\n",
      "              precision    recall  f1-score   support\n",
      "\n",
      "           0       0.94      0.74      0.83        46\n",
      "           1       0.78      0.96      0.86        45\n",
      "\n",
      "    accuracy                           0.85        91\n",
      "   macro avg       0.86      0.85      0.84        91\n",
      "weighted avg       0.86      0.85      0.84        91\n",
      "\n",
      "--------------------------------------------------------\n",
      "0.8473429951690822\n"
     ]
    }
   ],
   "source": [
    "#Model evaluation\n",
    "# http://scikit-learn.org/stable/modules/model_evaluation.html\n",
    "print(metrics.accuracy_score(y_test, svm.predict(X_test)))\n",
    "print(\"--------------------------------------------------------\")\n",
    "print(metrics.confusion_matrix(y_test, svm.predict(X_test))) \n",
    "print(\"--------------------------------------------------------\")\n",
    "print(metrics.classification_report(y_test, svm.predict(X_test)))\n",
    "print(\"--------------------------------------------------------\")\n",
    "print(metrics.roc_auc_score(y_test, svm.predict(X_test)))"
   ]
  },
  {
   "cell_type": "code",
   "execution_count": 213,
   "metadata": {
    "execution": {
     "iopub.execute_input": "2021-05-31T03:58:28.433220Z",
     "iopub.status.busy": "2021-05-31T03:58:28.432953Z",
     "iopub.status.idle": "2021-05-31T03:58:28.472741Z",
     "shell.execute_reply": "2021-05-31T03:58:28.471578Z",
     "shell.execute_reply.started": "2021-05-31T03:58:28.433194Z"
    }
   },
   "outputs": [
    {
     "name": "stdout",
     "output_type": "stream",
     "text": [
      "[0.8        1.         0.88888889 0.77777778 1.         0.66666667\n",
      " 1.         0.88888889 0.66666667 0.88888889]\n",
      "0.8577777777777778\n"
     ]
    }
   ],
   "source": [
    "# 10-fold cross-validation\n",
    "svm = SVC(gamma='auto')\n",
    "\n",
    "scores = cross_val_score(svm, X_test, y_test, scoring='accuracy', cv=10)\n",
    "print(scores)\n",
    "print(scores.mean())"
   ]
  },
  {
   "cell_type": "markdown",
   "metadata": {
    "execution": {
     "iopub.execute_input": "2021-05-31T03:24:39.021788Z",
     "iopub.status.busy": "2021-05-31T03:24:39.021456Z",
     "iopub.status.idle": "2021-05-31T03:24:39.029240Z",
     "shell.execute_reply": "2021-05-31T03:24:39.027413Z",
     "shell.execute_reply.started": "2021-05-31T03:24:39.021759Z"
    }
   },
   "source": [
    "# Model Deployment\n",
    "- We going to employ the logistic regression model since it gave as the highest prediction.\n",
    "- Also, the whole dataset is going to used for out model deployment."
   ]
  },
  {
   "cell_type": "code",
   "execution_count": 214,
   "metadata": {
    "execution": {
     "iopub.execute_input": "2021-05-31T03:58:28.474836Z",
     "iopub.status.busy": "2021-05-31T03:58:28.474177Z",
     "iopub.status.idle": "2021-05-31T03:58:28.481504Z",
     "shell.execute_reply": "2021-05-31T03:58:28.480528Z",
     "shell.execute_reply.started": "2021-05-31T03:58:28.474793Z"
    }
   },
   "outputs": [
    {
     "data": {
      "text/plain": [
       "array([1, 1, 1, 1, 1, 1, 1, 1, 1, 1, 1, 1, 1, 1, 1, 1, 1, 1, 1, 1])"
      ]
     },
     "execution_count": 214,
     "metadata": {},
     "output_type": "execute_result"
    }
   ],
   "source": [
    "# Logistic Regression\n",
    "y_predict = lr.predict(X_2)\n",
    "y_predict[0:20]"
   ]
  },
  {
   "cell_type": "code",
   "execution_count": 215,
   "metadata": {
    "execution": {
     "iopub.execute_input": "2021-05-31T03:58:28.483619Z",
     "iopub.status.busy": "2021-05-31T03:58:28.482963Z",
     "iopub.status.idle": "2021-05-31T03:58:28.491819Z",
     "shell.execute_reply": "2021-05-31T03:58:28.490883Z",
     "shell.execute_reply.started": "2021-05-31T03:58:28.483575Z"
    }
   },
   "outputs": [
    {
     "data": {
      "text/plain": [
       "array([[0.13447603, 0.86552397],\n",
       "       [0.11906394, 0.88093606],\n",
       "       [0.03751069, 0.96248931],\n",
       "       [0.04688928, 0.95311072],\n",
       "       [0.06081678, 0.93918322],\n",
       "       [0.28091429, 0.71908571],\n",
       "       [0.14798283, 0.85201717],\n",
       "       [0.28893101, 0.71106899],\n",
       "       [0.09553601, 0.90446399],\n",
       "       [0.01226393, 0.98773607],\n",
       "       [0.14381137, 0.85618863],\n",
       "       [0.00742983, 0.99257017],\n",
       "       [0.07816021, 0.92183979],\n",
       "       [0.10487014, 0.89512986],\n",
       "       [0.01317799, 0.98682201],\n",
       "       [0.01892791, 0.98107209],\n",
       "       [0.0038799 , 0.9961201 ],\n",
       "       [0.04147285, 0.95852715],\n",
       "       [0.21394839, 0.78605161],\n",
       "       [0.12698571, 0.87301429]])"
      ]
     },
     "execution_count": 215,
     "metadata": {},
     "output_type": "execute_result"
    }
   ],
   "source": [
    "# probability of heart attack\n",
    "probs_new = lr.predict_proba(X_2)\n",
    "probs_new[0:20]\n",
    "#1st column: probability of less chance of heart attack\n",
    "#2nd column: probabiility of more chance of heart attack"
   ]
  },
  {
   "cell_type": "code",
   "execution_count": 216,
   "metadata": {
    "execution": {
     "iopub.execute_input": "2021-05-31T03:58:28.494035Z",
     "iopub.status.busy": "2021-05-31T03:58:28.493480Z",
     "iopub.status.idle": "2021-05-31T03:58:28.527765Z",
     "shell.execute_reply": "2021-05-31T03:58:28.526040Z",
     "shell.execute_reply.started": "2021-05-31T03:58:28.493990Z"
    }
   },
   "outputs": [
    {
     "name": "stdout",
     "output_type": "stream",
     "text": [
      "0.8910891089108911\n",
      "[[114  24]\n",
      " [  9 156]]\n",
      "              precision    recall  f1-score   support\n",
      "\n",
      "           0       0.93      0.83      0.87       138\n",
      "           1       0.87      0.95      0.90       165\n",
      "\n",
      "    accuracy                           0.89       303\n",
      "   macro avg       0.90      0.89      0.89       303\n",
      "weighted avg       0.89      0.89      0.89       303\n",
      "\n",
      "0.8857707509881422\n"
     ]
    }
   ],
   "source": [
    "# Evaluation Metrics\n",
    "print(metrics.accuracy_score(y, lr.predict(X_2)))\n",
    "print(metrics.confusion_matrix(y, lr.predict(X_2)))\n",
    "print(metrics.classification_report(y, lr.predict(X_2)))\n",
    "print(metrics.roc_auc_score(y, lr.predict(X_2)))"
   ]
  },
  {
   "cell_type": "code",
   "execution_count": 217,
   "metadata": {
    "execution": {
     "iopub.execute_input": "2021-05-31T03:58:28.530313Z",
     "iopub.status.busy": "2021-05-31T03:58:28.529775Z",
     "iopub.status.idle": "2021-05-31T03:58:28.666481Z",
     "shell.execute_reply": "2021-05-31T03:58:28.665207Z",
     "shell.execute_reply.started": "2021-05-31T03:58:28.530235Z"
    }
   },
   "outputs": [
    {
     "name": "stdout",
     "output_type": "stream",
     "text": [
      "[0.90322581 0.90322581 0.83870968 0.93333333 0.83333333 0.83333333\n",
      " 0.83333333 0.9        0.76666667 0.83333333]\n",
      "0.8578494623655913\n"
     ]
    }
   ],
   "source": [
    "# 10 fold cross validation evaluation\n",
    "scores = cross_val_score(LogisticRegression(solver='lbfgs', max_iter=20000), X_2, y, scoring='accuracy', cv=10)\n",
    "print(scores)\n",
    "print(scores.mean())"
   ]
  },
  {
   "cell_type": "markdown",
   "metadata": {},
   "source": [
    "# Evaluation of prediction to original output"
   ]
  },
  {
   "cell_type": "code",
   "execution_count": 218,
   "metadata": {
    "execution": {
     "iopub.execute_input": "2021-05-31T03:58:28.668202Z",
     "iopub.status.busy": "2021-05-31T03:58:28.667877Z",
     "iopub.status.idle": "2021-05-31T03:58:28.679013Z",
     "shell.execute_reply": "2021-05-31T03:58:28.677881Z",
     "shell.execute_reply.started": "2021-05-31T03:58:28.668170Z"
    }
   },
   "outputs": [
    {
     "data": {
      "text/plain": [
       "0.8903271136708875"
      ]
     },
     "execution_count": 218,
     "metadata": {},
     "output_type": "execute_result"
    }
   ],
   "source": [
    "from sklearn.metrics import f1_score\n",
    "f1_score(y, y_predict, average='weighted') \n",
    "\n",
    "# The F1 score is the harmonic average of the precision and recall, where an F1 score reaches its best value at 1 (perfect precision and recall) and worst at 0. \n",
    "# It is a good way to show that a classifer has a good value for both recall and precision.\n",
    "# And finally, we can tell the average accuracy for this classifier is the average of the F1-score for both labels, which is 0.89 in our case."
   ]
  },
  {
   "cell_type": "code",
   "execution_count": 219,
   "metadata": {
    "execution": {
     "iopub.execute_input": "2021-05-31T03:58:28.681565Z",
     "iopub.status.busy": "2021-05-31T03:58:28.680832Z",
     "iopub.status.idle": "2021-05-31T03:58:28.693300Z",
     "shell.execute_reply": "2021-05-31T03:58:28.692037Z",
     "shell.execute_reply.started": "2021-05-31T03:58:28.681513Z"
    }
   },
   "outputs": [
    {
     "data": {
      "text/plain": [
       "0.8253968253968254"
      ]
     },
     "execution_count": 219,
     "metadata": {},
     "output_type": "execute_result"
    }
   ],
   "source": [
    "from sklearn.metrics import jaccard_score\n",
    "jaccard_score(y, y_predict,pos_label=1) \n",
    "# Lets try jaccard index for accuracy evaluation. \n",
    "# we can define jaccard as the size of the intersection divided by the size of the union of two label sets. \n",
    "# If the entire set of predicted labels for a sample strictly match with the true set of labels, then the subset accuracy is 1.0; otherwise it is 0.0."
   ]
  },
  {
   "cell_type": "code",
   "execution_count": 220,
   "metadata": {
    "execution": {
     "iopub.execute_input": "2021-05-31T03:58:28.698455Z",
     "iopub.status.busy": "2021-05-31T03:58:28.698014Z",
     "iopub.status.idle": "2021-05-31T03:58:28.715425Z",
     "shell.execute_reply": "2021-05-31T03:58:28.714008Z",
     "shell.execute_reply.started": "2021-05-31T03:58:28.698412Z"
    }
   },
   "outputs": [
    {
     "data": {
      "text/plain": [
       "0.31631552445563316"
      ]
     },
     "execution_count": 220,
     "metadata": {},
     "output_type": "execute_result"
    }
   ],
   "source": [
    "from sklearn.metrics import log_loss\n",
    "log_loss(y, probs_new) # This probability is a value between 0 and 1. \n",
    "                      # Log loss( Logarithmic loss) measures the performance of a classifier where the predicted output is a probability value between 0 and 1."
   ]
  },
  {
   "cell_type": "code",
   "execution_count": 221,
   "metadata": {
    "execution": {
     "iopub.execute_input": "2021-05-31T03:58:28.719979Z",
     "iopub.status.busy": "2021-05-31T03:58:28.719599Z",
     "iopub.status.idle": "2021-05-31T03:58:28.904221Z",
     "shell.execute_reply": "2021-05-31T03:58:28.902539Z",
     "shell.execute_reply.started": "2021-05-31T03:58:28.719946Z"
    }
   },
   "outputs": [
    {
     "data": {
      "image/png": "[encoded data removed]",
      "text/plain": [
       "<Figure size 432x288 with 1 Axes>"
      ]
     },
     "metadata": {
      "needs_background": "light"
     },
     "output_type": "display_data"
    }
   ],
   "source": [
    "# ROC\n",
    "preds = lr.predict_proba(X_2)[:,1]\n",
    "fpr, tpr, threshold = metrics.roc_curve(y, y_predict)\n",
    "roc_auc = metrics.auc(fpr, tpr)\n",
    "\n",
    "# method I: plt\n",
    "import matplotlib.pyplot as plt\n",
    "plt.title('Receiver Operating Characteristic')\n",
    "plt.plot(fpr, tpr, 'b', label = 'AUC = %0.2f' % roc_auc)\n",
    "plt.legend(loc = 'lower right')\n",
    "plt.plot([0, 1], [0, 1],'r--')\n",
    "plt.xlim([0, 1])\n",
    "plt.ylim([0, 1.05])\n",
    "plt.ylabel('True Positive Rate')\n",
    "plt.xlabel('False Positive Rate')\n",
    "plt.show()"
   ]
  }
 ],
 "metadata": {
  "kernelspec": {
   "display_name": "Python 3 (ipykernel)",
   "language": "python",
   "name": "python3"
  },
  "language_info": {
   "codemirror_mode": {
    "name": "ipython",
    "version": 3
   },
   "file_extension": ".py",
   "mimetype": "text/x-python",
   "name": "python",
   "nbconvert_exporter": "python",
   "pygments_lexer": "ipython3",
   "version": "3.8.16"
  }
 },
 "nbformat": 4,
 "nbformat_minor": 4
}
