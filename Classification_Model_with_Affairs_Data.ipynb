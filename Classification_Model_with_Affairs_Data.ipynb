{
  "cells": [
    {
      "cell_type": "markdown",
      "metadata": {
        "id": "oTb4j-xXOAhc"
      },
      "source": [
        "# Classification Model with Affairs Data\n",
        "\n"
      ]
    },
    {
      "cell_type": "markdown",
      "metadata": {
        "id": "cBJhmhi4OAhe"
      },
      "source": [
        "<div class=\"alert\" style=\"background-color:#fff; color:white; padding:0px 10px; border-radius:5px;\"><h1 style='margin:15px 15px; color:#006a79; font-size:40px'> Machine Learning Project Template</h1>\n",
        "</div>\n",
        "\n",
        "Just learning the concepts and theory is not sufficient to ace in machine learning. You need to implement the concepts and try to solve more practical problems.\n",
        "\n",
        "In this notebook, you will learn how to implement machine learning. You will be able to kickstart your project using this template"
      ]
    },
    {
      "cell_type": "markdown",
      "metadata": {
        "id": "Fq_K37q0OAhg"
      },
      "source": [
        "### Content:\n",
        "1. Load the Data\n",
        "  - Import libraries\n",
        "  - Load the datasets\n",
        "\n",
        "2. Overview of the Data\n",
        "  - Descriptive Statistics\n",
        "  - Missing Values\n",
        "\n",
        "3. Exploratory Data Analysis\n",
        "  - Create list of columns by data type\n",
        "  - Check the distribution of target class\n",
        "  - Check the distribution of every feature\n",
        "  - Check how differnt numerical features are realated to target class\n",
        "\n",
        "4. Data Preparation\n",
        "  - Data Cleaning\n",
        "  - Feature Encoding\n",
        "  - Split X & y\n",
        "  - Feature Scaling\n",
        "  - Train Test split\n",
        "\n",
        "5. Model Building\n",
        "  - Train Model\n",
        "  - Model Prediction\n",
        "  - Model Evaluation\n",
        "\n",
        "7. Improve Model\n",
        "  - Handle Class Imbalance\n",
        "  - Save the Final Model"
      ]
    },
    {
      "cell_type": "markdown",
      "metadata": {
        "id": "VRCJCPIkOAhh"
      },
      "source": [
        "<div class=\"alert alert-info\" style=\"background-color:#006a79; color:white; padding:0px 10px; border-radius:5px;\"><h2 style='margin:10px 5px'>1. Load the Data</h2>\n",
        "</div>\n",
        "\n",
        "In this section you will:\n",
        "\n",
        "- Import the libraries\n",
        "- Load the dataset"
      ]
    },
    {
      "cell_type": "markdown",
      "metadata": {
        "id": "rsb3CO8-OAhi"
      },
      "source": [
        "### 1.1. Import Libraries\n",
        "\n",
        "Import all the libraries in the first cell itself"
      ]
    },
    {
      "cell_type": "code",
      "execution_count": 2,
      "metadata": {
        "id": "hCW6EMUkOAhj"
      },
      "outputs": [],
      "source": [
        "# Import libraries\n",
        "\n",
        "# Data Manipulation\n",
        "import numpy as np\n",
        "import pandas as pd\n",
        "from pandas import DataFrame\n",
        "\n",
        "# Data Visualization\n",
        "import seaborn as sns\n",
        "import matplotlib.pyplot as plt\n",
        "\n",
        "\n",
        "# Machine Learning\n",
        "from sklearn.preprocessing import LabelEncoder, StandardScaler\n",
        "from sklearn.model_selection import train_test_split\n",
        "from sklearn.linear_model import LogisticRegression\n",
        "from sklearn.metrics import accuracy_score, confusion_matrix, classification_report\n",
        "from imblearn.over_sampling import RandomOverSampler\n",
        "import pickle\n",
        "\n",
        "# Maths\n",
        "import math\n",
        "\n",
        "# Set the options\n",
        "pd.set_option('display.max_rows', 800)\n",
        "pd.set_option('display.max_columns', 500)\n",
        "%matplotlib inline"
      ]
    },
    {
      "cell_type": "markdown",
      "metadata": {
        "id": "6Eack1qSOAhk"
      },
      "source": [
        "### 1.2. Load the datasets\n",
        "\n",
        "Load the dataset using pd.read_csv()"
      ]
    },
    {
      "cell_type": "code",
      "execution_count": 3,
      "metadata": {
        "colab": {
          "base_uri": "https://localhost:8080/",
          "height": 206
        },
        "id": "xWtEm0TQOAhl",
        "outputId": "ae9e15a0-3a8b-483b-a5cc-a5508fcdb0fd"
      },
      "outputs": [
        {
          "output_type": "execute_result",
          "data": {
            "text/plain": [
              "   cheat  id  affairs  gender   age  yearsmarried children  religiousness  \\\n",
              "0      0   4        0    male  37.0         10.00       no              3   \n",
              "1      0   5        0  female  27.0          4.00       no              4   \n",
              "2      0  11        0  female  32.0         15.00      yes              1   \n",
              "3      0  16        0    male  57.0         15.00      yes              5   \n",
              "4      0  23        0    male  22.0          0.75       no              2   \n",
              "\n",
              "   education  occupation  rating  \n",
              "0         18           7       4  \n",
              "1         14           6       4  \n",
              "2         12           1       4  \n",
              "3         18           6       5  \n",
              "4         17           6       3  "
            ],
            "text/html": [
              "\n",
              "  <div id=\"df-696be0b1-68b0-4d99-974a-08df7c6a7d60\">\n",
              "    <div class=\"colab-df-container\">\n",
              "      <div>\n",
              "<style scoped>\n",
              "    .dataframe tbody tr th:only-of-type {\n",
              "        vertical-align: middle;\n",
              "    }\n",
              "\n",
              "    .dataframe tbody tr th {\n",
              "        vertical-align: top;\n",
              "    }\n",
              "\n",
              "    .dataframe thead th {\n",
              "        text-align: right;\n",
              "    }\n",
              "</style>\n",
              "<table border=\"1\" class=\"dataframe\">\n",
              "  <thead>\n",
              "    <tr style=\"text-align: right;\">\n",
              "      <th></th>\n",
              "      <th>cheat</th>\n",
              "      <th>id</th>\n",
              "      <th>affairs</th>\n",
              "      <th>gender</th>\n",
              "      <th>age</th>\n",
              "      <th>yearsmarried</th>\n",
              "      <th>children</th>\n",
              "      <th>religiousness</th>\n",
              "      <th>education</th>\n",
              "      <th>occupation</th>\n",
              "      <th>rating</th>\n",
              "    </tr>\n",
              "  </thead>\n",
              "  <tbody>\n",
              "    <tr>\n",
              "      <th>0</th>\n",
              "      <td>0</td>\n",
              "      <td>4</td>\n",
              "      <td>0</td>\n",
              "      <td>male</td>\n",
              "      <td>37.0</td>\n",
              "      <td>10.00</td>\n",
              "      <td>no</td>\n",
              "      <td>3</td>\n",
              "      <td>18</td>\n",
              "      <td>7</td>\n",
              "      <td>4</td>\n",
              "    </tr>\n",
              "    <tr>\n",
              "      <th>1</th>\n",
              "      <td>0</td>\n",
              "      <td>5</td>\n",
              "      <td>0</td>\n",
              "      <td>female</td>\n",
              "      <td>27.0</td>\n",
              "      <td>4.00</td>\n",
              "      <td>no</td>\n",
              "      <td>4</td>\n",
              "      <td>14</td>\n",
              "      <td>6</td>\n",
              "      <td>4</td>\n",
              "    </tr>\n",
              "    <tr>\n",
              "      <th>2</th>\n",
              "      <td>0</td>\n",
              "      <td>11</td>\n",
              "      <td>0</td>\n",
              "      <td>female</td>\n",
              "      <td>32.0</td>\n",
              "      <td>15.00</td>\n",
              "      <td>yes</td>\n",
              "      <td>1</td>\n",
              "      <td>12</td>\n",
              "      <td>1</td>\n",
              "      <td>4</td>\n",
              "    </tr>\n",
              "    <tr>\n",
              "      <th>3</th>\n",
              "      <td>0</td>\n",
              "      <td>16</td>\n",
              "      <td>0</td>\n",
              "      <td>male</td>\n",
              "      <td>57.0</td>\n",
              "      <td>15.00</td>\n",
              "      <td>yes</td>\n",
              "      <td>5</td>\n",
              "      <td>18</td>\n",
              "      <td>6</td>\n",
              "      <td>5</td>\n",
              "    </tr>\n",
              "    <tr>\n",
              "      <th>4</th>\n",
              "      <td>0</td>\n",
              "      <td>23</td>\n",
              "      <td>0</td>\n",
              "      <td>male</td>\n",
              "      <td>22.0</td>\n",
              "      <td>0.75</td>\n",
              "      <td>no</td>\n",
              "      <td>2</td>\n",
              "      <td>17</td>\n",
              "      <td>6</td>\n",
              "      <td>3</td>\n",
              "    </tr>\n",
              "  </tbody>\n",
              "</table>\n",
              "</div>\n",
              "      <button class=\"colab-df-convert\" onclick=\"convertToInteractive('df-696be0b1-68b0-4d99-974a-08df7c6a7d60')\"\n",
              "              title=\"Convert this dataframe to an interactive table.\"\n",
              "              style=\"display:none;\">\n",
              "        \n",
              "  <svg xmlns=\"http://www.w3.org/2000/svg\" height=\"24px\"viewBox=\"0 0 24 24\"\n",
              "       width=\"24px\">\n",
              "    <path d=\"M0 0h24v24H0V0z\" fill=\"none\"/>\n",
              "    <path d=\"M18.56 5.44l.94 2.06.94-2.06 2.06-.94-2.06-.94-.94-2.06-.94 2.06-2.06.94zm-11 1L8.5 8.5l.94-2.06 2.06-.94-2.06-.94L8.5 2.5l-.94 2.06-2.06.94zm10 10l.94 2.06.94-2.06 2.06-.94-2.06-.94-.94-2.06-.94 2.06-2.06.94z\"/><path d=\"M17.41 7.96l-1.37-1.37c-.4-.4-.92-.59-1.43-.59-.52 0-1.04.2-1.43.59L10.3 9.45l-7.72 7.72c-.78.78-.78 2.05 0 2.83L4 21.41c.39.39.9.59 1.41.59.51 0 1.02-.2 1.41-.59l7.78-7.78 2.81-2.81c.8-.78.8-2.07 0-2.86zM5.41 20L4 18.59l7.72-7.72 1.47 1.35L5.41 20z\"/>\n",
              "  </svg>\n",
              "      </button>\n",
              "      \n",
              "  <style>\n",
              "    .colab-df-container {\n",
              "      display:flex;\n",
              "      flex-wrap:wrap;\n",
              "      gap: 12px;\n",
              "    }\n",
              "\n",
              "    .colab-df-convert {\n",
              "      background-color: #E8F0FE;\n",
              "      border: none;\n",
              "      border-radius: 50%;\n",
              "      cursor: pointer;\n",
              "      display: none;\n",
              "      fill: #1967D2;\n",
              "      height: 32px;\n",
              "      padding: 0 0 0 0;\n",
              "      width: 32px;\n",
              "    }\n",
              "\n",
              "    .colab-df-convert:hover {\n",
              "      background-color: #E2EBFA;\n",
              "      box-shadow: 0px 1px 2px rgba(60, 64, 67, 0.3), 0px 1px 3px 1px rgba(60, 64, 67, 0.15);\n",
              "      fill: #174EA6;\n",
              "    }\n",
              "\n",
              "    [theme=dark] .colab-df-convert {\n",
              "      background-color: #3B4455;\n",
              "      fill: #D2E3FC;\n",
              "    }\n",
              "\n",
              "    [theme=dark] .colab-df-convert:hover {\n",
              "      background-color: #434B5C;\n",
              "      box-shadow: 0px 1px 3px 1px rgba(0, 0, 0, 0.15);\n",
              "      filter: drop-shadow(0px 1px 2px rgba(0, 0, 0, 0.3));\n",
              "      fill: #FFFFFF;\n",
              "    }\n",
              "  </style>\n",
              "\n",
              "      <script>\n",
              "        const buttonEl =\n",
              "          document.querySelector('#df-696be0b1-68b0-4d99-974a-08df7c6a7d60 button.colab-df-convert');\n",
              "        buttonEl.style.display =\n",
              "          google.colab.kernel.accessAllowed ? 'block' : 'none';\n",
              "\n",
              "        async function convertToInteractive(key) {\n",
              "          const element = document.querySelector('#df-696be0b1-68b0-4d99-974a-08df7c6a7d60');\n",
              "          const dataTable =\n",
              "            await google.colab.kernel.invokeFunction('convertToInteractive',\n",
              "                                                     [key], {});\n",
              "          if (!dataTable) return;\n",
              "\n",
              "          const docLinkHtml = 'Like what you see? Visit the ' +\n",
              "            '<a target=\"_blank\" href=https://colab.research.google.com/notebooks/data_table.ipynb>data table notebook</a>'\n",
              "            + ' to learn more about interactive tables.';\n",
              "          element.innerHTML = '';\n",
              "          dataTable['output_type'] = 'display_data';\n",
              "          await google.colab.output.renderOutput(dataTable, element);\n",
              "          const docLink = document.createElement('div');\n",
              "          docLink.innerHTML = docLinkHtml;\n",
              "          element.appendChild(docLink);\n",
              "        }\n",
              "      </script>\n",
              "    </div>\n",
              "  </div>\n",
              "  "
            ]
          },
          "metadata": {},
          "execution_count": 3
        }
      ],
      "source": [
        "# Define the file name\n",
        "file_name = \"/content/sample_data/Affairs.csv\"\n",
        "\n",
        "# Read data in form of a csv file\n",
        "df = pd.read_csv(file_name)\n",
        "\n",
        "# First 5 rows of the dataset\n",
        "df.head()"
      ]
    },
    {
      "cell_type": "markdown",
      "metadata": {
        "id": "RxCArAKHOAhm"
      },
      "source": [
        "<div class=\"alert alert-info\" style=\"background-color:#006a79; color:white; padding:0px 10px; border-radius:5px;\"><h2 style='margin:10px 5px'>2. Overview of the Data</h2>\n",
        "</div>\n",
        "\n",
        "Before attempting to solve the problem, it's very important to have a good understanding of data.\n",
        "\n",
        "In this section you will:\n",
        "- Get the descriptive statistics of the data\n",
        "- Get the information about missing values in the data"
      ]
    },
    {
      "cell_type": "markdown",
      "metadata": {
        "id": "lvvxBVxVOAhm"
      },
      "source": [
        "### 2.1. Descriptive Statistics\n",
        "\n",
        "As the name says descriptive statistics describes the data. It gives you information about\n",
        "- Mean, median, mode\n",
        "- Min, max\n",
        "- Count etc\n",
        "\n",
        "Let's understand the data we have"
      ]
    },
    {
      "cell_type": "code",
      "execution_count": 4,
      "metadata": {
        "colab": {
          "base_uri": "https://localhost:8080/"
        },
        "id": "wmTniUIZOAhn",
        "outputId": "2a2a40be-8e0a-41c4-860f-76d0ffd2cdb2"
      },
      "outputs": [
        {
          "output_type": "execute_result",
          "data": {
            "text/plain": [
              "(601, 11)"
            ]
          },
          "metadata": {},
          "execution_count": 4
        }
      ],
      "source": [
        "# Dimension of the data\n",
        "df.shape"
      ]
    },
    {
      "cell_type": "code",
      "execution_count": 5,
      "metadata": {
        "colab": {
          "base_uri": "https://localhost:8080/",
          "height": 300
        },
        "id": "YgwxQJbnOAhn",
        "outputId": "8844cad6-6c6f-45a7-a9a2-9587b1a3bd88"
      },
      "outputs": [
        {
          "output_type": "execute_result",
          "data": {
            "text/plain": [
              "            cheat           id     affairs         age  yearsmarried  \\\n",
              "count  601.000000   601.000000  601.000000  601.000000    601.000000   \n",
              "mean     0.249584  1059.722130    1.455907   32.487521      8.177696   \n",
              "std      0.433133   914.904611    3.298758    9.288762      5.571303   \n",
              "min      0.000000     4.000000    0.000000   17.500000      0.125000   \n",
              "25%      0.000000   528.000000    0.000000   27.000000      4.000000   \n",
              "50%      0.000000  1009.000000    0.000000   32.000000      7.000000   \n",
              "75%      0.000000  1453.000000    0.000000   37.000000     15.000000   \n",
              "max      1.000000  9029.000000   12.000000   57.000000     15.000000   \n",
              "\n",
              "       religiousness   education  occupation      rating  \n",
              "count     601.000000  601.000000  601.000000  601.000000  \n",
              "mean        3.116473   16.166389    4.194676    3.931780  \n",
              "std         1.167509    2.402555    1.819443    1.103179  \n",
              "min         1.000000    9.000000    1.000000    1.000000  \n",
              "25%         2.000000   14.000000    3.000000    3.000000  \n",
              "50%         3.000000   16.000000    5.000000    4.000000  \n",
              "75%         4.000000   18.000000    6.000000    5.000000  \n",
              "max         5.000000   20.000000    7.000000    5.000000  "
            ],
            "text/html": [
              "\n",
              "  <div id=\"df-e7415524-c6a3-411f-aac8-0beefdf4784f\">\n",
              "    <div class=\"colab-df-container\">\n",
              "      <div>\n",
              "<style scoped>\n",
              "    .dataframe tbody tr th:only-of-type {\n",
              "        vertical-align: middle;\n",
              "    }\n",
              "\n",
              "    .dataframe tbody tr th {\n",
              "        vertical-align: top;\n",
              "    }\n",
              "\n",
              "    .dataframe thead th {\n",
              "        text-align: right;\n",
              "    }\n",
              "</style>\n",
              "<table border=\"1\" class=\"dataframe\">\n",
              "  <thead>\n",
              "    <tr style=\"text-align: right;\">\n",
              "      <th></th>\n",
              "      <th>cheat</th>\n",
              "      <th>id</th>\n",
              "      <th>affairs</th>\n",
              "      <th>age</th>\n",
              "      <th>yearsmarried</th>\n",
              "      <th>religiousness</th>\n",
              "      <th>education</th>\n",
              "      <th>occupation</th>\n",
              "      <th>rating</th>\n",
              "    </tr>\n",
              "  </thead>\n",
              "  <tbody>\n",
              "    <tr>\n",
              "      <th>count</th>\n",
              "      <td>601.000000</td>\n",
              "      <td>601.000000</td>\n",
              "      <td>601.000000</td>\n",
              "      <td>601.000000</td>\n",
              "      <td>601.000000</td>\n",
              "      <td>601.000000</td>\n",
              "      <td>601.000000</td>\n",
              "      <td>601.000000</td>\n",
              "      <td>601.000000</td>\n",
              "    </tr>\n",
              "    <tr>\n",
              "      <th>mean</th>\n",
              "      <td>0.249584</td>\n",
              "      <td>1059.722130</td>\n",
              "      <td>1.455907</td>\n",
              "      <td>32.487521</td>\n",
              "      <td>8.177696</td>\n",
              "      <td>3.116473</td>\n",
              "      <td>16.166389</td>\n",
              "      <td>4.194676</td>\n",
              "      <td>3.931780</td>\n",
              "    </tr>\n",
              "    <tr>\n",
              "      <th>std</th>\n",
              "      <td>0.433133</td>\n",
              "      <td>914.904611</td>\n",
              "      <td>3.298758</td>\n",
              "      <td>9.288762</td>\n",
              "      <td>5.571303</td>\n",
              "      <td>1.167509</td>\n",
              "      <td>2.402555</td>\n",
              "      <td>1.819443</td>\n",
              "      <td>1.103179</td>\n",
              "    </tr>\n",
              "    <tr>\n",
              "      <th>min</th>\n",
              "      <td>0.000000</td>\n",
              "      <td>4.000000</td>\n",
              "      <td>0.000000</td>\n",
              "      <td>17.500000</td>\n",
              "      <td>0.125000</td>\n",
              "      <td>1.000000</td>\n",
              "      <td>9.000000</td>\n",
              "      <td>1.000000</td>\n",
              "      <td>1.000000</td>\n",
              "    </tr>\n",
              "    <tr>\n",
              "      <th>25%</th>\n",
              "      <td>0.000000</td>\n",
              "      <td>528.000000</td>\n",
              "      <td>0.000000</td>\n",
              "      <td>27.000000</td>\n",
              "      <td>4.000000</td>\n",
              "      <td>2.000000</td>\n",
              "      <td>14.000000</td>\n",
              "      <td>3.000000</td>\n",
              "      <td>3.000000</td>\n",
              "    </tr>\n",
              "    <tr>\n",
              "      <th>50%</th>\n",
              "      <td>0.000000</td>\n",
              "      <td>1009.000000</td>\n",
              "      <td>0.000000</td>\n",
              "      <td>32.000000</td>\n",
              "      <td>7.000000</td>\n",
              "      <td>3.000000</td>\n",
              "      <td>16.000000</td>\n",
              "      <td>5.000000</td>\n",
              "      <td>4.000000</td>\n",
              "    </tr>\n",
              "    <tr>\n",
              "      <th>75%</th>\n",
              "      <td>0.000000</td>\n",
              "      <td>1453.000000</td>\n",
              "      <td>0.000000</td>\n",
              "      <td>37.000000</td>\n",
              "      <td>15.000000</td>\n",
              "      <td>4.000000</td>\n",
              "      <td>18.000000</td>\n",
              "      <td>6.000000</td>\n",
              "      <td>5.000000</td>\n",
              "    </tr>\n",
              "    <tr>\n",
              "      <th>max</th>\n",
              "      <td>1.000000</td>\n",
              "      <td>9029.000000</td>\n",
              "      <td>12.000000</td>\n",
              "      <td>57.000000</td>\n",
              "      <td>15.000000</td>\n",
              "      <td>5.000000</td>\n",
              "      <td>20.000000</td>\n",
              "      <td>7.000000</td>\n",
              "      <td>5.000000</td>\n",
              "    </tr>\n",
              "  </tbody>\n",
              "</table>\n",
              "</div>\n",
              "      <button class=\"colab-df-convert\" onclick=\"convertToInteractive('df-e7415524-c6a3-411f-aac8-0beefdf4784f')\"\n",
              "              title=\"Convert this dataframe to an interactive table.\"\n",
              "              style=\"display:none;\">\n",
              "        \n",
              "  <svg xmlns=\"http://www.w3.org/2000/svg\" height=\"24px\"viewBox=\"0 0 24 24\"\n",
              "       width=\"24px\">\n",
              "    <path d=\"M0 0h24v24H0V0z\" fill=\"none\"/>\n",
              "    <path d=\"M18.56 5.44l.94 2.06.94-2.06 2.06-.94-2.06-.94-.94-2.06-.94 2.06-2.06.94zm-11 1L8.5 8.5l.94-2.06 2.06-.94-2.06-.94L8.5 2.5l-.94 2.06-2.06.94zm10 10l.94 2.06.94-2.06 2.06-.94-2.06-.94-.94-2.06-.94 2.06-2.06.94z\"/><path d=\"M17.41 7.96l-1.37-1.37c-.4-.4-.92-.59-1.43-.59-.52 0-1.04.2-1.43.59L10.3 9.45l-7.72 7.72c-.78.78-.78 2.05 0 2.83L4 21.41c.39.39.9.59 1.41.59.51 0 1.02-.2 1.41-.59l7.78-7.78 2.81-2.81c.8-.78.8-2.07 0-2.86zM5.41 20L4 18.59l7.72-7.72 1.47 1.35L5.41 20z\"/>\n",
              "  </svg>\n",
              "      </button>\n",
              "      \n",
              "  <style>\n",
              "    .colab-df-container {\n",
              "      display:flex;\n",
              "      flex-wrap:wrap;\n",
              "      gap: 12px;\n",
              "    }\n",
              "\n",
              "    .colab-df-convert {\n",
              "      background-color: #E8F0FE;\n",
              "      border: none;\n",
              "      border-radius: 50%;\n",
              "      cursor: pointer;\n",
              "      display: none;\n",
              "      fill: #1967D2;\n",
              "      height: 32px;\n",
              "      padding: 0 0 0 0;\n",
              "      width: 32px;\n",
              "    }\n",
              "\n",
              "    .colab-df-convert:hover {\n",
              "      background-color: #E2EBFA;\n",
              "      box-shadow: 0px 1px 2px rgba(60, 64, 67, 0.3), 0px 1px 3px 1px rgba(60, 64, 67, 0.15);\n",
              "      fill: #174EA6;\n",
              "    }\n",
              "\n",
              "    [theme=dark] .colab-df-convert {\n",
              "      background-color: #3B4455;\n",
              "      fill: #D2E3FC;\n",
              "    }\n",
              "\n",
              "    [theme=dark] .colab-df-convert:hover {\n",
              "      background-color: #434B5C;\n",
              "      box-shadow: 0px 1px 3px 1px rgba(0, 0, 0, 0.15);\n",
              "      filter: drop-shadow(0px 1px 2px rgba(0, 0, 0, 0.3));\n",
              "      fill: #FFFFFF;\n",
              "    }\n",
              "  </style>\n",
              "\n",
              "      <script>\n",
              "        const buttonEl =\n",
              "          document.querySelector('#df-e7415524-c6a3-411f-aac8-0beefdf4784f button.colab-df-convert');\n",
              "        buttonEl.style.display =\n",
              "          google.colab.kernel.accessAllowed ? 'block' : 'none';\n",
              "\n",
              "        async function convertToInteractive(key) {\n",
              "          const element = document.querySelector('#df-e7415524-c6a3-411f-aac8-0beefdf4784f');\n",
              "          const dataTable =\n",
              "            await google.colab.kernel.invokeFunction('convertToInteractive',\n",
              "                                                     [key], {});\n",
              "          if (!dataTable) return;\n",
              "\n",
              "          const docLinkHtml = 'Like what you see? Visit the ' +\n",
              "            '<a target=\"_blank\" href=https://colab.research.google.com/notebooks/data_table.ipynb>data table notebook</a>'\n",
              "            + ' to learn more about interactive tables.';\n",
              "          element.innerHTML = '';\n",
              "          dataTable['output_type'] = 'display_data';\n",
              "          await google.colab.output.renderOutput(dataTable, element);\n",
              "          const docLink = document.createElement('div');\n",
              "          docLink.innerHTML = docLinkHtml;\n",
              "          element.appendChild(docLink);\n",
              "        }\n",
              "      </script>\n",
              "    </div>\n",
              "  </div>\n",
              "  "
            ]
          },
          "metadata": {},
          "execution_count": 5
        }
      ],
      "source": [
        "# Summary of the dataset\n",
        "df.describe()"
      ]
    },
    {
      "cell_type": "markdown",
      "metadata": {
        "id": "E12PqpKcOAhn"
      },
      "source": [
        "### 2.2 Missing Values\n",
        "\n",
        "Get the info about missing values in the dataframe"
      ]
    },
    {
      "cell_type": "code",
      "execution_count": 6,
      "metadata": {
        "colab": {
          "base_uri": "https://localhost:8080/"
        },
        "id": "mI20LGpTOAho",
        "outputId": "afd6c09d-b367-47cf-d4ac-e28c381cb232"
      },
      "outputs": [
        {
          "output_type": "execute_result",
          "data": {
            "text/plain": [
              "cheat            0\n",
              "id               0\n",
              "affairs          0\n",
              "gender           0\n",
              "age              0\n",
              "yearsmarried     0\n",
              "children         0\n",
              "religiousness    0\n",
              "education        0\n",
              "occupation       0\n",
              "rating           0\n",
              "dtype: int64"
            ]
          },
          "metadata": {},
          "execution_count": 6
        }
      ],
      "source": [
        "# Missing values for every column\n",
        "df.isna().sum()"
      ]
    },
    {
      "cell_type": "markdown",
      "metadata": {
        "id": "zImGLDEbOAho"
      },
      "source": [
        "<div class=\"alert alert-info\" style=\"background-color:#006a79; color:white; padding:0px 10px; border-radius:5px;\"><h2 style='margin:10px 5px'>3. Exploratory Data Analaysis</h2>\n",
        "</div>\n",
        "\n",
        "Exploratory data analysis is an approach to analyze or investigate data sets to find out patterns and see if any of the variables can be useful in predicting the y variables. Visual methods are often used to summarise the data. Primarily EDA is for seeing what the data can tell us beyond the formal modeling or hypothesis testing tasks.\n",
        "\n",
        "In this section you will:\n",
        "- Create list of columns by data type\n",
        "- Check the distribution of target class\n",
        "- Check the distribution of every feature\n",
        "- Check how differnt numerical features are realated to target class"
      ]
    },
    {
      "cell_type": "markdown",
      "metadata": {
        "id": "bLND3f61OAho"
      },
      "source": [
        "### 3.1. Extract data types of columns\n",
        "\n",
        "It's better to get the list of columns by data types in the start itself. You won't have to manually write the name of columns while performing certain operations. So always get the list of columns in the start itself."
      ]
    },
    {
      "cell_type": "code",
      "execution_count": 8,
      "metadata": {
        "id": "1ELFQkOoOAhp"
      },
      "outputs": [],
      "source": [
        "# Remove extra columns\n",
        "col_remove = ['id']\n",
        "df = df.drop(col_remove, axis = 1)"
      ]
    },
    {
      "cell_type": "code",
      "execution_count": 9,
      "metadata": {
        "colab": {
          "base_uri": "https://localhost:8080/"
        },
        "id": "RW9EfUq0OAhp",
        "outputId": "85fecc2a-a598-4004-fa62-fd3f5864d597"
      },
      "outputs": [
        {
          "output_type": "stream",
          "name": "stdout",
          "text": [
            "Binary Columns :  ['cheat', 'gender', 'children']\n",
            "Categorical Columns :  ['gender', 'children']\n",
            "Numerical Columns :  ['affairs', 'age', 'yearsmarried', 'religiousness', 'education', 'occupation', 'rating']\n"
          ]
        }
      ],
      "source": [
        "# List of numeric and categorical columns\n",
        "binary_columns = [col for col in df.columns if df[col].nunique() == 2]\n",
        "print(\"Binary Columns : \", binary_columns)\n",
        "\n",
        "categorical_columns = [col for col in df.columns if df[col].dtype == \"object\"]\n",
        "print(\"Categorical Columns : \", categorical_columns)\n",
        "\n",
        "categorical_columns = binary_columns + categorical_columns\n",
        "categorical_columns = list(set(categorical_columns))\n",
        "\n",
        "numerical_columns = [col for col in df.columns if col not in categorical_columns]\n",
        "print(\"Numerical Columns : \", numerical_columns)"
      ]
    },
    {
      "cell_type": "markdown",
      "metadata": {
        "id": "OmwNafEyOAhp"
      },
      "source": [
        "**Note :** There might be some mismatch in the data type of the columns, so in such cases you will have to correct it manually"
      ]
    },
    {
      "cell_type": "markdown",
      "metadata": {
        "id": "3Jyo8xVCOAhp"
      },
      "source": [
        "### 3.2 Check distribution of target class\n",
        "\n",
        "You need to check the distribution of target class, see how many categories are there, is it balanced or not"
      ]
    },
    {
      "cell_type": "code",
      "execution_count": 10,
      "metadata": {
        "colab": {
          "base_uri": "https://localhost:8080/",
          "height": 449
        },
        "id": "TS-1xaTBOAhp",
        "outputId": "ba793f11-ddef-412b-d50e-4eec9d30931c"
      },
      "outputs": [
        {
          "output_type": "display_data",
          "data": {
            "text/plain": [
              "<Figure size 640x480 with 1 Axes>"
            ],
            "image/png": "[encoded data removed]"
          },
          "metadata": {}
        }
      ],
      "source": [
        "# Target class\n",
        "target_class = \"cheat\"\n",
        "\n",
        "# Check distribution of target class\n",
        "sns.countplot(y=df[target_class] ,data=df)\n",
        "plt.xlabel(\"Count of each Target class\")\n",
        "plt.ylabel(\"Target classes\")\n",
        "plt.show()"
      ]
    },
    {
      "cell_type": "markdown",
      "metadata": {
        "id": "a4S4PaD5OAhq"
      },
      "source": [
        "### 3.3. Check the distribution of every feature"
      ]
    },
    {
      "cell_type": "code",
      "execution_count": 11,
      "metadata": {
        "colab": {
          "base_uri": "https://localhost:8080/",
          "height": 1000
        },
        "id": "NqK-WjPqOAhq",
        "outputId": "2ed0f9cf-3425-4e20-def9-62b9f99ff4c3"
      },
      "outputs": [
        {
          "output_type": "display_data",
          "data": {
            "text/plain": [
              "<Figure size 1500x1200 with 9 Axes>"
            ],
            "image/png": "[encoded data removed]"
          },
          "metadata": {}
        }
      ],
      "source": [
        "# Check the distribution of all the features\n",
        "df.hist(figsize=(15,12),bins = 15)\n",
        "plt.title(\"Features Distribution\")\n",
        "plt.show()"
      ]
    },
    {
      "cell_type": "markdown",
      "metadata": {
        "id": "yw4qCWYtOAhq"
      },
      "source": [
        "### 3.4 Check how differnt numerical features are realated to target class"
      ]
    },
    {
      "cell_type": "code",
      "execution_count": 12,
      "metadata": {
        "id": "ftzQPKEqOAhq"
      },
      "outputs": [],
      "source": [
        "# Number of rows and columns in the plot\n",
        "n_cols = 3\n",
        "n_rows = math.ceil(len(numerical_columns)/n_cols)"
      ]
    },
    {
      "cell_type": "code",
      "execution_count": 13,
      "metadata": {
        "colab": {
          "base_uri": "https://localhost:8080/",
          "height": 1000
        },
        "id": "NgBPYZgFOAhr",
        "outputId": "350f3c83-31ae-4dba-8a53-3b30958174f9"
      },
      "outputs": [
        {
          "output_type": "display_data",
          "data": {
            "text/plain": [
              "<Figure size 3000x3000 with 9 Axes>"
            ],
            "image/png": "[encoded data removed]"
          },
          "metadata": {}
        }
      ],
      "source": [
        "# Check the distribution of y variable corresponding to every x variable\n",
        "fig,ax = plt.subplots(nrows = n_rows, ncols = n_cols, figsize=(30,30))\n",
        "row = 0\n",
        "col = 0\n",
        "for i in numerical_columns:\n",
        "    if col > 2:\n",
        "        row += 1\n",
        "        col = 0\n",
        "    axes = ax[row,col]\n",
        "    sns.boxplot(x = df[target_class], y = df[i],ax = axes)\n",
        "    col += 1\n",
        "plt.tight_layout()\n",
        "plt.title(\"Individual Features by Class\")\n",
        "plt.show()"
      ]
    },
    {
      "cell_type": "markdown",
      "metadata": {
        "id": "kCnYJI2MOAhr"
      },
      "source": [
        "<div class=\"alert alert-info\" style=\"background-color:#006a79; color:white; padding:0px 10px; border-radius:5px;\"><h2 style='margin:10px 5px'>4. Data Preparation</h2>\n",
        "</div>\n",
        "\n",
        "The data is not yet ready for model building. You need to process the data and make it ready for model building\n",
        "\n",
        "In this section you will:\n",
        "- Clean the data\n",
        "- Encode the categorical features\n",
        "- Split the dataset in X and y dataset\n",
        "- Scale the features\n",
        "- Split the data in train and test set"
      ]
    },
    {
      "cell_type": "markdown",
      "metadata": {
        "id": "RSFmM34oOAhr"
      },
      "source": [
        "### 4.1. Data Cleaning\n",
        "\n",
        "Machine Learning works on the idea of garbage in - garbage out. If you feed in dirty data, the results won't be good. Hence it's very important to clean the data before training the model\n",
        "\n",
        "Here you will impute the missing values with mean"
      ]
    },
    {
      "cell_type": "code",
      "execution_count": null,
      "metadata": {
        "id": "FdhfsX1IOAhs"
      },
      "outputs": [],
      "source": [
        "# Impute missing values\n",
        "df = df.fillna(df.mean())"
      ]
    },
    {
      "cell_type": "code",
      "execution_count": null,
      "metadata": {
        "id": "Q6l1dtRmOAhs",
        "outputId": "1e350b26-3416-4f01-f9ee-e0a8b86639c4"
      },
      "outputs": [
        {
          "data": {
            "text/html": [
              "<div>\n",
              "<style scoped>\n",
              "    .dataframe tbody tr th:only-of-type {\n",
              "        vertical-align: middle;\n",
              "    }\n",
              "\n",
              "    .dataframe tbody tr th {\n",
              "        vertical-align: top;\n",
              "    }\n",
              "\n",
              "    .dataframe thead th {\n",
              "        text-align: right;\n",
              "    }\n",
              "</style>\n",
              "<table border=\"1\" class=\"dataframe\">\n",
              "  <thead>\n",
              "    <tr style=\"text-align: right;\">\n",
              "      <th></th>\n",
              "      <th>Surname</th>\n",
              "      <th>CreditScore</th>\n",
              "      <th>Geography</th>\n",
              "      <th>Gender</th>\n",
              "      <th>Age</th>\n",
              "      <th>Tenure</th>\n",
              "      <th>Balance</th>\n",
              "      <th>NumOfProducts</th>\n",
              "      <th>HasCrCard</th>\n",
              "      <th>IsActiveMember</th>\n",
              "      <th>EstimatedSalary</th>\n",
              "      <th>Exited</th>\n",
              "    </tr>\n",
              "  </thead>\n",
              "  <tbody>\n",
              "    <tr>\n",
              "      <th>0</th>\n",
              "      <td>Hargrave</td>\n",
              "      <td>619</td>\n",
              "      <td>France</td>\n",
              "      <td>Female</td>\n",
              "      <td>42.0</td>\n",
              "      <td>2</td>\n",
              "      <td>0.00</td>\n",
              "      <td>1</td>\n",
              "      <td>1</td>\n",
              "      <td>1</td>\n",
              "      <td>101348.88</td>\n",
              "      <td>1</td>\n",
              "    </tr>\n",
              "    <tr>\n",
              "      <th>1</th>\n",
              "      <td>Hill</td>\n",
              "      <td>608</td>\n",
              "      <td>Spain</td>\n",
              "      <td>Female</td>\n",
              "      <td>41.0</td>\n",
              "      <td>1</td>\n",
              "      <td>83807.86</td>\n",
              "      <td>1</td>\n",
              "      <td>0</td>\n",
              "      <td>1</td>\n",
              "      <td>112542.58</td>\n",
              "      <td>0</td>\n",
              "    </tr>\n",
              "    <tr>\n",
              "      <th>2</th>\n",
              "      <td>Onio</td>\n",
              "      <td>502</td>\n",
              "      <td>France</td>\n",
              "      <td>Female</td>\n",
              "      <td>42.0</td>\n",
              "      <td>8</td>\n",
              "      <td>159660.80</td>\n",
              "      <td>3</td>\n",
              "      <td>1</td>\n",
              "      <td>0</td>\n",
              "      <td>113931.57</td>\n",
              "      <td>1</td>\n",
              "    </tr>\n",
              "    <tr>\n",
              "      <th>3</th>\n",
              "      <td>Boni</td>\n",
              "      <td>699</td>\n",
              "      <td>France</td>\n",
              "      <td>Female</td>\n",
              "      <td>39.0</td>\n",
              "      <td>1</td>\n",
              "      <td>0.00</td>\n",
              "      <td>2</td>\n",
              "      <td>0</td>\n",
              "      <td>0</td>\n",
              "      <td>93826.63</td>\n",
              "      <td>0</td>\n",
              "    </tr>\n",
              "    <tr>\n",
              "      <th>4</th>\n",
              "      <td>Mitchell</td>\n",
              "      <td>850</td>\n",
              "      <td>Spain</td>\n",
              "      <td>Female</td>\n",
              "      <td>43.0</td>\n",
              "      <td>2</td>\n",
              "      <td>125510.82</td>\n",
              "      <td>1</td>\n",
              "      <td>1</td>\n",
              "      <td>1</td>\n",
              "      <td>79084.10</td>\n",
              "      <td>0</td>\n",
              "    </tr>\n",
              "  </tbody>\n",
              "</table>\n",
              "</div>"
            ],
            "text/plain": [
              "    Surname  CreditScore Geography  Gender   Age  Tenure    Balance  \\\n",
              "0  Hargrave          619    France  Female  42.0       2       0.00   \n",
              "1      Hill          608     Spain  Female  41.0       1   83807.86   \n",
              "2      Onio          502    France  Female  42.0       8  159660.80   \n",
              "3      Boni          699    France  Female  39.0       1       0.00   \n",
              "4  Mitchell          850     Spain  Female  43.0       2  125510.82   \n",
              "\n",
              "   NumOfProducts  HasCrCard  IsActiveMember  EstimatedSalary  Exited  \n",
              "0              1          1               1        101348.88       1  \n",
              "1              1          0               1        112542.58       0  \n",
              "2              3          1               0        113931.57       1  \n",
              "3              2          0               0         93826.63       0  \n",
              "4              1          1               1         79084.10       0  "
            ]
          },
          "execution_count": 13,
          "metadata": {},
          "output_type": "execute_result"
        }
      ],
      "source": [
        "df.head()"
      ]
    },
    {
      "cell_type": "markdown",
      "metadata": {
        "id": "JPSNGsDUOAhs"
      },
      "source": [
        "### 4.2. Feature Encoding\n",
        "\n",
        "Encoding is the process of converting data from one form to another. Most of the Machine learning algorithms can not handle categorical values unless we convert them to numerical values. Many algorithm’s performances vary based on how Categorical columns are encoded."
      ]
    },
    {
      "cell_type": "code",
      "execution_count": 14,
      "metadata": {
        "colab": {
          "base_uri": "https://localhost:8080/",
          "height": 206
        },
        "id": "y8zwSvEWOAht",
        "outputId": "a55e6723-6e48-443f-fced-8a153496c5cd"
      },
      "outputs": [
        {
          "output_type": "execute_result",
          "data": {
            "text/plain": [
              "   cheat  affairs  gender   age  yearsmarried  children  religiousness  \\\n",
              "0      0        0       1  37.0         10.00         0              3   \n",
              "1      0        0       0  27.0          4.00         0              4   \n",
              "2      0        0       0  32.0         15.00         1              1   \n",
              "3      0        0       1  57.0         15.00         1              5   \n",
              "4      0        0       1  22.0          0.75         0              2   \n",
              "\n",
              "   education  occupation  rating  \n",
              "0         18           7       4  \n",
              "1         14           6       4  \n",
              "2         12           1       4  \n",
              "3         18           6       5  \n",
              "4         17           6       3  "
            ],
            "text/html": [
              "\n",
              "  <div id=\"df-7aaf83ce-df50-43a4-b46b-9a43935ae44e\">\n",
              "    <div class=\"colab-df-container\">\n",
              "      <div>\n",
              "<style scoped>\n",
              "    .dataframe tbody tr th:only-of-type {\n",
              "        vertical-align: middle;\n",
              "    }\n",
              "\n",
              "    .dataframe tbody tr th {\n",
              "        vertical-align: top;\n",
              "    }\n",
              "\n",
              "    .dataframe thead th {\n",
              "        text-align: right;\n",
              "    }\n",
              "</style>\n",
              "<table border=\"1\" class=\"dataframe\">\n",
              "  <thead>\n",
              "    <tr style=\"text-align: right;\">\n",
              "      <th></th>\n",
              "      <th>cheat</th>\n",
              "      <th>affairs</th>\n",
              "      <th>gender</th>\n",
              "      <th>age</th>\n",
              "      <th>yearsmarried</th>\n",
              "      <th>children</th>\n",
              "      <th>religiousness</th>\n",
              "      <th>education</th>\n",
              "      <th>occupation</th>\n",
              "      <th>rating</th>\n",
              "    </tr>\n",
              "  </thead>\n",
              "  <tbody>\n",
              "    <tr>\n",
              "      <th>0</th>\n",
              "      <td>0</td>\n",
              "      <td>0</td>\n",
              "      <td>1</td>\n",
              "      <td>37.0</td>\n",
              "      <td>10.00</td>\n",
              "      <td>0</td>\n",
              "      <td>3</td>\n",
              "      <td>18</td>\n",
              "      <td>7</td>\n",
              "      <td>4</td>\n",
              "    </tr>\n",
              "    <tr>\n",
              "      <th>1</th>\n",
              "      <td>0</td>\n",
              "      <td>0</td>\n",
              "      <td>0</td>\n",
              "      <td>27.0</td>\n",
              "      <td>4.00</td>\n",
              "      <td>0</td>\n",
              "      <td>4</td>\n",
              "      <td>14</td>\n",
              "      <td>6</td>\n",
              "      <td>4</td>\n",
              "    </tr>\n",
              "    <tr>\n",
              "      <th>2</th>\n",
              "      <td>0</td>\n",
              "      <td>0</td>\n",
              "      <td>0</td>\n",
              "      <td>32.0</td>\n",
              "      <td>15.00</td>\n",
              "      <td>1</td>\n",
              "      <td>1</td>\n",
              "      <td>12</td>\n",
              "      <td>1</td>\n",
              "      <td>4</td>\n",
              "    </tr>\n",
              "    <tr>\n",
              "      <th>3</th>\n",
              "      <td>0</td>\n",
              "      <td>0</td>\n",
              "      <td>1</td>\n",
              "      <td>57.0</td>\n",
              "      <td>15.00</td>\n",
              "      <td>1</td>\n",
              "      <td>5</td>\n",
              "      <td>18</td>\n",
              "      <td>6</td>\n",
              "      <td>5</td>\n",
              "    </tr>\n",
              "    <tr>\n",
              "      <th>4</th>\n",
              "      <td>0</td>\n",
              "      <td>0</td>\n",
              "      <td>1</td>\n",
              "      <td>22.0</td>\n",
              "      <td>0.75</td>\n",
              "      <td>0</td>\n",
              "      <td>2</td>\n",
              "      <td>17</td>\n",
              "      <td>6</td>\n",
              "      <td>3</td>\n",
              "    </tr>\n",
              "  </tbody>\n",
              "</table>\n",
              "</div>\n",
              "      <button class=\"colab-df-convert\" onclick=\"convertToInteractive('df-7aaf83ce-df50-43a4-b46b-9a43935ae44e')\"\n",
              "              title=\"Convert this dataframe to an interactive table.\"\n",
              "              style=\"display:none;\">\n",
              "        \n",
              "  <svg xmlns=\"http://www.w3.org/2000/svg\" height=\"24px\"viewBox=\"0 0 24 24\"\n",
              "       width=\"24px\">\n",
              "    <path d=\"M0 0h24v24H0V0z\" fill=\"none\"/>\n",
              "    <path d=\"M18.56 5.44l.94 2.06.94-2.06 2.06-.94-2.06-.94-.94-2.06-.94 2.06-2.06.94zm-11 1L8.5 8.5l.94-2.06 2.06-.94-2.06-.94L8.5 2.5l-.94 2.06-2.06.94zm10 10l.94 2.06.94-2.06 2.06-.94-2.06-.94-.94-2.06-.94 2.06-2.06.94z\"/><path d=\"M17.41 7.96l-1.37-1.37c-.4-.4-.92-.59-1.43-.59-.52 0-1.04.2-1.43.59L10.3 9.45l-7.72 7.72c-.78.78-.78 2.05 0 2.83L4 21.41c.39.39.9.59 1.41.59.51 0 1.02-.2 1.41-.59l7.78-7.78 2.81-2.81c.8-.78.8-2.07 0-2.86zM5.41 20L4 18.59l7.72-7.72 1.47 1.35L5.41 20z\"/>\n",
              "  </svg>\n",
              "      </button>\n",
              "      \n",
              "  <style>\n",
              "    .colab-df-container {\n",
              "      display:flex;\n",
              "      flex-wrap:wrap;\n",
              "      gap: 12px;\n",
              "    }\n",
              "\n",
              "    .colab-df-convert {\n",
              "      background-color: #E8F0FE;\n",
              "      border: none;\n",
              "      border-radius: 50%;\n",
              "      cursor: pointer;\n",
              "      display: none;\n",
              "      fill: #1967D2;\n",
              "      height: 32px;\n",
              "      padding: 0 0 0 0;\n",
              "      width: 32px;\n",
              "    }\n",
              "\n",
              "    .colab-df-convert:hover {\n",
              "      background-color: #E2EBFA;\n",
              "      box-shadow: 0px 1px 2px rgba(60, 64, 67, 0.3), 0px 1px 3px 1px rgba(60, 64, 67, 0.15);\n",
              "      fill: #174EA6;\n",
              "    }\n",
              "\n",
              "    [theme=dark] .colab-df-convert {\n",
              "      background-color: #3B4455;\n",
              "      fill: #D2E3FC;\n",
              "    }\n",
              "\n",
              "    [theme=dark] .colab-df-convert:hover {\n",
              "      background-color: #434B5C;\n",
              "      box-shadow: 0px 1px 3px 1px rgba(0, 0, 0, 0.15);\n",
              "      filter: drop-shadow(0px 1px 2px rgba(0, 0, 0, 0.3));\n",
              "      fill: #FFFFFF;\n",
              "    }\n",
              "  </style>\n",
              "\n",
              "      <script>\n",
              "        const buttonEl =\n",
              "          document.querySelector('#df-7aaf83ce-df50-43a4-b46b-9a43935ae44e button.colab-df-convert');\n",
              "        buttonEl.style.display =\n",
              "          google.colab.kernel.accessAllowed ? 'block' : 'none';\n",
              "\n",
              "        async function convertToInteractive(key) {\n",
              "          const element = document.querySelector('#df-7aaf83ce-df50-43a4-b46b-9a43935ae44e');\n",
              "          const dataTable =\n",
              "            await google.colab.kernel.invokeFunction('convertToInteractive',\n",
              "                                                     [key], {});\n",
              "          if (!dataTable) return;\n",
              "\n",
              "          const docLinkHtml = 'Like what you see? Visit the ' +\n",
              "            '<a target=\"_blank\" href=https://colab.research.google.com/notebooks/data_table.ipynb>data table notebook</a>'\n",
              "            + ' to learn more about interactive tables.';\n",
              "          element.innerHTML = '';\n",
              "          dataTable['output_type'] = 'display_data';\n",
              "          await google.colab.output.renderOutput(dataTable, element);\n",
              "          const docLink = document.createElement('div');\n",
              "          docLink.innerHTML = docLinkHtml;\n",
              "          element.appendChild(docLink);\n",
              "        }\n",
              "      </script>\n",
              "    </div>\n",
              "  </div>\n",
              "  "
            ]
          },
          "metadata": {},
          "execution_count": 14
        }
      ],
      "source": [
        "# Label encode the variables\n",
        "for col in categorical_columns:\n",
        "    lbl     = LabelEncoder()\n",
        "    lbl.fit(list(df[col].values))\n",
        "    df[col] = lbl.transform(list(df[col].values))\n",
        "\n",
        "df.head()"
      ]
    },
    {
      "cell_type": "markdown",
      "metadata": {
        "id": "R4gLORQCOAht"
      },
      "source": [
        "### 4.3. Split X and y\n",
        "\n",
        "Split the X and y dataset"
      ]
    },
    {
      "cell_type": "code",
      "execution_count": 15,
      "metadata": {
        "id": "kqWE186BOAht"
      },
      "outputs": [],
      "source": [
        "# Split the y variable series and x variables dataset\n",
        "X = df.drop([target_class, 'affairs'],axis=1)\n",
        "y = df[target_class]"
      ]
    },
    {
      "cell_type": "markdown",
      "metadata": {
        "id": "PQq9q9dbOAhu"
      },
      "source": [
        "### 4.4. Feature Scaling\n",
        "\n",
        "It is a technique to standardize the x variables (features) present in the data in a fixed range. It needs to be done before training the model.\n",
        "\n",
        "But if you are using tree based models, you should not go for feature scaling"
      ]
    },
    {
      "cell_type": "code",
      "execution_count": 16,
      "metadata": {
        "id": "6phXfpW1OAhu"
      },
      "outputs": [],
      "source": [
        "# Define the function to scale the data using StandardScaler()\n",
        "def scale_data(data):\n",
        "\n",
        "    scaler = StandardScaler()\n",
        "\n",
        "    # transform data\n",
        "    scaled_data = scaler.fit_transform(data)\n",
        "    scaled_data = DataFrame(scaled_data)\n",
        "\n",
        "    scaled_data.columns = data.columns\n",
        "\n",
        "    return scaled_data"
      ]
    },
    {
      "cell_type": "code",
      "execution_count": 17,
      "metadata": {
        "colab": {
          "base_uri": "https://localhost:8080/",
          "height": 206
        },
        "id": "7z1Rfm79OAhu",
        "outputId": "c6221448-cd8e-4e73-cc78-2804984390cd"
      },
      "outputs": [
        {
          "output_type": "execute_result",
          "data": {
            "text/plain": [
              "     gender       age  yearsmarried  children  religiousness  education  \\\n",
              "0  1.049475  0.486205      0.327360 -1.585755      -0.099845   0.763828   \n",
              "1 -0.952857 -0.591262     -0.750484 -1.585755       0.757393  -0.902454   \n",
              "2 -0.952857 -0.052529      1.225564  0.630614      -1.814320  -1.735594   \n",
              "3  1.049475  2.641138      1.225564  0.630614       1.614631   0.763828   \n",
              "4  1.049475 -1.129995     -1.334317 -1.585755      -0.957082   0.347257   \n",
              "\n",
              "   occupation    rating  \n",
              "0    1.543144  0.061891  \n",
              "1    0.993067  0.061891  \n",
              "2   -1.757317  0.061891  \n",
              "3    0.993067  0.969116  \n",
              "4    0.993067 -0.845335  "
            ],
            "text/html": [
              "\n",
              "  <div id=\"df-9d9fa9e2-621c-4f75-92b2-9e9006f2cddb\">\n",
              "    <div class=\"colab-df-container\">\n",
              "      <div>\n",
              "<style scoped>\n",
              "    .dataframe tbody tr th:only-of-type {\n",
              "        vertical-align: middle;\n",
              "    }\n",
              "\n",
              "    .dataframe tbody tr th {\n",
              "        vertical-align: top;\n",
              "    }\n",
              "\n",
              "    .dataframe thead th {\n",
              "        text-align: right;\n",
              "    }\n",
              "</style>\n",
              "<table border=\"1\" class=\"dataframe\">\n",
              "  <thead>\n",
              "    <tr style=\"text-align: right;\">\n",
              "      <th></th>\n",
              "      <th>gender</th>\n",
              "      <th>age</th>\n",
              "      <th>yearsmarried</th>\n",
              "      <th>children</th>\n",
              "      <th>religiousness</th>\n",
              "      <th>education</th>\n",
              "      <th>occupation</th>\n",
              "      <th>rating</th>\n",
              "    </tr>\n",
              "  </thead>\n",
              "  <tbody>\n",
              "    <tr>\n",
              "      <th>0</th>\n",
              "      <td>1.049475</td>\n",
              "      <td>0.486205</td>\n",
              "      <td>0.327360</td>\n",
              "      <td>-1.585755</td>\n",
              "      <td>-0.099845</td>\n",
              "      <td>0.763828</td>\n",
              "      <td>1.543144</td>\n",
              "      <td>0.061891</td>\n",
              "    </tr>\n",
              "    <tr>\n",
              "      <th>1</th>\n",
              "      <td>-0.952857</td>\n",
              "      <td>-0.591262</td>\n",
              "      <td>-0.750484</td>\n",
              "      <td>-1.585755</td>\n",
              "      <td>0.757393</td>\n",
              "      <td>-0.902454</td>\n",
              "      <td>0.993067</td>\n",
              "      <td>0.061891</td>\n",
              "    </tr>\n",
              "    <tr>\n",
              "      <th>2</th>\n",
              "      <td>-0.952857</td>\n",
              "      <td>-0.052529</td>\n",
              "      <td>1.225564</td>\n",
              "      <td>0.630614</td>\n",
              "      <td>-1.814320</td>\n",
              "      <td>-1.735594</td>\n",
              "      <td>-1.757317</td>\n",
              "      <td>0.061891</td>\n",
              "    </tr>\n",
              "    <tr>\n",
              "      <th>3</th>\n",
              "      <td>1.049475</td>\n",
              "      <td>2.641138</td>\n",
              "      <td>1.225564</td>\n",
              "      <td>0.630614</td>\n",
              "      <td>1.614631</td>\n",
              "      <td>0.763828</td>\n",
              "      <td>0.993067</td>\n",
              "      <td>0.969116</td>\n",
              "    </tr>\n",
              "    <tr>\n",
              "      <th>4</th>\n",
              "      <td>1.049475</td>\n",
              "      <td>-1.129995</td>\n",
              "      <td>-1.334317</td>\n",
              "      <td>-1.585755</td>\n",
              "      <td>-0.957082</td>\n",
              "      <td>0.347257</td>\n",
              "      <td>0.993067</td>\n",
              "      <td>-0.845335</td>\n",
              "    </tr>\n",
              "  </tbody>\n",
              "</table>\n",
              "</div>\n",
              "      <button class=\"colab-df-convert\" onclick=\"convertToInteractive('df-9d9fa9e2-621c-4f75-92b2-9e9006f2cddb')\"\n",
              "              title=\"Convert this dataframe to an interactive table.\"\n",
              "              style=\"display:none;\">\n",
              "        \n",
              "  <svg xmlns=\"http://www.w3.org/2000/svg\" height=\"24px\"viewBox=\"0 0 24 24\"\n",
              "       width=\"24px\">\n",
              "    <path d=\"M0 0h24v24H0V0z\" fill=\"none\"/>\n",
              "    <path d=\"M18.56 5.44l.94 2.06.94-2.06 2.06-.94-2.06-.94-.94-2.06-.94 2.06-2.06.94zm-11 1L8.5 8.5l.94-2.06 2.06-.94-2.06-.94L8.5 2.5l-.94 2.06-2.06.94zm10 10l.94 2.06.94-2.06 2.06-.94-2.06-.94-.94-2.06-.94 2.06-2.06.94z\"/><path d=\"M17.41 7.96l-1.37-1.37c-.4-.4-.92-.59-1.43-.59-.52 0-1.04.2-1.43.59L10.3 9.45l-7.72 7.72c-.78.78-.78 2.05 0 2.83L4 21.41c.39.39.9.59 1.41.59.51 0 1.02-.2 1.41-.59l7.78-7.78 2.81-2.81c.8-.78.8-2.07 0-2.86zM5.41 20L4 18.59l7.72-7.72 1.47 1.35L5.41 20z\"/>\n",
              "  </svg>\n",
              "      </button>\n",
              "      \n",
              "  <style>\n",
              "    .colab-df-container {\n",
              "      display:flex;\n",
              "      flex-wrap:wrap;\n",
              "      gap: 12px;\n",
              "    }\n",
              "\n",
              "    .colab-df-convert {\n",
              "      background-color: #E8F0FE;\n",
              "      border: none;\n",
              "      border-radius: 50%;\n",
              "      cursor: pointer;\n",
              "      display: none;\n",
              "      fill: #1967D2;\n",
              "      height: 32px;\n",
              "      padding: 0 0 0 0;\n",
              "      width: 32px;\n",
              "    }\n",
              "\n",
              "    .colab-df-convert:hover {\n",
              "      background-color: #E2EBFA;\n",
              "      box-shadow: 0px 1px 2px rgba(60, 64, 67, 0.3), 0px 1px 3px 1px rgba(60, 64, 67, 0.15);\n",
              "      fill: #174EA6;\n",
              "    }\n",
              "\n",
              "    [theme=dark] .colab-df-convert {\n",
              "      background-color: #3B4455;\n",
              "      fill: #D2E3FC;\n",
              "    }\n",
              "\n",
              "    [theme=dark] .colab-df-convert:hover {\n",
              "      background-color: #434B5C;\n",
              "      box-shadow: 0px 1px 3px 1px rgba(0, 0, 0, 0.15);\n",
              "      filter: drop-shadow(0px 1px 2px rgba(0, 0, 0, 0.3));\n",
              "      fill: #FFFFFF;\n",
              "    }\n",
              "  </style>\n",
              "\n",
              "      <script>\n",
              "        const buttonEl =\n",
              "          document.querySelector('#df-9d9fa9e2-621c-4f75-92b2-9e9006f2cddb button.colab-df-convert');\n",
              "        buttonEl.style.display =\n",
              "          google.colab.kernel.accessAllowed ? 'block' : 'none';\n",
              "\n",
              "        async function convertToInteractive(key) {\n",
              "          const element = document.querySelector('#df-9d9fa9e2-621c-4f75-92b2-9e9006f2cddb');\n",
              "          const dataTable =\n",
              "            await google.colab.kernel.invokeFunction('convertToInteractive',\n",
              "                                                     [key], {});\n",
              "          if (!dataTable) return;\n",
              "\n",
              "          const docLinkHtml = 'Like what you see? Visit the ' +\n",
              "            '<a target=\"_blank\" href=https://colab.research.google.com/notebooks/data_table.ipynb>data table notebook</a>'\n",
              "            + ' to learn more about interactive tables.';\n",
              "          element.innerHTML = '';\n",
              "          dataTable['output_type'] = 'display_data';\n",
              "          await google.colab.output.renderOutput(dataTable, element);\n",
              "          const docLink = document.createElement('div');\n",
              "          docLink.innerHTML = docLinkHtml;\n",
              "          element.appendChild(docLink);\n",
              "        }\n",
              "      </script>\n",
              "    </div>\n",
              "  </div>\n",
              "  "
            ]
          },
          "metadata": {},
          "execution_count": 17
        }
      ],
      "source": [
        "# Scale X dataset\n",
        "scaled_X = scale_data(X)\n",
        "scaled_X.head()"
      ]
    },
    {
      "cell_type": "markdown",
      "metadata": {
        "id": "FJ1pnZsnOAhu"
      },
      "source": [
        "### 4.5 Train - Test Split\n",
        "\n",
        "Split the dataset in training and test set"
      ]
    },
    {
      "cell_type": "code",
      "execution_count": 18,
      "metadata": {
        "id": "c-xu2pm7OAhu"
      },
      "outputs": [],
      "source": [
        "# Split the dataset into the training set and test set\n",
        "X_train, X_test, y_train, y_test = train_test_split(scaled_X, y, test_size = 0.3, random_state = 0)"
      ]
    },
    {
      "cell_type": "markdown",
      "metadata": {
        "id": "ZccaGdgsOAiD"
      },
      "source": [
        "<div class=\"alert alert-info\" style=\"background-color:#006a79; color:white; padding:0px 10px; border-radius:5px;\"><h2 style='margin:10px 5px'>5. Model Building</h2>\n",
        "</div>\n",
        "\n",
        "In this section you will:\n",
        "- Train the model on training data\n",
        "- Get the predictions on testing data\n",
        "- Evaluate the performance of model on testing data"
      ]
    },
    {
      "cell_type": "markdown",
      "metadata": {
        "id": "zH5Ms5ZLOAiD"
      },
      "source": [
        "### 5.1 Train Model\n",
        "\n",
        "Train the logistic regression model on training data"
      ]
    },
    {
      "cell_type": "code",
      "execution_count": 19,
      "metadata": {
        "colab": {
          "base_uri": "https://localhost:8080/",
          "height": 75
        },
        "id": "x9cnDok2OAiD",
        "outputId": "76e1f2c7-be2e-429d-d4d1-3e0d0c90fe4b"
      },
      "outputs": [
        {
          "output_type": "execute_result",
          "data": {
            "text/plain": [
              "LogisticRegression(random_state=0)"
            ],
            "text/html": [
              "<style>#sk-container-id-1 {color: black;background-color: white;}#sk-container-id-1 pre{padding: 0;}#sk-container-id-1 div.sk-toggleable {background-color: white;}#sk-container-id-1 label.sk-toggleable__label {cursor: pointer;display: block;width: 100%;margin-bottom: 0;padding: 0.3em;box-sizing: border-box;text-align: center;}#sk-container-id-1 label.sk-toggleable__label-arrow:before {content: \"▸\";float: left;margin-right: 0.25em;color: #696969;}#sk-container-id-1 label.sk-toggleable__label-arrow:hover:before {color: black;}#sk-container-id-1 div.sk-estimator:hover label.sk-toggleable__label-arrow:before {color: black;}#sk-container-id-1 div.sk-toggleable__content {max-height: 0;max-width: 0;overflow: hidden;text-align: left;background-color: #f0f8ff;}#sk-container-id-1 div.sk-toggleable__content pre {margin: 0.2em;color: black;border-radius: 0.25em;background-color: #f0f8ff;}#sk-container-id-1 input.sk-toggleable__control:checked~div.sk-toggleable__content {max-height: 200px;max-width: 100%;overflow: auto;}#sk-container-id-1 input.sk-toggleable__control:checked~label.sk-toggleable__label-arrow:before {content: \"▾\";}#sk-container-id-1 div.sk-estimator input.sk-toggleable__control:checked~label.sk-toggleable__label {background-color: #d4ebff;}#sk-container-id-1 div.sk-label input.sk-toggleable__control:checked~label.sk-toggleable__label {background-color: #d4ebff;}#sk-container-id-1 input.sk-hidden--visually {border: 0;clip: rect(1px 1px 1px 1px);clip: rect(1px, 1px, 1px, 1px);height: 1px;margin: -1px;overflow: hidden;padding: 0;position: absolute;width: 1px;}#sk-container-id-1 div.sk-estimator {font-family: monospace;background-color: #f0f8ff;border: 1px dotted black;border-radius: 0.25em;box-sizing: border-box;margin-bottom: 0.5em;}#sk-container-id-1 div.sk-estimator:hover {background-color: #d4ebff;}#sk-container-id-1 div.sk-parallel-item::after {content: \"\";width: 100%;border-bottom: 1px solid gray;flex-grow: 1;}#sk-container-id-1 div.sk-label:hover label.sk-toggleable__label {background-color: #d4ebff;}#sk-container-id-1 div.sk-serial::before {content: \"\";position: absolute;border-left: 1px solid gray;box-sizing: border-box;top: 0;bottom: 0;left: 50%;z-index: 0;}#sk-container-id-1 div.sk-serial {display: flex;flex-direction: column;align-items: center;background-color: white;padding-right: 0.2em;padding-left: 0.2em;position: relative;}#sk-container-id-1 div.sk-item {position: relative;z-index: 1;}#sk-container-id-1 div.sk-parallel {display: flex;align-items: stretch;justify-content: center;background-color: white;position: relative;}#sk-container-id-1 div.sk-item::before, #sk-container-id-1 div.sk-parallel-item::before {content: \"\";position: absolute;border-left: 1px solid gray;box-sizing: border-box;top: 0;bottom: 0;left: 50%;z-index: -1;}#sk-container-id-1 div.sk-parallel-item {display: flex;flex-direction: column;z-index: 1;position: relative;background-color: white;}#sk-container-id-1 div.sk-parallel-item:first-child::after {align-self: flex-end;width: 50%;}#sk-container-id-1 div.sk-parallel-item:last-child::after {align-self: flex-start;width: 50%;}#sk-container-id-1 div.sk-parallel-item:only-child::after {width: 0;}#sk-container-id-1 div.sk-dashed-wrapped {border: 1px dashed gray;margin: 0 0.4em 0.5em 0.4em;box-sizing: border-box;padding-bottom: 0.4em;background-color: white;}#sk-container-id-1 div.sk-label label {font-family: monospace;font-weight: bold;display: inline-block;line-height: 1.2em;}#sk-container-id-1 div.sk-label-container {text-align: center;}#sk-container-id-1 div.sk-container {/* jupyter's `normalize.less` sets `[hidden] { display: none; }` but bootstrap.min.css set `[hidden] { display: none !important; }` so we also need the `!important` here to be able to override the default hidden behavior on the sphinx rendered scikit-learn.org. See: https://github.com/scikit-learn/scikit-learn/issues/21755 */display: inline-block !important;position: relative;}#sk-container-id-1 div.sk-text-repr-fallback {display: none;}</style><div id=\"sk-container-id-1\" class=\"sk-top-container\"><div class=\"sk-text-repr-fallback\"><pre>LogisticRegression(random_state=0)</pre><b>In a Jupyter environment, please rerun this cell to show the HTML representation or trust the notebook. <br />On GitHub, the HTML representation is unable to render, please try loading this page with nbviewer.org.</b></div><div class=\"sk-container\" hidden><div class=\"sk-item\"><div class=\"sk-estimator sk-toggleable\"><input class=\"sk-toggleable__control sk-hidden--visually\" id=\"sk-estimator-id-1\" type=\"checkbox\" checked><label for=\"sk-estimator-id-1\" class=\"sk-toggleable__label sk-toggleable__label-arrow\">LogisticRegression</label><div class=\"sk-toggleable__content\"><pre>LogisticRegression(random_state=0)</pre></div></div></div></div></div>"
            ]
          },
          "metadata": {},
          "execution_count": 19
        }
      ],
      "source": [
        "# Defining the model\n",
        "model = LogisticRegression(random_state=0)\n",
        "# model = DecisionTreeClassifier(random_state=0)\n",
        "\n",
        "# Training the model:\n",
        "model.fit(X_train, y_train)\n",
        "\n",
        "model"
      ]
    },
    {
      "cell_type": "markdown",
      "metadata": {
        "id": "Zon8AwLAOAiE"
      },
      "source": [
        "### 5.2 Model Predictions\n",
        "\n",
        "Get the predictions from the model on testing data"
      ]
    },
    {
      "cell_type": "code",
      "execution_count": 20,
      "metadata": {
        "colab": {
          "base_uri": "https://localhost:8080/"
        },
        "id": "yJCe9RcWOAiE",
        "outputId": "7a7228ae-8a9b-48d7-ed6a-c01a7e9993b8"
      },
      "outputs": [
        {
          "output_type": "stream",
          "name": "stdout",
          "text": [
            "Y predicted :  [0 0 0 0 0 0 0 0 0 0 0 0 0 0 0 0 0 0 0 0 0 0 0 0 0 0 0 0 1 0 1 0 0 0 0 0 0\n",
            " 0 0 0 0 0 0 0 0 0 0 0 0 0 0 0 0 0 0 0 0 1 0 0 0 0 0 0 0 0 0 0 0 0 1 0 0 0\n",
            " 0 0 0 0 0 0 0 0 0 0 0 0 0 0 0 0 0 0 0 0 0 0 0 0 0 0 0 0 0 0 0 0 0 0 0 1 0\n",
            " 0 0 0 0 0 0 0 0 0 1 1 0 0 0 0 1 0 0 1 0 0 0 0 0 0 0 0 0 0 0 0 0 0 1 0 0 1\n",
            " 0 1 0 0 0 0 0 0 0 0 0 0 0 0 0 0 0 1 0 0 1 1 0 0 0 0 0 0 0 0 0 0 0]\n",
            "Y probability predicted :  [0.25009201421489186, 0.09259533357449215, 0.11411307251042492, 0.23494006869389478, 0.21574638779986927]\n"
          ]
        }
      ],
      "source": [
        "# Predict class for test dataset\n",
        "y_pred = model.predict(X_test)\n",
        "\n",
        "# Predict probability for test dataset\n",
        "y_pred_prod = model.predict_proba(X_test)\n",
        "y_pred_prod = [x[1] for x in y_pred_prod]\n",
        "print(\"Y predicted : \",y_pred)\n",
        "print(\"Y probability predicted : \",y_pred_prod[:5])"
      ]
    },
    {
      "cell_type": "markdown",
      "metadata": {
        "id": "84iCtAHqOAiE"
      },
      "source": [
        "### 5.3. Model Evaluation\n",
        "\n",
        "Get the evaluation metrics to evaluate the performance of model on testing data"
      ]
    },
    {
      "cell_type": "code",
      "execution_count": 21,
      "metadata": {
        "id": "druWgCLpOAiF"
      },
      "outputs": [],
      "source": [
        "# Define a function to compute various evaluation metrics\n",
        "def compute_evaluation_metric(y_actual, y_predicted):\n",
        "    print(\"\\n Accuracy Score : \\n \",accuracy_score(y_actual,y_predicted))\n",
        "    print(\"\\n Confusion Matrix : \\n \",confusion_matrix(y_actual, y_predicted))\n",
        "    print(\"\\n Classification Report : \\n\",classification_report(y_actual, y_predicted))"
      ]
    },
    {
      "cell_type": "code",
      "execution_count": 22,
      "metadata": {
        "colab": {
          "base_uri": "https://localhost:8080/"
        },
        "id": "zFCXGIwHOAiF",
        "outputId": "f95ebe11-2e2a-4ac1-bac6-f84583f6cbef"
      },
      "outputs": [
        {
          "output_type": "stream",
          "name": "stdout",
          "text": [
            "\n",
            " Accuracy Score : \n",
            "  0.7624309392265194\n",
            "\n",
            " Confusion Matrix : \n",
            "  [[131   8]\n",
            " [ 35   7]]\n",
            "\n",
            " Classification Report : \n",
            "               precision    recall  f1-score   support\n",
            "\n",
            "           0       0.79      0.94      0.86       139\n",
            "           1       0.47      0.17      0.25        42\n",
            "\n",
            "    accuracy                           0.76       181\n",
            "   macro avg       0.63      0.55      0.55       181\n",
            "weighted avg       0.71      0.76      0.72       181\n",
            "\n"
          ]
        }
      ],
      "source": [
        "# Compute Evaluation Metric\n",
        "compute_evaluation_metric(y_test, y_pred)"
      ]
    },
    {
      "cell_type": "markdown",
      "metadata": {
        "id": "Ro25KGL7OAiF"
      },
      "source": [
        "<div class=\"alert alert-info\" style=\"background-color:#006a79; color:white; padding:0px 10px; border-radius:5px;\"><h2 style='margin:10px 5px'>6. Improve Model</h2>\n",
        "</div>\n",
        "\n",
        "The first model you make may not be a good one. You need to improve the model.\n",
        "\n",
        "In majority of the classification problems, the target class is imbalanced. So you need to balance it in order to get best modelling results.\n",
        "\n",
        "In this section you will:\n",
        "- Handle class imbalance\n",
        "- Save the final model"
      ]
    },
    {
      "cell_type": "markdown",
      "metadata": {
        "id": "Zj1vZRXeOAiF"
      },
      "source": [
        "### 6.1 Handle Class Imbalance\n",
        "\n",
        "Imbalanced classes are a common problem in machine learning classification where there are a disproportionate ratio of observations in each class.\n",
        "\n",
        "Most machine learning algorithms work best when the number of samples in each class are about equal. This is because most algorithms are designed to maximize accuracy and reduce error.\n",
        "\n",
        "Here, you will upsample the minority class"
      ]
    },
    {
      "cell_type": "code",
      "execution_count": 24,
      "metadata": {
        "colab": {
          "base_uri": "https://localhost:8080/"
        },
        "id": "sOnz9Hd4OAiF",
        "outputId": "c467338e-b8aa-4470-c806-10ca4ff759ed"
      },
      "outputs": [
        {
          "output_type": "execute_result",
          "data": {
            "text/plain": [
              "0    451\n",
              "1    451\n",
              "Name: cheat, dtype: int64"
            ]
          },
          "metadata": {},
          "execution_count": 24
        }
      ],
      "source": [
        "# Over sample the minority class\n",
        "ros = RandomOverSampler()\n",
        "X_ros, y_ros = ros.fit_resample(X, y)\n",
        "\n",
        "y_ros.value_counts()"
      ]
    },
    {
      "cell_type": "code",
      "execution_count": 25,
      "metadata": {
        "id": "xFOyheEzOAiG"
      },
      "outputs": [],
      "source": [
        "# Define the function to build model on balanced dataset\n",
        "def classification_model(X, y):\n",
        "\n",
        "    scaled_X = scale_data(X)\n",
        "\n",
        "    # Split the dataset into the training set and test set\n",
        "    X_train, X_test, y_train, y_test = train_test_split(scaled_X, y, test_size = 0.3, random_state = 0)\n",
        "\n",
        "    # Defining the model\n",
        "    model = LogisticRegression(random_state=0)\n",
        "\n",
        "    # Training the model:\n",
        "    model.fit(X_train, y_train)\n",
        "\n",
        "    # Predict class for test dataset\n",
        "    y_pred = model.predict(X_test)\n",
        "\n",
        "    # Compute Evaluation Metric\n",
        "    compute_evaluation_metric(y_test, y_pred)\n",
        "\n",
        "    return model"
      ]
    },
    {
      "cell_type": "code",
      "execution_count": 26,
      "metadata": {
        "colab": {
          "base_uri": "https://localhost:8080/"
        },
        "id": "N2lOEpBGOAiG",
        "outputId": "a84a8eb8-139d-4e72-82d4-0e6f5ec6285f"
      },
      "outputs": [
        {
          "output_type": "stream",
          "name": "stdout",
          "text": [
            "\n",
            " Accuracy Score : \n",
            "  0.6642066420664207\n",
            "\n",
            " Confusion Matrix : \n",
            "  [[82 48]\n",
            " [43 98]]\n",
            "\n",
            " Classification Report : \n",
            "               precision    recall  f1-score   support\n",
            "\n",
            "           0       0.66      0.63      0.64       130\n",
            "           1       0.67      0.70      0.68       141\n",
            "\n",
            "    accuracy                           0.66       271\n",
            "   macro avg       0.66      0.66      0.66       271\n",
            "weighted avg       0.66      0.66      0.66       271\n",
            "\n"
          ]
        }
      ],
      "source": [
        "# Build model on balanced data and get evaluation metrics\n",
        "model = classification_model(X_ros, y_ros)"
      ]
    },
    {
      "cell_type": "markdown",
      "source": [
        "# Using Random Forest For Prediction"
      ],
      "metadata": {
        "id": "6zBUc_kkQhMK"
      }
    },
    {
      "cell_type": "code",
      "source": [
        "# Split the dataset into the training set and test set\n",
        "scaled_X = scale_data(X_ros)\n",
        "X_train, X_test, y_train, y_test = train_test_split(scaled_X, y_ros, test_size = 0.3, random_state = 0)"
      ],
      "metadata": {
        "id": "Ji4KNAEJZIG8"
      },
      "execution_count": 32,
      "outputs": []
    },
    {
      "cell_type": "code",
      "source": [
        "from sklearn.ensemble import RandomForestClassifier\n",
        "\n",
        "clf = RandomForestClassifier(n_estimators=100)    #building 100 decision trees\n",
        "clf=clf.fit(X_train, y_train)\n",
        "clf.score(X_test, y_test)"
      ],
      "metadata": {
        "colab": {
          "base_uri": "https://localhost:8080/"
        },
        "id": "Jz6zmofcYzQo",
        "outputId": "edf887a1-5081-4cdd-9dc2-cd8969bccab7"
      },
      "execution_count": 33,
      "outputs": [
        {
          "output_type": "execute_result",
          "data": {
            "text/plain": [
              "0.8376383763837638"
            ]
          },
          "metadata": {},
          "execution_count": 33
        }
      ]
    },
    {
      "cell_type": "code",
      "source": [
        "from sklearn import metrics\n",
        "print(metrics.accuracy_score(y_test, clf.predict(X_test))) #overall accuracy\n",
        "print(metrics.confusion_matrix(y_test, clf.predict(X_test)))\n",
        "print(metrics.classification_report(y_test, clf.predict(X_test)))"
      ],
      "metadata": {
        "colab": {
          "base_uri": "https://localhost:8080/"
        },
        "id": "iB1zX1mtYzVy",
        "outputId": "e765bbb9-33bb-49f3-fa55-eede14a3026e"
      },
      "execution_count": 36,
      "outputs": [
        {
          "output_type": "stream",
          "name": "stdout",
          "text": [
            "0.8376383763837638\n",
            "[[ 96  34]\n",
            " [ 10 131]]\n",
            "              precision    recall  f1-score   support\n",
            "\n",
            "           0       0.91      0.74      0.81       130\n",
            "           1       0.79      0.93      0.86       141\n",
            "\n",
            "    accuracy                           0.84       271\n",
            "   macro avg       0.85      0.83      0.83       271\n",
            "weighted avg       0.85      0.84      0.84       271\n",
            "\n"
          ]
        }
      ]
    },
    {
      "cell_type": "code",
      "source": [
        "# Most inflential attributes or variable\n",
        "pd.DataFrame(clf.feature_importances_, index = X.columns,\n",
        "                                    columns=['importance']).sort_values('importance', ascending=False)"
      ],
      "metadata": {
        "colab": {
          "base_uri": "https://localhost:8080/",
          "height": 300
        },
        "id": "mNu8Ru-jaWVi",
        "outputId": "5012ec51-c89a-4310-be4d-4c8aa20ba8c1"
      },
      "execution_count": 34,
      "outputs": [
        {
          "output_type": "execute_result",
          "data": {
            "text/plain": [
              "               importance\n",
              "age              0.174028\n",
              "education        0.160531\n",
              "religiousness    0.154446\n",
              "yearsmarried     0.148875\n",
              "rating           0.142383\n",
              "occupation       0.134922\n",
              "gender           0.043826\n",
              "children         0.040989"
            ],
            "text/html": [
              "\n",
              "  <div id=\"df-3e34d12b-060c-4c66-b5b3-94afa464e76d\">\n",
              "    <div class=\"colab-df-container\">\n",
              "      <div>\n",
              "<style scoped>\n",
              "    .dataframe tbody tr th:only-of-type {\n",
              "        vertical-align: middle;\n",
              "    }\n",
              "\n",
              "    .dataframe tbody tr th {\n",
              "        vertical-align: top;\n",
              "    }\n",
              "\n",
              "    .dataframe thead th {\n",
              "        text-align: right;\n",
              "    }\n",
              "</style>\n",
              "<table border=\"1\" class=\"dataframe\">\n",
              "  <thead>\n",
              "    <tr style=\"text-align: right;\">\n",
              "      <th></th>\n",
              "      <th>importance</th>\n",
              "    </tr>\n",
              "  </thead>\n",
              "  <tbody>\n",
              "    <tr>\n",
              "      <th>age</th>\n",
              "      <td>0.174028</td>\n",
              "    </tr>\n",
              "    <tr>\n",
              "      <th>education</th>\n",
              "      <td>0.160531</td>\n",
              "    </tr>\n",
              "    <tr>\n",
              "      <th>religiousness</th>\n",
              "      <td>0.154446</td>\n",
              "    </tr>\n",
              "    <tr>\n",
              "      <th>yearsmarried</th>\n",
              "      <td>0.148875</td>\n",
              "    </tr>\n",
              "    <tr>\n",
              "      <th>rating</th>\n",
              "      <td>0.142383</td>\n",
              "    </tr>\n",
              "    <tr>\n",
              "      <th>occupation</th>\n",
              "      <td>0.134922</td>\n",
              "    </tr>\n",
              "    <tr>\n",
              "      <th>gender</th>\n",
              "      <td>0.043826</td>\n",
              "    </tr>\n",
              "    <tr>\n",
              "      <th>children</th>\n",
              "      <td>0.040989</td>\n",
              "    </tr>\n",
              "  </tbody>\n",
              "</table>\n",
              "</div>\n",
              "      <button class=\"colab-df-convert\" onclick=\"convertToInteractive('df-3e34d12b-060c-4c66-b5b3-94afa464e76d')\"\n",
              "              title=\"Convert this dataframe to an interactive table.\"\n",
              "              style=\"display:none;\">\n",
              "        \n",
              "  <svg xmlns=\"http://www.w3.org/2000/svg\" height=\"24px\"viewBox=\"0 0 24 24\"\n",
              "       width=\"24px\">\n",
              "    <path d=\"M0 0h24v24H0V0z\" fill=\"none\"/>\n",
              "    <path d=\"M18.56 5.44l.94 2.06.94-2.06 2.06-.94-2.06-.94-.94-2.06-.94 2.06-2.06.94zm-11 1L8.5 8.5l.94-2.06 2.06-.94-2.06-.94L8.5 2.5l-.94 2.06-2.06.94zm10 10l.94 2.06.94-2.06 2.06-.94-2.06-.94-.94-2.06-.94 2.06-2.06.94z\"/><path d=\"M17.41 7.96l-1.37-1.37c-.4-.4-.92-.59-1.43-.59-.52 0-1.04.2-1.43.59L10.3 9.45l-7.72 7.72c-.78.78-.78 2.05 0 2.83L4 21.41c.39.39.9.59 1.41.59.51 0 1.02-.2 1.41-.59l7.78-7.78 2.81-2.81c.8-.78.8-2.07 0-2.86zM5.41 20L4 18.59l7.72-7.72 1.47 1.35L5.41 20z\"/>\n",
              "  </svg>\n",
              "      </button>\n",
              "      \n",
              "  <style>\n",
              "    .colab-df-container {\n",
              "      display:flex;\n",
              "      flex-wrap:wrap;\n",
              "      gap: 12px;\n",
              "    }\n",
              "\n",
              "    .colab-df-convert {\n",
              "      background-color: #E8F0FE;\n",
              "      border: none;\n",
              "      border-radius: 50%;\n",
              "      cursor: pointer;\n",
              "      display: none;\n",
              "      fill: #1967D2;\n",
              "      height: 32px;\n",
              "      padding: 0 0 0 0;\n",
              "      width: 32px;\n",
              "    }\n",
              "\n",
              "    .colab-df-convert:hover {\n",
              "      background-color: #E2EBFA;\n",
              "      box-shadow: 0px 1px 2px rgba(60, 64, 67, 0.3), 0px 1px 3px 1px rgba(60, 64, 67, 0.15);\n",
              "      fill: #174EA6;\n",
              "    }\n",
              "\n",
              "    [theme=dark] .colab-df-convert {\n",
              "      background-color: #3B4455;\n",
              "      fill: #D2E3FC;\n",
              "    }\n",
              "\n",
              "    [theme=dark] .colab-df-convert:hover {\n",
              "      background-color: #434B5C;\n",
              "      box-shadow: 0px 1px 3px 1px rgba(0, 0, 0, 0.15);\n",
              "      filter: drop-shadow(0px 1px 2px rgba(0, 0, 0, 0.3));\n",
              "      fill: #FFFFFF;\n",
              "    }\n",
              "  </style>\n",
              "\n",
              "      <script>\n",
              "        const buttonEl =\n",
              "          document.querySelector('#df-3e34d12b-060c-4c66-b5b3-94afa464e76d button.colab-df-convert');\n",
              "        buttonEl.style.display =\n",
              "          google.colab.kernel.accessAllowed ? 'block' : 'none';\n",
              "\n",
              "        async function convertToInteractive(key) {\n",
              "          const element = document.querySelector('#df-3e34d12b-060c-4c66-b5b3-94afa464e76d');\n",
              "          const dataTable =\n",
              "            await google.colab.kernel.invokeFunction('convertToInteractive',\n",
              "                                                     [key], {});\n",
              "          if (!dataTable) return;\n",
              "\n",
              "          const docLinkHtml = 'Like what you see? Visit the ' +\n",
              "            '<a target=\"_blank\" href=https://colab.research.google.com/notebooks/data_table.ipynb>data table notebook</a>'\n",
              "            + ' to learn more about interactive tables.';\n",
              "          element.innerHTML = '';\n",
              "          dataTable['output_type'] = 'display_data';\n",
              "          await google.colab.output.renderOutput(dataTable, element);\n",
              "          const docLink = document.createElement('div');\n",
              "          docLink.innerHTML = docLinkHtml;\n",
              "          element.appendChild(docLink);\n",
              "        }\n",
              "      </script>\n",
              "    </div>\n",
              "  </div>\n",
              "  "
            ]
          },
          "metadata": {},
          "execution_count": 34
        }
      ]
    },
    {
      "cell_type": "code",
      "source": [
        "pd.DataFrame(clf.feature_importances_, index = X.columns,\n",
        "                                    columns=['importance']).sort_values('importance', ascending=False).plot(kind='barh',\n",
        "                                                                                                            legend=None);"
      ],
      "metadata": {
        "colab": {
          "base_uri": "https://localhost:8080/",
          "height": 430
        },
        "id": "WL0F2DJiaiBM",
        "outputId": "6ae8d9a9-b53c-4cad-a9db-7058b7796901"
      },
      "execution_count": 35,
      "outputs": [
        {
          "output_type": "display_data",
          "data": {
            "text/plain": [
              "<Figure size 640x480 with 1 Axes>"
            ],
            "image/png": "[encoded data removed]"
          },
          "metadata": {}
        }
      ]
    },
    {
      "cell_type": "markdown",
      "metadata": {
        "id": "7NQ1cl_qOAiG"
      },
      "source": [
        "### 6.2 Save the final model\n",
        "\n",
        "You can save the model in local disk and use it whenever you want"
      ]
    },
    {
      "cell_type": "code",
      "execution_count": null,
      "metadata": {
        "id": "bD0OCK2ROAiG"
      },
      "outputs": [],
      "source": [
        "# save the model to disk\n",
        "filename = 'final_model.sav'\n",
        "pickle.dump(model, open(filename, 'wb'))"
      ]
    },
    {
      "cell_type": "code",
      "execution_count": null,
      "metadata": {
        "id": "SM2nGiBLOAiG",
        "outputId": "604360c4-ee51-4274-e454-c7b7d0b7dc58"
      },
      "outputs": [
        {
          "data": {
            "text/plain": [
              "LogisticRegression(C=1.0, class_weight=None, dual=False, fit_intercept=True,\n",
              "                   intercept_scaling=1, l1_ratio=None, max_iter=100,\n",
              "                   multi_class='auto', n_jobs=None, penalty='l2',\n",
              "                   random_state=0, solver='lbfgs', tol=0.0001, verbose=0,\n",
              "                   warm_start=False)"
            ]
          },
          "execution_count": 35,
          "metadata": {},
          "output_type": "execute_result"
        }
      ],
      "source": [
        "# load the model from disk\n",
        "loaded_model = pickle.load(open(filename, 'rb'))\n",
        "loaded_model"
      ]
    },
    {
      "cell_type": "markdown",
      "metadata": {
        "id": "_uFB-3V3OAiH"
      },
      "source": [
        "<div class=\"alert\" style=\"background-color:#696969; color:white; padding:0px 10px; border-radius:5px;\"><h3 style='margin:15px 15px; font-size:12px'> All Rights Reserved. This notebook is proprietary content of machinelearningplus.com. This can be shared solely for educational purposes, with due credits to machinelearningplus.com</h3>\n",
        "</div>\n",
        "\n"
      ]
    }
  ],
  "metadata": {
    "kernelspec": {
      "display_name": "Python 3",
      "language": "python",
      "name": "python3"
    },
    "language_info": {
      "codemirror_mode": {
        "name": "ipython",
        "version": 3
      },
      "file_extension": ".py",
      "mimetype": "text/x-python",
      "name": "python",
      "nbconvert_exporter": "python",
      "pygments_lexer": "ipython3",
      "version": "3.8.5"
    },
    "colab": {
      "provenance": []
    }
  },
  "nbformat": 4,
  "nbformat_minor": 0
}